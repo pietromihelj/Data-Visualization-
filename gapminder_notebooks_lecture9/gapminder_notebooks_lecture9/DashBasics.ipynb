{
 "cells": [
  {
   "cell_type": "code",
   "execution_count": 1,
   "id": "c2ab4452-473f-495d-ba8e-d329c949ddfe",
   "metadata": {},
   "outputs": [],
   "source": [
    "import dash\n",
    "from dash import dcc, html\n",
    "from dash.dependencies import Input, Output\n",
    "import plotly.express as px\n",
    "import numpy as np\n",
    "import pandas as pd"
   ]
  },
  {
   "cell_type": "markdown",
   "id": "702a8515-f885-404f-930c-9ef6843fb649",
   "metadata": {},
   "source": [
    "Dash offers two fundamental libraries\n",
    "- HTML components: https://dash.plotly.com/dash-html-components/\n",
    "- Dash Core Components: https://dash.plotly.com/dash-core-components"
   ]
  },
  {
   "cell_type": "markdown",
   "id": "39d0d1cb-e776-4754-8534-132fb12ceba9",
   "metadata": {},
   "source": [
    "# A basic Dash app"
   ]
  },
  {
   "cell_type": "code",
   "execution_count": 23,
   "id": "497bf928-1ca7-477d-8401-9422f6171327",
   "metadata": {},
   "outputs": [
    {
     "data": {
      "text/html": [
       "\n",
       "        <iframe\n",
       "            width=\"100%\"\n",
       "            height=\"650\"\n",
       "            src=\"http://127.0.0.1:8050/\"\n",
       "            frameborder=\"0\"\n",
       "            allowfullscreen\n",
       "            \n",
       "        ></iframe>\n",
       "        "
      ],
      "text/plain": [
       "<IPython.lib.display.IFrame at 0x22e2ebe0ed0>"
      ]
     },
     "metadata": {},
     "output_type": "display_data"
    }
   ],
   "source": [
    "# Sample Data\n",
    "df = px.data.iris()\n",
    "\n",
    "# Initialize Dash app\n",
    "app = dash.Dash(__name__)\n",
    "# Div, HTML container\n",
    "app.layout = html.Div([\n",
    "    # large heading\n",
    "    html.H1(\"Header\"),\n",
    "    # line break\n",
    "    html.Br(),\n",
    "    # graph: renders any plotly-powered data visualization [dcc]\n",
    "    dcc.Graph(id='example-graph', figure=px.scatter(df, x='sepal_width', y='sepal_length', color='species', title=\"Title\")),\n",
    "])\n",
    "\n",
    "# Run app\n",
    "if __name__ == '__main__':\n",
    "    app.run(debug=True)"
   ]
  },
  {
   "cell_type": "markdown",
   "id": "6db980ee-29e2-492a-b8a6-010ea13d363d",
   "metadata": {},
   "source": [
    "# Callbacks"
   ]
  },
  {
   "cell_type": "code",
   "execution_count": 26,
   "id": "97637e5b-4628-4a8f-8803-c772c0cd6bb8",
   "metadata": {},
   "outputs": [
    {
     "data": {
      "text/html": [
       "\n",
       "        <iframe\n",
       "            width=\"100%\"\n",
       "            height=\"650\"\n",
       "            src=\"http://127.0.0.1:8050/\"\n",
       "            frameborder=\"0\"\n",
       "            allowfullscreen\n",
       "            \n",
       "        ></iframe>\n",
       "        "
      ],
      "text/plain": [
       "<IPython.lib.display.IFrame at 0x22e3c1162d0>"
      ]
     },
     "metadata": {},
     "output_type": "display_data"
    }
   ],
   "source": [
    "# different data\n",
    "df = pd.read_csv(r'C:\\Users\\pitom\\OneDrive\\Desktop\\materiale uni\\data-vis\\gapminder_notebooks_lecture9\\gapminder_notebooks_lecture9\\Gapminder-data.csv')\n",
    "\n",
    "# Initialize the app\n",
    "app = dash.Dash()\n",
    "\n",
    "# App layout\n",
    "app.layout = [\n",
    "    html.Div(children='App with Data, Graph, and Controls'),\n",
    "    # horizontal rule\n",
    "    html.Hr(),\n",
    "    # radio button\n",
    "    dcc.RadioItems(options=['Population', 'Life expectancy', 'Income'], value='Income', id='controls-and-radio-item'),\n",
    "    # dash table: supports interactive tables\n",
    "    dash.dash_table.DataTable(data=df.to_dict('records'), page_size=6),\n",
    "    dcc.Graph(figure={}, id='controls-and-graph')\n",
    "]\n",
    "\n",
    "# callback decorator: listen for updates to inputs. When triggered, modify and return outputs\n",
    "@app.callback(\n",
    "    Output(component_id='controls-and-graph', component_property='figure'),\n",
    "    Input(component_id='controls-and-radio-item', component_property='value')\n",
    ")\n",
    "def update_graph(col_chosen):\n",
    "    fig = px.histogram(df, x='Region', y=col_chosen, histfunc='avg')\n",
    "    return fig\n",
    "\n",
    "# Run the app\n",
    "if __name__ == '__main__':\n",
    "    app.run(debug=True)\n"
   ]
  },
  {
   "cell_type": "code",
   "execution_count": 20,
   "id": "1732bf2b-1ff5-4d6f-acf5-560e033183c3",
   "metadata": {},
   "outputs": [
    {
     "data": {
      "text/html": [
       "\n",
       "        <iframe\n",
       "            width=\"100%\"\n",
       "            height=\"650\"\n",
       "            src=\"http://127.0.0.1:8050/\"\n",
       "            frameborder=\"0\"\n",
       "            allowfullscreen\n",
       "            \n",
       "        ></iframe>\n",
       "        "
      ],
      "text/plain": [
       "<IPython.lib.display.IFrame at 0x22e3a2a9110>"
      ]
     },
     "metadata": {},
     "output_type": "display_data"
    }
   ],
   "source": [
    "df = px.data.iris()\n",
    "\n",
    "# Initialize Dash app\n",
    "app = dash.Dash(__name__)\n",
    "\n",
    "# Define layout\n",
    "app.layout = html.Div([\n",
    "    # large heading\n",
    "    html.H1(\"Dash Core Components & HTML Showcase\", style={'textAlign': 'center', 'color': 'blue'}),\n",
    "    # paragraph\n",
    "    html.P(\"This is a simple Dash app demonstrating core components and HTML elements.\"),\n",
    "    # label element: text\n",
    "    html.Label(\"Enter Chart Title:\"),\n",
    "    # input field for text [dcc, callback, title] \n",
    "    dcc.Input(id='input-text', type='text', value='Dash Chart', debounce=True),\n",
    "    # line breaks\n",
    "    html.Br(),\n",
    "    html.Br(),\n",
    "    \n",
    "    html.Label(\"Select a Number (Opacity of Color):\"),\n",
    "    # slider for ordinal value [dcc, callback, opacity]\n",
    "    dcc.Slider(id='slider', min=0, max=1, step=0.1, value=0.5,\n",
    "               marks={i/10: str(i/10) for i in range(11)}),\n",
    "    \n",
    "    html.Br(),\n",
    "    \n",
    "    html.Label(\"Choose a Marker Type:\"),\n",
    "    # radio button for categorical value [dcc, callback, marker type]\n",
    "    dcc.RadioItems(id='radio', options=[\n",
    "        {'label': 'Diamond', 'value': 'diamond'},\n",
    "        {'label': 'Circle', 'value': 'circle'},\n",
    "        {'label': 'Cross', 'value': 'cross'}\n",
    "    ], value='circle'),\n",
    "    \n",
    "    html.Br(),\n",
    "    # graph: renders any plotly-powered data visualization [dcc]\n",
    "    dcc.Graph(id='example-graph', figure={}),\n",
    "    \n",
    "    html.Br(),\n",
    "    \n",
    "    html.Label(\"Output:\"),\n",
    "    # Div, HTML container\n",
    "    html.Div(id='output-div', style={'border': '1px solid black', 'padding': '10px'})\n",
    "])\n",
    "\n",
    "# callback decorator: listen for updates to inputs. When triggered, modify and return outputs\n",
    "@app.callback(\n",
    "    #influence the graph and the container\n",
    "    [Output('output-div', 'children'), Output('example-graph', 'figure')],\n",
    "    #based on input text, slider, and radio button \n",
    "    [Input('input-text', 'value'), Input('slider', 'value'), Input('radio', 'value')]\n",
    ")\n",
    "def update_output(title, slider_value, marker_type):\n",
    "    # Edit text summary\n",
    "    output_text = f\"You entered: {title}, selected darkness: {slider_value}, and chose marker: {marker_type}\"\n",
    "    \n",
    "    # Edit color opacity\n",
    "    color_intensity = int(slider_value * 255)  # Scale 0 to 255\n",
    "    color_scale = [(0, f'rgba(0, 0, 255, {slider_value})'), (1, f'rgba(0, 0, 128, {slider_value})')]\n",
    "    # Edit marker\n",
    "    fig = px.scatter(df, x='sepal_width', y='sepal_length', color='species', title=title)\n",
    "    fig.update_traces(marker=dict(symbol=marker_type, opacity=slider_value, size=15))\n",
    "    fig.update_layout(title={'text': title, 'font': {'size': 24}})\n",
    "\n",
    "    #return outputs\n",
    "    return output_text, fig\n",
    "\n",
    "# Run app\n",
    "if __name__ == '__main__':\n",
    "    app.run(debug=True)\n"
   ]
  },
  {
   "cell_type": "code",
   "execution_count": null,
   "id": "79cf68a2-35ff-4bad-9aed-82c9ca418d72",
   "metadata": {},
   "outputs": [],
   "source": []
  }
 ],
 "metadata": {
  "kernelspec": {
   "display_name": "Python 3",
   "language": "python",
   "name": "python3"
  },
  "language_info": {
   "codemirror_mode": {
    "name": "ipython",
    "version": 3
   },
   "file_extension": ".py",
   "mimetype": "text/x-python",
   "name": "python",
   "nbconvert_exporter": "python",
   "pygments_lexer": "ipython3",
   "version": "3.11.9"
  }
 },
 "nbformat": 4,
 "nbformat_minor": 5
}

{
 "cells": [
  {
   "cell_type": "markdown",
   "metadata": {},
   "source": [
    "# Plotly Library Basics"
   ]
  },
  {
   "cell_type": "markdown",
   "metadata": {},
   "source": [
    "A look under the hood of the Plotly library"
   ]
  },
  {
   "cell_type": "code",
   "execution_count": 1,
   "metadata": {},
   "outputs": [],
   "source": [
    "import pandas as pd\n",
    "import plotly.graph_objs as go\n",
    "import plotly.express as px"
   ]
  },
  {
   "cell_type": "markdown",
   "metadata": {},
   "source": [
    "## Difference between `plotly.graph_obj` and `plotly.express` module"
   ]
  },
  {
   "cell_type": "markdown",
   "metadata": {},
   "source": [
    "### `plotly.graph_obj` \n",
    "\n",
    "* Low-level syntax\n",
    "* Complex interface, data in the form of a dictionary\n",
    "* Complete control of all the details\n",
    "* Analogous to the `matplotlib` library\n",
    "\n",
    "### `plotly.express`\n",
    "\n",
    "* High-level syntax\n",
    "* Easy interface, data should be in a Pandas DataFrame\n",
    "* No control over some details\n",
    "* Analogous to the `seaborn` library"
   ]
  },
  {
   "cell_type": "markdown",
   "metadata": {},
   "source": [
    "## A simple scatter plot"
   ]
  },
  {
   "cell_type": "code",
   "execution_count": 2,
   "metadata": {},
   "outputs": [
    {
     "data": {
      "text/html": [
       "<div>\n",
       "<style scoped>\n",
       "    .dataframe tbody tr th:only-of-type {\n",
       "        vertical-align: middle;\n",
       "    }\n",
       "\n",
       "    .dataframe tbody tr th {\n",
       "        vertical-align: top;\n",
       "    }\n",
       "\n",
       "    .dataframe thead th {\n",
       "        text-align: right;\n",
       "    }\n",
       "</style>\n",
       "<table border=\"1\" class=\"dataframe\">\n",
       "  <thead>\n",
       "    <tr style=\"text-align: right;\">\n",
       "      <th></th>\n",
       "      <th>Country</th>\n",
       "      <th>Region</th>\n",
       "      <th>Year</th>\n",
       "      <th>Income</th>\n",
       "      <th>Life expectancy</th>\n",
       "      <th>Population</th>\n",
       "      <th>Fertility</th>\n",
       "      <th>Child mortality</th>\n",
       "    </tr>\n",
       "  </thead>\n",
       "  <tbody>\n",
       "    <tr>\n",
       "      <th>0</th>\n",
       "      <td>Italy</td>\n",
       "      <td>Europe</td>\n",
       "      <td>2016</td>\n",
       "      <td>34735.0</td>\n",
       "      <td>82.97</td>\n",
       "      <td>60663068.0</td>\n",
       "      <td>1.532</td>\n",
       "      <td>3.29</td>\n",
       "    </tr>\n",
       "    <tr>\n",
       "      <th>1</th>\n",
       "      <td>Italy</td>\n",
       "      <td>Europe</td>\n",
       "      <td>2017</td>\n",
       "      <td>35373.0</td>\n",
       "      <td>83.17</td>\n",
       "      <td>60673694.0</td>\n",
       "      <td>1.546</td>\n",
       "      <td>3.16</td>\n",
       "    </tr>\n",
       "    <tr>\n",
       "      <th>2</th>\n",
       "      <td>Italy</td>\n",
       "      <td>Europe</td>\n",
       "      <td>2018</td>\n",
       "      <td>35739.0</td>\n",
       "      <td>83.33</td>\n",
       "      <td>60627291.0</td>\n",
       "      <td>1.559</td>\n",
       "      <td>3.03</td>\n",
       "    </tr>\n",
       "    <tr>\n",
       "      <th>3</th>\n",
       "      <td>Italy</td>\n",
       "      <td>Europe</td>\n",
       "      <td>2019</td>\n",
       "      <td>35816.0</td>\n",
       "      <td>83.49</td>\n",
       "      <td>60550092.0</td>\n",
       "      <td>1.572</td>\n",
       "      <td>2.93</td>\n",
       "    </tr>\n",
       "    <tr>\n",
       "      <th>4</th>\n",
       "      <td>Italy</td>\n",
       "      <td>Europe</td>\n",
       "      <td>2020</td>\n",
       "      <td>36084.0</td>\n",
       "      <td>83.64</td>\n",
       "      <td>60461828.0</td>\n",
       "      <td>1.585</td>\n",
       "      <td>2.83</td>\n",
       "    </tr>\n",
       "    <tr>\n",
       "      <th>5</th>\n",
       "      <td>South Africa</td>\n",
       "      <td>Africa</td>\n",
       "      <td>2016</td>\n",
       "      <td>12246.0</td>\n",
       "      <td>64.44</td>\n",
       "      <td>56207649.0</td>\n",
       "      <td>2.314</td>\n",
       "      <td>36.58</td>\n",
       "    </tr>\n",
       "    <tr>\n",
       "      <th>6</th>\n",
       "      <td>South Africa</td>\n",
       "      <td>Africa</td>\n",
       "      <td>2017</td>\n",
       "      <td>12233.0</td>\n",
       "      <td>66.31</td>\n",
       "      <td>57009751.0</td>\n",
       "      <td>2.290</td>\n",
       "      <td>35.26</td>\n",
       "    </tr>\n",
       "    <tr>\n",
       "      <th>7</th>\n",
       "      <td>South Africa</td>\n",
       "      <td>Africa</td>\n",
       "      <td>2018</td>\n",
       "      <td>12143.0</td>\n",
       "      <td>66.64</td>\n",
       "      <td>57792520.0</td>\n",
       "      <td>2.268</td>\n",
       "      <td>33.80</td>\n",
       "    </tr>\n",
       "    <tr>\n",
       "      <th>8</th>\n",
       "      <td>South Africa</td>\n",
       "      <td>Africa</td>\n",
       "      <td>2019</td>\n",
       "      <td>12039.0</td>\n",
       "      <td>66.93</td>\n",
       "      <td>58558267.0</td>\n",
       "      <td>2.246</td>\n",
       "      <td>32.94</td>\n",
       "    </tr>\n",
       "    <tr>\n",
       "      <th>9</th>\n",
       "      <td>South Africa</td>\n",
       "      <td>Africa</td>\n",
       "      <td>2020</td>\n",
       "      <td>11986.0</td>\n",
       "      <td>67.19</td>\n",
       "      <td>59308690.0</td>\n",
       "      <td>2.225</td>\n",
       "      <td>32.09</td>\n",
       "    </tr>\n",
       "  </tbody>\n",
       "</table>\n",
       "</div>"
      ],
      "text/plain": [
       "        Country  Region  Year   Income  Life expectancy  Population  \\\n",
       "0         Italy  Europe  2016  34735.0            82.97  60663068.0   \n",
       "1         Italy  Europe  2017  35373.0            83.17  60673694.0   \n",
       "2         Italy  Europe  2018  35739.0            83.33  60627291.0   \n",
       "3         Italy  Europe  2019  35816.0            83.49  60550092.0   \n",
       "4         Italy  Europe  2020  36084.0            83.64  60461828.0   \n",
       "5  South Africa  Africa  2016  12246.0            64.44  56207649.0   \n",
       "6  South Africa  Africa  2017  12233.0            66.31  57009751.0   \n",
       "7  South Africa  Africa  2018  12143.0            66.64  57792520.0   \n",
       "8  South Africa  Africa  2019  12039.0            66.93  58558267.0   \n",
       "9  South Africa  Africa  2020  11986.0            67.19  59308690.0   \n",
       "\n",
       "   Fertility  Child mortality  \n",
       "0      1.532             3.29  \n",
       "1      1.546             3.16  \n",
       "2      1.559             3.03  \n",
       "3      1.572             2.93  \n",
       "4      1.585             2.83  \n",
       "5      2.314            36.58  \n",
       "6      2.290            35.26  \n",
       "7      2.268            33.80  \n",
       "8      2.246            32.94  \n",
       "9      2.225            32.09  "
      ]
     },
     "execution_count": 2,
     "metadata": {},
     "output_type": "execute_result"
    }
   ],
   "source": [
    "df = pd.read_csv('Gapminder-mini.csv', sep=',')\n",
    "df"
   ]
  },
  {
   "cell_type": "code",
   "execution_count": 3,
   "metadata": {},
   "outputs": [
    {
     "data": {
      "application/vnd.plotly.v1+json": {
       "config": {
        "plotlyServerURL": "https://plot.ly"
       },
       "data": [
        {
         "hovertemplate": "Region=Europe<br>Income=%{x}<br>Life expectancy=%{y}<extra></extra>",
         "legendgroup": "Europe",
         "marker": {
          "color": "#636efa",
          "symbol": "circle"
         },
         "mode": "markers",
         "name": "Europe",
         "orientation": "v",
         "showlegend": true,
         "type": "scatter",
         "x": {
          "bdata": "AAAAAOD14EAAAAAAoEXhQAAAAABgc+FAAAAAAAB94UAAAAAAgJ7hQA==",
          "dtype": "f8"
         },
         "xaxis": "x",
         "y": {
          "bdata": "rkfhehS+VEB7FK5H4cpUQIXrUbge1VRAj8L1KFzfVEApXI/C9ehUQA==",
          "dtype": "f8"
         },
         "yaxis": "y"
        },
        {
         "hovertemplate": "Region=Africa<br>Income=%{x}<br>Life expectancy=%{y}<extra></extra>",
         "legendgroup": "Africa",
         "marker": {
          "color": "#EF553B",
          "symbol": "circle"
         },
         "mode": "markers",
         "name": "Africa",
         "orientation": "v",
         "showlegend": true,
         "type": "scatter",
         "x": {
          "bdata": "AAAAAADrx0AAAAAAgOTHQAAAAACAt8dAAAAAAICDx0AAAAAAAGnHQA==",
          "dtype": "f8"
         },
         "xaxis": "x",
         "y": {
          "bdata": "XI/C9SgcUECkcD0K15NQQClcj8L1qFBA7FG4HoW7UEBcj8L1KMxQQA==",
          "dtype": "f8"
         },
         "yaxis": "y"
        }
       ],
       "layout": {
        "legend": {
         "title": {
          "text": "Region"
         },
         "tracegroupgap": 0
        },
        "margin": {
         "t": 60
        },
        "template": {
         "data": {
          "bar": [
           {
            "error_x": {
             "color": "#2a3f5f"
            },
            "error_y": {
             "color": "#2a3f5f"
            },
            "marker": {
             "line": {
              "color": "#E5ECF6",
              "width": 0.5
             },
             "pattern": {
              "fillmode": "overlay",
              "size": 10,
              "solidity": 0.2
             }
            },
            "type": "bar"
           }
          ],
          "barpolar": [
           {
            "marker": {
             "line": {
              "color": "#E5ECF6",
              "width": 0.5
             },
             "pattern": {
              "fillmode": "overlay",
              "size": 10,
              "solidity": 0.2
             }
            },
            "type": "barpolar"
           }
          ],
          "carpet": [
           {
            "aaxis": {
             "endlinecolor": "#2a3f5f",
             "gridcolor": "white",
             "linecolor": "white",
             "minorgridcolor": "white",
             "startlinecolor": "#2a3f5f"
            },
            "baxis": {
             "endlinecolor": "#2a3f5f",
             "gridcolor": "white",
             "linecolor": "white",
             "minorgridcolor": "white",
             "startlinecolor": "#2a3f5f"
            },
            "type": "carpet"
           }
          ],
          "choropleth": [
           {
            "colorbar": {
             "outlinewidth": 0,
             "ticks": ""
            },
            "type": "choropleth"
           }
          ],
          "contour": [
           {
            "colorbar": {
             "outlinewidth": 0,
             "ticks": ""
            },
            "colorscale": [
             [
              0,
              "#0d0887"
             ],
             [
              0.1111111111111111,
              "#46039f"
             ],
             [
              0.2222222222222222,
              "#7201a8"
             ],
             [
              0.3333333333333333,
              "#9c179e"
             ],
             [
              0.4444444444444444,
              "#bd3786"
             ],
             [
              0.5555555555555556,
              "#d8576b"
             ],
             [
              0.6666666666666666,
              "#ed7953"
             ],
             [
              0.7777777777777778,
              "#fb9f3a"
             ],
             [
              0.8888888888888888,
              "#fdca26"
             ],
             [
              1,
              "#f0f921"
             ]
            ],
            "type": "contour"
           }
          ],
          "contourcarpet": [
           {
            "colorbar": {
             "outlinewidth": 0,
             "ticks": ""
            },
            "type": "contourcarpet"
           }
          ],
          "heatmap": [
           {
            "colorbar": {
             "outlinewidth": 0,
             "ticks": ""
            },
            "colorscale": [
             [
              0,
              "#0d0887"
             ],
             [
              0.1111111111111111,
              "#46039f"
             ],
             [
              0.2222222222222222,
              "#7201a8"
             ],
             [
              0.3333333333333333,
              "#9c179e"
             ],
             [
              0.4444444444444444,
              "#bd3786"
             ],
             [
              0.5555555555555556,
              "#d8576b"
             ],
             [
              0.6666666666666666,
              "#ed7953"
             ],
             [
              0.7777777777777778,
              "#fb9f3a"
             ],
             [
              0.8888888888888888,
              "#fdca26"
             ],
             [
              1,
              "#f0f921"
             ]
            ],
            "type": "heatmap"
           }
          ],
          "histogram": [
           {
            "marker": {
             "pattern": {
              "fillmode": "overlay",
              "size": 10,
              "solidity": 0.2
             }
            },
            "type": "histogram"
           }
          ],
          "histogram2d": [
           {
            "colorbar": {
             "outlinewidth": 0,
             "ticks": ""
            },
            "colorscale": [
             [
              0,
              "#0d0887"
             ],
             [
              0.1111111111111111,
              "#46039f"
             ],
             [
              0.2222222222222222,
              "#7201a8"
             ],
             [
              0.3333333333333333,
              "#9c179e"
             ],
             [
              0.4444444444444444,
              "#bd3786"
             ],
             [
              0.5555555555555556,
              "#d8576b"
             ],
             [
              0.6666666666666666,
              "#ed7953"
             ],
             [
              0.7777777777777778,
              "#fb9f3a"
             ],
             [
              0.8888888888888888,
              "#fdca26"
             ],
             [
              1,
              "#f0f921"
             ]
            ],
            "type": "histogram2d"
           }
          ],
          "histogram2dcontour": [
           {
            "colorbar": {
             "outlinewidth": 0,
             "ticks": ""
            },
            "colorscale": [
             [
              0,
              "#0d0887"
             ],
             [
              0.1111111111111111,
              "#46039f"
             ],
             [
              0.2222222222222222,
              "#7201a8"
             ],
             [
              0.3333333333333333,
              "#9c179e"
             ],
             [
              0.4444444444444444,
              "#bd3786"
             ],
             [
              0.5555555555555556,
              "#d8576b"
             ],
             [
              0.6666666666666666,
              "#ed7953"
             ],
             [
              0.7777777777777778,
              "#fb9f3a"
             ],
             [
              0.8888888888888888,
              "#fdca26"
             ],
             [
              1,
              "#f0f921"
             ]
            ],
            "type": "histogram2dcontour"
           }
          ],
          "mesh3d": [
           {
            "colorbar": {
             "outlinewidth": 0,
             "ticks": ""
            },
            "type": "mesh3d"
           }
          ],
          "parcoords": [
           {
            "line": {
             "colorbar": {
              "outlinewidth": 0,
              "ticks": ""
             }
            },
            "type": "parcoords"
           }
          ],
          "pie": [
           {
            "automargin": true,
            "type": "pie"
           }
          ],
          "scatter": [
           {
            "fillpattern": {
             "fillmode": "overlay",
             "size": 10,
             "solidity": 0.2
            },
            "type": "scatter"
           }
          ],
          "scatter3d": [
           {
            "line": {
             "colorbar": {
              "outlinewidth": 0,
              "ticks": ""
             }
            },
            "marker": {
             "colorbar": {
              "outlinewidth": 0,
              "ticks": ""
             }
            },
            "type": "scatter3d"
           }
          ],
          "scattercarpet": [
           {
            "marker": {
             "colorbar": {
              "outlinewidth": 0,
              "ticks": ""
             }
            },
            "type": "scattercarpet"
           }
          ],
          "scattergeo": [
           {
            "marker": {
             "colorbar": {
              "outlinewidth": 0,
              "ticks": ""
             }
            },
            "type": "scattergeo"
           }
          ],
          "scattergl": [
           {
            "marker": {
             "colorbar": {
              "outlinewidth": 0,
              "ticks": ""
             }
            },
            "type": "scattergl"
           }
          ],
          "scattermap": [
           {
            "marker": {
             "colorbar": {
              "outlinewidth": 0,
              "ticks": ""
             }
            },
            "type": "scattermap"
           }
          ],
          "scattermapbox": [
           {
            "marker": {
             "colorbar": {
              "outlinewidth": 0,
              "ticks": ""
             }
            },
            "type": "scattermapbox"
           }
          ],
          "scatterpolar": [
           {
            "marker": {
             "colorbar": {
              "outlinewidth": 0,
              "ticks": ""
             }
            },
            "type": "scatterpolar"
           }
          ],
          "scatterpolargl": [
           {
            "marker": {
             "colorbar": {
              "outlinewidth": 0,
              "ticks": ""
             }
            },
            "type": "scatterpolargl"
           }
          ],
          "scatterternary": [
           {
            "marker": {
             "colorbar": {
              "outlinewidth": 0,
              "ticks": ""
             }
            },
            "type": "scatterternary"
           }
          ],
          "surface": [
           {
            "colorbar": {
             "outlinewidth": 0,
             "ticks": ""
            },
            "colorscale": [
             [
              0,
              "#0d0887"
             ],
             [
              0.1111111111111111,
              "#46039f"
             ],
             [
              0.2222222222222222,
              "#7201a8"
             ],
             [
              0.3333333333333333,
              "#9c179e"
             ],
             [
              0.4444444444444444,
              "#bd3786"
             ],
             [
              0.5555555555555556,
              "#d8576b"
             ],
             [
              0.6666666666666666,
              "#ed7953"
             ],
             [
              0.7777777777777778,
              "#fb9f3a"
             ],
             [
              0.8888888888888888,
              "#fdca26"
             ],
             [
              1,
              "#f0f921"
             ]
            ],
            "type": "surface"
           }
          ],
          "table": [
           {
            "cells": {
             "fill": {
              "color": "#EBF0F8"
             },
             "line": {
              "color": "white"
             }
            },
            "header": {
             "fill": {
              "color": "#C8D4E3"
             },
             "line": {
              "color": "white"
             }
            },
            "type": "table"
           }
          ]
         },
         "layout": {
          "annotationdefaults": {
           "arrowcolor": "#2a3f5f",
           "arrowhead": 0,
           "arrowwidth": 1
          },
          "autotypenumbers": "strict",
          "coloraxis": {
           "colorbar": {
            "outlinewidth": 0,
            "ticks": ""
           }
          },
          "colorscale": {
           "diverging": [
            [
             0,
             "#8e0152"
            ],
            [
             0.1,
             "#c51b7d"
            ],
            [
             0.2,
             "#de77ae"
            ],
            [
             0.3,
             "#f1b6da"
            ],
            [
             0.4,
             "#fde0ef"
            ],
            [
             0.5,
             "#f7f7f7"
            ],
            [
             0.6,
             "#e6f5d0"
            ],
            [
             0.7,
             "#b8e186"
            ],
            [
             0.8,
             "#7fbc41"
            ],
            [
             0.9,
             "#4d9221"
            ],
            [
             1,
             "#276419"
            ]
           ],
           "sequential": [
            [
             0,
             "#0d0887"
            ],
            [
             0.1111111111111111,
             "#46039f"
            ],
            [
             0.2222222222222222,
             "#7201a8"
            ],
            [
             0.3333333333333333,
             "#9c179e"
            ],
            [
             0.4444444444444444,
             "#bd3786"
            ],
            [
             0.5555555555555556,
             "#d8576b"
            ],
            [
             0.6666666666666666,
             "#ed7953"
            ],
            [
             0.7777777777777778,
             "#fb9f3a"
            ],
            [
             0.8888888888888888,
             "#fdca26"
            ],
            [
             1,
             "#f0f921"
            ]
           ],
           "sequentialminus": [
            [
             0,
             "#0d0887"
            ],
            [
             0.1111111111111111,
             "#46039f"
            ],
            [
             0.2222222222222222,
             "#7201a8"
            ],
            [
             0.3333333333333333,
             "#9c179e"
            ],
            [
             0.4444444444444444,
             "#bd3786"
            ],
            [
             0.5555555555555556,
             "#d8576b"
            ],
            [
             0.6666666666666666,
             "#ed7953"
            ],
            [
             0.7777777777777778,
             "#fb9f3a"
            ],
            [
             0.8888888888888888,
             "#fdca26"
            ],
            [
             1,
             "#f0f921"
            ]
           ]
          },
          "colorway": [
           "#636efa",
           "#EF553B",
           "#00cc96",
           "#ab63fa",
           "#FFA15A",
           "#19d3f3",
           "#FF6692",
           "#B6E880",
           "#FF97FF",
           "#FECB52"
          ],
          "font": {
           "color": "#2a3f5f"
          },
          "geo": {
           "bgcolor": "white",
           "lakecolor": "white",
           "landcolor": "#E5ECF6",
           "showlakes": true,
           "showland": true,
           "subunitcolor": "white"
          },
          "hoverlabel": {
           "align": "left"
          },
          "hovermode": "closest",
          "mapbox": {
           "style": "light"
          },
          "paper_bgcolor": "white",
          "plot_bgcolor": "#E5ECF6",
          "polar": {
           "angularaxis": {
            "gridcolor": "white",
            "linecolor": "white",
            "ticks": ""
           },
           "bgcolor": "#E5ECF6",
           "radialaxis": {
            "gridcolor": "white",
            "linecolor": "white",
            "ticks": ""
           }
          },
          "scene": {
           "xaxis": {
            "backgroundcolor": "#E5ECF6",
            "gridcolor": "white",
            "gridwidth": 2,
            "linecolor": "white",
            "showbackground": true,
            "ticks": "",
            "zerolinecolor": "white"
           },
           "yaxis": {
            "backgroundcolor": "#E5ECF6",
            "gridcolor": "white",
            "gridwidth": 2,
            "linecolor": "white",
            "showbackground": true,
            "ticks": "",
            "zerolinecolor": "white"
           },
           "zaxis": {
            "backgroundcolor": "#E5ECF6",
            "gridcolor": "white",
            "gridwidth": 2,
            "linecolor": "white",
            "showbackground": true,
            "ticks": "",
            "zerolinecolor": "white"
           }
          },
          "shapedefaults": {
           "line": {
            "color": "#2a3f5f"
           }
          },
          "ternary": {
           "aaxis": {
            "gridcolor": "white",
            "linecolor": "white",
            "ticks": ""
           },
           "baxis": {
            "gridcolor": "white",
            "linecolor": "white",
            "ticks": ""
           },
           "bgcolor": "#E5ECF6",
           "caxis": {
            "gridcolor": "white",
            "linecolor": "white",
            "ticks": ""
           }
          },
          "title": {
           "x": 0.05
          },
          "xaxis": {
           "automargin": true,
           "gridcolor": "white",
           "linecolor": "white",
           "ticks": "",
           "title": {
            "standoff": 15
           },
           "zerolinecolor": "white",
           "zerolinewidth": 2
          },
          "yaxis": {
           "automargin": true,
           "gridcolor": "white",
           "linecolor": "white",
           "ticks": "",
           "title": {
            "standoff": 15
           },
           "zerolinecolor": "white",
           "zerolinewidth": 2
          }
         }
        },
        "xaxis": {
         "anchor": "y",
         "domain": [
          0,
          1
         ],
         "title": {
          "text": "Income"
         }
        },
        "yaxis": {
         "anchor": "x",
         "domain": [
          0,
          1
         ],
         "title": {
          "text": "Life expectancy"
         }
        }
       }
      }
     },
     "metadata": {},
     "output_type": "display_data"
    }
   ],
   "source": [
    "fig = px.scatter(\n",
    "    df, \n",
    "    x='Income', \n",
    "    y='Life expectancy',\n",
    "    color='Region'\n",
    ")\n",
    "fig.show()"
   ]
  },
  {
   "cell_type": "code",
   "execution_count": 4,
   "metadata": {},
   "outputs": [
    {
     "data": {
      "application/vnd.plotly.v1+json": {
       "config": {
        "plotlyServerURL": "https://plot.ly"
       },
       "data": [
        {
         "hovertemplate": "Region=Europe<br>Income=%{x}<br>Life expectancy=%{y}<extra></extra>",
         "legendgroup": "Europe",
         "marker": {
          "color": "#636efa",
          "symbol": "circle"
         },
         "mode": "markers",
         "name": "Europe",
         "orientation": "v",
         "showlegend": true,
         "type": "scatter",
         "x": {
          "bdata": "AAAAAOD14EAAAAAAoEXhQAAAAABgc+FAAAAAAAB94UAAAAAAgJ7hQA==",
          "dtype": "f8"
         },
         "xaxis": "x",
         "y": {
          "bdata": "rkfhehS+VEB7FK5H4cpUQIXrUbge1VRAj8L1KFzfVEApXI/C9ehUQA==",
          "dtype": "f8"
         },
         "yaxis": "y"
        },
        {
         "hovertemplate": "Region=Africa<br>Income=%{x}<br>Life expectancy=%{y}<extra></extra>",
         "legendgroup": "Africa",
         "marker": {
          "color": "#EF553B",
          "symbol": "circle"
         },
         "mode": "markers",
         "name": "Africa",
         "orientation": "v",
         "showlegend": true,
         "type": "scatter",
         "x": {
          "bdata": "AAAAAADrx0AAAAAAgOTHQAAAAACAt8dAAAAAAICDx0AAAAAAAGnHQA==",
          "dtype": "f8"
         },
         "xaxis": "x",
         "y": {
          "bdata": "XI/C9SgcUECkcD0K15NQQClcj8L1qFBA7FG4HoW7UEBcj8L1KMxQQA==",
          "dtype": "f8"
         },
         "yaxis": "y"
        }
       ],
       "layout": {
        "font": {
         "color": "dimgray"
        },
        "legend": {
         "title": {
          "text": "Region"
         },
         "tracegroupgap": 0
        },
        "margin": {
         "t": 60
        },
        "plot_bgcolor": "white",
        "template": {
         "data": {
          "bar": [
           {
            "error_x": {
             "color": "#2a3f5f"
            },
            "error_y": {
             "color": "#2a3f5f"
            },
            "marker": {
             "line": {
              "color": "#E5ECF6",
              "width": 0.5
             },
             "pattern": {
              "fillmode": "overlay",
              "size": 10,
              "solidity": 0.2
             }
            },
            "type": "bar"
           }
          ],
          "barpolar": [
           {
            "marker": {
             "line": {
              "color": "#E5ECF6",
              "width": 0.5
             },
             "pattern": {
              "fillmode": "overlay",
              "size": 10,
              "solidity": 0.2
             }
            },
            "type": "barpolar"
           }
          ],
          "carpet": [
           {
            "aaxis": {
             "endlinecolor": "#2a3f5f",
             "gridcolor": "white",
             "linecolor": "white",
             "minorgridcolor": "white",
             "startlinecolor": "#2a3f5f"
            },
            "baxis": {
             "endlinecolor": "#2a3f5f",
             "gridcolor": "white",
             "linecolor": "white",
             "minorgridcolor": "white",
             "startlinecolor": "#2a3f5f"
            },
            "type": "carpet"
           }
          ],
          "choropleth": [
           {
            "colorbar": {
             "outlinewidth": 0,
             "ticks": ""
            },
            "type": "choropleth"
           }
          ],
          "contour": [
           {
            "colorbar": {
             "outlinewidth": 0,
             "ticks": ""
            },
            "colorscale": [
             [
              0,
              "#0d0887"
             ],
             [
              0.1111111111111111,
              "#46039f"
             ],
             [
              0.2222222222222222,
              "#7201a8"
             ],
             [
              0.3333333333333333,
              "#9c179e"
             ],
             [
              0.4444444444444444,
              "#bd3786"
             ],
             [
              0.5555555555555556,
              "#d8576b"
             ],
             [
              0.6666666666666666,
              "#ed7953"
             ],
             [
              0.7777777777777778,
              "#fb9f3a"
             ],
             [
              0.8888888888888888,
              "#fdca26"
             ],
             [
              1,
              "#f0f921"
             ]
            ],
            "type": "contour"
           }
          ],
          "contourcarpet": [
           {
            "colorbar": {
             "outlinewidth": 0,
             "ticks": ""
            },
            "type": "contourcarpet"
           }
          ],
          "heatmap": [
           {
            "colorbar": {
             "outlinewidth": 0,
             "ticks": ""
            },
            "colorscale": [
             [
              0,
              "#0d0887"
             ],
             [
              0.1111111111111111,
              "#46039f"
             ],
             [
              0.2222222222222222,
              "#7201a8"
             ],
             [
              0.3333333333333333,
              "#9c179e"
             ],
             [
              0.4444444444444444,
              "#bd3786"
             ],
             [
              0.5555555555555556,
              "#d8576b"
             ],
             [
              0.6666666666666666,
              "#ed7953"
             ],
             [
              0.7777777777777778,
              "#fb9f3a"
             ],
             [
              0.8888888888888888,
              "#fdca26"
             ],
             [
              1,
              "#f0f921"
             ]
            ],
            "type": "heatmap"
           }
          ],
          "histogram": [
           {
            "marker": {
             "pattern": {
              "fillmode": "overlay",
              "size": 10,
              "solidity": 0.2
             }
            },
            "type": "histogram"
           }
          ],
          "histogram2d": [
           {
            "colorbar": {
             "outlinewidth": 0,
             "ticks": ""
            },
            "colorscale": [
             [
              0,
              "#0d0887"
             ],
             [
              0.1111111111111111,
              "#46039f"
             ],
             [
              0.2222222222222222,
              "#7201a8"
             ],
             [
              0.3333333333333333,
              "#9c179e"
             ],
             [
              0.4444444444444444,
              "#bd3786"
             ],
             [
              0.5555555555555556,
              "#d8576b"
             ],
             [
              0.6666666666666666,
              "#ed7953"
             ],
             [
              0.7777777777777778,
              "#fb9f3a"
             ],
             [
              0.8888888888888888,
              "#fdca26"
             ],
             [
              1,
              "#f0f921"
             ]
            ],
            "type": "histogram2d"
           }
          ],
          "histogram2dcontour": [
           {
            "colorbar": {
             "outlinewidth": 0,
             "ticks": ""
            },
            "colorscale": [
             [
              0,
              "#0d0887"
             ],
             [
              0.1111111111111111,
              "#46039f"
             ],
             [
              0.2222222222222222,
              "#7201a8"
             ],
             [
              0.3333333333333333,
              "#9c179e"
             ],
             [
              0.4444444444444444,
              "#bd3786"
             ],
             [
              0.5555555555555556,
              "#d8576b"
             ],
             [
              0.6666666666666666,
              "#ed7953"
             ],
             [
              0.7777777777777778,
              "#fb9f3a"
             ],
             [
              0.8888888888888888,
              "#fdca26"
             ],
             [
              1,
              "#f0f921"
             ]
            ],
            "type": "histogram2dcontour"
           }
          ],
          "mesh3d": [
           {
            "colorbar": {
             "outlinewidth": 0,
             "ticks": ""
            },
            "type": "mesh3d"
           }
          ],
          "parcoords": [
           {
            "line": {
             "colorbar": {
              "outlinewidth": 0,
              "ticks": ""
             }
            },
            "type": "parcoords"
           }
          ],
          "pie": [
           {
            "automargin": true,
            "type": "pie"
           }
          ],
          "scatter": [
           {
            "fillpattern": {
             "fillmode": "overlay",
             "size": 10,
             "solidity": 0.2
            },
            "type": "scatter"
           }
          ],
          "scatter3d": [
           {
            "line": {
             "colorbar": {
              "outlinewidth": 0,
              "ticks": ""
             }
            },
            "marker": {
             "colorbar": {
              "outlinewidth": 0,
              "ticks": ""
             }
            },
            "type": "scatter3d"
           }
          ],
          "scattercarpet": [
           {
            "marker": {
             "colorbar": {
              "outlinewidth": 0,
              "ticks": ""
             }
            },
            "type": "scattercarpet"
           }
          ],
          "scattergeo": [
           {
            "marker": {
             "colorbar": {
              "outlinewidth": 0,
              "ticks": ""
             }
            },
            "type": "scattergeo"
           }
          ],
          "scattergl": [
           {
            "marker": {
             "colorbar": {
              "outlinewidth": 0,
              "ticks": ""
             }
            },
            "type": "scattergl"
           }
          ],
          "scattermap": [
           {
            "marker": {
             "colorbar": {
              "outlinewidth": 0,
              "ticks": ""
             }
            },
            "type": "scattermap"
           }
          ],
          "scattermapbox": [
           {
            "marker": {
             "colorbar": {
              "outlinewidth": 0,
              "ticks": ""
             }
            },
            "type": "scattermapbox"
           }
          ],
          "scatterpolar": [
           {
            "marker": {
             "colorbar": {
              "outlinewidth": 0,
              "ticks": ""
             }
            },
            "type": "scatterpolar"
           }
          ],
          "scatterpolargl": [
           {
            "marker": {
             "colorbar": {
              "outlinewidth": 0,
              "ticks": ""
             }
            },
            "type": "scatterpolargl"
           }
          ],
          "scatterternary": [
           {
            "marker": {
             "colorbar": {
              "outlinewidth": 0,
              "ticks": ""
             }
            },
            "type": "scatterternary"
           }
          ],
          "surface": [
           {
            "colorbar": {
             "outlinewidth": 0,
             "ticks": ""
            },
            "colorscale": [
             [
              0,
              "#0d0887"
             ],
             [
              0.1111111111111111,
              "#46039f"
             ],
             [
              0.2222222222222222,
              "#7201a8"
             ],
             [
              0.3333333333333333,
              "#9c179e"
             ],
             [
              0.4444444444444444,
              "#bd3786"
             ],
             [
              0.5555555555555556,
              "#d8576b"
             ],
             [
              0.6666666666666666,
              "#ed7953"
             ],
             [
              0.7777777777777778,
              "#fb9f3a"
             ],
             [
              0.8888888888888888,
              "#fdca26"
             ],
             [
              1,
              "#f0f921"
             ]
            ],
            "type": "surface"
           }
          ],
          "table": [
           {
            "cells": {
             "fill": {
              "color": "#EBF0F8"
             },
             "line": {
              "color": "white"
             }
            },
            "header": {
             "fill": {
              "color": "#C8D4E3"
             },
             "line": {
              "color": "white"
             }
            },
            "type": "table"
           }
          ]
         },
         "layout": {
          "annotationdefaults": {
           "arrowcolor": "#2a3f5f",
           "arrowhead": 0,
           "arrowwidth": 1
          },
          "autotypenumbers": "strict",
          "coloraxis": {
           "colorbar": {
            "outlinewidth": 0,
            "ticks": ""
           }
          },
          "colorscale": {
           "diverging": [
            [
             0,
             "#8e0152"
            ],
            [
             0.1,
             "#c51b7d"
            ],
            [
             0.2,
             "#de77ae"
            ],
            [
             0.3,
             "#f1b6da"
            ],
            [
             0.4,
             "#fde0ef"
            ],
            [
             0.5,
             "#f7f7f7"
            ],
            [
             0.6,
             "#e6f5d0"
            ],
            [
             0.7,
             "#b8e186"
            ],
            [
             0.8,
             "#7fbc41"
            ],
            [
             0.9,
             "#4d9221"
            ],
            [
             1,
             "#276419"
            ]
           ],
           "sequential": [
            [
             0,
             "#0d0887"
            ],
            [
             0.1111111111111111,
             "#46039f"
            ],
            [
             0.2222222222222222,
             "#7201a8"
            ],
            [
             0.3333333333333333,
             "#9c179e"
            ],
            [
             0.4444444444444444,
             "#bd3786"
            ],
            [
             0.5555555555555556,
             "#d8576b"
            ],
            [
             0.6666666666666666,
             "#ed7953"
            ],
            [
             0.7777777777777778,
             "#fb9f3a"
            ],
            [
             0.8888888888888888,
             "#fdca26"
            ],
            [
             1,
             "#f0f921"
            ]
           ],
           "sequentialminus": [
            [
             0,
             "#0d0887"
            ],
            [
             0.1111111111111111,
             "#46039f"
            ],
            [
             0.2222222222222222,
             "#7201a8"
            ],
            [
             0.3333333333333333,
             "#9c179e"
            ],
            [
             0.4444444444444444,
             "#bd3786"
            ],
            [
             0.5555555555555556,
             "#d8576b"
            ],
            [
             0.6666666666666666,
             "#ed7953"
            ],
            [
             0.7777777777777778,
             "#fb9f3a"
            ],
            [
             0.8888888888888888,
             "#fdca26"
            ],
            [
             1,
             "#f0f921"
            ]
           ]
          },
          "colorway": [
           "#636efa",
           "#EF553B",
           "#00cc96",
           "#ab63fa",
           "#FFA15A",
           "#19d3f3",
           "#FF6692",
           "#B6E880",
           "#FF97FF",
           "#FECB52"
          ],
          "font": {
           "color": "#2a3f5f"
          },
          "geo": {
           "bgcolor": "white",
           "lakecolor": "white",
           "landcolor": "#E5ECF6",
           "showlakes": true,
           "showland": true,
           "subunitcolor": "white"
          },
          "hoverlabel": {
           "align": "left"
          },
          "hovermode": "closest",
          "mapbox": {
           "style": "light"
          },
          "paper_bgcolor": "white",
          "plot_bgcolor": "#E5ECF6",
          "polar": {
           "angularaxis": {
            "gridcolor": "white",
            "linecolor": "white",
            "ticks": ""
           },
           "bgcolor": "#E5ECF6",
           "radialaxis": {
            "gridcolor": "white",
            "linecolor": "white",
            "ticks": ""
           }
          },
          "scene": {
           "xaxis": {
            "backgroundcolor": "#E5ECF6",
            "gridcolor": "white",
            "gridwidth": 2,
            "linecolor": "white",
            "showbackground": true,
            "ticks": "",
            "zerolinecolor": "white"
           },
           "yaxis": {
            "backgroundcolor": "#E5ECF6",
            "gridcolor": "white",
            "gridwidth": 2,
            "linecolor": "white",
            "showbackground": true,
            "ticks": "",
            "zerolinecolor": "white"
           },
           "zaxis": {
            "backgroundcolor": "#E5ECF6",
            "gridcolor": "white",
            "gridwidth": 2,
            "linecolor": "white",
            "showbackground": true,
            "ticks": "",
            "zerolinecolor": "white"
           }
          },
          "shapedefaults": {
           "line": {
            "color": "#2a3f5f"
           }
          },
          "ternary": {
           "aaxis": {
            "gridcolor": "white",
            "linecolor": "white",
            "ticks": ""
           },
           "baxis": {
            "gridcolor": "white",
            "linecolor": "white",
            "ticks": ""
           },
           "bgcolor": "#E5ECF6",
           "caxis": {
            "gridcolor": "white",
            "linecolor": "white",
            "ticks": ""
           }
          },
          "title": {
           "x": 0.05
          },
          "xaxis": {
           "automargin": true,
           "gridcolor": "white",
           "linecolor": "white",
           "ticks": "",
           "title": {
            "standoff": 15
           },
           "zerolinecolor": "white",
           "zerolinewidth": 2
          },
          "yaxis": {
           "automargin": true,
           "gridcolor": "white",
           "linecolor": "white",
           "ticks": "",
           "title": {
            "standoff": 15
           },
           "zerolinecolor": "white",
           "zerolinewidth": 2
          }
         }
        },
        "xaxis": {
         "anchor": "y",
         "domain": [
          0,
          1
         ],
         "title": {
          "text": "Income"
         }
        },
        "yaxis": {
         "anchor": "x",
         "domain": [
          0,
          1
         ],
         "title": {
          "text": "Life expectancy"
         }
        }
       }
      }
     },
     "metadata": {},
     "output_type": "display_data"
    }
   ],
   "source": [
    "fig = px.scatter(\n",
    "    df, \n",
    "    x='Income', \n",
    "    y='Life expectancy',\n",
    "    color='Region'\n",
    ")\n",
    "layout_dict = dict(\n",
    "    plot_bgcolor='white',\n",
    "    font=dict(color='dimgray')\n",
    ")\n",
    "fig.update_layout(layout_dict)\n",
    "\n",
    "fig.show()"
   ]
  },
  {
   "cell_type": "markdown",
   "metadata": {},
   "source": [
    "## Plotly's internal representation of a static scatter plot"
   ]
  },
  {
   "cell_type": "code",
   "execution_count": 5,
   "metadata": {},
   "outputs": [
    {
     "name": "stdout",
     "output_type": "stream",
     "text": [
      "Figure({\n",
      "    'data': [{'hovertemplate': 'Region=Europe<br>Income=%{x}<br>Life expectancy=%{y}<extra></extra>',\n",
      "              'legendgroup': 'Europe',\n",
      "              'marker': {'color': '#636efa', 'symbol': 'circle'},\n",
      "              'mode': 'markers',\n",
      "              'name': 'Europe',\n",
      "              'orientation': 'v',\n",
      "              'showlegend': True,\n",
      "              'type': 'scatter',\n",
      "              'x': {'bdata': 'AAAAAOD14EAAAAAAoEXhQAAAAABgc+FAAAAAAAB94UAAAAAAgJ7hQA==', 'dtype': 'f8'},\n",
      "              'xaxis': 'x',\n",
      "              'y': {'bdata': 'rkfhehS+VEB7FK5H4cpUQIXrUbge1VRAj8L1KFzfVEApXI/C9ehUQA==', 'dtype': 'f8'},\n",
      "              'yaxis': 'y'},\n",
      "             {'hovertemplate': 'Region=Africa<br>Income=%{x}<br>Life expectancy=%{y}<extra></extra>',\n",
      "              'legendgroup': 'Africa',\n",
      "              'marker': {'color': '#EF553B', 'symbol': 'circle'},\n",
      "              'mode': 'markers',\n",
      "              'name': 'Africa',\n",
      "              'orientation': 'v',\n",
      "              'showlegend': True,\n",
      "              'type': 'scatter',\n",
      "              'x': {'bdata': 'AAAAAADrx0AAAAAAgOTHQAAAAACAt8dAAAAAAICDx0AAAAAAAGnHQA==', 'dtype': 'f8'},\n",
      "              'xaxis': 'x',\n",
      "              'y': {'bdata': 'XI/C9SgcUECkcD0K15NQQClcj8L1qFBA7FG4HoW7UEBcj8L1KMxQQA==', 'dtype': 'f8'},\n",
      "              'yaxis': 'y'}],\n",
      "    'layout': {'font': {'color': 'dimgray'},\n",
      "               'legend': {'title': {'text': 'Region'}, 'tracegroupgap': 0},\n",
      "               'margin': {'t': 60},\n",
      "               'plot_bgcolor': 'white',\n",
      "               'template': '...',\n",
      "               'xaxis': {'anchor': 'y', 'domain': [0.0, 1.0], 'title': {'text': 'Income'}},\n",
      "               'yaxis': {'anchor': 'x', 'domain': [0.0, 1.0], 'title': {'text': 'Life expectancy'}}}\n",
      "})\n"
     ]
    }
   ],
   "source": [
    "print(fig)"
   ]
  },
  {
   "cell_type": "code",
   "execution_count": 6,
   "metadata": {
    "scrolled": true
   },
   "outputs": [
    {
     "data": {
      "text/plain": [
       "{'data': [{'hovertemplate': 'Region=Europe<br>Income=%{x}<br>Life expectancy=%{y}<extra></extra>',\n",
       "   'legendgroup': 'Europe',\n",
       "   'marker': {'color': '#636efa', 'symbol': 'circle'},\n",
       "   'mode': 'markers',\n",
       "   'name': 'Europe',\n",
       "   'orientation': 'v',\n",
       "   'showlegend': True,\n",
       "   'x': {'dtype': 'f8',\n",
       "    'bdata': 'AAAAAOD14EAAAAAAoEXhQAAAAABgc+FAAAAAAAB94UAAAAAAgJ7hQA=='},\n",
       "   'xaxis': 'x',\n",
       "   'y': {'dtype': 'f8',\n",
       "    'bdata': 'rkfhehS+VEB7FK5H4cpUQIXrUbge1VRAj8L1KFzfVEApXI/C9ehUQA=='},\n",
       "   'yaxis': 'y',\n",
       "   'type': 'scatter'},\n",
       "  {'hovertemplate': 'Region=Africa<br>Income=%{x}<br>Life expectancy=%{y}<extra></extra>',\n",
       "   'legendgroup': 'Africa',\n",
       "   'marker': {'color': '#EF553B', 'symbol': 'circle'},\n",
       "   'mode': 'markers',\n",
       "   'name': 'Africa',\n",
       "   'orientation': 'v',\n",
       "   'showlegend': True,\n",
       "   'x': {'dtype': 'f8',\n",
       "    'bdata': 'AAAAAADrx0AAAAAAgOTHQAAAAACAt8dAAAAAAICDx0AAAAAAAGnHQA=='},\n",
       "   'xaxis': 'x',\n",
       "   'y': {'dtype': 'f8',\n",
       "    'bdata': 'XI/C9SgcUECkcD0K15NQQClcj8L1qFBA7FG4HoW7UEBcj8L1KMxQQA=='},\n",
       "   'yaxis': 'y',\n",
       "   'type': 'scatter'}],\n",
       " 'layout': {'template': {'data': {'histogram2dcontour': [{'type': 'histogram2dcontour',\n",
       "      'colorbar': {'outlinewidth': 0, 'ticks': ''},\n",
       "      'colorscale': [[0.0, '#0d0887'],\n",
       "       [0.1111111111111111, '#46039f'],\n",
       "       [0.2222222222222222, '#7201a8'],\n",
       "       [0.3333333333333333, '#9c179e'],\n",
       "       [0.4444444444444444, '#bd3786'],\n",
       "       [0.5555555555555556, '#d8576b'],\n",
       "       [0.6666666666666666, '#ed7953'],\n",
       "       [0.7777777777777778, '#fb9f3a'],\n",
       "       [0.8888888888888888, '#fdca26'],\n",
       "       [1.0, '#f0f921']]}],\n",
       "    'choropleth': [{'type': 'choropleth',\n",
       "      'colorbar': {'outlinewidth': 0, 'ticks': ''}}],\n",
       "    'histogram2d': [{'type': 'histogram2d',\n",
       "      'colorbar': {'outlinewidth': 0, 'ticks': ''},\n",
       "      'colorscale': [[0.0, '#0d0887'],\n",
       "       [0.1111111111111111, '#46039f'],\n",
       "       [0.2222222222222222, '#7201a8'],\n",
       "       [0.3333333333333333, '#9c179e'],\n",
       "       [0.4444444444444444, '#bd3786'],\n",
       "       [0.5555555555555556, '#d8576b'],\n",
       "       [0.6666666666666666, '#ed7953'],\n",
       "       [0.7777777777777778, '#fb9f3a'],\n",
       "       [0.8888888888888888, '#fdca26'],\n",
       "       [1.0, '#f0f921']]}],\n",
       "    'heatmap': [{'type': 'heatmap',\n",
       "      'colorbar': {'outlinewidth': 0, 'ticks': ''},\n",
       "      'colorscale': [[0.0, '#0d0887'],\n",
       "       [0.1111111111111111, '#46039f'],\n",
       "       [0.2222222222222222, '#7201a8'],\n",
       "       [0.3333333333333333, '#9c179e'],\n",
       "       [0.4444444444444444, '#bd3786'],\n",
       "       [0.5555555555555556, '#d8576b'],\n",
       "       [0.6666666666666666, '#ed7953'],\n",
       "       [0.7777777777777778, '#fb9f3a'],\n",
       "       [0.8888888888888888, '#fdca26'],\n",
       "       [1.0, '#f0f921']]}],\n",
       "    'contourcarpet': [{'type': 'contourcarpet',\n",
       "      'colorbar': {'outlinewidth': 0, 'ticks': ''}}],\n",
       "    'contour': [{'type': 'contour',\n",
       "      'colorbar': {'outlinewidth': 0, 'ticks': ''},\n",
       "      'colorscale': [[0.0, '#0d0887'],\n",
       "       [0.1111111111111111, '#46039f'],\n",
       "       [0.2222222222222222, '#7201a8'],\n",
       "       [0.3333333333333333, '#9c179e'],\n",
       "       [0.4444444444444444, '#bd3786'],\n",
       "       [0.5555555555555556, '#d8576b'],\n",
       "       [0.6666666666666666, '#ed7953'],\n",
       "       [0.7777777777777778, '#fb9f3a'],\n",
       "       [0.8888888888888888, '#fdca26'],\n",
       "       [1.0, '#f0f921']]}],\n",
       "    'surface': [{'type': 'surface',\n",
       "      'colorbar': {'outlinewidth': 0, 'ticks': ''},\n",
       "      'colorscale': [[0.0, '#0d0887'],\n",
       "       [0.1111111111111111, '#46039f'],\n",
       "       [0.2222222222222222, '#7201a8'],\n",
       "       [0.3333333333333333, '#9c179e'],\n",
       "       [0.4444444444444444, '#bd3786'],\n",
       "       [0.5555555555555556, '#d8576b'],\n",
       "       [0.6666666666666666, '#ed7953'],\n",
       "       [0.7777777777777778, '#fb9f3a'],\n",
       "       [0.8888888888888888, '#fdca26'],\n",
       "       [1.0, '#f0f921']]}],\n",
       "    'mesh3d': [{'type': 'mesh3d',\n",
       "      'colorbar': {'outlinewidth': 0, 'ticks': ''}}],\n",
       "    'scatter': [{'fillpattern': {'fillmode': 'overlay',\n",
       "       'size': 10,\n",
       "       'solidity': 0.2},\n",
       "      'type': 'scatter'}],\n",
       "    'parcoords': [{'type': 'parcoords',\n",
       "      'line': {'colorbar': {'outlinewidth': 0, 'ticks': ''}}}],\n",
       "    'scatterpolargl': [{'type': 'scatterpolargl',\n",
       "      'marker': {'colorbar': {'outlinewidth': 0, 'ticks': ''}}}],\n",
       "    'bar': [{'error_x': {'color': '#2a3f5f'},\n",
       "      'error_y': {'color': '#2a3f5f'},\n",
       "      'marker': {'line': {'color': '#E5ECF6', 'width': 0.5},\n",
       "       'pattern': {'fillmode': 'overlay', 'size': 10, 'solidity': 0.2}},\n",
       "      'type': 'bar'}],\n",
       "    'scattergeo': [{'type': 'scattergeo',\n",
       "      'marker': {'colorbar': {'outlinewidth': 0, 'ticks': ''}}}],\n",
       "    'scatterpolar': [{'type': 'scatterpolar',\n",
       "      'marker': {'colorbar': {'outlinewidth': 0, 'ticks': ''}}}],\n",
       "    'histogram': [{'marker': {'pattern': {'fillmode': 'overlay',\n",
       "        'size': 10,\n",
       "        'solidity': 0.2}},\n",
       "      'type': 'histogram'}],\n",
       "    'scattergl': [{'type': 'scattergl',\n",
       "      'marker': {'colorbar': {'outlinewidth': 0, 'ticks': ''}}}],\n",
       "    'scatter3d': [{'type': 'scatter3d',\n",
       "      'line': {'colorbar': {'outlinewidth': 0, 'ticks': ''}},\n",
       "      'marker': {'colorbar': {'outlinewidth': 0, 'ticks': ''}}}],\n",
       "    'scattermap': [{'type': 'scattermap',\n",
       "      'marker': {'colorbar': {'outlinewidth': 0, 'ticks': ''}}}],\n",
       "    'scattermapbox': [{'type': 'scattermapbox',\n",
       "      'marker': {'colorbar': {'outlinewidth': 0, 'ticks': ''}}}],\n",
       "    'scatterternary': [{'type': 'scatterternary',\n",
       "      'marker': {'colorbar': {'outlinewidth': 0, 'ticks': ''}}}],\n",
       "    'scattercarpet': [{'type': 'scattercarpet',\n",
       "      'marker': {'colorbar': {'outlinewidth': 0, 'ticks': ''}}}],\n",
       "    'carpet': [{'aaxis': {'endlinecolor': '#2a3f5f',\n",
       "       'gridcolor': 'white',\n",
       "       'linecolor': 'white',\n",
       "       'minorgridcolor': 'white',\n",
       "       'startlinecolor': '#2a3f5f'},\n",
       "      'baxis': {'endlinecolor': '#2a3f5f',\n",
       "       'gridcolor': 'white',\n",
       "       'linecolor': 'white',\n",
       "       'minorgridcolor': 'white',\n",
       "       'startlinecolor': '#2a3f5f'},\n",
       "      'type': 'carpet'}],\n",
       "    'table': [{'cells': {'fill': {'color': '#EBF0F8'},\n",
       "       'line': {'color': 'white'}},\n",
       "      'header': {'fill': {'color': '#C8D4E3'}, 'line': {'color': 'white'}},\n",
       "      'type': 'table'}],\n",
       "    'barpolar': [{'marker': {'line': {'color': '#E5ECF6', 'width': 0.5},\n",
       "       'pattern': {'fillmode': 'overlay', 'size': 10, 'solidity': 0.2}},\n",
       "      'type': 'barpolar'}],\n",
       "    'pie': [{'automargin': True, 'type': 'pie'}]},\n",
       "   'layout': {'autotypenumbers': 'strict',\n",
       "    'colorway': ['#636efa',\n",
       "     '#EF553B',\n",
       "     '#00cc96',\n",
       "     '#ab63fa',\n",
       "     '#FFA15A',\n",
       "     '#19d3f3',\n",
       "     '#FF6692',\n",
       "     '#B6E880',\n",
       "     '#FF97FF',\n",
       "     '#FECB52'],\n",
       "    'font': {'color': '#2a3f5f'},\n",
       "    'hovermode': 'closest',\n",
       "    'hoverlabel': {'align': 'left'},\n",
       "    'paper_bgcolor': 'white',\n",
       "    'plot_bgcolor': '#E5ECF6',\n",
       "    'polar': {'bgcolor': '#E5ECF6',\n",
       "     'angularaxis': {'gridcolor': 'white', 'linecolor': 'white', 'ticks': ''},\n",
       "     'radialaxis': {'gridcolor': 'white', 'linecolor': 'white', 'ticks': ''}},\n",
       "    'ternary': {'bgcolor': '#E5ECF6',\n",
       "     'aaxis': {'gridcolor': 'white', 'linecolor': 'white', 'ticks': ''},\n",
       "     'baxis': {'gridcolor': 'white', 'linecolor': 'white', 'ticks': ''},\n",
       "     'caxis': {'gridcolor': 'white', 'linecolor': 'white', 'ticks': ''}},\n",
       "    'coloraxis': {'colorbar': {'outlinewidth': 0, 'ticks': ''}},\n",
       "    'colorscale': {'sequential': [[0.0, '#0d0887'],\n",
       "      [0.1111111111111111, '#46039f'],\n",
       "      [0.2222222222222222, '#7201a8'],\n",
       "      [0.3333333333333333, '#9c179e'],\n",
       "      [0.4444444444444444, '#bd3786'],\n",
       "      [0.5555555555555556, '#d8576b'],\n",
       "      [0.6666666666666666, '#ed7953'],\n",
       "      [0.7777777777777778, '#fb9f3a'],\n",
       "      [0.8888888888888888, '#fdca26'],\n",
       "      [1.0, '#f0f921']],\n",
       "     'sequentialminus': [[0.0, '#0d0887'],\n",
       "      [0.1111111111111111, '#46039f'],\n",
       "      [0.2222222222222222, '#7201a8'],\n",
       "      [0.3333333333333333, '#9c179e'],\n",
       "      [0.4444444444444444, '#bd3786'],\n",
       "      [0.5555555555555556, '#d8576b'],\n",
       "      [0.6666666666666666, '#ed7953'],\n",
       "      [0.7777777777777778, '#fb9f3a'],\n",
       "      [0.8888888888888888, '#fdca26'],\n",
       "      [1.0, '#f0f921']],\n",
       "     'diverging': [[0, '#8e0152'],\n",
       "      [0.1, '#c51b7d'],\n",
       "      [0.2, '#de77ae'],\n",
       "      [0.3, '#f1b6da'],\n",
       "      [0.4, '#fde0ef'],\n",
       "      [0.5, '#f7f7f7'],\n",
       "      [0.6, '#e6f5d0'],\n",
       "      [0.7, '#b8e186'],\n",
       "      [0.8, '#7fbc41'],\n",
       "      [0.9, '#4d9221'],\n",
       "      [1, '#276419']]},\n",
       "    'xaxis': {'gridcolor': 'white',\n",
       "     'linecolor': 'white',\n",
       "     'ticks': '',\n",
       "     'title': {'standoff': 15},\n",
       "     'zerolinecolor': 'white',\n",
       "     'automargin': True,\n",
       "     'zerolinewidth': 2},\n",
       "    'yaxis': {'gridcolor': 'white',\n",
       "     'linecolor': 'white',\n",
       "     'ticks': '',\n",
       "     'title': {'standoff': 15},\n",
       "     'zerolinecolor': 'white',\n",
       "     'automargin': True,\n",
       "     'zerolinewidth': 2},\n",
       "    'scene': {'xaxis': {'backgroundcolor': '#E5ECF6',\n",
       "      'gridcolor': 'white',\n",
       "      'linecolor': 'white',\n",
       "      'showbackground': True,\n",
       "      'ticks': '',\n",
       "      'zerolinecolor': 'white',\n",
       "      'gridwidth': 2},\n",
       "     'yaxis': {'backgroundcolor': '#E5ECF6',\n",
       "      'gridcolor': 'white',\n",
       "      'linecolor': 'white',\n",
       "      'showbackground': True,\n",
       "      'ticks': '',\n",
       "      'zerolinecolor': 'white',\n",
       "      'gridwidth': 2},\n",
       "     'zaxis': {'backgroundcolor': '#E5ECF6',\n",
       "      'gridcolor': 'white',\n",
       "      'linecolor': 'white',\n",
       "      'showbackground': True,\n",
       "      'ticks': '',\n",
       "      'zerolinecolor': 'white',\n",
       "      'gridwidth': 2}},\n",
       "    'shapedefaults': {'line': {'color': '#2a3f5f'}},\n",
       "    'annotationdefaults': {'arrowcolor': '#2a3f5f',\n",
       "     'arrowhead': 0,\n",
       "     'arrowwidth': 1},\n",
       "    'geo': {'bgcolor': 'white',\n",
       "     'landcolor': '#E5ECF6',\n",
       "     'subunitcolor': 'white',\n",
       "     'showland': True,\n",
       "     'showlakes': True,\n",
       "     'lakecolor': 'white'},\n",
       "    'title': {'x': 0.05},\n",
       "    'mapbox': {'style': 'light'}}},\n",
       "  'xaxis': {'anchor': 'y', 'domain': [0.0, 1.0], 'title': {'text': 'Income'}},\n",
       "  'yaxis': {'anchor': 'x',\n",
       "   'domain': [0.0, 1.0],\n",
       "   'title': {'text': 'Life expectancy'}},\n",
       "  'legend': {'title': {'text': 'Region'}, 'tracegroupgap': 0},\n",
       "  'margin': {'t': 60},\n",
       "  'font': {'color': 'dimgray'},\n",
       "  'plot_bgcolor': 'white'}}"
      ]
     },
     "execution_count": 6,
     "metadata": {},
     "output_type": "execute_result"
    }
   ],
   "source": [
    "fig.to_dict()"
   ]
  },
  {
   "cell_type": "markdown",
   "metadata": {},
   "source": [
    "Static scatter plot. A dictionary with two parts:\n",
    "* data (contains all data-related information)\n",
    "* layout (contains all other information)"
   ]
  },
  {
   "cell_type": "code",
   "execution_count": 7,
   "metadata": {},
   "outputs": [],
   "source": [
    "f = {\n",
    "    'data': [{'hovertemplate': 'Region=Europe<br>Income=%{x}<br>Life expectancy=%{y}<extra></extra>',\n",
    "              'legendgroup': 'Europe',\n",
    "              'marker': {'color': '#636efa', 'symbol': 'circle'},\n",
    "              'mode': 'markers',\n",
    "              'name': 'Europe',\n",
    "              'orientation': 'v',\n",
    "              'showlegend': True,\n",
    "              'type': 'scatter',\n",
    "              'x': [34735., 35373., 35739., 35816., 36084.],\n",
    "              'xaxis': 'x',\n",
    "              'y': [82.97, 83.17, 83.33, 83.49, 83.64],\n",
    "              'yaxis': 'y'},\n",
    "             {'hovertemplate': 'Region=Africa<br>Income=%{x}<br>Life expectancy=%{y}<extra></extra>',\n",
    "              'legendgroup': 'Africa',\n",
    "              'marker': {'color': '#EF553B', 'symbol': 'circle'},\n",
    "              'mode': 'markers',\n",
    "              'name': 'Africa',\n",
    "              'orientation': 'v',\n",
    "              'showlegend': True,\n",
    "              'type': 'scatter',\n",
    "              'x': [12246., 12233., 12143., 12039., 11986.],\n",
    "              'xaxis': 'x',\n",
    "              'y': [64.44, 66.31, 66.64, 66.93, 67.19],\n",
    "              'yaxis': 'y'}],\n",
    "    'layout': {'legend': {'title': {'text': 'Region'}, 'tracegroupgap': 0},\n",
    "               'margin': {'t': 60},\n",
    "               'xaxis': {'anchor': 'y', 'domain': [0.0, 1.0], 'title': {'text': 'Income'}},\n",
    "               'yaxis': {'anchor': 'x', 'domain': [0.0, 1.0], 'title': {'text': 'Life expectancy'}}}\n",
    "}"
   ]
  },
  {
   "cell_type": "code",
   "execution_count": 8,
   "metadata": {},
   "outputs": [
    {
     "data": {
      "application/vnd.plotly.v1+json": {
       "config": {
        "plotlyServerURL": "https://plot.ly"
       },
       "data": [
        {
         "hovertemplate": "Region=Europe<br>Income=%{x}<br>Life expectancy=%{y}<extra></extra>",
         "legendgroup": "Europe",
         "marker": {
          "color": "#636efa",
          "symbol": "circle"
         },
         "mode": "markers",
         "name": "Europe",
         "orientation": "v",
         "showlegend": true,
         "type": "scatter",
         "x": [
          34735,
          35373,
          35739,
          35816,
          36084
         ],
         "xaxis": "x",
         "y": [
          82.97,
          83.17,
          83.33,
          83.49,
          83.64
         ],
         "yaxis": "y"
        },
        {
         "hovertemplate": "Region=Africa<br>Income=%{x}<br>Life expectancy=%{y}<extra></extra>",
         "legendgroup": "Africa",
         "marker": {
          "color": "#EF553B",
          "symbol": "circle"
         },
         "mode": "markers",
         "name": "Africa",
         "orientation": "v",
         "showlegend": true,
         "type": "scatter",
         "x": [
          12246,
          12233,
          12143,
          12039,
          11986
         ],
         "xaxis": "x",
         "y": [
          64.44,
          66.31,
          66.64,
          66.93,
          67.19
         ],
         "yaxis": "y"
        }
       ],
       "layout": {
        "legend": {
         "title": {
          "text": "Region"
         },
         "tracegroupgap": 0
        },
        "margin": {
         "t": 60
        },
        "template": {
         "data": {
          "bar": [
           {
            "error_x": {
             "color": "#2a3f5f"
            },
            "error_y": {
             "color": "#2a3f5f"
            },
            "marker": {
             "line": {
              "color": "#E5ECF6",
              "width": 0.5
             },
             "pattern": {
              "fillmode": "overlay",
              "size": 10,
              "solidity": 0.2
             }
            },
            "type": "bar"
           }
          ],
          "barpolar": [
           {
            "marker": {
             "line": {
              "color": "#E5ECF6",
              "width": 0.5
             },
             "pattern": {
              "fillmode": "overlay",
              "size": 10,
              "solidity": 0.2
             }
            },
            "type": "barpolar"
           }
          ],
          "carpet": [
           {
            "aaxis": {
             "endlinecolor": "#2a3f5f",
             "gridcolor": "white",
             "linecolor": "white",
             "minorgridcolor": "white",
             "startlinecolor": "#2a3f5f"
            },
            "baxis": {
             "endlinecolor": "#2a3f5f",
             "gridcolor": "white",
             "linecolor": "white",
             "minorgridcolor": "white",
             "startlinecolor": "#2a3f5f"
            },
            "type": "carpet"
           }
          ],
          "choropleth": [
           {
            "colorbar": {
             "outlinewidth": 0,
             "ticks": ""
            },
            "type": "choropleth"
           }
          ],
          "contour": [
           {
            "colorbar": {
             "outlinewidth": 0,
             "ticks": ""
            },
            "colorscale": [
             [
              0,
              "#0d0887"
             ],
             [
              0.1111111111111111,
              "#46039f"
             ],
             [
              0.2222222222222222,
              "#7201a8"
             ],
             [
              0.3333333333333333,
              "#9c179e"
             ],
             [
              0.4444444444444444,
              "#bd3786"
             ],
             [
              0.5555555555555556,
              "#d8576b"
             ],
             [
              0.6666666666666666,
              "#ed7953"
             ],
             [
              0.7777777777777778,
              "#fb9f3a"
             ],
             [
              0.8888888888888888,
              "#fdca26"
             ],
             [
              1,
              "#f0f921"
             ]
            ],
            "type": "contour"
           }
          ],
          "contourcarpet": [
           {
            "colorbar": {
             "outlinewidth": 0,
             "ticks": ""
            },
            "type": "contourcarpet"
           }
          ],
          "heatmap": [
           {
            "colorbar": {
             "outlinewidth": 0,
             "ticks": ""
            },
            "colorscale": [
             [
              0,
              "#0d0887"
             ],
             [
              0.1111111111111111,
              "#46039f"
             ],
             [
              0.2222222222222222,
              "#7201a8"
             ],
             [
              0.3333333333333333,
              "#9c179e"
             ],
             [
              0.4444444444444444,
              "#bd3786"
             ],
             [
              0.5555555555555556,
              "#d8576b"
             ],
             [
              0.6666666666666666,
              "#ed7953"
             ],
             [
              0.7777777777777778,
              "#fb9f3a"
             ],
             [
              0.8888888888888888,
              "#fdca26"
             ],
             [
              1,
              "#f0f921"
             ]
            ],
            "type": "heatmap"
           }
          ],
          "histogram": [
           {
            "marker": {
             "pattern": {
              "fillmode": "overlay",
              "size": 10,
              "solidity": 0.2
             }
            },
            "type": "histogram"
           }
          ],
          "histogram2d": [
           {
            "colorbar": {
             "outlinewidth": 0,
             "ticks": ""
            },
            "colorscale": [
             [
              0,
              "#0d0887"
             ],
             [
              0.1111111111111111,
              "#46039f"
             ],
             [
              0.2222222222222222,
              "#7201a8"
             ],
             [
              0.3333333333333333,
              "#9c179e"
             ],
             [
              0.4444444444444444,
              "#bd3786"
             ],
             [
              0.5555555555555556,
              "#d8576b"
             ],
             [
              0.6666666666666666,
              "#ed7953"
             ],
             [
              0.7777777777777778,
              "#fb9f3a"
             ],
             [
              0.8888888888888888,
              "#fdca26"
             ],
             [
              1,
              "#f0f921"
             ]
            ],
            "type": "histogram2d"
           }
          ],
          "histogram2dcontour": [
           {
            "colorbar": {
             "outlinewidth": 0,
             "ticks": ""
            },
            "colorscale": [
             [
              0,
              "#0d0887"
             ],
             [
              0.1111111111111111,
              "#46039f"
             ],
             [
              0.2222222222222222,
              "#7201a8"
             ],
             [
              0.3333333333333333,
              "#9c179e"
             ],
             [
              0.4444444444444444,
              "#bd3786"
             ],
             [
              0.5555555555555556,
              "#d8576b"
             ],
             [
              0.6666666666666666,
              "#ed7953"
             ],
             [
              0.7777777777777778,
              "#fb9f3a"
             ],
             [
              0.8888888888888888,
              "#fdca26"
             ],
             [
              1,
              "#f0f921"
             ]
            ],
            "type": "histogram2dcontour"
           }
          ],
          "mesh3d": [
           {
            "colorbar": {
             "outlinewidth": 0,
             "ticks": ""
            },
            "type": "mesh3d"
           }
          ],
          "parcoords": [
           {
            "line": {
             "colorbar": {
              "outlinewidth": 0,
              "ticks": ""
             }
            },
            "type": "parcoords"
           }
          ],
          "pie": [
           {
            "automargin": true,
            "type": "pie"
           }
          ],
          "scatter": [
           {
            "fillpattern": {
             "fillmode": "overlay",
             "size": 10,
             "solidity": 0.2
            },
            "type": "scatter"
           }
          ],
          "scatter3d": [
           {
            "line": {
             "colorbar": {
              "outlinewidth": 0,
              "ticks": ""
             }
            },
            "marker": {
             "colorbar": {
              "outlinewidth": 0,
              "ticks": ""
             }
            },
            "type": "scatter3d"
           }
          ],
          "scattercarpet": [
           {
            "marker": {
             "colorbar": {
              "outlinewidth": 0,
              "ticks": ""
             }
            },
            "type": "scattercarpet"
           }
          ],
          "scattergeo": [
           {
            "marker": {
             "colorbar": {
              "outlinewidth": 0,
              "ticks": ""
             }
            },
            "type": "scattergeo"
           }
          ],
          "scattergl": [
           {
            "marker": {
             "colorbar": {
              "outlinewidth": 0,
              "ticks": ""
             }
            },
            "type": "scattergl"
           }
          ],
          "scattermap": [
           {
            "marker": {
             "colorbar": {
              "outlinewidth": 0,
              "ticks": ""
             }
            },
            "type": "scattermap"
           }
          ],
          "scattermapbox": [
           {
            "marker": {
             "colorbar": {
              "outlinewidth": 0,
              "ticks": ""
             }
            },
            "type": "scattermapbox"
           }
          ],
          "scatterpolar": [
           {
            "marker": {
             "colorbar": {
              "outlinewidth": 0,
              "ticks": ""
             }
            },
            "type": "scatterpolar"
           }
          ],
          "scatterpolargl": [
           {
            "marker": {
             "colorbar": {
              "outlinewidth": 0,
              "ticks": ""
             }
            },
            "type": "scatterpolargl"
           }
          ],
          "scatterternary": [
           {
            "marker": {
             "colorbar": {
              "outlinewidth": 0,
              "ticks": ""
             }
            },
            "type": "scatterternary"
           }
          ],
          "surface": [
           {
            "colorbar": {
             "outlinewidth": 0,
             "ticks": ""
            },
            "colorscale": [
             [
              0,
              "#0d0887"
             ],
             [
              0.1111111111111111,
              "#46039f"
             ],
             [
              0.2222222222222222,
              "#7201a8"
             ],
             [
              0.3333333333333333,
              "#9c179e"
             ],
             [
              0.4444444444444444,
              "#bd3786"
             ],
             [
              0.5555555555555556,
              "#d8576b"
             ],
             [
              0.6666666666666666,
              "#ed7953"
             ],
             [
              0.7777777777777778,
              "#fb9f3a"
             ],
             [
              0.8888888888888888,
              "#fdca26"
             ],
             [
              1,
              "#f0f921"
             ]
            ],
            "type": "surface"
           }
          ],
          "table": [
           {
            "cells": {
             "fill": {
              "color": "#EBF0F8"
             },
             "line": {
              "color": "white"
             }
            },
            "header": {
             "fill": {
              "color": "#C8D4E3"
             },
             "line": {
              "color": "white"
             }
            },
            "type": "table"
           }
          ]
         },
         "layout": {
          "annotationdefaults": {
           "arrowcolor": "#2a3f5f",
           "arrowhead": 0,
           "arrowwidth": 1
          },
          "autotypenumbers": "strict",
          "coloraxis": {
           "colorbar": {
            "outlinewidth": 0,
            "ticks": ""
           }
          },
          "colorscale": {
           "diverging": [
            [
             0,
             "#8e0152"
            ],
            [
             0.1,
             "#c51b7d"
            ],
            [
             0.2,
             "#de77ae"
            ],
            [
             0.3,
             "#f1b6da"
            ],
            [
             0.4,
             "#fde0ef"
            ],
            [
             0.5,
             "#f7f7f7"
            ],
            [
             0.6,
             "#e6f5d0"
            ],
            [
             0.7,
             "#b8e186"
            ],
            [
             0.8,
             "#7fbc41"
            ],
            [
             0.9,
             "#4d9221"
            ],
            [
             1,
             "#276419"
            ]
           ],
           "sequential": [
            [
             0,
             "#0d0887"
            ],
            [
             0.1111111111111111,
             "#46039f"
            ],
            [
             0.2222222222222222,
             "#7201a8"
            ],
            [
             0.3333333333333333,
             "#9c179e"
            ],
            [
             0.4444444444444444,
             "#bd3786"
            ],
            [
             0.5555555555555556,
             "#d8576b"
            ],
            [
             0.6666666666666666,
             "#ed7953"
            ],
            [
             0.7777777777777778,
             "#fb9f3a"
            ],
            [
             0.8888888888888888,
             "#fdca26"
            ],
            [
             1,
             "#f0f921"
            ]
           ],
           "sequentialminus": [
            [
             0,
             "#0d0887"
            ],
            [
             0.1111111111111111,
             "#46039f"
            ],
            [
             0.2222222222222222,
             "#7201a8"
            ],
            [
             0.3333333333333333,
             "#9c179e"
            ],
            [
             0.4444444444444444,
             "#bd3786"
            ],
            [
             0.5555555555555556,
             "#d8576b"
            ],
            [
             0.6666666666666666,
             "#ed7953"
            ],
            [
             0.7777777777777778,
             "#fb9f3a"
            ],
            [
             0.8888888888888888,
             "#fdca26"
            ],
            [
             1,
             "#f0f921"
            ]
           ]
          },
          "colorway": [
           "#636efa",
           "#EF553B",
           "#00cc96",
           "#ab63fa",
           "#FFA15A",
           "#19d3f3",
           "#FF6692",
           "#B6E880",
           "#FF97FF",
           "#FECB52"
          ],
          "font": {
           "color": "#2a3f5f"
          },
          "geo": {
           "bgcolor": "white",
           "lakecolor": "white",
           "landcolor": "#E5ECF6",
           "showlakes": true,
           "showland": true,
           "subunitcolor": "white"
          },
          "hoverlabel": {
           "align": "left"
          },
          "hovermode": "closest",
          "mapbox": {
           "style": "light"
          },
          "paper_bgcolor": "white",
          "plot_bgcolor": "#E5ECF6",
          "polar": {
           "angularaxis": {
            "gridcolor": "white",
            "linecolor": "white",
            "ticks": ""
           },
           "bgcolor": "#E5ECF6",
           "radialaxis": {
            "gridcolor": "white",
            "linecolor": "white",
            "ticks": ""
           }
          },
          "scene": {
           "xaxis": {
            "backgroundcolor": "#E5ECF6",
            "gridcolor": "white",
            "gridwidth": 2,
            "linecolor": "white",
            "showbackground": true,
            "ticks": "",
            "zerolinecolor": "white"
           },
           "yaxis": {
            "backgroundcolor": "#E5ECF6",
            "gridcolor": "white",
            "gridwidth": 2,
            "linecolor": "white",
            "showbackground": true,
            "ticks": "",
            "zerolinecolor": "white"
           },
           "zaxis": {
            "backgroundcolor": "#E5ECF6",
            "gridcolor": "white",
            "gridwidth": 2,
            "linecolor": "white",
            "showbackground": true,
            "ticks": "",
            "zerolinecolor": "white"
           }
          },
          "shapedefaults": {
           "line": {
            "color": "#2a3f5f"
           }
          },
          "ternary": {
           "aaxis": {
            "gridcolor": "white",
            "linecolor": "white",
            "ticks": ""
           },
           "baxis": {
            "gridcolor": "white",
            "linecolor": "white",
            "ticks": ""
           },
           "bgcolor": "#E5ECF6",
           "caxis": {
            "gridcolor": "white",
            "linecolor": "white",
            "ticks": ""
           }
          },
          "title": {
           "x": 0.05
          },
          "xaxis": {
           "automargin": true,
           "gridcolor": "white",
           "linecolor": "white",
           "ticks": "",
           "title": {
            "standoff": 15
           },
           "zerolinecolor": "white",
           "zerolinewidth": 2
          },
          "yaxis": {
           "automargin": true,
           "gridcolor": "white",
           "linecolor": "white",
           "ticks": "",
           "title": {
            "standoff": 15
           },
           "zerolinecolor": "white",
           "zerolinewidth": 2
          }
         }
        },
        "xaxis": {
         "anchor": "y",
         "domain": [
          0,
          1
         ],
         "title": {
          "text": "Income"
         }
        },
        "yaxis": {
         "anchor": "x",
         "domain": [
          0,
          1
         ],
         "title": {
          "text": "Life expectancy"
         }
        }
       }
      }
     },
     "metadata": {},
     "output_type": "display_data"
    }
   ],
   "source": [
    "fig = go.Figure(f)\n",
    "fig.show()"
   ]
  },
  {
   "cell_type": "markdown",
   "metadata": {},
   "source": [
    "## Plotly's internal representation of an animated scatter plot"
   ]
  },
  {
   "cell_type": "code",
   "execution_count": 9,
   "metadata": {},
   "outputs": [
    {
     "data": {
      "application/vnd.plotly.v1+json": {
       "config": {
        "plotlyServerURL": "https://plot.ly"
       },
       "data": [
        {
         "hovertemplate": "Region=Europe<br>Year=2016<br>Income=%{x}<br>Life expectancy=%{y}<extra></extra>",
         "legendgroup": "Europe",
         "marker": {
          "color": "#636efa",
          "symbol": "circle"
         },
         "mode": "markers",
         "name": "Europe",
         "orientation": "v",
         "showlegend": true,
         "type": "scatter",
         "x": {
          "bdata": "AAAAAOD14EA=",
          "dtype": "f8"
         },
         "xaxis": "x",
         "y": {
          "bdata": "rkfhehS+VEA=",
          "dtype": "f8"
         },
         "yaxis": "y"
        },
        {
         "hovertemplate": "Region=Africa<br>Year=2016<br>Income=%{x}<br>Life expectancy=%{y}<extra></extra>",
         "legendgroup": "Africa",
         "marker": {
          "color": "#EF553B",
          "symbol": "circle"
         },
         "mode": "markers",
         "name": "Africa",
         "orientation": "v",
         "showlegend": true,
         "type": "scatter",
         "x": {
          "bdata": "AAAAAADrx0A=",
          "dtype": "f8"
         },
         "xaxis": "x",
         "y": {
          "bdata": "XI/C9SgcUEA=",
          "dtype": "f8"
         },
         "yaxis": "y"
        }
       ],
       "frames": [
        {
         "data": [
          {
           "hovertemplate": "Region=Europe<br>Year=2016<br>Income=%{x}<br>Life expectancy=%{y}<extra></extra>",
           "legendgroup": "Europe",
           "marker": {
            "color": "#636efa",
            "symbol": "circle"
           },
           "mode": "markers",
           "name": "Europe",
           "orientation": "v",
           "showlegend": true,
           "type": "scatter",
           "x": {
            "bdata": "AAAAAOD14EA=",
            "dtype": "f8"
           },
           "xaxis": "x",
           "y": {
            "bdata": "rkfhehS+VEA=",
            "dtype": "f8"
           },
           "yaxis": "y"
          },
          {
           "hovertemplate": "Region=Africa<br>Year=2016<br>Income=%{x}<br>Life expectancy=%{y}<extra></extra>",
           "legendgroup": "Africa",
           "marker": {
            "color": "#EF553B",
            "symbol": "circle"
           },
           "mode": "markers",
           "name": "Africa",
           "orientation": "v",
           "showlegend": true,
           "type": "scatter",
           "x": {
            "bdata": "AAAAAADrx0A=",
            "dtype": "f8"
           },
           "xaxis": "x",
           "y": {
            "bdata": "XI/C9SgcUEA=",
            "dtype": "f8"
           },
           "yaxis": "y"
          }
         ],
         "name": "2016"
        },
        {
         "data": [
          {
           "hovertemplate": "Region=Europe<br>Year=2017<br>Income=%{x}<br>Life expectancy=%{y}<extra></extra>",
           "legendgroup": "Europe",
           "marker": {
            "color": "#636efa",
            "symbol": "circle"
           },
           "mode": "markers",
           "name": "Europe",
           "orientation": "v",
           "showlegend": true,
           "type": "scatter",
           "x": {
            "bdata": "AAAAAKBF4UA=",
            "dtype": "f8"
           },
           "xaxis": "x",
           "y": {
            "bdata": "exSuR+HKVEA=",
            "dtype": "f8"
           },
           "yaxis": "y"
          },
          {
           "hovertemplate": "Region=Africa<br>Year=2017<br>Income=%{x}<br>Life expectancy=%{y}<extra></extra>",
           "legendgroup": "Africa",
           "marker": {
            "color": "#EF553B",
            "symbol": "circle"
           },
           "mode": "markers",
           "name": "Africa",
           "orientation": "v",
           "showlegend": true,
           "type": "scatter",
           "x": {
            "bdata": "AAAAAIDkx0A=",
            "dtype": "f8"
           },
           "xaxis": "x",
           "y": {
            "bdata": "pHA9CteTUEA=",
            "dtype": "f8"
           },
           "yaxis": "y"
          }
         ],
         "name": "2017"
        },
        {
         "data": [
          {
           "hovertemplate": "Region=Europe<br>Year=2018<br>Income=%{x}<br>Life expectancy=%{y}<extra></extra>",
           "legendgroup": "Europe",
           "marker": {
            "color": "#636efa",
            "symbol": "circle"
           },
           "mode": "markers",
           "name": "Europe",
           "orientation": "v",
           "showlegend": true,
           "type": "scatter",
           "x": {
            "bdata": "AAAAAGBz4UA=",
            "dtype": "f8"
           },
           "xaxis": "x",
           "y": {
            "bdata": "hetRuB7VVEA=",
            "dtype": "f8"
           },
           "yaxis": "y"
          },
          {
           "hovertemplate": "Region=Africa<br>Year=2018<br>Income=%{x}<br>Life expectancy=%{y}<extra></extra>",
           "legendgroup": "Africa",
           "marker": {
            "color": "#EF553B",
            "symbol": "circle"
           },
           "mode": "markers",
           "name": "Africa",
           "orientation": "v",
           "showlegend": true,
           "type": "scatter",
           "x": {
            "bdata": "AAAAAIC3x0A=",
            "dtype": "f8"
           },
           "xaxis": "x",
           "y": {
            "bdata": "KVyPwvWoUEA=",
            "dtype": "f8"
           },
           "yaxis": "y"
          }
         ],
         "name": "2018"
        },
        {
         "data": [
          {
           "hovertemplate": "Region=Europe<br>Year=2019<br>Income=%{x}<br>Life expectancy=%{y}<extra></extra>",
           "legendgroup": "Europe",
           "marker": {
            "color": "#636efa",
            "symbol": "circle"
           },
           "mode": "markers",
           "name": "Europe",
           "orientation": "v",
           "showlegend": true,
           "type": "scatter",
           "x": {
            "bdata": "AAAAAAB94UA=",
            "dtype": "f8"
           },
           "xaxis": "x",
           "y": {
            "bdata": "j8L1KFzfVEA=",
            "dtype": "f8"
           },
           "yaxis": "y"
          },
          {
           "hovertemplate": "Region=Africa<br>Year=2019<br>Income=%{x}<br>Life expectancy=%{y}<extra></extra>",
           "legendgroup": "Africa",
           "marker": {
            "color": "#EF553B",
            "symbol": "circle"
           },
           "mode": "markers",
           "name": "Africa",
           "orientation": "v",
           "showlegend": true,
           "type": "scatter",
           "x": {
            "bdata": "AAAAAICDx0A=",
            "dtype": "f8"
           },
           "xaxis": "x",
           "y": {
            "bdata": "7FG4HoW7UEA=",
            "dtype": "f8"
           },
           "yaxis": "y"
          }
         ],
         "name": "2019"
        },
        {
         "data": [
          {
           "hovertemplate": "Region=Europe<br>Year=2020<br>Income=%{x}<br>Life expectancy=%{y}<extra></extra>",
           "legendgroup": "Europe",
           "marker": {
            "color": "#636efa",
            "symbol": "circle"
           },
           "mode": "markers",
           "name": "Europe",
           "orientation": "v",
           "showlegend": true,
           "type": "scatter",
           "x": {
            "bdata": "AAAAAICe4UA=",
            "dtype": "f8"
           },
           "xaxis": "x",
           "y": {
            "bdata": "KVyPwvXoVEA=",
            "dtype": "f8"
           },
           "yaxis": "y"
          },
          {
           "hovertemplate": "Region=Africa<br>Year=2020<br>Income=%{x}<br>Life expectancy=%{y}<extra></extra>",
           "legendgroup": "Africa",
           "marker": {
            "color": "#EF553B",
            "symbol": "circle"
           },
           "mode": "markers",
           "name": "Africa",
           "orientation": "v",
           "showlegend": true,
           "type": "scatter",
           "x": {
            "bdata": "AAAAAABpx0A=",
            "dtype": "f8"
           },
           "xaxis": "x",
           "y": {
            "bdata": "XI/C9SjMUEA=",
            "dtype": "f8"
           },
           "yaxis": "y"
          }
         ],
         "name": "2020"
        }
       ],
       "layout": {
        "legend": {
         "title": {
          "text": "Region"
         },
         "tracegroupgap": 0
        },
        "margin": {
         "t": 60
        },
        "sliders": [
         {
          "active": 0,
          "currentvalue": {
           "prefix": "Year="
          },
          "len": 0.9,
          "pad": {
           "b": 10,
           "t": 60
          },
          "steps": [
           {
            "args": [
             [
              "2016"
             ],
             {
              "frame": {
               "duration": 0,
               "redraw": false
              },
              "fromcurrent": true,
              "mode": "immediate",
              "transition": {
               "duration": 0,
               "easing": "linear"
              }
             }
            ],
            "label": "2016",
            "method": "animate"
           },
           {
            "args": [
             [
              "2017"
             ],
             {
              "frame": {
               "duration": 0,
               "redraw": false
              },
              "fromcurrent": true,
              "mode": "immediate",
              "transition": {
               "duration": 0,
               "easing": "linear"
              }
             }
            ],
            "label": "2017",
            "method": "animate"
           },
           {
            "args": [
             [
              "2018"
             ],
             {
              "frame": {
               "duration": 0,
               "redraw": false
              },
              "fromcurrent": true,
              "mode": "immediate",
              "transition": {
               "duration": 0,
               "easing": "linear"
              }
             }
            ],
            "label": "2018",
            "method": "animate"
           },
           {
            "args": [
             [
              "2019"
             ],
             {
              "frame": {
               "duration": 0,
               "redraw": false
              },
              "fromcurrent": true,
              "mode": "immediate",
              "transition": {
               "duration": 0,
               "easing": "linear"
              }
             }
            ],
            "label": "2019",
            "method": "animate"
           },
           {
            "args": [
             [
              "2020"
             ],
             {
              "frame": {
               "duration": 0,
               "redraw": false
              },
              "fromcurrent": true,
              "mode": "immediate",
              "transition": {
               "duration": 0,
               "easing": "linear"
              }
             }
            ],
            "label": "2020",
            "method": "animate"
           }
          ],
          "x": 0.1,
          "xanchor": "left",
          "y": 0,
          "yanchor": "top"
         }
        ],
        "template": {
         "data": {
          "bar": [
           {
            "error_x": {
             "color": "#2a3f5f"
            },
            "error_y": {
             "color": "#2a3f5f"
            },
            "marker": {
             "line": {
              "color": "#E5ECF6",
              "width": 0.5
             },
             "pattern": {
              "fillmode": "overlay",
              "size": 10,
              "solidity": 0.2
             }
            },
            "type": "bar"
           }
          ],
          "barpolar": [
           {
            "marker": {
             "line": {
              "color": "#E5ECF6",
              "width": 0.5
             },
             "pattern": {
              "fillmode": "overlay",
              "size": 10,
              "solidity": 0.2
             }
            },
            "type": "barpolar"
           }
          ],
          "carpet": [
           {
            "aaxis": {
             "endlinecolor": "#2a3f5f",
             "gridcolor": "white",
             "linecolor": "white",
             "minorgridcolor": "white",
             "startlinecolor": "#2a3f5f"
            },
            "baxis": {
             "endlinecolor": "#2a3f5f",
             "gridcolor": "white",
             "linecolor": "white",
             "minorgridcolor": "white",
             "startlinecolor": "#2a3f5f"
            },
            "type": "carpet"
           }
          ],
          "choropleth": [
           {
            "colorbar": {
             "outlinewidth": 0,
             "ticks": ""
            },
            "type": "choropleth"
           }
          ],
          "contour": [
           {
            "colorbar": {
             "outlinewidth": 0,
             "ticks": ""
            },
            "colorscale": [
             [
              0,
              "#0d0887"
             ],
             [
              0.1111111111111111,
              "#46039f"
             ],
             [
              0.2222222222222222,
              "#7201a8"
             ],
             [
              0.3333333333333333,
              "#9c179e"
             ],
             [
              0.4444444444444444,
              "#bd3786"
             ],
             [
              0.5555555555555556,
              "#d8576b"
             ],
             [
              0.6666666666666666,
              "#ed7953"
             ],
             [
              0.7777777777777778,
              "#fb9f3a"
             ],
             [
              0.8888888888888888,
              "#fdca26"
             ],
             [
              1,
              "#f0f921"
             ]
            ],
            "type": "contour"
           }
          ],
          "contourcarpet": [
           {
            "colorbar": {
             "outlinewidth": 0,
             "ticks": ""
            },
            "type": "contourcarpet"
           }
          ],
          "heatmap": [
           {
            "colorbar": {
             "outlinewidth": 0,
             "ticks": ""
            },
            "colorscale": [
             [
              0,
              "#0d0887"
             ],
             [
              0.1111111111111111,
              "#46039f"
             ],
             [
              0.2222222222222222,
              "#7201a8"
             ],
             [
              0.3333333333333333,
              "#9c179e"
             ],
             [
              0.4444444444444444,
              "#bd3786"
             ],
             [
              0.5555555555555556,
              "#d8576b"
             ],
             [
              0.6666666666666666,
              "#ed7953"
             ],
             [
              0.7777777777777778,
              "#fb9f3a"
             ],
             [
              0.8888888888888888,
              "#fdca26"
             ],
             [
              1,
              "#f0f921"
             ]
            ],
            "type": "heatmap"
           }
          ],
          "histogram": [
           {
            "marker": {
             "pattern": {
              "fillmode": "overlay",
              "size": 10,
              "solidity": 0.2
             }
            },
            "type": "histogram"
           }
          ],
          "histogram2d": [
           {
            "colorbar": {
             "outlinewidth": 0,
             "ticks": ""
            },
            "colorscale": [
             [
              0,
              "#0d0887"
             ],
             [
              0.1111111111111111,
              "#46039f"
             ],
             [
              0.2222222222222222,
              "#7201a8"
             ],
             [
              0.3333333333333333,
              "#9c179e"
             ],
             [
              0.4444444444444444,
              "#bd3786"
             ],
             [
              0.5555555555555556,
              "#d8576b"
             ],
             [
              0.6666666666666666,
              "#ed7953"
             ],
             [
              0.7777777777777778,
              "#fb9f3a"
             ],
             [
              0.8888888888888888,
              "#fdca26"
             ],
             [
              1,
              "#f0f921"
             ]
            ],
            "type": "histogram2d"
           }
          ],
          "histogram2dcontour": [
           {
            "colorbar": {
             "outlinewidth": 0,
             "ticks": ""
            },
            "colorscale": [
             [
              0,
              "#0d0887"
             ],
             [
              0.1111111111111111,
              "#46039f"
             ],
             [
              0.2222222222222222,
              "#7201a8"
             ],
             [
              0.3333333333333333,
              "#9c179e"
             ],
             [
              0.4444444444444444,
              "#bd3786"
             ],
             [
              0.5555555555555556,
              "#d8576b"
             ],
             [
              0.6666666666666666,
              "#ed7953"
             ],
             [
              0.7777777777777778,
              "#fb9f3a"
             ],
             [
              0.8888888888888888,
              "#fdca26"
             ],
             [
              1,
              "#f0f921"
             ]
            ],
            "type": "histogram2dcontour"
           }
          ],
          "mesh3d": [
           {
            "colorbar": {
             "outlinewidth": 0,
             "ticks": ""
            },
            "type": "mesh3d"
           }
          ],
          "parcoords": [
           {
            "line": {
             "colorbar": {
              "outlinewidth": 0,
              "ticks": ""
             }
            },
            "type": "parcoords"
           }
          ],
          "pie": [
           {
            "automargin": true,
            "type": "pie"
           }
          ],
          "scatter": [
           {
            "fillpattern": {
             "fillmode": "overlay",
             "size": 10,
             "solidity": 0.2
            },
            "type": "scatter"
           }
          ],
          "scatter3d": [
           {
            "line": {
             "colorbar": {
              "outlinewidth": 0,
              "ticks": ""
             }
            },
            "marker": {
             "colorbar": {
              "outlinewidth": 0,
              "ticks": ""
             }
            },
            "type": "scatter3d"
           }
          ],
          "scattercarpet": [
           {
            "marker": {
             "colorbar": {
              "outlinewidth": 0,
              "ticks": ""
             }
            },
            "type": "scattercarpet"
           }
          ],
          "scattergeo": [
           {
            "marker": {
             "colorbar": {
              "outlinewidth": 0,
              "ticks": ""
             }
            },
            "type": "scattergeo"
           }
          ],
          "scattergl": [
           {
            "marker": {
             "colorbar": {
              "outlinewidth": 0,
              "ticks": ""
             }
            },
            "type": "scattergl"
           }
          ],
          "scattermap": [
           {
            "marker": {
             "colorbar": {
              "outlinewidth": 0,
              "ticks": ""
             }
            },
            "type": "scattermap"
           }
          ],
          "scattermapbox": [
           {
            "marker": {
             "colorbar": {
              "outlinewidth": 0,
              "ticks": ""
             }
            },
            "type": "scattermapbox"
           }
          ],
          "scatterpolar": [
           {
            "marker": {
             "colorbar": {
              "outlinewidth": 0,
              "ticks": ""
             }
            },
            "type": "scatterpolar"
           }
          ],
          "scatterpolargl": [
           {
            "marker": {
             "colorbar": {
              "outlinewidth": 0,
              "ticks": ""
             }
            },
            "type": "scatterpolargl"
           }
          ],
          "scatterternary": [
           {
            "marker": {
             "colorbar": {
              "outlinewidth": 0,
              "ticks": ""
             }
            },
            "type": "scatterternary"
           }
          ],
          "surface": [
           {
            "colorbar": {
             "outlinewidth": 0,
             "ticks": ""
            },
            "colorscale": [
             [
              0,
              "#0d0887"
             ],
             [
              0.1111111111111111,
              "#46039f"
             ],
             [
              0.2222222222222222,
              "#7201a8"
             ],
             [
              0.3333333333333333,
              "#9c179e"
             ],
             [
              0.4444444444444444,
              "#bd3786"
             ],
             [
              0.5555555555555556,
              "#d8576b"
             ],
             [
              0.6666666666666666,
              "#ed7953"
             ],
             [
              0.7777777777777778,
              "#fb9f3a"
             ],
             [
              0.8888888888888888,
              "#fdca26"
             ],
             [
              1,
              "#f0f921"
             ]
            ],
            "type": "surface"
           }
          ],
          "table": [
           {
            "cells": {
             "fill": {
              "color": "#EBF0F8"
             },
             "line": {
              "color": "white"
             }
            },
            "header": {
             "fill": {
              "color": "#C8D4E3"
             },
             "line": {
              "color": "white"
             }
            },
            "type": "table"
           }
          ]
         },
         "layout": {
          "annotationdefaults": {
           "arrowcolor": "#2a3f5f",
           "arrowhead": 0,
           "arrowwidth": 1
          },
          "autotypenumbers": "strict",
          "coloraxis": {
           "colorbar": {
            "outlinewidth": 0,
            "ticks": ""
           }
          },
          "colorscale": {
           "diverging": [
            [
             0,
             "#8e0152"
            ],
            [
             0.1,
             "#c51b7d"
            ],
            [
             0.2,
             "#de77ae"
            ],
            [
             0.3,
             "#f1b6da"
            ],
            [
             0.4,
             "#fde0ef"
            ],
            [
             0.5,
             "#f7f7f7"
            ],
            [
             0.6,
             "#e6f5d0"
            ],
            [
             0.7,
             "#b8e186"
            ],
            [
             0.8,
             "#7fbc41"
            ],
            [
             0.9,
             "#4d9221"
            ],
            [
             1,
             "#276419"
            ]
           ],
           "sequential": [
            [
             0,
             "#0d0887"
            ],
            [
             0.1111111111111111,
             "#46039f"
            ],
            [
             0.2222222222222222,
             "#7201a8"
            ],
            [
             0.3333333333333333,
             "#9c179e"
            ],
            [
             0.4444444444444444,
             "#bd3786"
            ],
            [
             0.5555555555555556,
             "#d8576b"
            ],
            [
             0.6666666666666666,
             "#ed7953"
            ],
            [
             0.7777777777777778,
             "#fb9f3a"
            ],
            [
             0.8888888888888888,
             "#fdca26"
            ],
            [
             1,
             "#f0f921"
            ]
           ],
           "sequentialminus": [
            [
             0,
             "#0d0887"
            ],
            [
             0.1111111111111111,
             "#46039f"
            ],
            [
             0.2222222222222222,
             "#7201a8"
            ],
            [
             0.3333333333333333,
             "#9c179e"
            ],
            [
             0.4444444444444444,
             "#bd3786"
            ],
            [
             0.5555555555555556,
             "#d8576b"
            ],
            [
             0.6666666666666666,
             "#ed7953"
            ],
            [
             0.7777777777777778,
             "#fb9f3a"
            ],
            [
             0.8888888888888888,
             "#fdca26"
            ],
            [
             1,
             "#f0f921"
            ]
           ]
          },
          "colorway": [
           "#636efa",
           "#EF553B",
           "#00cc96",
           "#ab63fa",
           "#FFA15A",
           "#19d3f3",
           "#FF6692",
           "#B6E880",
           "#FF97FF",
           "#FECB52"
          ],
          "font": {
           "color": "#2a3f5f"
          },
          "geo": {
           "bgcolor": "white",
           "lakecolor": "white",
           "landcolor": "#E5ECF6",
           "showlakes": true,
           "showland": true,
           "subunitcolor": "white"
          },
          "hoverlabel": {
           "align": "left"
          },
          "hovermode": "closest",
          "mapbox": {
           "style": "light"
          },
          "paper_bgcolor": "white",
          "plot_bgcolor": "#E5ECF6",
          "polar": {
           "angularaxis": {
            "gridcolor": "white",
            "linecolor": "white",
            "ticks": ""
           },
           "bgcolor": "#E5ECF6",
           "radialaxis": {
            "gridcolor": "white",
            "linecolor": "white",
            "ticks": ""
           }
          },
          "scene": {
           "xaxis": {
            "backgroundcolor": "#E5ECF6",
            "gridcolor": "white",
            "gridwidth": 2,
            "linecolor": "white",
            "showbackground": true,
            "ticks": "",
            "zerolinecolor": "white"
           },
           "yaxis": {
            "backgroundcolor": "#E5ECF6",
            "gridcolor": "white",
            "gridwidth": 2,
            "linecolor": "white",
            "showbackground": true,
            "ticks": "",
            "zerolinecolor": "white"
           },
           "zaxis": {
            "backgroundcolor": "#E5ECF6",
            "gridcolor": "white",
            "gridwidth": 2,
            "linecolor": "white",
            "showbackground": true,
            "ticks": "",
            "zerolinecolor": "white"
           }
          },
          "shapedefaults": {
           "line": {
            "color": "#2a3f5f"
           }
          },
          "ternary": {
           "aaxis": {
            "gridcolor": "white",
            "linecolor": "white",
            "ticks": ""
           },
           "baxis": {
            "gridcolor": "white",
            "linecolor": "white",
            "ticks": ""
           },
           "bgcolor": "#E5ECF6",
           "caxis": {
            "gridcolor": "white",
            "linecolor": "white",
            "ticks": ""
           }
          },
          "title": {
           "x": 0.05
          },
          "xaxis": {
           "automargin": true,
           "gridcolor": "white",
           "linecolor": "white",
           "ticks": "",
           "title": {
            "standoff": 15
           },
           "zerolinecolor": "white",
           "zerolinewidth": 2
          },
          "yaxis": {
           "automargin": true,
           "gridcolor": "white",
           "linecolor": "white",
           "ticks": "",
           "title": {
            "standoff": 15
           },
           "zerolinecolor": "white",
           "zerolinewidth": 2
          }
         }
        },
        "updatemenus": [
         {
          "buttons": [
           {
            "args": [
             null,
             {
              "frame": {
               "duration": 500,
               "redraw": false
              },
              "fromcurrent": true,
              "mode": "immediate",
              "transition": {
               "duration": 500,
               "easing": "linear"
              }
             }
            ],
            "label": "&#9654;",
            "method": "animate"
           },
           {
            "args": [
             [
              null
             ],
             {
              "frame": {
               "duration": 0,
               "redraw": false
              },
              "fromcurrent": true,
              "mode": "immediate",
              "transition": {
               "duration": 0,
               "easing": "linear"
              }
             }
            ],
            "label": "&#9724;",
            "method": "animate"
           }
          ],
          "direction": "left",
          "pad": {
           "r": 10,
           "t": 70
          },
          "showactive": false,
          "type": "buttons",
          "x": 0.1,
          "xanchor": "right",
          "y": 0,
          "yanchor": "top"
         }
        ],
        "xaxis": {
         "anchor": "y",
         "domain": [
          0,
          1
         ],
         "title": {
          "text": "Income"
         }
        },
        "yaxis": {
         "anchor": "x",
         "domain": [
          0,
          1
         ],
         "title": {
          "text": "Life expectancy"
         }
        }
       }
      }
     },
     "metadata": {},
     "output_type": "display_data"
    }
   ],
   "source": [
    "fig = px.scatter(\n",
    "    df, \n",
    "    x='Income', \n",
    "    y='Life expectancy',\n",
    "    color='Region',\n",
    "    animation_frame='Year'\n",
    ")\n",
    "fig.show()"
   ]
  },
  {
   "cell_type": "code",
   "execution_count": 10,
   "metadata": {},
   "outputs": [
    {
     "name": "stdout",
     "output_type": "stream",
     "text": [
      "Figure({\n",
      "    'data': [{'hovertemplate': 'Region=Europe<br>Year=2016<br>Income=%{x}<br>Life expectancy=%{y}<extra></extra>',\n",
      "              'legendgroup': 'Europe',\n",
      "              'marker': {'color': '#636efa', 'symbol': 'circle'},\n",
      "              'mode': 'markers',\n",
      "              'name': 'Europe',\n",
      "              'orientation': 'v',\n",
      "              'showlegend': True,\n",
      "              'type': 'scatter',\n",
      "              'x': {'bdata': 'AAAAAOD14EA=', 'dtype': 'f8'},\n",
      "              'xaxis': 'x',\n",
      "              'y': {'bdata': 'rkfhehS+VEA=', 'dtype': 'f8'},\n",
      "              'yaxis': 'y'},\n",
      "             {'hovertemplate': 'Region=Africa<br>Year=2016<br>Income=%{x}<br>Life expectancy=%{y}<extra></extra>',\n",
      "              'legendgroup': 'Africa',\n",
      "              'marker': {'color': '#EF553B', 'symbol': 'circle'},\n",
      "              'mode': 'markers',\n",
      "              'name': 'Africa',\n",
      "              'orientation': 'v',\n",
      "              'showlegend': True,\n",
      "              'type': 'scatter',\n",
      "              'x': {'bdata': 'AAAAAADrx0A=', 'dtype': 'f8'},\n",
      "              'xaxis': 'x',\n",
      "              'y': {'bdata': 'XI/C9SgcUEA=', 'dtype': 'f8'},\n",
      "              'yaxis': 'y'}],\n",
      "    'frames': [{'data': [{'hovertemplate': 'Region=Europe<br>Year=2016<br>Income=%{x}<br>Life expectancy=%{y}<extra></extra>',\n",
      "                          'legendgroup': 'Europe',\n",
      "                          'marker': {'color': '#636efa', 'symbol': 'circle'},\n",
      "                          'mode': 'markers',\n",
      "                          'name': 'Europe',\n",
      "                          'orientation': 'v',\n",
      "                          'showlegend': True,\n",
      "                          'type': 'scatter',\n",
      "                          'x': {'bdata': 'AAAAAOD14EA=', 'dtype': 'f8'},\n",
      "                          'xaxis': 'x',\n",
      "                          'y': {'bdata': 'rkfhehS+VEA=', 'dtype': 'f8'},\n",
      "                          'yaxis': 'y'},\n",
      "                         {'hovertemplate': 'Region=Africa<br>Year=2016<br>Income=%{x}<br>Life expectancy=%{y}<extra></extra>',\n",
      "                          'legendgroup': 'Africa',\n",
      "                          'marker': {'color': '#EF553B', 'symbol': 'circle'},\n",
      "                          'mode': 'markers',\n",
      "                          'name': 'Africa',\n",
      "                          'orientation': 'v',\n",
      "                          'showlegend': True,\n",
      "                          'type': 'scatter',\n",
      "                          'x': {'bdata': 'AAAAAADrx0A=', 'dtype': 'f8'},\n",
      "                          'xaxis': 'x',\n",
      "                          'y': {'bdata': 'XI/C9SgcUEA=', 'dtype': 'f8'},\n",
      "                          'yaxis': 'y'}],\n",
      "                'name': '2016'},\n",
      "               {'data': [{'hovertemplate': 'Region=Europe<br>Year=2017<br>Income=%{x}<br>Life expectancy=%{y}<extra></extra>',\n",
      "                          'legendgroup': 'Europe',\n",
      "                          'marker': {'color': '#636efa', 'symbol': 'circle'},\n",
      "                          'mode': 'markers',\n",
      "                          'name': 'Europe',\n",
      "                          'orientation': 'v',\n",
      "                          'showlegend': True,\n",
      "                          'type': 'scatter',\n",
      "                          'x': {'bdata': 'AAAAAKBF4UA=', 'dtype': 'f8'},\n",
      "                          'xaxis': 'x',\n",
      "                          'y': {'bdata': 'exSuR+HKVEA=', 'dtype': 'f8'},\n",
      "                          'yaxis': 'y'},\n",
      "                         {'hovertemplate': 'Region=Africa<br>Year=2017<br>Income=%{x}<br>Life expectancy=%{y}<extra></extra>',\n",
      "                          'legendgroup': 'Africa',\n",
      "                          'marker': {'color': '#EF553B', 'symbol': 'circle'},\n",
      "                          'mode': 'markers',\n",
      "                          'name': 'Africa',\n",
      "                          'orientation': 'v',\n",
      "                          'showlegend': True,\n",
      "                          'type': 'scatter',\n",
      "                          'x': {'bdata': 'AAAAAIDkx0A=', 'dtype': 'f8'},\n",
      "                          'xaxis': 'x',\n",
      "                          'y': {'bdata': 'pHA9CteTUEA=', 'dtype': 'f8'},\n",
      "                          'yaxis': 'y'}],\n",
      "                'name': '2017'},\n",
      "               {'data': [{'hovertemplate': 'Region=Europe<br>Year=2018<br>Income=%{x}<br>Life expectancy=%{y}<extra></extra>',\n",
      "                          'legendgroup': 'Europe',\n",
      "                          'marker': {'color': '#636efa', 'symbol': 'circle'},\n",
      "                          'mode': 'markers',\n",
      "                          'name': 'Europe',\n",
      "                          'orientation': 'v',\n",
      "                          'showlegend': True,\n",
      "                          'type': 'scatter',\n",
      "                          'x': {'bdata': 'AAAAAGBz4UA=', 'dtype': 'f8'},\n",
      "                          'xaxis': 'x',\n",
      "                          'y': {'bdata': 'hetRuB7VVEA=', 'dtype': 'f8'},\n",
      "                          'yaxis': 'y'},\n",
      "                         {'hovertemplate': 'Region=Africa<br>Year=2018<br>Income=%{x}<br>Life expectancy=%{y}<extra></extra>',\n",
      "                          'legendgroup': 'Africa',\n",
      "                          'marker': {'color': '#EF553B', 'symbol': 'circle'},\n",
      "                          'mode': 'markers',\n",
      "                          'name': 'Africa',\n",
      "                          'orientation': 'v',\n",
      "                          'showlegend': True,\n",
      "                          'type': 'scatter',\n",
      "                          'x': {'bdata': 'AAAAAIC3x0A=', 'dtype': 'f8'},\n",
      "                          'xaxis': 'x',\n",
      "                          'y': {'bdata': 'KVyPwvWoUEA=', 'dtype': 'f8'},\n",
      "                          'yaxis': 'y'}],\n",
      "                'name': '2018'},\n",
      "               {'data': [{'hovertemplate': 'Region=Europe<br>Year=2019<br>Income=%{x}<br>Life expectancy=%{y}<extra></extra>',\n",
      "                          'legendgroup': 'Europe',\n",
      "                          'marker': {'color': '#636efa', 'symbol': 'circle'},\n",
      "                          'mode': 'markers',\n",
      "                          'name': 'Europe',\n",
      "                          'orientation': 'v',\n",
      "                          'showlegend': True,\n",
      "                          'type': 'scatter',\n",
      "                          'x': {'bdata': 'AAAAAAB94UA=', 'dtype': 'f8'},\n",
      "                          'xaxis': 'x',\n",
      "                          'y': {'bdata': 'j8L1KFzfVEA=', 'dtype': 'f8'},\n",
      "                          'yaxis': 'y'},\n",
      "                         {'hovertemplate': 'Region=Africa<br>Year=2019<br>Income=%{x}<br>Life expectancy=%{y}<extra></extra>',\n",
      "                          'legendgroup': 'Africa',\n",
      "                          'marker': {'color': '#EF553B', 'symbol': 'circle'},\n",
      "                          'mode': 'markers',\n",
      "                          'name': 'Africa',\n",
      "                          'orientation': 'v',\n",
      "                          'showlegend': True,\n",
      "                          'type': 'scatter',\n",
      "                          'x': {'bdata': 'AAAAAICDx0A=', 'dtype': 'f8'},\n",
      "                          'xaxis': 'x',\n",
      "                          'y': {'bdata': '7FG4HoW7UEA=', 'dtype': 'f8'},\n",
      "                          'yaxis': 'y'}],\n",
      "                'name': '2019'},\n",
      "               {'data': [{'hovertemplate': 'Region=Europe<br>Year=2020<br>Income=%{x}<br>Life expectancy=%{y}<extra></extra>',\n",
      "                          'legendgroup': 'Europe',\n",
      "                          'marker': {'color': '#636efa', 'symbol': 'circle'},\n",
      "                          'mode': 'markers',\n",
      "                          'name': 'Europe',\n",
      "                          'orientation': 'v',\n",
      "                          'showlegend': True,\n",
      "                          'type': 'scatter',\n",
      "                          'x': {'bdata': 'AAAAAICe4UA=', 'dtype': 'f8'},\n",
      "                          'xaxis': 'x',\n",
      "                          'y': {'bdata': 'KVyPwvXoVEA=', 'dtype': 'f8'},\n",
      "                          'yaxis': 'y'},\n",
      "                         {'hovertemplate': 'Region=Africa<br>Year=2020<br>Income=%{x}<br>Life expectancy=%{y}<extra></extra>',\n",
      "                          'legendgroup': 'Africa',\n",
      "                          'marker': {'color': '#EF553B', 'symbol': 'circle'},\n",
      "                          'mode': 'markers',\n",
      "                          'name': 'Africa',\n",
      "                          'orientation': 'v',\n",
      "                          'showlegend': True,\n",
      "                          'type': 'scatter',\n",
      "                          'x': {'bdata': 'AAAAAABpx0A=', 'dtype': 'f8'},\n",
      "                          'xaxis': 'x',\n",
      "                          'y': {'bdata': 'XI/C9SjMUEA=', 'dtype': 'f8'},\n",
      "                          'yaxis': 'y'}],\n",
      "                'name': '2020'}],\n",
      "    'layout': {'legend': {'title': {'text': 'Region'}, 'tracegroupgap': 0},\n",
      "               'margin': {'t': 60},\n",
      "               'sliders': [{'active': 0,\n",
      "                            'currentvalue': {'prefix': 'Year='},\n",
      "                            'len': 0.9,\n",
      "                            'pad': {'b': 10, 't': 60},\n",
      "                            'steps': [{'args': [['2016'], {'frame': {'duration':\n",
      "                                                0, 'redraw': False}, 'mode':\n",
      "                                                'immediate', 'fromcurrent': True,\n",
      "                                                'transition': {'duration': 0,\n",
      "                                                'easing': 'linear'}}],\n",
      "                                       'label': '2016',\n",
      "                                       'method': 'animate'},\n",
      "                                      {'args': [['2017'], {'frame': {'duration':\n",
      "                                                0, 'redraw': False}, 'mode':\n",
      "                                                'immediate', 'fromcurrent': True,\n",
      "                                                'transition': {'duration': 0,\n",
      "                                                'easing': 'linear'}}],\n",
      "                                       'label': '2017',\n",
      "                                       'method': 'animate'},\n",
      "                                      {'args': [['2018'], {'frame': {'duration':\n",
      "                                                0, 'redraw': False}, 'mode':\n",
      "                                                'immediate', 'fromcurrent': True,\n",
      "                                                'transition': {'duration': 0,\n",
      "                                                'easing': 'linear'}}],\n",
      "                                       'label': '2018',\n",
      "                                       'method': 'animate'},\n",
      "                                      {'args': [['2019'], {'frame': {'duration':\n",
      "                                                0, 'redraw': False}, 'mode':\n",
      "                                                'immediate', 'fromcurrent': True,\n",
      "                                                'transition': {'duration': 0,\n",
      "                                                'easing': 'linear'}}],\n",
      "                                       'label': '2019',\n",
      "                                       'method': 'animate'},\n",
      "                                      {'args': [['2020'], {'frame': {'duration':\n",
      "                                                0, 'redraw': False}, 'mode':\n",
      "                                                'immediate', 'fromcurrent': True,\n",
      "                                                'transition': {'duration': 0,\n",
      "                                                'easing': 'linear'}}],\n",
      "                                       'label': '2020',\n",
      "                                       'method': 'animate'}],\n",
      "                            'x': 0.1,\n",
      "                            'xanchor': 'left',\n",
      "                            'y': 0,\n",
      "                            'yanchor': 'top'}],\n",
      "               'template': '...',\n",
      "               'updatemenus': [{'buttons': [{'args': [None, {'frame': {'duration':\n",
      "                                                      500, 'redraw': False},\n",
      "                                                      'mode': 'immediate',\n",
      "                                                      'fromcurrent': True,\n",
      "                                                      'transition': {'duration':\n",
      "                                                      500, 'easing': 'linear'}}],\n",
      "                                             'label': '&#9654;',\n",
      "                                             'method': 'animate'},\n",
      "                                            {'args': [[None], {'frame':\n",
      "                                                      {'duration': 0, 'redraw':\n",
      "                                                      False}, 'mode': 'immediate',\n",
      "                                                      'fromcurrent': True,\n",
      "                                                      'transition': {'duration': 0,\n",
      "                                                      'easing': 'linear'}}],\n",
      "                                             'label': '&#9724;',\n",
      "                                             'method': 'animate'}],\n",
      "                                'direction': 'left',\n",
      "                                'pad': {'r': 10, 't': 70},\n",
      "                                'showactive': False,\n",
      "                                'type': 'buttons',\n",
      "                                'x': 0.1,\n",
      "                                'xanchor': 'right',\n",
      "                                'y': 0,\n",
      "                                'yanchor': 'top'}],\n",
      "               'xaxis': {'anchor': 'y', 'domain': [0.0, 1.0], 'title': {'text': 'Income'}},\n",
      "               'yaxis': {'anchor': 'x', 'domain': [0.0, 1.0], 'title': {'text': 'Life expectancy'}}}\n",
      "})\n"
     ]
    }
   ],
   "source": [
    "print(fig)"
   ]
  },
  {
   "cell_type": "markdown",
   "metadata": {},
   "source": [
    "A more complex dictionary with three parts:\n",
    "* data (contains all data-related information for the initial frame)\n",
    "* frames (contains all data-related information for each frame (including the first one))\n",
    "* layout (contains all other information, including slider and buttons)"
   ]
  }
 ],
 "metadata": {
  "kernelspec": {
   "display_name": "Python 3",
   "language": "python",
   "name": "python3"
  },
  "language_info": {
   "codemirror_mode": {
    "name": "ipython",
    "version": 3
   },
   "file_extension": ".py",
   "mimetype": "text/x-python",
   "name": "python",
   "nbconvert_exporter": "python",
   "pygments_lexer": "ipython3",
   "version": "3.11.9"
  }
 },
 "nbformat": 4,
 "nbformat_minor": 4
}

{
 "cells": [
  {
   "cell_type": "markdown",
   "id": "2e8cff9a",
   "metadata": {},
   "source": [
    "# Goal: Recreate Gapminder's Bubble Chart*"
   ]
  },
  {
   "cell_type": "markdown",
   "id": "0592be0b",
   "metadata": {},
   "source": [
    "![Gapminder](Gapminder.png)"
   ]
  },
  {
   "cell_type": "markdown",
   "id": "7205f9df",
   "metadata": {},
   "source": [
    "*As much as possible..."
   ]
  },
  {
   "cell_type": "markdown",
   "id": "a51e5440",
   "metadata": {},
   "source": [
    "See https://www.gapminder.org/tools/"
   ]
  },
  {
   "cell_type": "markdown",
   "id": "fea83b75",
   "metadata": {},
   "source": [
    "## Import libraries"
   ]
  },
  {
   "cell_type": "code",
   "execution_count": 2,
   "id": "5f2b16b8",
   "metadata": {},
   "outputs": [],
   "source": [
    "import pandas as pd\n",
    "import plotly.express as px\n",
    "import plotly.graph_objs as go\n",
    "import dash\n",
    "from dash import dcc, html\n",
    "from dash.dependencies import Input, Output"
   ]
  },
  {
   "cell_type": "code",
   "execution_count": 3,
   "id": "c27c6793-8d6e-42e3-a61c-c3605fbe9e7f",
   "metadata": {},
   "outputs": [
    {
     "name": "stdout",
     "output_type": "stream",
     "text": [
      "6.0.0\n"
     ]
    }
   ],
   "source": [
    "import plotly\n",
    "print(plotly.__version__)"
   ]
  },
  {
   "cell_type": "markdown",
   "id": "bc574529",
   "metadata": {},
   "source": [
    "## Load the data"
   ]
  },
  {
   "cell_type": "code",
   "execution_count": 4,
   "id": "088f9d42",
   "metadata": {},
   "outputs": [],
   "source": [
    "df = pd.read_csv('Gapminder-data.csv', sep=',')"
   ]
  },
  {
   "cell_type": "code",
   "execution_count": 5,
   "id": "b3323617",
   "metadata": {},
   "outputs": [
    {
     "data": {
      "text/html": [
       "<div>\n",
       "<style scoped>\n",
       "    .dataframe tbody tr th:only-of-type {\n",
       "        vertical-align: middle;\n",
       "    }\n",
       "\n",
       "    .dataframe tbody tr th {\n",
       "        vertical-align: top;\n",
       "    }\n",
       "\n",
       "    .dataframe thead th {\n",
       "        text-align: right;\n",
       "    }\n",
       "</style>\n",
       "<table border=\"1\" class=\"dataframe\">\n",
       "  <thead>\n",
       "    <tr style=\"text-align: right;\">\n",
       "      <th></th>\n",
       "      <th>Country</th>\n",
       "      <th>Region</th>\n",
       "      <th>Year</th>\n",
       "      <th>Income</th>\n",
       "      <th>Life expectancy</th>\n",
       "      <th>Population</th>\n",
       "      <th>Fertility</th>\n",
       "      <th>Child mortality</th>\n",
       "    </tr>\n",
       "  </thead>\n",
       "  <tbody>\n",
       "    <tr>\n",
       "      <th>0</th>\n",
       "      <td>Afghanistan</td>\n",
       "      <td>Asia</td>\n",
       "      <td>1900</td>\n",
       "      <td>1088.0</td>\n",
       "      <td>29.41</td>\n",
       "      <td>4832414.0</td>\n",
       "      <td>7.001</td>\n",
       "      <td>481.77</td>\n",
       "    </tr>\n",
       "    <tr>\n",
       "      <th>1</th>\n",
       "      <td>Afghanistan</td>\n",
       "      <td>Asia</td>\n",
       "      <td>1901</td>\n",
       "      <td>1106.0</td>\n",
       "      <td>29.47</td>\n",
       "      <td>4879685.0</td>\n",
       "      <td>7.001</td>\n",
       "      <td>481.36</td>\n",
       "    </tr>\n",
       "    <tr>\n",
       "      <th>2</th>\n",
       "      <td>Afghanistan</td>\n",
       "      <td>Asia</td>\n",
       "      <td>1902</td>\n",
       "      <td>1124.0</td>\n",
       "      <td>29.53</td>\n",
       "      <td>4935122.0</td>\n",
       "      <td>7.001</td>\n",
       "      <td>480.87</td>\n",
       "    </tr>\n",
       "    <tr>\n",
       "      <th>3</th>\n",
       "      <td>Afghanistan</td>\n",
       "      <td>Asia</td>\n",
       "      <td>1903</td>\n",
       "      <td>1143.0</td>\n",
       "      <td>29.60</td>\n",
       "      <td>4998861.0</td>\n",
       "      <td>7.001</td>\n",
       "      <td>480.30</td>\n",
       "    </tr>\n",
       "    <tr>\n",
       "      <th>4</th>\n",
       "      <td>Afghanistan</td>\n",
       "      <td>Asia</td>\n",
       "      <td>1904</td>\n",
       "      <td>1162.0</td>\n",
       "      <td>29.66</td>\n",
       "      <td>5063419.0</td>\n",
       "      <td>7.001</td>\n",
       "      <td>481.08</td>\n",
       "    </tr>\n",
       "  </tbody>\n",
       "</table>\n",
       "</div>"
      ],
      "text/plain": [
       "       Country Region  Year  Income  Life expectancy  Population  Fertility  \\\n",
       "0  Afghanistan   Asia  1900  1088.0            29.41   4832414.0      7.001   \n",
       "1  Afghanistan   Asia  1901  1106.0            29.47   4879685.0      7.001   \n",
       "2  Afghanistan   Asia  1902  1124.0            29.53   4935122.0      7.001   \n",
       "3  Afghanistan   Asia  1903  1143.0            29.60   4998861.0      7.001   \n",
       "4  Afghanistan   Asia  1904  1162.0            29.66   5063419.0      7.001   \n",
       "\n",
       "   Child mortality  \n",
       "0           481.77  \n",
       "1           481.36  \n",
       "2           480.87  \n",
       "3           480.30  \n",
       "4           481.08  "
      ]
     },
     "execution_count": 5,
     "metadata": {},
     "output_type": "execute_result"
    }
   ],
   "source": [
    "df.head()"
   ]
  },
  {
   "cell_type": "code",
   "execution_count": 6,
   "id": "b703d8cd-31f4-44c3-b25a-5e5fcb57640f",
   "metadata": {},
   "outputs": [
    {
     "data": {
      "text/html": [
       "<div>\n",
       "<style scoped>\n",
       "    .dataframe tbody tr th:only-of-type {\n",
       "        vertical-align: middle;\n",
       "    }\n",
       "\n",
       "    .dataframe tbody tr th {\n",
       "        vertical-align: top;\n",
       "    }\n",
       "\n",
       "    .dataframe thead th {\n",
       "        text-align: right;\n",
       "    }\n",
       "</style>\n",
       "<table border=\"1\" class=\"dataframe\">\n",
       "  <thead>\n",
       "    <tr style=\"text-align: right;\">\n",
       "      <th></th>\n",
       "      <th>Year</th>\n",
       "      <th>Income</th>\n",
       "      <th>Life expectancy</th>\n",
       "      <th>Population</th>\n",
       "      <th>Fertility</th>\n",
       "      <th>Child mortality</th>\n",
       "    </tr>\n",
       "  </thead>\n",
       "  <tbody>\n",
       "    <tr>\n",
       "      <th>count</th>\n",
       "      <td>22424.000000</td>\n",
       "      <td>22424.000000</td>\n",
       "      <td>22424.000000</td>\n",
       "      <td>2.242400e+04</td>\n",
       "      <td>22424.000000</td>\n",
       "      <td>22424.000000</td>\n",
       "    </tr>\n",
       "    <tr>\n",
       "      <th>mean</th>\n",
       "      <td>1960.114877</td>\n",
       "      <td>7759.233500</td>\n",
       "      <td>52.851484</td>\n",
       "      <td>2.023149e+07</td>\n",
       "      <td>4.807106</td>\n",
       "      <td>189.525802</td>\n",
       "    </tr>\n",
       "    <tr>\n",
       "      <th>std</th>\n",
       "      <td>34.893923</td>\n",
       "      <td>13587.506024</td>\n",
       "      <td>16.849974</td>\n",
       "      <td>8.630455e+07</td>\n",
       "      <td>1.931171</td>\n",
       "      <td>152.436433</td>\n",
       "    </tr>\n",
       "    <tr>\n",
       "      <th>min</th>\n",
       "      <td>1900.000000</td>\n",
       "      <td>312.000000</td>\n",
       "      <td>1.100000</td>\n",
       "      <td>1.640900e+04</td>\n",
       "      <td>0.877000</td>\n",
       "      <td>1.580000</td>\n",
       "    </tr>\n",
       "    <tr>\n",
       "      <th>25%</th>\n",
       "      <td>1930.000000</td>\n",
       "      <td>1385.000000</td>\n",
       "      <td>35.820000</td>\n",
       "      <td>8.617980e+05</td>\n",
       "      <td>2.910000</td>\n",
       "      <td>45.807500</td>\n",
       "    </tr>\n",
       "    <tr>\n",
       "      <th>50%</th>\n",
       "      <td>1960.000000</td>\n",
       "      <td>2915.500000</td>\n",
       "      <td>53.910000</td>\n",
       "      <td>3.561738e+06</td>\n",
       "      <td>5.392000</td>\n",
       "      <td>157.185000</td>\n",
       "    </tr>\n",
       "    <tr>\n",
       "      <th>75%</th>\n",
       "      <td>1990.000000</td>\n",
       "      <td>7885.250000</td>\n",
       "      <td>68.532500</td>\n",
       "      <td>1.054941e+07</td>\n",
       "      <td>6.500000</td>\n",
       "      <td>328.532500</td>\n",
       "    </tr>\n",
       "    <tr>\n",
       "      <th>max</th>\n",
       "      <td>2020.000000</td>\n",
       "      <td>178635.000000</td>\n",
       "      <td>85.290000</td>\n",
       "      <td>1.439324e+09</td>\n",
       "      <td>9.223000</td>\n",
       "      <td>756.290000</td>\n",
       "    </tr>\n",
       "  </tbody>\n",
       "</table>\n",
       "</div>"
      ],
      "text/plain": [
       "               Year         Income  Life expectancy    Population  \\\n",
       "count  22424.000000   22424.000000     22424.000000  2.242400e+04   \n",
       "mean    1960.114877    7759.233500        52.851484  2.023149e+07   \n",
       "std       34.893923   13587.506024        16.849974  8.630455e+07   \n",
       "min     1900.000000     312.000000         1.100000  1.640900e+04   \n",
       "25%     1930.000000    1385.000000        35.820000  8.617980e+05   \n",
       "50%     1960.000000    2915.500000        53.910000  3.561738e+06   \n",
       "75%     1990.000000    7885.250000        68.532500  1.054941e+07   \n",
       "max     2020.000000  178635.000000        85.290000  1.439324e+09   \n",
       "\n",
       "          Fertility  Child mortality  \n",
       "count  22424.000000     22424.000000  \n",
       "mean       4.807106       189.525802  \n",
       "std        1.931171       152.436433  \n",
       "min        0.877000         1.580000  \n",
       "25%        2.910000        45.807500  \n",
       "50%        5.392000       157.185000  \n",
       "75%        6.500000       328.532500  \n",
       "max        9.223000       756.290000  "
      ]
     },
     "execution_count": 6,
     "metadata": {},
     "output_type": "execute_result"
    }
   ],
   "source": [
    "df.describe()"
   ]
  },
  {
   "cell_type": "code",
   "execution_count": 7,
   "id": "9515c150",
   "metadata": {},
   "outputs": [],
   "source": [
    "df_info = pd.read_csv('Gapminder-info.csv', sep=',', index_col=0)"
   ]
  },
  {
   "cell_type": "code",
   "execution_count": 8,
   "id": "c27a468d",
   "metadata": {},
   "outputs": [
    {
     "data": {
      "text/html": [
       "<div>\n",
       "<style scoped>\n",
       "    .dataframe tbody tr th:only-of-type {\n",
       "        vertical-align: middle;\n",
       "    }\n",
       "\n",
       "    .dataframe tbody tr th {\n",
       "        vertical-align: top;\n",
       "    }\n",
       "\n",
       "    .dataframe thead th {\n",
       "        text-align: right;\n",
       "    }\n",
       "</style>\n",
       "<table border=\"1\" class=\"dataframe\">\n",
       "  <thead>\n",
       "    <tr style=\"text-align: right;\">\n",
       "      <th></th>\n",
       "      <th>Min</th>\n",
       "      <th>Max</th>\n",
       "      <th>Mid</th>\n",
       "      <th>LogScale</th>\n",
       "      <th>Meaning</th>\n",
       "    </tr>\n",
       "  </thead>\n",
       "  <tbody>\n",
       "    <tr>\n",
       "      <th>Year</th>\n",
       "      <td>1900</td>\n",
       "      <td>2020</td>\n",
       "      <td>1960</td>\n",
       "      <td>False</td>\n",
       "      <td>NaN</td>\n",
       "    </tr>\n",
       "    <tr>\n",
       "      <th>Income</th>\n",
       "      <td>300</td>\n",
       "      <td>180000</td>\n",
       "      <td>8000</td>\n",
       "      <td>True</td>\n",
       "      <td>Per person (GDP/capita, PPP$ inflation-adjusted)</td>\n",
       "    </tr>\n",
       "    <tr>\n",
       "      <th>Life expectancy</th>\n",
       "      <td>0</td>\n",
       "      <td>90</td>\n",
       "      <td>45</td>\n",
       "      <td>False</td>\n",
       "      <td>Years</td>\n",
       "    </tr>\n",
       "    <tr>\n",
       "      <th>Population</th>\n",
       "      <td>15000</td>\n",
       "      <td>2000000000</td>\n",
       "      <td>5000000</td>\n",
       "      <td>True</td>\n",
       "      <td>Total</td>\n",
       "    </tr>\n",
       "    <tr>\n",
       "      <th>Fertility</th>\n",
       "      <td>0</td>\n",
       "      <td>10</td>\n",
       "      <td>5</td>\n",
       "      <td>False</td>\n",
       "      <td>Babies per woman</td>\n",
       "    </tr>\n",
       "    <tr>\n",
       "      <th>Child mortality</th>\n",
       "      <td>1</td>\n",
       "      <td>800</td>\n",
       "      <td>40</td>\n",
       "      <td>True</td>\n",
       "      <td>0-5 year-olds dying per 1000 born</td>\n",
       "    </tr>\n",
       "  </tbody>\n",
       "</table>\n",
       "</div>"
      ],
      "text/plain": [
       "                   Min         Max      Mid  LogScale  \\\n",
       "Year              1900        2020     1960     False   \n",
       "Income             300      180000     8000      True   \n",
       "Life expectancy      0          90       45     False   \n",
       "Population       15000  2000000000  5000000      True   \n",
       "Fertility            0          10        5     False   \n",
       "Child mortality      1         800       40      True   \n",
       "\n",
       "                                                          Meaning  \n",
       "Year                                                          NaN  \n",
       "Income           Per person (GDP/capita, PPP$ inflation-adjusted)  \n",
       "Life expectancy                                             Years  \n",
       "Population                                                  Total  \n",
       "Fertility                                        Babies per woman  \n",
       "Child mortality                 0-5 year-olds dying per 1000 born  "
      ]
     },
     "execution_count": 8,
     "metadata": {},
     "output_type": "execute_result"
    }
   ],
   "source": [
    "df_info"
   ]
  },
  {
   "cell_type": "code",
   "execution_count": 9,
   "id": "064dda93-71ee-4187-a9b8-80f79129e1d5",
   "metadata": {},
   "outputs": [],
   "source": [
    "df = df.sort_values(['Year', 'Population'], ascending=[True, False])"
   ]
  },
  {
   "cell_type": "code",
   "execution_count": 10,
   "id": "e9a5e6a5-976c-4c24-9290-2fe7f6a3be28",
   "metadata": {},
   "outputs": [
    {
     "data": {
      "text/html": [
       "<div>\n",
       "<style scoped>\n",
       "    .dataframe tbody tr th:only-of-type {\n",
       "        vertical-align: middle;\n",
       "    }\n",
       "\n",
       "    .dataframe tbody tr th {\n",
       "        vertical-align: top;\n",
       "    }\n",
       "\n",
       "    .dataframe thead th {\n",
       "        text-align: right;\n",
       "    }\n",
       "</style>\n",
       "<table border=\"1\" class=\"dataframe\">\n",
       "  <thead>\n",
       "    <tr style=\"text-align: right;\">\n",
       "      <th></th>\n",
       "      <th>Country</th>\n",
       "      <th>Region</th>\n",
       "      <th>Year</th>\n",
       "      <th>Income</th>\n",
       "      <th>Life expectancy</th>\n",
       "      <th>Population</th>\n",
       "      <th>Fertility</th>\n",
       "      <th>Child mortality</th>\n",
       "    </tr>\n",
       "  </thead>\n",
       "  <tbody>\n",
       "    <tr>\n",
       "      <th>4114</th>\n",
       "      <td>China</td>\n",
       "      <td>Asia</td>\n",
       "      <td>1900</td>\n",
       "      <td>776.0</td>\n",
       "      <td>31.98</td>\n",
       "      <td>401579661.0</td>\n",
       "      <td>5.500</td>\n",
       "      <td>416.53</td>\n",
       "    </tr>\n",
       "    <tr>\n",
       "      <th>9025</th>\n",
       "      <td>India</td>\n",
       "      <td>Asia</td>\n",
       "      <td>1900</td>\n",
       "      <td>797.0</td>\n",
       "      <td>18.42</td>\n",
       "      <td>291979136.0</td>\n",
       "      <td>5.726</td>\n",
       "      <td>536.09</td>\n",
       "    </tr>\n",
       "    <tr>\n",
       "      <th>21335</th>\n",
       "      <td>United States</td>\n",
       "      <td>Americas</td>\n",
       "      <td>1900</td>\n",
       "      <td>6252.0</td>\n",
       "      <td>48.95</td>\n",
       "      <td>78763706.0</td>\n",
       "      <td>3.853</td>\n",
       "      <td>231.70</td>\n",
       "    </tr>\n",
       "    <tr>\n",
       "      <th>16381</th>\n",
       "      <td>Russia</td>\n",
       "      <td>Europe</td>\n",
       "      <td>1900</td>\n",
       "      <td>3087.0</td>\n",
       "      <td>30.75</td>\n",
       "      <td>64946671.0</td>\n",
       "      <td>7.360</td>\n",
       "      <td>409.33</td>\n",
       "    </tr>\n",
       "    <tr>\n",
       "      <th>7502</th>\n",
       "      <td>Germany</td>\n",
       "      <td>Europe</td>\n",
       "      <td>1900</td>\n",
       "      <td>6029.0</td>\n",
       "      <td>43.94</td>\n",
       "      <td>55185341.0</td>\n",
       "      <td>4.932</td>\n",
       "      <td>372.17</td>\n",
       "    </tr>\n",
       "  </tbody>\n",
       "</table>\n",
       "</div>"
      ],
      "text/plain": [
       "             Country    Region  Year  Income  Life expectancy   Population  \\\n",
       "4114           China      Asia  1900   776.0            31.98  401579661.0   \n",
       "9025           India      Asia  1900   797.0            18.42  291979136.0   \n",
       "21335  United States  Americas  1900  6252.0            48.95   78763706.0   \n",
       "16381         Russia    Europe  1900  3087.0            30.75   64946671.0   \n",
       "7502         Germany    Europe  1900  6029.0            43.94   55185341.0   \n",
       "\n",
       "       Fertility  Child mortality  \n",
       "4114       5.500           416.53  \n",
       "9025       5.726           536.09  \n",
       "21335      3.853           231.70  \n",
       "16381      7.360           409.33  \n",
       "7502       4.932           372.17  "
      ]
     },
     "execution_count": 10,
     "metadata": {},
     "output_type": "execute_result"
    }
   ],
   "source": [
    "df.head()"
   ]
  },
  {
   "cell_type": "markdown",
   "id": "d096bd8f",
   "metadata": {},
   "source": [
    "## Create the bubble chart"
   ]
  },
  {
   "cell_type": "code",
   "execution_count": 11,
   "id": "bc418cc2-2653-4c33-a127-99eedf742904",
   "metadata": {},
   "outputs": [],
   "source": [
    "#how do you get these?\n",
    "color_map = dict(\n",
    "    Asia='#ff798e', \n",
    "    Europe='#ffeb33', \n",
    "    Africa='#33dded',\n",
    "    Americas='#98ef33'\n",
    ")\n",
    "marker_dict = dict(\n",
    "    opacity=0.8,\n",
    "    line=dict(\n",
    "        color='black',\n",
    "        width=0.8\n",
    "    )\n",
    ")\n",
    "layout_dict = dict(\n",
    "    plot_bgcolor='white',\n",
    "    font=dict(color='dimgray')\n",
    ")\n",
    "axes_dict = dict(\n",
    "    gridcolor='lightgray',\n",
    "    showline=True,\n",
    "    linecolor='dimgray',\n",
    "    linewidth=1,\n",
    "    showspikes=True, #dashed lines from point center to axis (default True)\n",
    "    spikethickness=1,\n",
    "    spikecolor='dimgray'\n",
    ")"
   ]
  },
  {
   "cell_type": "code",
   "execution_count": 12,
   "id": "872e455c",
   "metadata": {},
   "outputs": [
    {
     "data": {
      "application/vnd.plotly.v1+json": {
       "config": {
        "plotlyServerURL": "https://plot.ly"
       },
       "data": [
        {
         "customdata": [
          [
           "China",
           "Asia",
           2020,
           1439323774,
           1.707,
           8.09
          ],
          [
           "India",
           "Asia",
           2020,
           1380004385,
           2.307,
           33.93
          ],
          [
           "Indonesia",
           "Asia",
           2020,
           273523621,
           2.166,
           23.32
          ],
          [
           "Pakistan",
           "Asia",
           2020,
           220892331,
           2.76,
           66.63
          ],
          [
           "Bangladesh",
           "Asia",
           2020,
           164689383,
           1.981,
           27.7
          ],
          [
           "Japan",
           "Asia",
           2020,
           126476458,
           1.508,
           2.34
          ],
          [
           "Philippines",
           "Asia",
           2020,
           109581085,
           2.814,
           27.2
          ],
          [
           "Vietnam",
           "Asia",
           2020,
           97338583,
           1.638,
           20.04
          ],
          [
           "Iran",
           "Asia",
           2020,
           83992953,
           1.872,
           13.38
          ],
          [
           "Thailand",
           "Asia",
           2020,
           69799978,
           1.366,
           8.49
          ],
          [
           "Myanmar",
           "Asia",
           2020,
           54409794,
           1.816,
           43.64
          ],
          [
           "South Korea",
           "Asia",
           2020,
           51269183,
           1.426,
           2.91
          ],
          [
           "Iraq",
           "Asia",
           2020,
           40222503,
           3.643,
           25.11
          ],
          [
           "Afghanistan",
           "Asia",
           2020,
           38928341,
           3.639,
           58.08
          ],
          [
           "Saudi Arabia",
           "Asia",
           2020,
           34813867,
           2.329,
           6.49
          ],
          [
           "Uzbekistan",
           "Asia",
           2020,
           33469199,
           2.123,
           20.34
          ],
          [
           "Malaysia",
           "Asia",
           2020,
           32365998,
           1.875,
           7.38
          ],
          [
           "Yemen",
           "Asia",
           2020,
           29825968,
           3.34,
           54.58
          ],
          [
           "Nepal",
           "Asia",
           2020,
           29136808,
           2.026,
           29.79
          ],
          [
           "North Korea",
           "Asia",
           2020,
           25778815,
           1.919,
           16.69
          ],
          [
           "Australia",
           "Asia",
           2020,
           25499881,
           1.87,
           3.5
          ],
          [
           "Sri Lanka",
           "Asia",
           2020,
           21413250,
           2.203,
           6.97
          ],
          [
           "Kazakhstan",
           "Asia",
           2020,
           18776707,
           2.322,
           8.86
          ],
          [
           "Syria",
           "Asia",
           2020,
           17500657,
           2.64,
           14.78
          ],
          [
           "Cambodia",
           "Asia",
           2020,
           16718971,
           2.639,
           25.94
          ],
          [
           "Jordan",
           "Asia",
           2020,
           10203140,
           2.859,
           15.29
          ],
          [
           "United Arab Emirates",
           "Asia",
           2020,
           9890400,
           1.688,
           7.16
          ],
          [
           "Tajikistan",
           "Asia",
           2020,
           9537642,
           3.484,
           32.46
          ],
          [
           "Papua New Guinea",
           "Asia",
           2020,
           8947027,
           3.43,
           45.16
          ],
          [
           "Israel",
           "Asia",
           2020,
           8655541,
           2.74,
           3.45
          ],
          [
           "Hong Kong, China",
           "Asia",
           2020,
           7496988,
           1.253,
           1.97
          ],
          [
           "Lao",
           "Asia",
           2020,
           7275556,
           2.592,
           43.9
          ],
          [
           "Lebanon",
           "Asia",
           2020,
           6825442,
           1.474,
           7.32
          ],
          [
           "Kyrgyz Republic",
           "Asia",
           2020,
           6524191,
           2.824,
           17.82
          ],
          [
           "Turkmenistan",
           "Asia",
           2020,
           6031187,
           2.155,
           44.36
          ],
          [
           "Singapore",
           "Asia",
           2020,
           5850343,
           1.317,
           2.61
          ],
          [
           "Oman",
           "Asia",
           2020,
           5106622,
           2.397,
           10.43
          ],
          [
           "Palestine",
           "Asia",
           2020,
           5101416,
           3.58,
           19.42
          ],
          [
           "New Zealand",
           "Asia",
           2020,
           4822233,
           1.961,
           5.54
          ],
          [
           "Kuwait",
           "Asia",
           2020,
           4270563,
           2.468,
           7.42
          ],
          [
           "Mongolia",
           "Asia",
           2020,
           3278292,
           2.287,
           15.06
          ],
          [
           "Qatar",
           "Asia",
           2020,
           2881060,
           1.871,
           6.49
          ],
          [
           "Bahrain",
           "Asia",
           2020,
           1701583,
           1.924,
           6.69
          ],
          [
           "Timor-Leste",
           "Asia",
           2020,
           1318442,
           5.008,
           42.69
          ],
          [
           "Fiji",
           "Asia",
           2020,
           896444,
           2.412,
           24.8
          ],
          [
           "Bhutan",
           "Asia",
           2020,
           771612,
           1.985,
           27.36
          ],
          [
           "Solomon Islands",
           "Asia",
           2020,
           686878,
           3.63,
           19.02
          ],
          [
           "Maldives",
           "Asia",
           2020,
           540542,
           1.977,
           7.87
          ],
          [
           "Brunei",
           "Asia",
           2020,
           437483,
           1.878,
           11.05
          ],
          [
           "Vanuatu",
           "Asia",
           2020,
           307150,
           3.125,
           24.91
          ],
          [
           "Samoa",
           "Asia",
           2020,
           198410,
           3.773,
           14.94
          ],
          [
           "Kiribati",
           "Asia",
           2020,
           119446,
           2.745,
           49.51
          ],
          [
           "Micronesia, Fed. Sts.",
           "Asia",
           2020,
           115021,
           2.971,
           29.3
          ],
          [
           "Tonga",
           "Asia",
           2020,
           105697,
           3.467,
           14.81
          ]
         ],
         "hovertemplate": "<b>%{hovertext}</b><br><br><extra></extra>",
         "hovertext": [
          "China",
          "India",
          "Indonesia",
          "Pakistan",
          "Bangladesh",
          "Japan",
          "Philippines",
          "Vietnam",
          "Iran",
          "Thailand",
          "Myanmar",
          "South Korea",
          "Iraq",
          "Afghanistan",
          "Saudi Arabia",
          "Uzbekistan",
          "Malaysia",
          "Yemen",
          "Nepal",
          "North Korea",
          "Australia",
          "Sri Lanka",
          "Kazakhstan",
          "Syria",
          "Cambodia",
          "Jordan",
          "United Arab Emirates",
          "Tajikistan",
          "Papua New Guinea",
          "Israel",
          "Hong Kong, China",
          "Lao",
          "Lebanon",
          "Kyrgyz Republic",
          "Turkmenistan",
          "Singapore",
          "Oman",
          "Palestine",
          "New Zealand",
          "Kuwait",
          "Mongolia",
          "Qatar",
          "Bahrain",
          "Timor-Leste",
          "Fiji",
          "Bhutan",
          "Solomon Islands",
          "Maldives",
          "Brunei",
          "Vanuatu",
          "Samoa",
          "Kiribati",
          "Micronesia, Fed. Sts.",
          "Tonga"
         ],
         "legendgroup": "Asia",
         "marker": {
          "color": "#ff798e",
          "line": {
           "color": "black",
           "width": 0.8
          },
          "opacity": 0.8,
          "size": {
           "bdata": "AACAn5Vy1UEAAECITJDUQQAAAKWjTbBBAAAAVhlVqkEAAADO66GjQQAAAKiCJ55BAAAAdEwgmkEAAABcEzWXQQAAAOSFBpRBAAAAqECkkEEAAAAQ0vGJQQAAAPhxcohBAAAAOPktg0EAAACo/o+CQQAAAFi9mYBBAAAA8DDrf0EAAADg2t1+QQAAAAC7cXxBAAAAgHrJe0EAAADwp5V4QQAAAJCOUXhBAAAAINhrdEEAAAAwKOhxQQAAABCfsHBBAAAAYI/jb0EAAACAAHZjQQAAAABM3WJBAAAAQA0xYkEAAABgqhBhQQAAAKBWgmBBAAAAAEeZXEEAAAAACcFbQQAAAIB4CVpBAAAAwEfjWEEAAADA1AFXQQAAAMA5UVZBAAAAgO96U0EAAAAA2nVTQQAAAEA2ZVJBAAAAwHhKUEEAAAAA6gJJQQAAAAAS+0VBAAAAAM/2OUEAAAAAKh40QQAAAAB4WytBAAAAADiMJ0EAAAAAPPYkQQAAAAD8fiBBAAAAAKyzGkEAAAAAOL8SQQAAAABQOAhBAAAAAGAp/UAAAAAA0BT8QAAAAAAQzvlA",
           "dtype": "f8"
          },
          "sizemode": "area",
          "sizeref": 399812.15944444446,
          "symbol": "circle"
         },
         "mode": "markers",
         "name": "Asia",
         "orientation": "v",
         "showlegend": true,
         "type": "scatter",
         "x": {
          "bdata": "AAAAAMCj0UAAAAAAANK9QAAAAAAAfchAAAAAAACcs0AAAAAAADGxQAAAAADAj+NAAAAAAIDewEAAAAAAALm8QAAAAAAAHM9AAAAAAIBv0UAAAAAAANe5QAAAAAAgkOJAAAAAAABCz0AAAAAAACCcQAAAAABAiedAAAAAAACDukAAAAAAwEPdQAAAAAAAMqJAAAAAAACWp0AAAAAAAMiaQAAAAACgXOZAAAAAAABHyEAAAAAAgGTZQAAAAAAAwqZAAAAAAADDsEAAAAAAAHrAQAAAAABA4+9AAAAAAAA4qUAAAAAAANquQAAAAABgz+BAAAAAACDx60AAAAAAAHe8QAAAAAAAMcdAAAAAAAC8q0AAAAAAgAvSQAAAAACgFvZAAAAAAGCQ4UAAAAAAAEuyQAAAAACg7uFAAAAAAABk70AAAAAAgMXJQAAAAAAgXPxAAAAAAKCC5EAAAAAAAF27QAAAAACA/MNAAAAAAAABxEAAAAAAAOygQAAAAAAACM1AAAAAANBS8kAAAAAAALymQAAAAAAAOLlAAAAAAAAYoEAAAAAAAHipQAAAAAAA8bdA",
          "dtype": "f8"
         },
         "xaxis": "x",
         "y": {
          "bdata": "zczMzMxsU0Bcj8L1KGxRQGZmZmZmBlJAhetRuB7VUEBcj8L1KHxSQArXo3A9KlVAuB6F61GIUUBSuB6F67FSQD0K16NwfVNAUrgeheuxU0CF61G4HlVRQArXo3A9ylRArkfhehROU0AK16NwPRpQQOF6FK5HUVNApHA9CtezUUDNzMzMzMxSQArXo3A9ClFAhetRuB71UUDD9ShcjyJSQGZmZmZmtlRArkfhehR+U0AUrkfhekRSQOxRuB6FG1JAmpmZmZmpUUCuR+F6FO5TQOF6FK5HcVJArkfhehS+UUAzMzMzM5NNQOxRuB6F21RAZmZmZmYmVUBSuB6F6yFRQClcj8L1iFNASOF6FK5HUkCuR+F6FJ5RQMP1KFyPUlVAUrgehetxU0D2KFyPwlVTQBSuR+F6hFRA7FG4HoXbVECPwvUoXF9RQPYoXI/CJVRAKVyPwvX4U0BSuB6F6+FRQClcj8L1GFFAw/UoXI/CUkCPwvUoXD9RQEjhehSul1RAcT0K16PwUkC4HoXrUUhQQFK4HoXrUVJArkfhehSOT0D2KFyPwuVQQPYoXI/CBVJA",
          "dtype": "f8"
         },
         "yaxis": "y"
        },
        {
         "customdata": [
          [
           "United States",
           "Americas",
           2020,
           331002647,
           1.978,
           6.62
          ],
          [
           "Brazil",
           "Americas",
           2020,
           212559409,
           1.726,
           13.47
          ],
          [
           "Mexico",
           "Americas",
           2020,
           128932753,
           1.997,
           12.33
          ],
          [
           "Colombia",
           "Americas",
           2020,
           50882884,
           2.11,
           13.48
          ],
          [
           "Argentina",
           "Americas",
           2020,
           45195777,
           2.089,
           9.4
          ],
          [
           "Canada",
           "Americas",
           2020,
           37742157,
           1.721,
           4.89
          ],
          [
           "Peru",
           "Americas",
           2020,
           32971846,
           2.229,
           13.51
          ],
          [
           "Venezuela",
           "Americas",
           2020,
           28435943,
           2.22,
           25.54
          ],
          [
           "Chile",
           "Americas",
           2020,
           19116209,
           1.776,
           6.86
          ],
          [
           "Guatemala",
           "Americas",
           2020,
           17915567,
           3.385,
           24.26
          ],
          [
           "Ecuador",
           "Americas",
           2020,
           17643060,
           2.364,
           13.5
          ],
          [
           "Bolivia",
           "Americas",
           2020,
           11673029,
           2.943,
           25.44
          ],
          [
           "Haiti",
           "Americas",
           2020,
           11402533,
           2.776,
           61.56
          ],
          [
           "Cuba",
           "Americas",
           2020,
           11326616,
           1.468,
           4.82
          ],
          [
           "Dominican Republic",
           "Americas",
           2020,
           10847904,
           2.28,
           27.67
          ],
          [
           "Honduras",
           "Americas",
           2020,
           9904608,
           2.701,
           16.64
          ],
          [
           "Paraguay",
           "Americas",
           2020,
           7132530,
           2.646,
           19.44
          ],
          [
           "Nicaragua",
           "Americas",
           2020,
           6624554,
           2.258,
           17.34
          ],
          [
           "El Salvador",
           "Americas",
           2020,
           6486201,
           2.024,
           12.63
          ],
          [
           "Costa Rica",
           "Americas",
           2020,
           5094114,
           1.703,
           8.19
          ],
          [
           "Panama",
           "Americas",
           2020,
           4314768,
           2.305,
           14.62
          ],
          [
           "Uruguay",
           "Americas",
           2020,
           3473727,
           1.983,
           7.2
          ],
          [
           "Jamaica",
           "Americas",
           2020,
           2961161,
           2.111,
           13.79
          ],
          [
           "Trinidad and Tobago",
           "Americas",
           2020,
           1399491,
           1.79,
           17.51
          ],
          [
           "Guyana",
           "Americas",
           2020,
           786559,
           2.332,
           28.68
          ],
          [
           "Suriname",
           "Americas",
           2020,
           586634,
           2.11,
           17.91
          ],
          [
           "Belize",
           "Americas",
           2020,
           397621,
           2.437,
           12.37
          ],
          [
           "Bahamas",
           "Americas",
           2020,
           393248,
           1.861,
           9.62
          ],
          [
           "Barbados",
           "Americas",
           2020,
           287371,
           1.868,
           11.66
          ],
          [
           "St. Lucia",
           "Americas",
           2020,
           183629,
           1.781,
           15.89
          ],
          [
           "Grenada",
           "Americas",
           2020,
           112519,
           2.025,
           15.16
          ],
          [
           "St. Vincent and the Grenadines",
           "Americas",
           2020,
           110947,
           1.858,
           15.54
          ],
          [
           "Antigua and Barbuda",
           "Americas",
           2020,
           97928,
           2.008,
           6.09
          ]
         ],
         "hovertemplate": "<b>%{hovertext}</b><br><br><extra></extra>",
         "hovertext": [
          "United States",
          "Brazil",
          "Mexico",
          "Colombia",
          "Argentina",
          "Canada",
          "Peru",
          "Venezuela",
          "Chile",
          "Guatemala",
          "Ecuador",
          "Bolivia",
          "Haiti",
          "Cuba",
          "Dominican Republic",
          "Honduras",
          "Paraguay",
          "Nicaragua",
          "El Salvador",
          "Costa Rica",
          "Panama",
          "Uruguay",
          "Jamaica",
          "Trinidad and Tobago",
          "Guyana",
          "Suriname",
          "Belize",
          "Bahamas",
          "Barbados",
          "St. Lucia",
          "Grenada",
          "St. Vincent and the Grenadines",
          "Antigua and Barbuda"
         ],
         "legendgroup": "Americas",
         "marker": {
          "color": "#98ef33",
          "line": {
           "color": "black",
           "width": 0.8
          },
          "opacity": 0.8,
          "size": {
           "bdata": "AAAAF7O6s0EAAABizFapQQAAAERuvZ5BAAAAIEpDiEEAAAAIEI2FQQAAAGgy/4FBAAAAYMRxf0EAAABwXh57QQAAABALO3JBAAAA8OoVcUEAAABAY9NwQQAAAKC4Q2ZBAAAAoKS/ZUEAAAAAk5plQQAAAADUsGRBAAAAADzkYkEAAACAXDVbQQAAAIBKRVlBAAAAQC6+WEEAAACAuG5TQQAAAACkdVBBAAAAgJ+ASkEAAACAhJdGQQAAAADDWjVBAAAAAP4AKEEAAAAAFOchQQAAAADURBhBAAAAAIAAGEEAAAAALIoRQQAAAABoagZBAAAAAHB4+0AAAAAAMBb7QAAAAACA6PdA",
           "dtype": "f8"
          },
          "sizemode": "area",
          "sizeref": 399812.15944444446,
          "symbol": "circle"
         },
         "mode": "markers",
         "name": "Americas",
         "orientation": "v",
         "showlegend": true,
         "type": "scatter",
         "x": {
          "bdata": "AAAAAEAX7EAAAAAAgFLMQAAAAACApdFAAAAAAABSy0AAAAAAwLbQQAAAAACgvuVAAAAAAIAHykAAAAAAAK/BQAAAAADAu9ZAAAAAAAAnvkAAAAAAAMXDQAAAAAAAlLxAAAAAAACcmUAAAAAAAFnAQAAAAADAu9BAAAAAAABsskAAAAAAABPIQAAAAAAAsrFAAAAAAAC7vUAAAAAAAFbPQAAAAACAr9dAAAAAAMDU1EAAAAAAAE7AQAAAAADAJNxAAAAAAAADwEAAAAAAgIXLQAAAAAAAYr5AAAAAAECi20AAAAAAQE7QQAAAAAAA8shAAAAAAACmzEAAAAAAgFPGQAAAAADAa9hA",
          "dtype": "f8"
         },
         "xaxis": "x",
         "y": {
          "bdata": "uB6F61GoU0ApXI/C9QhTQD0K16Nw7VJAexSuR+EqVEBmZmZmZkZTQBSuR+F6lFRAcT0K16NAVEBmZmZmZsZSQEjhehSuB1RAhetRuB5VUkBI4XoUrldTQGZmZmZmZlJAAAAAAACAUEApXI/C9ahTQJqZmZmZaVJA4XoUrkehUkAAAAAAACBTQK5H4XoU3lNA7FG4HoWrUkDhehSuRwFUQIXrUbge9VNArkfhehReU0AfhetRuL5SQLgehetRqFJAZmZmZmZmUUApXI/C9RhSQDMzMzMzo1JAH4XrUbiOUkDNzMzMzFxTQK5H4XoU/lJAmpmZmZmJUkCamZmZmSlSQArXo3A9WlNA",
          "dtype": "f8"
         },
         "yaxis": "y"
        },
        {
         "customdata": [
          [
           "Nigeria",
           "Africa",
           2020,
           206139587,
           5.583,
           113.6
          ],
          [
           "Ethiopia",
           "Africa",
           2020,
           114963583,
           3.746,
           50.79
          ],
          [
           "Egypt",
           "Africa",
           2020,
           102334403,
           2.549,
           19.82
          ],
          [
           "Congo, Dem. Rep.",
           "Africa",
           2020,
           89561404,
           5.223,
           84.53
          ],
          [
           "Tanzania",
           "Africa",
           2020,
           59734213,
           4.749,
           49.5
          ],
          [
           "South Africa",
           "Africa",
           2020,
           59308690,
           2.225,
           32.09
          ],
          [
           "Kenya",
           "Africa",
           2020,
           53771300,
           3.925,
           38.55
          ],
          [
           "Uganda",
           "Africa",
           2020,
           45741000,
           5.204,
           43.02
          ],
          [
           "Algeria",
           "Africa",
           2020,
           43851043,
           2.437,
           22.18
          ],
          [
           "Sudan",
           "Africa",
           2020,
           43849269,
           3.966,
           57.77
          ],
          [
           "Morocco",
           "Africa",
           2020,
           36910558,
           2.476,
           20.61
          ],
          [
           "Angola",
           "Africa",
           2020,
           32866268,
           5.181,
           72.29
          ],
          [
           "Mozambique",
           "Africa",
           2020,
           31255435,
           4.684,
           68.1
          ],
          [
           "Ghana",
           "Africa",
           2020,
           31072945,
           3.465,
           44.79
          ],
          [
           "Madagascar",
           "Africa",
           2020,
           27691019,
           4.072,
           48.71
          ],
          [
           "Cameroon",
           "Africa",
           2020,
           26545864,
           4.279,
           72.03
          ],
          [
           "Cote d'Ivoire",
           "Africa",
           2020,
           26378275,
           4.401,
           77.06
          ],
          [
           "Niger",
           "Africa",
           2020,
           24206636,
           7.294,
           77.7
          ],
          [
           "Burkina Faso",
           "Africa",
           2020,
           20903278,
           5.009,
           71.52
          ],
          [
           "Mali",
           "Africa",
           2020,
           20250834,
           6.576,
           92.36
          ],
          [
           "Malawi",
           "Africa",
           2020,
           19129955,
           4.873,
           45.07
          ],
          [
           "Zambia",
           "Africa",
           2020,
           18383956,
           5.331,
           54.5
          ],
          [
           "Senegal",
           "Africa",
           2020,
           16743930,
           4.457,
           40.34
          ],
          [
           "Chad",
           "Africa",
           2020,
           16425859,
           5.506,
           114.49
          ],
          [
           "Somalia",
           "Africa",
           2020,
           15893219,
           5.847,
           116.52
          ],
          [
           "Zimbabwe",
           "Africa",
           2020,
           14862927,
           3.071,
           43.06
          ],
          [
           "Guinea",
           "Africa",
           2020,
           13132792,
           4.354,
           94.26
          ],
          [
           "Rwanda",
           "Africa",
           2020,
           12952209,
           3.89,
           32.03
          ],
          [
           "Benin",
           "Africa",
           2020,
           12123198,
           4.314,
           88.76
          ],
          [
           "Burundi",
           "Africa",
           2020,
           11890781,
           5.423,
           55.11
          ],
          [
           "Tunisia",
           "Africa",
           2020,
           11818618,
           1.872,
           15.94
          ],
          [
           "South Sudan",
           "Africa",
           2020,
           11193729,
           4.337,
           96.28
          ],
          [
           "Togo",
           "Africa",
           2020,
           8278737,
           4.166,
           66.2
          ],
          [
           "Sierra Leone",
           "Africa",
           2020,
           7976985,
           4.191,
           99.03
          ],
          [
           "Libya",
           "Africa",
           2020,
           6871287,
           2.05,
           11.23
          ],
          [
           "Congo, Rep.",
           "Africa",
           2020,
           5518092,
           4.543,
           47.48
          ],
          [
           "Liberia",
           "Africa",
           2020,
           5057677,
           4.294,
           67.14
          ],
          [
           "Central African Republic",
           "Africa",
           2020,
           4829764,
           3.799,
           110.05
          ],
          [
           "Mauritania",
           "Africa",
           2020,
           4649660,
           4.241,
           72.14
          ],
          [
           "Eritrea",
           "Africa",
           2020,
           3546427,
           4.09,
           37.75
          ],
          [
           "Namibia",
           "Africa",
           2020,
           2540916,
           2.723,
           36.81
          ],
          [
           "Gambia",
           "Africa",
           2020,
           2416664,
           5.38,
           55.1
          ],
          [
           "Botswana",
           "Africa",
           2020,
           2351625,
           2.36,
           34.8
          ],
          [
           "Gabon",
           "Africa",
           2020,
           2225728,
           3.643,
           42.36
          ],
          [
           "Lesotho",
           "Africa",
           2020,
           2142252,
           2.714,
           75.69
          ],
          [
           "Guinea-Bissau",
           "Africa",
           2020,
           1967998,
           4.498,
           77.08
          ],
          [
           "Equatorial Guinea",
           "Africa",
           2020,
           1402985,
           4.172,
           81.03
          ],
          [
           "Mauritius",
           "Africa",
           2020,
           1271767,
           1.508,
           14.75
          ],
          [
           "Eswatini",
           "Africa",
           2020,
           1160164,
           2.931,
           50.85
          ],
          [
           "Djibouti",
           "Africa",
           2020,
           988002,
           2.977,
           52.9
          ],
          [
           "Comoros",
           "Africa",
           2020,
           869595,
           4.288,
           64.85
          ],
          [
           "Cape Verde",
           "Africa",
           2020,
           555988,
           2.066,
           18.09
          ],
          [
           "Sao Tome and Principe",
           "Africa",
           2020,
           219161,
           3.655,
           29.29
          ],
          [
           "Seychelles",
           "Africa",
           2020,
           98340,
           2.039,
           13.96
          ]
         ],
         "hovertemplate": "<b>%{hovertext}</b><br><br><extra></extra>",
         "hovertext": [
          "Nigeria",
          "Ethiopia",
          "Egypt",
          "Congo, Dem. Rep.",
          "Tanzania",
          "South Africa",
          "Kenya",
          "Uganda",
          "Algeria",
          "Sudan",
          "Morocco",
          "Angola",
          "Mozambique",
          "Ghana",
          "Madagascar",
          "Cameroon",
          "Cote d'Ivoire",
          "Niger",
          "Burkina Faso",
          "Mali",
          "Malawi",
          "Zambia",
          "Senegal",
          "Chad",
          "Somalia",
          "Zimbabwe",
          "Guinea",
          "Rwanda",
          "Benin",
          "Burundi",
          "Tunisia",
          "South Sudan",
          "Togo",
          "Sierra Leone",
          "Libya",
          "Congo, Rep.",
          "Liberia",
          "Central African Republic",
          "Mauritania",
          "Eritrea",
          "Namibia",
          "Gambia",
          "Botswana",
          "Gabon",
          "Lesotho",
          "Guinea-Bissau",
          "Equatorial Guinea",
          "Mauritius",
          "Eswatini",
          "Djibouti",
          "Comoros",
          "Cape Verde",
          "Sao Tome and Principe",
          "Seychelles"
         ],
         "legendgroup": "Africa",
         "marker": {
          "color": "#33dded",
          "line": {
           "color": "black",
           "width": 0.8
          },
          "opacity": 0.8,
          "size": {
           "bdata": "AAAAhuGSqEEAAAD80WibQQAAAAz/ZZhBAAAA8GRalUEAAAAoxnuMQQAAAJDUR4xBAAAAIOGjiUEAAABAns+FQQAAABjp6IRBAAAAqLHohEEAAADwrpmBQQAAAMD9V39BAAAAsLjOfUEAAAAQK6J9QQAAALCAaHpBAAAAgOxQeUEAAAAwAih5QQAAAMDSFXdBAAAA4Fbvc0EAAAAgDVBzQQAAADBmPnJBAAAAQEWIcUEAAABAv+9vQQAAAGBwVG9BAAAAYFxQbkEAAADgSVlsQQAAAAB/DGlBAAAAIFK0aEEAAADAhx9nQQAAAKALrmZBAAAAQM+KZkEAAAAgsFllQQAAAEC0lF9BAAAAQAZuXkEAAADAPTZaQQAAAADDDFVBAAAAQCNLU0EAAAAAkWxSQQAAAACvvFFBAAAAgJ0OS0EAAAAAumJDQQAAAAAMcEJBAAAAgATxQUEAAAAAIPtAQQAAAAAWWEBBAAAAAH4HPkEAAAAAaWg1QQAAAADXZzNBAAAAAOSzMUEAAAAAxCYuQQAAAAC2iSpBAAAAAKj3IEEAAAAAyMAKQQAAAABAAvhA",
           "dtype": "f8"
          },
          "sizemode": "area",
          "sizeref": 399812.15944444446,
          "symbol": "circle"
         },
         "mode": "markers",
         "name": "Africa",
         "orientation": "v",
         "showlegend": true,
         "type": "scatter",
         "x": {
          "bdata": "AAAAAACxtEAAAAAAAEifQAAAAAAA9sZAAAAAAABoikAAAAAAAOKnQAAAAAAAacdAAAAAAAB+qUAAAAAAAPydQAAAAAAAbMtAAAAAAAC7sUAAAAAAACm/QAAAAAAARLVAAAAAAADgkkAAAAAAAO6xQAAAAAAA0JdAAAAAAAAAq0AAAAAAAPSvQAAAAAAAcI5AAAAAAAAUnUAAAAAAALSgQAAAAAAA3JJAAAAAAACGrEAAAAAAABCsQAAAAAAABJxAAAAAAADIg0AAAAAAANiiQAAAAAAAgqNAAAAAAABqoUAAAAAAABSiQAAAAAAAoINAAAAAAIASxkAAAAAAAGyeQAAAAAAAxJlAAAAAAABsl0AAAAAAAITMQAAAAAAA9rNAAAAAAACYkUAAAAAAAIiJQAAAAAAAcq9AAAAAAAAslkAAAAAAAODCQAAAAAAAUJlAAAAAAIDJ0EAAAAAAQB/QQAAAAAAAqKZAAAAAAAA0mkAAAAAAQD/RQAAAAADAINZAAAAAAICRwkAAAAAAAPysQAAAAAAAqKNAAAAAAAAAvEAAAAAAAByoQAAAAAAAzttA",
          "dtype": "f8"
         },
         "xaxis": "x",
         "y": {
          "bdata": "uB6F61FoUEBxPQrXo2BRQLgehetRyFFAzczMzMysT0DXo3A9CgdRQFyPwvUozFBAXI/C9Si8UECuR+F6FL5QQKRwPQrXk1NAcT0K16PAUUApXI/C9ahSQNejcD0KV1BAUrgehesxTkAK16NwPZpQQMP1KFyPIlBA7FG4HoULUEDXo3A9CtdPQClcj8L1yE9AFK5H4Xp0T0DD9Shcj6JPQLgehetRKFBAZmZmZmYWUEApXI/C9ThRQPYoXI/CdU5AhetRuB7FTUCF61G4HiVPQD0K16Nw/U5AzczMzMxcUUCF61G4HmVQQArXo3A9Sk9A7FG4HoW7U0AAAAAAAABOQFK4HoXrUVBAPQrXo3DdTkDhehSuR2FSQD0K16NwvU9AMzMzMzNjUEBmZmZmZqZKQAAAAAAA0FFA4XoUrkfhT0AUrkfheuRQQFK4HoXrsVBAMzMzMzODUUBSuB6F61FRQK5H4XoUTkxAH4XrUbh+TkApXI/C9ahQQArXo3A9ylJArkfhehQuT0AfhetRuD5RQMP1KFyPUlFAKVyPwvUYU0CPwvUoXN9QQIXrUbgedVJA",
          "dtype": "f8"
         },
         "yaxis": "y"
        },
        {
         "customdata": [
          [
           "Russia",
           "Europe",
           2020,
           145934460,
           1.63,
           6.52
          ],
          [
           "Turkey",
           "Europe",
           2020,
           84339067,
           1.922,
           9.73
          ],
          [
           "Germany",
           "Europe",
           2020,
           83783945,
           1.483,
           3.24
          ],
          [
           "United Kingdom",
           "Europe",
           2020,
           67886004,
           1.89,
           4.21
          ],
          [
           "France",
           "Europe",
           2020,
           65273512,
           1.982,
           3.83
          ],
          [
           "Italy",
           "Europe",
           2020,
           60461828,
           1.585,
           2.83
          ],
          [
           "Spain",
           "Europe",
           2020,
           46754783,
           1.598,
           2.84
          ],
          [
           "Ukraine",
           "Europe",
           2020,
           43733759,
           1.546,
           8.18
          ],
          [
           "Poland",
           "Europe",
           2020,
           37846605,
           1.505,
           4.13
          ],
          [
           "Romania",
           "Europe",
           2020,
           19237682,
           1.507,
           6.87
          ],
          [
           "Netherlands",
           "Europe",
           2020,
           17134873,
           1.802,
           3.53
          ],
          [
           "Belgium",
           "Europe",
           2020,
           11589616,
           1.88,
           3.38
          ],
          [
           "Czech Republic",
           "Europe",
           2020,
           10708982,
           1.681,
           3.21
          ],
          [
           "Greece",
           "Europe",
           2020,
           10423056,
           1.593,
           4.31
          ],
          [
           "Portugal",
           "Europe",
           2020,
           10196707,
           1.348,
           3.46
          ],
          [
           "Azerbaijan",
           "Europe",
           2020,
           10139175,
           1.83,
           20.13
          ],
          [
           "Sweden",
           "Europe",
           2020,
           10099270,
           1.947,
           2.53
          ],
          [
           "Hungary",
           "Europe",
           2020,
           9660350,
           1.5,
           3.99
          ],
          [
           "Belarus",
           "Europe",
           2020,
           9449321,
           1.566,
           3.26
          ],
          [
           "Austria",
           "Europe",
           2020,
           9006400,
           1.55,
           3.21
          ],
          [
           "Serbia",
           "Europe",
           2020,
           8737370,
           1.398,
           5.16
          ],
          [
           "Switzerland",
           "Europe",
           2020,
           8654618,
           1.599,
           3.91
          ],
          [
           "Bulgaria",
           "Europe",
           2020,
           6948445,
           1.645,
           6.53
          ],
          [
           "Denmark",
           "Europe",
           2020,
           5792203,
           1.899,
           3.97
          ],
          [
           "Finland",
           "Europe",
           2020,
           5540718,
           1.862,
           1.58
          ],
          [
           "Slovak Republic",
           "Europe",
           2020,
           5459643,
           1.488,
           5.27
          ],
          [
           "Norway",
           "Europe",
           2020,
           5421242,
           1.931,
           2.36
          ],
          [
           "Ireland",
           "Europe",
           2020,
           4937796,
           1.989,
           3.19
          ],
          [
           "Croatia",
           "Europe",
           2020,
           4105268,
           1.57,
           4.45
          ],
          [
           "Moldova",
           "Europe",
           2020,
           4033963,
           1.474,
           14.88
          ],
          [
           "Georgia",
           "Europe",
           2020,
           3989175,
           1.82,
           9.02
          ],
          [
           "Bosnia and Herzegovina",
           "Europe",
           2020,
           3280815,
           1.395,
           5.5
          ],
          [
           "Armenia",
           "Europe",
           2020,
           2963234,
           1.746,
           11.74
          ],
          [
           "Albania",
           "Europe",
           2020,
           2877800,
           1.763,
           8.52
          ],
          [
           "Lithuania",
           "Europe",
           2020,
           2722291,
           1.609,
           3.86
          ],
          [
           "North Macedonia",
           "Europe",
           2020,
           2083380,
           1.442,
           9.69
          ],
          [
           "Slovenia",
           "Europe",
           2020,
           2078932,
           1.578,
           2.07
          ],
          [
           "Latvia",
           "Europe",
           2020,
           1886202,
           1.703,
           3.64
          ],
          [
           "Estonia",
           "Europe",
           2020,
           1326539,
           1.689,
           2.4
          ],
          [
           "Cyprus",
           "Europe",
           2020,
           1207361,
           1.482,
           2.22
          ],
          [
           "Montenegro",
           "Europe",
           2020,
           628062,
           1.639,
           2.38
          ],
          [
           "Luxembourg",
           "Europe",
           2020,
           625976,
           1.724,
           2.31
          ],
          [
           "Malta",
           "Europe",
           2020,
           441539,
           1.39,
           6.61
          ],
          [
           "Iceland",
           "Europe",
           2020,
           341250,
           2.015,
           1.89
          ]
         ],
         "hovertemplate": "<b>%{hovertext}</b><br><br><extra></extra>",
         "hovertext": [
          "Russia",
          "Turkey",
          "Germany",
          "United Kingdom",
          "France",
          "Italy",
          "Spain",
          "Ukraine",
          "Poland",
          "Romania",
          "Netherlands",
          "Belgium",
          "Czech Republic",
          "Greece",
          "Portugal",
          "Azerbaijan",
          "Sweden",
          "Hungary",
          "Belarus",
          "Austria",
          "Serbia",
          "Switzerland",
          "Bulgaria",
          "Denmark",
          "Finland",
          "Slovak Republic",
          "Norway",
          "Ireland",
          "Croatia",
          "Moldova",
          "Georgia",
          "Bosnia and Herzegovina",
          "Armenia",
          "Albania",
          "Lithuania",
          "North Macedonia",
          "Slovenia",
          "Latvia",
          "Estonia",
          "Cyprus",
          "Montenegro",
          "Luxembourg",
          "Malta",
          "Iceland"
         ],
         "legendgroup": "Europe",
         "marker": {
          "color": "#ffeb33",
          "line": {
           "color": "black",
           "width": 0.8
          },
          "opacity": 0.8,
          "size": {
           "bdata": "AAAA+JBloUEAAADspRuUQQAAACTE+ZNBAAAA0G4vkEEAAABA9R+PQQAAACCY1IxBAAAA+F5LhkEAAAD4l9qEQQAAAGjyC4JBAAAAILNYckEAAACQUVdwQQAAAAD+GmZBAAAAwP5sZEEAAAAAYuFjQQAAAGDccmNBAAAA4MRWY0EAAADASENjQQAAAMD3bGJBAAAAIO0FYkEAAAAAqC1hQQAAAEBLqmBBAAAAQOOBYEEAAABAl4FaQQAAAMByGFZBAAAAgNsiVUEAAADArtNUQQAAAIAurlRBAAAAABHWUkEAAAAAGlJPQQAAAIDVxk5BAAAAgFtvTkEAAACA1wdJQQAAAACRm0ZBAAAAALT0RUEAAACA+cREQQAAAAA0yj9BAAAAANS4P0EAAAAA+sc8QQAAAADLPTRBAAAAAEFsMkEAAAAAvCojQQAAAABwGiNBAAAAAAzzGkEAAAAACNQUQQ==",
           "dtype": "f8"
          },
          "sizemode": "area",
          "sizeref": 399812.15944444446,
          "symbol": "circle"
         },
         "mode": "markers",
         "name": "Europe",
         "orientation": "v",
         "showlegend": true,
         "type": "scatter",
         "x": {
          "bdata": "AAAAAICK2UAAAAAAgODYQAAAAAAA0+ZAAAAAAIDk40AAAAAAYLjjQAAAAACAnuFAAAAAAGCn4UAAAAAAACHBQAAAAACAId5AAAAAAIDN2UAAAAAA4AHpQAAAAADgaeVAAAAAAIAV4UAAAAAAwLjZQAAAAABAF91AAAAAAIAC0EAAAAAAoCrnQAAAAACA7N1AAAAAAADE0UAAAAAAIB7nQAAAAABA/dBAAAAAAKDZ7EAAAAAAwGzUQAAAAADA4edAAAAAACD15EAAAAAAQBLgQAAAAAAQfPBAAAAAALAU8kAAAAAAgLzYQAAAAAAARrtAAAAAAIAPxkAAAAAAgFHKQAAAAAAA6cNAAAAAAIDUyUAAAAAAIF7gQAAAAAAADsxAAAAAAIDp4EAAAAAAwG3bQAAAAADADOBAAAAAAGAo4UAAAAAAAMnRQAAAAADAOPdAAAAAAOCz40AAAAAAIEnnQA==",
          "dtype": "f8"
         },
         "xaxis": "x",
         "y": {
          "bdata": "7FG4HoUrUkAfhetRuO5TQBSuR+F6RFRAH4XrUbhOVEDNzMzMzMxUQClcj8L16FRAPQrXo3DdVEC4HoXrUbhRQDMzMzMzo1NAFK5H4XrkUkDsUbgehXtUQNejcD0Kd1RAuB6F61HoU0CPwvUoXF9UQOF6FK5HgVRA7FG4HoXLUUDsUbgehbtUQPYoXI/CVVNAuB6F61GoUkDXo3A9CodUQHsUrkfhClNACtejcD0aVUCPwvUoXM9SQNejcD0KR1RAXI/C9Sh8VEBI4XoUrndTQI/C9Shcr1RAPQrXo3CdVEAfhetRuL5TQFyPwvUoTFJAhetRuB5VUkApXI/C9UhTQMP1KFyPAlNAhetRuB6lU0DXo3A9CudSQLgehetROFNApHA9CtdjVEDD9Shcj+JSQLgehetRqFNAXI/C9SiMVED2KFyPwjVTQNejcD0Kh1RAzczMzMxcVEAK16NwPcpUQA==",
          "dtype": "f8"
         },
         "yaxis": "y"
        }
       ],
       "layout": {
        "font": {
         "color": "dimgray"
        },
        "legend": {
         "itemsizing": "constant",
         "title": {
          "text": "Region"
         },
         "tracegroupgap": 0
        },
        "plot_bgcolor": "white",
        "template": {
         "data": {
          "bar": [
           {
            "error_x": {
             "color": "#2a3f5f"
            },
            "error_y": {
             "color": "#2a3f5f"
            },
            "marker": {
             "line": {
              "color": "#E5ECF6",
              "width": 0.5
             },
             "pattern": {
              "fillmode": "overlay",
              "size": 10,
              "solidity": 0.2
             }
            },
            "type": "bar"
           }
          ],
          "barpolar": [
           {
            "marker": {
             "line": {
              "color": "#E5ECF6",
              "width": 0.5
             },
             "pattern": {
              "fillmode": "overlay",
              "size": 10,
              "solidity": 0.2
             }
            },
            "type": "barpolar"
           }
          ],
          "carpet": [
           {
            "aaxis": {
             "endlinecolor": "#2a3f5f",
             "gridcolor": "white",
             "linecolor": "white",
             "minorgridcolor": "white",
             "startlinecolor": "#2a3f5f"
            },
            "baxis": {
             "endlinecolor": "#2a3f5f",
             "gridcolor": "white",
             "linecolor": "white",
             "minorgridcolor": "white",
             "startlinecolor": "#2a3f5f"
            },
            "type": "carpet"
           }
          ],
          "choropleth": [
           {
            "colorbar": {
             "outlinewidth": 0,
             "ticks": ""
            },
            "type": "choropleth"
           }
          ],
          "contour": [
           {
            "colorbar": {
             "outlinewidth": 0,
             "ticks": ""
            },
            "colorscale": [
             [
              0,
              "#0d0887"
             ],
             [
              0.1111111111111111,
              "#46039f"
             ],
             [
              0.2222222222222222,
              "#7201a8"
             ],
             [
              0.3333333333333333,
              "#9c179e"
             ],
             [
              0.4444444444444444,
              "#bd3786"
             ],
             [
              0.5555555555555556,
              "#d8576b"
             ],
             [
              0.6666666666666666,
              "#ed7953"
             ],
             [
              0.7777777777777778,
              "#fb9f3a"
             ],
             [
              0.8888888888888888,
              "#fdca26"
             ],
             [
              1,
              "#f0f921"
             ]
            ],
            "type": "contour"
           }
          ],
          "contourcarpet": [
           {
            "colorbar": {
             "outlinewidth": 0,
             "ticks": ""
            },
            "type": "contourcarpet"
           }
          ],
          "heatmap": [
           {
            "colorbar": {
             "outlinewidth": 0,
             "ticks": ""
            },
            "colorscale": [
             [
              0,
              "#0d0887"
             ],
             [
              0.1111111111111111,
              "#46039f"
             ],
             [
              0.2222222222222222,
              "#7201a8"
             ],
             [
              0.3333333333333333,
              "#9c179e"
             ],
             [
              0.4444444444444444,
              "#bd3786"
             ],
             [
              0.5555555555555556,
              "#d8576b"
             ],
             [
              0.6666666666666666,
              "#ed7953"
             ],
             [
              0.7777777777777778,
              "#fb9f3a"
             ],
             [
              0.8888888888888888,
              "#fdca26"
             ],
             [
              1,
              "#f0f921"
             ]
            ],
            "type": "heatmap"
           }
          ],
          "histogram": [
           {
            "marker": {
             "pattern": {
              "fillmode": "overlay",
              "size": 10,
              "solidity": 0.2
             }
            },
            "type": "histogram"
           }
          ],
          "histogram2d": [
           {
            "colorbar": {
             "outlinewidth": 0,
             "ticks": ""
            },
            "colorscale": [
             [
              0,
              "#0d0887"
             ],
             [
              0.1111111111111111,
              "#46039f"
             ],
             [
              0.2222222222222222,
              "#7201a8"
             ],
             [
              0.3333333333333333,
              "#9c179e"
             ],
             [
              0.4444444444444444,
              "#bd3786"
             ],
             [
              0.5555555555555556,
              "#d8576b"
             ],
             [
              0.6666666666666666,
              "#ed7953"
             ],
             [
              0.7777777777777778,
              "#fb9f3a"
             ],
             [
              0.8888888888888888,
              "#fdca26"
             ],
             [
              1,
              "#f0f921"
             ]
            ],
            "type": "histogram2d"
           }
          ],
          "histogram2dcontour": [
           {
            "colorbar": {
             "outlinewidth": 0,
             "ticks": ""
            },
            "colorscale": [
             [
              0,
              "#0d0887"
             ],
             [
              0.1111111111111111,
              "#46039f"
             ],
             [
              0.2222222222222222,
              "#7201a8"
             ],
             [
              0.3333333333333333,
              "#9c179e"
             ],
             [
              0.4444444444444444,
              "#bd3786"
             ],
             [
              0.5555555555555556,
              "#d8576b"
             ],
             [
              0.6666666666666666,
              "#ed7953"
             ],
             [
              0.7777777777777778,
              "#fb9f3a"
             ],
             [
              0.8888888888888888,
              "#fdca26"
             ],
             [
              1,
              "#f0f921"
             ]
            ],
            "type": "histogram2dcontour"
           }
          ],
          "mesh3d": [
           {
            "colorbar": {
             "outlinewidth": 0,
             "ticks": ""
            },
            "type": "mesh3d"
           }
          ],
          "parcoords": [
           {
            "line": {
             "colorbar": {
              "outlinewidth": 0,
              "ticks": ""
             }
            },
            "type": "parcoords"
           }
          ],
          "pie": [
           {
            "automargin": true,
            "type": "pie"
           }
          ],
          "scatter": [
           {
            "fillpattern": {
             "fillmode": "overlay",
             "size": 10,
             "solidity": 0.2
            },
            "type": "scatter"
           }
          ],
          "scatter3d": [
           {
            "line": {
             "colorbar": {
              "outlinewidth": 0,
              "ticks": ""
             }
            },
            "marker": {
             "colorbar": {
              "outlinewidth": 0,
              "ticks": ""
             }
            },
            "type": "scatter3d"
           }
          ],
          "scattercarpet": [
           {
            "marker": {
             "colorbar": {
              "outlinewidth": 0,
              "ticks": ""
             }
            },
            "type": "scattercarpet"
           }
          ],
          "scattergeo": [
           {
            "marker": {
             "colorbar": {
              "outlinewidth": 0,
              "ticks": ""
             }
            },
            "type": "scattergeo"
           }
          ],
          "scattergl": [
           {
            "marker": {
             "colorbar": {
              "outlinewidth": 0,
              "ticks": ""
             }
            },
            "type": "scattergl"
           }
          ],
          "scattermap": [
           {
            "marker": {
             "colorbar": {
              "outlinewidth": 0,
              "ticks": ""
             }
            },
            "type": "scattermap"
           }
          ],
          "scattermapbox": [
           {
            "marker": {
             "colorbar": {
              "outlinewidth": 0,
              "ticks": ""
             }
            },
            "type": "scattermapbox"
           }
          ],
          "scatterpolar": [
           {
            "marker": {
             "colorbar": {
              "outlinewidth": 0,
              "ticks": ""
             }
            },
            "type": "scatterpolar"
           }
          ],
          "scatterpolargl": [
           {
            "marker": {
             "colorbar": {
              "outlinewidth": 0,
              "ticks": ""
             }
            },
            "type": "scatterpolargl"
           }
          ],
          "scatterternary": [
           {
            "marker": {
             "colorbar": {
              "outlinewidth": 0,
              "ticks": ""
             }
            },
            "type": "scatterternary"
           }
          ],
          "surface": [
           {
            "colorbar": {
             "outlinewidth": 0,
             "ticks": ""
            },
            "colorscale": [
             [
              0,
              "#0d0887"
             ],
             [
              0.1111111111111111,
              "#46039f"
             ],
             [
              0.2222222222222222,
              "#7201a8"
             ],
             [
              0.3333333333333333,
              "#9c179e"
             ],
             [
              0.4444444444444444,
              "#bd3786"
             ],
             [
              0.5555555555555556,
              "#d8576b"
             ],
             [
              0.6666666666666666,
              "#ed7953"
             ],
             [
              0.7777777777777778,
              "#fb9f3a"
             ],
             [
              0.8888888888888888,
              "#fdca26"
             ],
             [
              1,
              "#f0f921"
             ]
            ],
            "type": "surface"
           }
          ],
          "table": [
           {
            "cells": {
             "fill": {
              "color": "#EBF0F8"
             },
             "line": {
              "color": "white"
             }
            },
            "header": {
             "fill": {
              "color": "#C8D4E3"
             },
             "line": {
              "color": "white"
             }
            },
            "type": "table"
           }
          ]
         },
         "layout": {
          "annotationdefaults": {
           "arrowcolor": "#2a3f5f",
           "arrowhead": 0,
           "arrowwidth": 1
          },
          "autotypenumbers": "strict",
          "coloraxis": {
           "colorbar": {
            "outlinewidth": 0,
            "ticks": ""
           }
          },
          "colorscale": {
           "diverging": [
            [
             0,
             "#8e0152"
            ],
            [
             0.1,
             "#c51b7d"
            ],
            [
             0.2,
             "#de77ae"
            ],
            [
             0.3,
             "#f1b6da"
            ],
            [
             0.4,
             "#fde0ef"
            ],
            [
             0.5,
             "#f7f7f7"
            ],
            [
             0.6,
             "#e6f5d0"
            ],
            [
             0.7,
             "#b8e186"
            ],
            [
             0.8,
             "#7fbc41"
            ],
            [
             0.9,
             "#4d9221"
            ],
            [
             1,
             "#276419"
            ]
           ],
           "sequential": [
            [
             0,
             "#0d0887"
            ],
            [
             0.1111111111111111,
             "#46039f"
            ],
            [
             0.2222222222222222,
             "#7201a8"
            ],
            [
             0.3333333333333333,
             "#9c179e"
            ],
            [
             0.4444444444444444,
             "#bd3786"
            ],
            [
             0.5555555555555556,
             "#d8576b"
            ],
            [
             0.6666666666666666,
             "#ed7953"
            ],
            [
             0.7777777777777778,
             "#fb9f3a"
            ],
            [
             0.8888888888888888,
             "#fdca26"
            ],
            [
             1,
             "#f0f921"
            ]
           ],
           "sequentialminus": [
            [
             0,
             "#0d0887"
            ],
            [
             0.1111111111111111,
             "#46039f"
            ],
            [
             0.2222222222222222,
             "#7201a8"
            ],
            [
             0.3333333333333333,
             "#9c179e"
            ],
            [
             0.4444444444444444,
             "#bd3786"
            ],
            [
             0.5555555555555556,
             "#d8576b"
            ],
            [
             0.6666666666666666,
             "#ed7953"
            ],
            [
             0.7777777777777778,
             "#fb9f3a"
            ],
            [
             0.8888888888888888,
             "#fdca26"
            ],
            [
             1,
             "#f0f921"
            ]
           ]
          },
          "colorway": [
           "#636efa",
           "#EF553B",
           "#00cc96",
           "#ab63fa",
           "#FFA15A",
           "#19d3f3",
           "#FF6692",
           "#B6E880",
           "#FF97FF",
           "#FECB52"
          ],
          "font": {
           "color": "#2a3f5f"
          },
          "geo": {
           "bgcolor": "white",
           "lakecolor": "white",
           "landcolor": "#E5ECF6",
           "showlakes": true,
           "showland": true,
           "subunitcolor": "white"
          },
          "hoverlabel": {
           "align": "left"
          },
          "hovermode": "closest",
          "mapbox": {
           "style": "light"
          },
          "paper_bgcolor": "white",
          "plot_bgcolor": "#E5ECF6",
          "polar": {
           "angularaxis": {
            "gridcolor": "white",
            "linecolor": "white",
            "ticks": ""
           },
           "bgcolor": "#E5ECF6",
           "radialaxis": {
            "gridcolor": "white",
            "linecolor": "white",
            "ticks": ""
           }
          },
          "scene": {
           "xaxis": {
            "backgroundcolor": "#E5ECF6",
            "gridcolor": "white",
            "gridwidth": 2,
            "linecolor": "white",
            "showbackground": true,
            "ticks": "",
            "zerolinecolor": "white"
           },
           "yaxis": {
            "backgroundcolor": "#E5ECF6",
            "gridcolor": "white",
            "gridwidth": 2,
            "linecolor": "white",
            "showbackground": true,
            "ticks": "",
            "zerolinecolor": "white"
           },
           "zaxis": {
            "backgroundcolor": "#E5ECF6",
            "gridcolor": "white",
            "gridwidth": 2,
            "linecolor": "white",
            "showbackground": true,
            "ticks": "",
            "zerolinecolor": "white"
           }
          },
          "shapedefaults": {
           "line": {
            "color": "#2a3f5f"
           }
          },
          "ternary": {
           "aaxis": {
            "gridcolor": "white",
            "linecolor": "white",
            "ticks": ""
           },
           "baxis": {
            "gridcolor": "white",
            "linecolor": "white",
            "ticks": ""
           },
           "bgcolor": "#E5ECF6",
           "caxis": {
            "gridcolor": "white",
            "linecolor": "white",
            "ticks": ""
           }
          },
          "title": {
           "x": 0.05
          },
          "xaxis": {
           "automargin": true,
           "gridcolor": "white",
           "linecolor": "white",
           "ticks": "",
           "title": {
            "standoff": 15
           },
           "zerolinecolor": "white",
           "zerolinewidth": 2
          },
          "yaxis": {
           "automargin": true,
           "gridcolor": "white",
           "linecolor": "white",
           "ticks": "",
           "title": {
            "standoff": 15
           },
           "zerolinecolor": "white",
           "zerolinewidth": 2
          }
         }
        },
        "title": {
         "text": "Gapminder<br><sup>Data by gapminder.org, CC-BY license</sup>"
        },
        "xaxis": {
         "anchor": "y",
         "domain": [
          0,
          1
         ],
         "gridcolor": "lightgray",
         "linecolor": "dimgray",
         "linewidth": 1,
         "showline": true,
         "showspikes": true,
         "spikecolor": "dimgray",
         "spikethickness": 1,
         "title": {
          "text": "Income"
         },
         "type": "log"
        },
        "yaxis": {
         "anchor": "x",
         "domain": [
          0,
          1
         ],
         "gridcolor": "lightgray",
         "linecolor": "dimgray",
         "linewidth": 1,
         "showline": true,
         "showspikes": true,
         "spikecolor": "dimgray",
         "spikethickness": 1,
         "title": {
          "text": "Life expectancy"
         }
        }
       }
      }
     },
     "metadata": {},
     "output_type": "display_data"
    }
   ],
   "source": [
    "fig = px.scatter(\n",
    "    df.query('Year==2020'),\n",
    "    x='Income',\n",
    "    y='Life expectancy',\n",
    "    color='Region',\n",
    "    size='Population',\n",
    "    hover_name='Country',\n",
    "    color_discrete_map=color_map,\n",
    "    size_max=60,\n",
    "    log_x=True,\n",
    "    hover_data={c: False for c in df.columns}, #censor data, display name only\n",
    "    title='Gapminder<br><sup>Data by gapminder.org, CC-BY license</sup>'\n",
    ")\n",
    "# Adjust markers\n",
    "fig.update_traces(marker=marker_dict)\n",
    "# Adjust figure layout\n",
    "fig.update_layout(layout_dict)\n",
    "# Adjust axes/grid\n",
    "fig.update_xaxes(axes_dict)\n",
    "fig.update_yaxes(axes_dict)\n",
    "fig.show()"
   ]
  },
  {
   "cell_type": "markdown",
   "id": "e5629a50",
   "metadata": {},
   "source": [
    "## Add animation"
   ]
  },
  {
   "cell_type": "code",
   "execution_count": 13,
   "id": "70661829-afc6-4773-a0cb-8cbe4eba8316",
   "metadata": {},
   "outputs": [],
   "source": [
    "# define data dictionary without data\n",
    "# later leverage add_trace (layering functionality) \n",
    "def background_year(year, xaxis, yaxis):\n",
    "    return dict(\n",
    "        x=[df_info.loc[xaxis, 'Mid']],\n",
    "        y=[df_info.loc[yaxis, 'Mid']],\n",
    "        mode='text',\n",
    "        text=[str(year)],\n",
    "        showlegend=False,\n",
    "        textfont=dict(size=200, color='lightgray'),\n",
    "        textposition='middle center'\n",
    "    )"
   ]
  },
  {
   "cell_type": "code",
   "execution_count": 15,
   "id": "aed99d63",
   "metadata": {},
   "outputs": [
    {
     "data": {
      "application/vnd.plotly.v1+json": {
       "config": {
        "plotlyServerURL": "https://plot.ly"
       },
       "data": [
        {
         "mode": "text",
         "showlegend": false,
         "text": [
          "2010"
         ],
         "textfont": {
          "color": "lightgray",
          "size": 200
         },
         "textposition": "middle center",
         "type": "scatter",
         "x": [
          8000
         ],
         "y": [
          45
         ]
        },
        {
         "customdata": [
          [
           "China",
           "Asia",
           2010,
           1368810604,
           1.65,
           15.76
          ],
          [
           "India",
           "Asia",
           2010,
           1234281163,
           2.563,
           58.23
          ],
          [
           "Indonesia",
           "Asia",
           2010,
           241834226,
           2.434,
           34.12
          ],
          [
           "Pakistan",
           "Asia",
           2010,
           179424643,
           3.43,
           87.51
          ],
          [
           "Bangladesh",
           "Asia",
           2010,
           147575433,
           2.277,
           49.1
          ],
          [
           "Japan",
           "Asia",
           2010,
           128542349,
           1.374,
           3.2
          ],
          [
           "Philippines",
           "Asia",
           2010,
           93966784,
           3.151,
           32.01
          ],
          [
           "Vietnam",
           "Asia",
           2010,
           87967655,
           1.82,
           23.09
          ],
          [
           "Iran",
           "Asia",
           2010,
           73762519,
           1.904,
           19.7
          ],
          [
           "Thailand",
           "Asia",
           2010,
           67195032,
           1.443,
           13.34
          ],
          [
           "Myanmar",
           "Asia",
           2010,
           50600827,
           2.003,
           63.3
          ],
          [
           "South Korea",
           "Asia",
           2010,
           49545638,
           1.266,
           4.13
          ],
          [
           "Iraq",
           "Asia",
           2010,
           29741977,
           4.211,
           34.75
          ],
          [
           "Afghanistan",
           "Asia",
           2010,
           29185511,
           5.659,
           87.95
          ],
          [
           "Uzbekistan",
           "Asia",
           2010,
           28515908,
           2.41,
           36.44
          ],
          [
           "Malaysia",
           "Asia",
           2010,
           28208028,
           2.002,
           7.94
          ],
          [
           "Saudi Arabia",
           "Asia",
           2010,
           27421468,
           2.829,
           12.08
          ],
          [
           "Nepal",
           "Asia",
           2010,
           27013207,
           2.619,
           46.83
          ],
          [
           "North Korea",
           "Asia",
           2010,
           24548840,
           2.003,
           29.5
          ],
          [
           "Taiwan",
           "Asia",
           2010,
           23187556,
           0.895,
           5.38
          ],
          [
           "Yemen",
           "Asia",
           2010,
           23154854,
           4.498,
           55.96
          ],
          [
           "Australia",
           "Asia",
           2010,
           22154687,
           1.886,
           4.77
          ],
          [
           "Syria",
           "Asia",
           2010,
           21362541,
           3.078,
           16.09
          ],
          [
           "Sri Lanka",
           "Asia",
           2010,
           20261738,
           2.343,
           11.61
          ],
          [
           "Kazakhstan",
           "Asia",
           2010,
           16252273,
           2.538,
           20.23
          ],
          [
           "Cambodia",
           "Asia",
           2010,
           14312205,
           2.966,
           44.29
          ],
          [
           "United Arab Emirates",
           "Asia",
           2010,
           8549998,
           1.868,
           8.48
          ],
          [
           "Tajikistan",
           "Asia",
           2010,
           7527397,
           3.78,
           43.22
          ],
          [
           "Israel",
           "Asia",
           2010,
           7346446,
           2.92,
           4.56
          ],
          [
           "Papua New Guinea",
           "Asia",
           2010,
           7310512,
           3.954,
           58.22
          ],
          [
           "Jordan",
           "Asia",
           2010,
           7261541,
           3.458,
           20.32
          ],
          [
           "Hong Kong, China",
           "Asia",
           2010,
           6966324,
           1.075,
           2.74
          ],
          [
           "Lao",
           "Asia",
           2010,
           6249168,
           3.29,
           68.09
          ],
          [
           "Kyrgyz Republic",
           "Asia",
           2010,
           5422298,
           2.974,
           29.58
          ],
          [
           "Singapore",
           "Asia",
           2010,
           5131170,
           1.261,
           2.81
          ],
          [
           "Turkmenistan",
           "Asia",
           2010,
           5087211,
           2.412,
           59.91
          ],
          [
           "Lebanon",
           "Asia",
           2010,
           4953064,
           1.513,
           10.23
          ],
          [
           "New Zealand",
           "Asia",
           2010,
           4370060,
           2.115,
           6.14
          ],
          [
           "Palestine",
           "Asia",
           2010,
           4055632,
           4.216,
           23.32
          ],
          [
           "Oman",
           "Asia",
           2010,
           3041435,
           2.901,
           11.69
          ],
          [
           "Kuwait",
           "Asia",
           2010,
           2991884,
           2.673,
           10.39
          ],
          [
           "Mongolia",
           "Asia",
           2010,
           2719902,
           2.437,
           26.05
          ],
          [
           "Qatar",
           "Asia",
           2010,
           1856329,
           2.085,
           9
          ],
          [
           "Bahrain",
           "Asia",
           2010,
           1240864,
           2.142,
           8.53
          ],
          [
           "Timor-Leste",
           "Asia",
           2010,
           1093517,
           6.237,
           62.3
          ],
          [
           "Fiji",
           "Asia",
           2010,
           859816,
           2.67,
           23.87
          ],
          [
           "Bhutan",
           "Asia",
           2010,
           685502,
           2.375,
           42.51
          ],
          [
           "Solomon Islands",
           "Asia",
           2010,
           527861,
           4.236,
           25.73
          ],
          [
           "Brunei",
           "Asia",
           2010,
           388634,
           2.051,
           9.66
          ],
          [
           "Maldives",
           "Asia",
           2010,
           365730,
           2.339,
           13.85
          ],
          [
           "Vanuatu",
           "Asia",
           2010,
           236216,
           3.499,
           29.44
          ],
          [
           "Samoa",
           "Asia",
           2010,
           185944,
           4.338,
           18.7
          ],
          [
           "Tonga",
           "Asia",
           2010,
           103981,
           3.914,
           17.4
          ],
          [
           "Kiribati",
           "Asia",
           2010,
           102930,
           3.048,
           64.67
          ],
          [
           "Micronesia, Fed. Sts.",
           "Asia",
           2010,
           102916,
           3.46,
           39.85
          ]
         ],
         "hovertemplate": "<b>%{hovertext}</b><br><br><extra></extra>",
         "hovertext": [
          "China",
          "India",
          "Indonesia",
          "Pakistan",
          "Bangladesh",
          "Japan",
          "Philippines",
          "Vietnam",
          "Iran",
          "Thailand",
          "Myanmar",
          "South Korea",
          "Iraq",
          "Afghanistan",
          "Uzbekistan",
          "Malaysia",
          "Saudi Arabia",
          "Nepal",
          "North Korea",
          "Taiwan",
          "Yemen",
          "Australia",
          "Syria",
          "Sri Lanka",
          "Kazakhstan",
          "Cambodia",
          "United Arab Emirates",
          "Tajikistan",
          "Israel",
          "Papua New Guinea",
          "Jordan",
          "Hong Kong, China",
          "Lao",
          "Kyrgyz Republic",
          "Singapore",
          "Turkmenistan",
          "Lebanon",
          "New Zealand",
          "Palestine",
          "Oman",
          "Kuwait",
          "Mongolia",
          "Qatar",
          "Bahrain",
          "Timor-Leste",
          "Fiji",
          "Bhutan",
          "Solomon Islands",
          "Brunei",
          "Maldives",
          "Vanuatu",
          "Samoa",
          "Tonga",
          "Kiribati",
          "Micronesia, Fed. Sts."
         ],
         "ids": [
          "China",
          "India",
          "Indonesia",
          "Pakistan",
          "Bangladesh",
          "Japan",
          "Philippines",
          "Vietnam",
          "Iran",
          "Thailand",
          "Myanmar",
          "South Korea",
          "Iraq",
          "Afghanistan",
          "Uzbekistan",
          "Malaysia",
          "Saudi Arabia",
          "Nepal",
          "North Korea",
          "Taiwan",
          "Yemen",
          "Australia",
          "Syria",
          "Sri Lanka",
          "Kazakhstan",
          "Cambodia",
          "United Arab Emirates",
          "Tajikistan",
          "Israel",
          "Papua New Guinea",
          "Jordan",
          "Hong Kong, China",
          "Lao",
          "Kyrgyz Republic",
          "Singapore",
          "Turkmenistan",
          "Lebanon",
          "New Zealand",
          "Palestine",
          "Oman",
          "Kuwait",
          "Mongolia",
          "Qatar",
          "Bahrain",
          "Timor-Leste",
          "Fiji",
          "Bhutan",
          "Solomon Islands",
          "Brunei",
          "Maldives",
          "Vanuatu",
          "Samoa",
          "Tonga",
          "Kiribati",
          "Micronesia, Fed. Sts."
         ],
         "legendgroup": "Asia",
         "marker": {
          "color": "#ff798e",
          "line": {
           "color": "black",
           "width": 0.8
          },
          "opacity": 0.8,
          "size": {
           "bdata": "AAAAG5ll1EEAAMCyaGTSQQAAAOQx1KxBAAAABptjpUEAAAASpZehQQAAADSapZ5BAAAAAEdnlkEAAACcHvmUQQAAAFwblpFBAAAAYEIFkEEAAADY2yCIQQAAADANoIdBAAAAkDldfEEAAABwXtV7QQAAAEDkMXtBAAAAwLnmekEAAADAsSZ6QQAAAHAFw3lBAAAAgF5pd0EAAABABh12QQAAAGAKFXZBAAAA8NsgdUEAAADQdl90QQAAAKC2UnNBAAAAIK7/bkEAAACgYUxrQQAAAMDNTmBBAAAAQPm2XEEAAACAQwZcQQAAAAAs41tBAAAAQFmzW0EAAAAADZNaQQAAAAC01ldBAAAAgDavVEEAAACA6JJTQQAAAMD6Z1NBAAAAAPrkUkEAAAAAo6tQQQAAAAAo8U5BAAAAgE00R0EAAAAAhtNGQQAAAABPwERBAAAAAElTPEEAAAAAIO8yQQAAAACNrzBBAAAAAFA9KkEAAAAAfOskQQAAAADqGyBBAAAAAGi4F0EAAAAAiFIWQQAAAADA1QxBAAAAAMCyBkEAAAAA0GL5QAAAAAAgIflAAAAAAEAg+UA=",
           "dtype": "f8"
          },
          "sizemode": "area",
          "sizeref": 399812.15944444446,
          "symbol": "circle"
         },
         "mode": "markers",
         "name": "Asia",
         "orientation": "v",
         "showlegend": true,
         "type": "scatter",
         "x": {
          "bdata": "AAAAAACNwkAAAAAAAGOxQAAAAAAAhcBAAAAAAADQr0AAAAAAAKyjQAAAAADAdOFAAAAAAADPtUAAAAAAAFGxQAAAAADAttFAAAAAAIBYykAAAAAAANCsQAAAAAAApN1AAAAAAACxyUAAAAAAACCaQAAAAAAAkLBAAAAAAACL1EAAAAAAgC7mQAAAAAAADJ9AAAAAAADEmkAAAAAAoDDiQAAAAAAA1rFAAAAAAEBH5EAAAAAAAI+4QAAAAACAm8BAAAAAAECg00AAAAAAALSjQAAAAABgCOtAAAAAAAC0oEAAAAAAQPjcQAAAAAAAPqhAAAAAAABVwkAAAAAAgH3nQAAAAAAAebBAAAAAAADMpUAAAAAAUNbxQAAAAAAAa8NAAAAAAAAjzEAAAAAAQHrfQAAAAAAAZq9AAAAAAAAj5kAAAAAAAGbyQAAAAAAACL5AAAAAAGBK/UAAAAAAYM/jQAAAAACAlsFAAAAAAAC5vEAAAAAAAJ66QAAAAAAAPJ1AAAAAAMCq80AAAAAAgF7HQAAAAAAACqdAAAAAAAAftUAAAAAAAH+zQAAAAAAAYJtAAAAAAADwqUA=",
          "dtype": "f8"
         },
         "xaxis": "x",
         "y": {
          "bdata": "UrgehevxUkB7FK5H4apQQFyPwvUobFFAMzMzMzMTUEDhehSuR2FRQClcj8L1yFRAj8L1KFxPUUDNzMzMzFxSQM3MzMzMzFJAAAAAAABAU0AAAAAAADBQQEjhehSuJ1RAzczMzMxcUkDNzMzMzOxNQPYoXI/CNVFAmpmZmZmZUkAzMzMzM7NSQM3MzMzMTFFA16NwPQq3UUAAAAAAAOBTQM3MzMzM/FBAPQrXo3B9VECF61G4HvVSQFyPwvUorFJACtejcD0aUUAUrkfhesRQQLgehetROFJA4XoUrkdxUUCF61G4HnVUQGZmZmZmJkxASOF6FK5nU0DXo3A9CqdUQMP1KFyP4k9AzczMzMxsUUBcj8L1KMxUQNejcD0KZ1FAexSuR+FKU0Bcj8L1KCxUQFyPwvUofFJAPQrXo3DNUkCPwvUoXE9UQDMzMzMzg1BAMzMzMzODU0AfhetRuI5TQMP1KFyPglFAmpmZmZnZUEC4HoXrUehRQHsUrkfh2k5A9ihcj8LFUkAK16NwPcpTQAAAAAAAAFBArkfhehQeUkDhehSuR8FRQLgehetReE5APQrXo3C9UEA=",
          "dtype": "f8"
         },
         "yaxis": "y"
        },
        {
         "customdata": [
          [
           "United States",
           "Americas",
           2010,
           309011469,
           1.928,
           7.33
          ],
          [
           "Brazil",
           "Americas",
           2010,
           195713637,
           1.838,
           18.71
          ],
          [
           "Mexico",
           "Americas",
           2010,
           114092961,
           2.281,
           17.36
          ],
          [
           "Colombia",
           "Americas",
           2010,
           45222699,
           2.376,
           18.47
          ],
          [
           "Argentina",
           "Americas",
           2010,
           40895751,
           2.215,
           14.44
          ],
          [
           "Canada",
           "Americas",
           2010,
           34147566,
           1.627,
           5.65
          ],
          [
           "Peru",
           "Americas",
           2010,
           29027680,
           2.511,
           20.13
          ],
          [
           "Venezuela",
           "Americas",
           2010,
           28439942,
           2.472,
           17
          ],
          [
           "Chile",
           "Americas",
           2010,
           17062531,
           1.858,
           8.7
          ],
          [
           "Ecuador",
           "Americas",
           2010,
           15011114,
           2.655,
           18.3
          ],
          [
           "Guatemala",
           "Americas",
           2010,
           14630420,
           3.974,
           35.01
          ],
          [
           "Cuba",
           "Americas",
           2010,
           11225833,
           1.467,
           6.15
          ],
          [
           "Bolivia",
           "Americas",
           2010,
           10048597,
           3.357,
           41.1
          ],
          [
           "Haiti",
           "Americas",
           2010,
           9949318,
           3.35,
           208.62
          ],
          [
           "Dominican Republic",
           "Americas",
           2010,
           9695117,
           2.584,
           34.23
          ],
          [
           "Honduras",
           "Americas",
           2010,
           8317467,
           3.154,
           23.6
          ],
          [
           "Paraguay",
           "Americas",
           2010,
           6248017,
           2.968,
           26.04
          ],
          [
           "El Salvador",
           "Americas",
           2010,
           6183877,
           2.263,
           19.25
          ],
          [
           "Nicaragua",
           "Americas",
           2010,
           5824058,
           2.631,
           20.44
          ],
          [
           "Costa Rica",
           "Americas",
           2010,
           4577371,
           1.847,
           10.1
          ],
          [
           "Panama",
           "Americas",
           2010,
           3642691,
           2.549,
           19.86
          ],
          [
           "Uruguay",
           "Americas",
           2010,
           3359273,
           2.08,
           10.7
          ],
          [
           "Jamaica",
           "Americas",
           2010,
           2810464,
           2.334,
           18.31
          ],
          [
           "Trinidad and Tobago",
           "Americas",
           2010,
           1328144,
           1.802,
           23.37
          ],
          [
           "Guyana",
           "Americas",
           2010,
           749430,
           2.682,
           37.43
          ],
          [
           "Suriname",
           "Americas",
           2010,
           529126,
           2.345,
           24.7
          ],
          [
           "Bahamas",
           "Americas",
           2010,
           354936,
           1.901,
           12.87
          ],
          [
           "Belize",
           "Americas",
           2010,
           322465,
           2.801,
           18.91
          ],
          [
           "Barbados",
           "Americas",
           2010,
           282131,
           1.839,
           14.62
          ],
          [
           "St. Lucia",
           "Americas",
           2010,
           174092,
           1.982,
           18.62
          ],
          [
           "St. Vincent and the Grenadines",
           "Americas",
           2010,
           108260,
           2.07,
           20.85
          ],
          [
           "Grenada",
           "Americas",
           2010,
           106227,
           2.24,
           14.24
          ],
          [
           "Antigua and Barbuda",
           "Americas",
           2010,
           88030,
           2.13,
           9.59
          ]
         ],
         "hovertemplate": "<b>%{hovertext}</b><br><br><extra></extra>",
         "hovertext": [
          "United States",
          "Brazil",
          "Mexico",
          "Colombia",
          "Argentina",
          "Canada",
          "Peru",
          "Venezuela",
          "Chile",
          "Ecuador",
          "Guatemala",
          "Cuba",
          "Bolivia",
          "Haiti",
          "Dominican Republic",
          "Honduras",
          "Paraguay",
          "El Salvador",
          "Nicaragua",
          "Costa Rica",
          "Panama",
          "Uruguay",
          "Jamaica",
          "Trinidad and Tobago",
          "Guyana",
          "Suriname",
          "Bahamas",
          "Belize",
          "Barbados",
          "St. Lucia",
          "St. Vincent and the Grenadines",
          "Grenada",
          "Antigua and Barbuda"
         ],
         "ids": [
          "United States",
          "Brazil",
          "Mexico",
          "Colombia",
          "Argentina",
          "Canada",
          "Peru",
          "Venezuela",
          "Chile",
          "Ecuador",
          "Guatemala",
          "Cuba",
          "Bolivia",
          "Haiti",
          "Dominican Republic",
          "Honduras",
          "Paraguay",
          "El Salvador",
          "Nicaragua",
          "Costa Rica",
          "Panama",
          "Uruguay",
          "Jamaica",
          "Trinidad and Tobago",
          "Guyana",
          "Suriname",
          "Bahamas",
          "Belize",
          "Barbados",
          "St. Lucia",
          "St. Vincent and the Grenadines",
          "Grenada",
          "Antigua and Barbuda"
         ],
         "legendgroup": "Americas",
         "marker": {
          "color": "#98ef33",
          "line": {
           "color": "black",
           "width": 0.8
          },
          "opacity": 0.8,
          "size": {
           "bdata": "AAAADSRrskEAAADKtFSnQQAAAISuM5tBAAAAWFmQhUEAAAA4KICDQQAAAHBnSIBBAAAAANaue0EAAABgWB97QQAAADCoRXBBAAAAQKWhbEEAAACAwudrQQAAACBdaWVBAAAAoIoqY0EAAADAEPpiQQAAAKDxfWJBAAAAwIa6X0EAAABAlNVXQQAAAEDxlldBAAAAgI43VkEAAADAFnZRQQAAAIChyktBAAAAgBShSUEAAAAAMHFFQQAAAAAQRDRBAAAAAOzeJkEAAAAAzCUgQQAAAADgqRVBAAAAAISuE0EAAAAATDgRQQAAAABgQAVBAAAAAEBu+kAAAAAAMO/5QAAAAADgffVA",
           "dtype": "f8"
          },
          "sizemode": "area",
          "sizeref": 399812.15944444446,
          "symbol": "circle"
         },
         "mode": "markers",
         "name": "Americas",
         "orientation": "v",
         "showlegend": true,
         "type": "scatter",
         "x": {
          "bdata": "AAAAAOAo6EAAAAAAAI7MQAAAAAAAkM9AAAAAAIBmxUAAAAAAAHjSQAAAAACA3+NAAAAAAICtw0AAAAAAwH3QQAAAAADA6NJAAAAAAIAswkAAAAAAADq6QAAAAAAAKbpAAAAAAADZtEAAAAAAAJiXQAAAAACAMsZAAAAAAACSrkAAAAAAgAbDQAAAAAAAibhAAAAAAAACr0AAAAAAgDbJQAAAAACAh85AAAAAAMDB0EAAAAAAAFK/QAAAAAAAh95AAAAAAADBtkAAAAAAgJnLQAAAAADAAt1AAAAAAACpvkAAAAAAAMrPQAAAAACAycZAAAAAAICOw0AAAAAAAIPFQAAAAAAALdRA",
          "dtype": "f8"
         },
         "xaxis": "x",
         "y": {
          "bdata": "j8L1KFyvU0C4HoXrUZhSQB+F61G4zlJAuB6F61GIU0AUrkfhevRSQArXo3A9WlRAcT0K16NgU0BSuB6F69FSQEjhehSup1NAmpmZmZmpUkCamZmZmelRQFK4HoXrkVNAUrgeheuxUUCF61G4HkVAQOF6FK5HgVJAhetRuB41UkDXo3A9CqdSQNejcD0KV1JAKVyPwvVoU0DsUbgehdtTQOxRuB6Fi1NA7FG4HoUbU0AAAAAAAPBSQEjhehSuZ1JAPQrXo3D9UEDsUbgehdtRQHsUrkfhWlJA9ihcj8JlUkCPwvUoXC9TQKRwPQrX41JAmpmZmZk5UkAUrkfheoRSQNejcD0KJ1NA",
          "dtype": "f8"
         },
         "yaxis": "y"
        },
        {
         "customdata": [
          [
           "Nigeria",
           "Africa",
           2010,
           158503203,
           6.022,
           135.2
          ],
          [
           "Ethiopia",
           "Africa",
           2010,
           87639962,
           4.902,
           82.94
          ],
          [
           "Egypt",
           "Africa",
           2010,
           82761244,
           2.883,
           28.97
          ],
          [
           "Congo, Dem. Rep.",
           "Africa",
           2010,
           64563853,
           6.251,
           115.29
          ],
          [
           "South Africa",
           "Africa",
           2010,
           51216967,
           2.467,
           52.49
          ],
          [
           "Tanzania",
           "Africa",
           2010,
           44346532,
           5.428,
           72.27
          ],
          [
           "Kenya",
           "Africa",
           2010,
           42030684,
           4.616,
           56.54
          ],
          [
           "Algeria",
           "Africa",
           2010,
           35977451,
           2.817,
           27.41
          ],
          [
           "Sudan",
           "Africa",
           2010,
           34545014,
           4.637,
           75.92
          ],
          [
           "Uganda",
           "Africa",
           2010,
           32428164,
           6.155,
           77.39
          ],
          [
           "Morocco",
           "Africa",
           2010,
           32343384,
           2.583,
           32.05
          ],
          [
           "Ghana",
           "Africa",
           2010,
           24779614,
           4.052,
           69.94
          ],
          [
           "Mozambique",
           "Africa",
           2010,
           23531567,
           5.409,
           104.53
          ],
          [
           "Angola",
           "Africa",
           2010,
           23356247,
           6.218,
           120.49
          ],
          [
           "Madagascar",
           "Africa",
           2010,
           21151640,
           4.654,
           67.33
          ],
          [
           "Cote d'Ivoire",
           "Africa",
           2010,
           20532944,
           4.91,
           107.21
          ],
          [
           "Cameroon",
           "Africa",
           2010,
           20341236,
           5.017,
           107.17
          ],
          [
           "Niger",
           "Africa",
           2010,
           16464025,
           7.584,
           122.62
          ],
          [
           "Burkina Faso",
           "Africa",
           2010,
           15605211,
           5.869,
           114.39
          ],
          [
           "Mali",
           "Africa",
           2010,
           15049352,
           6.841,
           131.49
          ],
          [
           "Malawi",
           "Africa",
           2010,
           14539609,
           5.636,
           88.42
          ],
          [
           "Zambia",
           "Africa",
           2010,
           13605986,
           5.813,
           80.27
          ],
          [
           "Zimbabwe",
           "Africa",
           2010,
           12697728,
           3.721,
           86.34
          ],
          [
           "Senegal",
           "Africa",
           2010,
           12678143,
           5.05,
           66.39
          ],
          [
           "Somalia",
           "Africa",
           2010,
           12043886,
           6.869,
           157.18
          ],
          [
           "Chad",
           "Africa",
           2010,
           11952134,
           6.596,
           149.73
          ],
          [
           "Tunisia",
           "Africa",
           2010,
           10635245,
           2.044,
           18.39
          ],
          [
           "Guinea",
           "Africa",
           2010,
           10192168,
           5.174,
           117.24
          ],
          [
           "Rwanda",
           "Africa",
           2010,
           10039338,
           4.841,
           63.51
          ],
          [
           "South Sudan",
           "Africa",
           2010,
           9508372,
           5.194,
           109.25
          ],
          [
           "Benin",
           "Africa",
           2010,
           9199254,
           5.095,
           111.12
          ],
          [
           "Burundi",
           "Africa",
           2010,
           8675606,
           6.304,
           90.72
          ],
          [
           "Togo",
           "Africa",
           2010,
           6421674,
           4.792,
           89.56
          ],
          [
           "Sierra Leone",
           "Africa",
           2010,
           6415636,
           4.943,
           162.83
          ],
          [
           "Libya",
           "Africa",
           2010,
           6197667,
           2.525,
           16.64
          ],
          [
           "Central African Republic",
           "Africa",
           2010,
           4386765,
           4.626,
           150.02
          ],
          [
           "Congo, Rep.",
           "Africa",
           2010,
           4273738,
           5.072,
           62.46
          ],
          [
           "Liberia",
           "Africa",
           2010,
           3891357,
           5.024,
           96.67
          ],
          [
           "Mauritania",
           "Africa",
           2010,
           3494200,
           4.837,
           97.13
          ],
          [
           "Eritrea",
           "Africa",
           2010,
           3170437,
           4.968,
           55.4
          ],
          [
           "Namibia",
           "Africa",
           2010,
           2118877,
           3.229,
           48.34
          ],
          [
           "Lesotho",
           "Africa",
           2010,
           1995575,
           3.207,
           100.25
          ],
          [
           "Botswana",
           "Africa",
           2010,
           1987106,
           2.761,
           49.84
          ],
          [
           "Gambia",
           "Africa",
           2010,
           1793199,
           5.796,
           77.11
          ],
          [
           "Gabon",
           "Africa",
           2010,
           1624146,
           4.214,
           62.76
          ],
          [
           "Guinea-Bissau",
           "Africa",
           2010,
           1522603,
           5.115,
           113.83
          ],
          [
           "Mauritius",
           "Africa",
           2010,
           1247953,
           1.521,
           15.15
          ],
          [
           "Eswatini",
           "Africa",
           2010,
           1064841,
           3.559,
           88.7
          ],
          [
           "Equatorial Guinea",
           "Africa",
           2010,
           943640,
           5.14,
           111.93
          ],
          [
           "Djibouti",
           "Africa",
           2010,
           840194,
           3.604,
           76.38
          ],
          [
           "Comoros",
           "Africa",
           2010,
           689696,
           4.919,
           87.12
          ],
          [
           "Cape Verde",
           "Africa",
           2010,
           492644,
           2.427,
           24.93
          ],
          [
           "Sao Tome and Principe",
           "Africa",
           2010,
           180372,
           4.287,
           45.37
          ],
          [
           "Seychelles",
           "Africa",
           2010,
           91273,
           2.257,
           14.1
          ]
         ],
         "hovertemplate": "<b>%{hovertext}</b><br><br><extra></extra>",
         "hovertext": [
          "Nigeria",
          "Ethiopia",
          "Egypt",
          "Congo, Dem. Rep.",
          "South Africa",
          "Tanzania",
          "Kenya",
          "Algeria",
          "Sudan",
          "Uganda",
          "Morocco",
          "Ghana",
          "Mozambique",
          "Angola",
          "Madagascar",
          "Cote d'Ivoire",
          "Cameroon",
          "Niger",
          "Burkina Faso",
          "Mali",
          "Malawi",
          "Zambia",
          "Zimbabwe",
          "Senegal",
          "Somalia",
          "Chad",
          "Tunisia",
          "Guinea",
          "Rwanda",
          "South Sudan",
          "Benin",
          "Burundi",
          "Togo",
          "Sierra Leone",
          "Libya",
          "Central African Republic",
          "Congo, Rep.",
          "Liberia",
          "Mauritania",
          "Eritrea",
          "Namibia",
          "Lesotho",
          "Botswana",
          "Gambia",
          "Gabon",
          "Guinea-Bissau",
          "Mauritius",
          "Eswatini",
          "Equatorial Guinea",
          "Djibouti",
          "Comoros",
          "Cape Verde",
          "Sao Tome and Principe",
          "Seychelles"
         ],
         "ids": [
          "Nigeria",
          "Ethiopia",
          "Egypt",
          "Congo, Dem. Rep.",
          "South Africa",
          "Tanzania",
          "Kenya",
          "Algeria",
          "Sudan",
          "Uganda",
          "Morocco",
          "Ghana",
          "Mozambique",
          "Angola",
          "Madagascar",
          "Cote d'Ivoire",
          "Cameroon",
          "Niger",
          "Burkina Faso",
          "Mali",
          "Malawi",
          "Zambia",
          "Zimbabwe",
          "Senegal",
          "Somalia",
          "Chad",
          "Tunisia",
          "Guinea",
          "Rwanda",
          "South Sudan",
          "Benin",
          "Burundi",
          "Togo",
          "Sierra Leone",
          "Libya",
          "Central African Republic",
          "Congo, Rep.",
          "Liberia",
          "Mauritania",
          "Eritrea",
          "Namibia",
          "Lesotho",
          "Botswana",
          "Gambia",
          "Gabon",
          "Guinea-Bissau",
          "Mauritius",
          "Eswatini",
          "Equatorial Guinea",
          "Djibouti",
          "Comoros",
          "Cape Verde",
          "Sao Tome and Principe",
          "Seychelles"
         ],
         "legendgroup": "Africa",
         "marker": {
          "color": "#33dded",
          "line": {
           "color": "black",
           "width": 0.8
          },
          "opacity": 0.8,
          "size": {
           "bdata": "AAAARiLlokEAAABoHuWUQQAAAHBYu5NBAAAAaFTJjkEAAAA4EmyIQQAAACBlJYVBAAAA4LIKhEEAAABYxyeBQQAAALDreIBBAAAAQAjtfkEAAACAVdh+QQAAAOC1oXdBAAAA8AJxdkEAAABwNUZ2QQAAAID5K3RBAAAAAO2Uc0EAAABAH2ZzQQAAACATZ29BAAAAYLvDbUEAAAAAUbRsQQAAACBru2tBAAAAQIzzaUEAAAAAEDhoQQAAAOB/LmhBAAAAwM34ZkEAAADAAMxmQQAAAKD9SGRBAAAAAKVwY0EAAABABSZjQQAAAIDCImJBAAAAwNKLYUEAAADAIoxgQQAAAIAqf1hBAAAAAEV5WEEAAADAaKRXQQAAAEDzu1BBAAAAgJJNUEEAAACATrBNQQAAAACcqEpBAAAAgEIwSEEAAACAbipAQQAAAAA3cz5BAAAAACJSPkEAAAAAr1w7QQAAAABSyDhBAAAAAKs7N0EAAAAA0QozQQAAAACJPzBBAAAAADDMLEEAAAAABKQpQQAAAABADCVBAAAAAJARHkEAAAAAoAQGQQAAAACQSPZA",
           "dtype": "f8"
          },
          "sizemode": "area",
          "sizeref": 399812.15944444446,
          "symbol": "circle"
         },
         "mode": "markers",
         "name": "Africa",
         "orientation": "v",
         "showlegend": true,
         "type": "scatter",
         "x": {
          "bdata": "AAAAAADds0AAAAAAAMyQQAAAAACAkcNAAAAAAACghEAAAAAAgGLHQAAAAAAAaKFAAAAAAAAIo0AAAAAAgDzJQAAAAAAAiqpAAAAAAADEmEAAAAAAADi5QAAAAAAApKdAAAAAAACIjUAAAAAAANi4QAAAAAAAqJVAAAAAAADipEAAAAAAAHimQAAAAAAAYIlAAAAAAAA8lkAAAAAAAEydQAAAAAAA2JBAAAAAAAAUqkAAAAAAACCeQAAAAAAAsKVAAAAAAAAwg0AAAAAAAOydQAAAAACAZMRAAAAAAAAImkAAAAAAANCVQAAAAAAAWq9AAAAAAABsnEAAAAAAAPCGQAAAAAAAaJNAAAAAAADgkkAAAAAAgM3cQAAAAAAAsI5AAAAAAADLtEAAAAAAADSRQAAAAAAAxKpAAAAAAAConkAAAAAAAPPAQAAAAAAA5qJAAAAAAIDZyUAAAAAAAECYQAAAAAAASs5AAAAAAABclkAAAAAAACHPQAAAAAAAGcBAAAAAAMCY4EAAAAAAAOKkQAAAAAAA9KJAAAAAAAA3t0AAAAAAAACkQAAAAABA49NA",
          "dtype": "f8"
         },
         "xaxis": "x",
         "y": {
          "bdata": "4XoUrkdBTkCPwvUoXG9PQClcj8L1WFFAcT0K16PwTECPwvUoXA9MQNejcD0Kd05AexSuR+GaTkCF61G4HhVTQFyPwvUo7FBAKVyPwvWITUCF61G4HgVSQK5H4XoUzk5AH4XrUbj+SUC4HoXrUfhNQBSuR+F61E5AFK5H4Xq0TEAUrkfhetRMQOxRuB6Fi01A4XoUrkchTUC4HoXrUbhNQPYoXI/CFUtAH4XrUbj+S0D2KFyPwtVIQFyPwvUofFBAmpmZmZl5S0DXo3A9CjdMQM3MzMzMPFNAMzMzMzOzTEDhehSuRxFQQOxRuB6F60xA16NwPQq3TkDhehSuR+FMQB+F61G4nk1AUrgeheuxS0Bcj8L1KFxSQIXrUbgeBUhAw/UoXI/iTUCF61G4HqVOQI/C9ShcD1FAzczMzMxMTUCamZmZmXlNQEjhehSu50dAFK5H4XoUTkCPwvUoXM9PQMP1KFyPYk9AMzMzMzPzS0AfhetRuH5SQMP1KFyPAkdA16NwPQoXT0DhehSuR+FPQB+F61G4nlBAAAAAAACQUkAK16NwPTpRQHsUrkfhSlJA",
          "dtype": "f8"
         },
         "yaxis": "y"
        },
        {
         "customdata": [
          [
           "Russia",
           "Europe",
           2010,
           143479273,
           1.569,
           10.34
          ],
          [
           "Germany",
           "Europe",
           2010,
           80827001,
           1.386,
           4.18
          ],
          [
           "Turkey",
           "Europe",
           2010,
           72326992,
           2.101,
           17.33
          ],
          [
           "United Kingdom",
           "Europe",
           2010,
           63459801,
           1.899,
           5.16
          ],
          [
           "France",
           "Europe",
           2010,
           62879535,
           1.981,
           4.27
          ],
          [
           "Italy",
           "Europe",
           2010,
           59325232,
           1.435,
           3.97
          ],
          [
           "Spain",
           "Europe",
           2010,
           46931011,
           1.457,
           3.85
          ],
          [
           "Ukraine",
           "Europe",
           2010,
           45792086,
           1.435,
           11.72
          ],
          [
           "Poland",
           "Europe",
           2010,
           38329784,
           1.372,
           5.98
          ],
          [
           "Romania",
           "Europe",
           2010,
           20471860,
           1.372,
           11.48
          ],
          [
           "Netherlands",
           "Europe",
           2010,
           16682927,
           1.796,
           4.46
          ],
          [
           "Belgium",
           "Europe",
           2010,
           10938735,
           1.842,
           4.46
          ],
          [
           "Greece",
           "Europe",
           2010,
           10887640,
           1.499,
           3.91
          ],
          [
           "Portugal",
           "Europe",
           2010,
           10596055,
           1.333,
           3.87
          ],
          [
           "Czech Republic",
           "Europe",
           2010,
           10536514,
           1.501,
           3.38
          ],
          [
           "Hungary",
           "Europe",
           2010,
           9927380,
           1.364,
           6
          ],
          [
           "Belarus",
           "Europe",
           2010,
           9420576,
           1.46,
           5.52
          ],
          [
           "Sweden",
           "Europe",
           2010,
           9390157,
           1.987,
           3.06
          ],
          [
           "Azerbaijan",
           "Europe",
           2010,
           9032465,
           1.97,
           37.64
          ],
          [
           "Serbia",
           "Europe",
           2010,
           8991258,
           1.38,
           7.61
          ],
          [
           "Austria",
           "Europe",
           2010,
           8409945,
           1.438,
           4.33
          ],
          [
           "Switzerland",
           "Europe",
           2010,
           7808674,
           1.5,
           4.55
          ],
          [
           "Bulgaria",
           "Europe",
           2010,
           7425011,
           1.485,
           10.74
          ],
          [
           "Denmark",
           "Europe",
           2010,
           5554849,
           1.875,
           4.11
          ],
          [
           "Slovak Republic",
           "Europe",
           2010,
           5404293,
           1.35,
           6.97
          ],
          [
           "Finland",
           "Europe",
           2010,
           5365784,
           1.87,
           3.06
          ],
          [
           "Norway",
           "Europe",
           2010,
           4885878,
           1.95,
           3.23
          ],
          [
           "Ireland",
           "Europe",
           2010,
           4554330,
           2.003,
           4.17
          ],
          [
           "Croatia",
           "Europe",
           2010,
           4328163,
           1.465,
           5.47
          ],
          [
           "Georgia",
           "Europe",
           2010,
           4099096,
           1.82,
           14.16
          ],
          [
           "Moldova",
           "Europe",
           2010,
           4086090,
           1.477,
           17.17
          ],
          [
           "Bosnia and Herzegovina",
           "Europe",
           2010,
           3705478,
           1.242,
           7.18
          ],
          [
           "Lithuania",
           "Europe",
           2010,
           3123825,
           1.468,
           6.04
          ],
          [
           "Albania",
           "Europe",
           2010,
           2948029,
           1.741,
           13.3
          ],
          [
           "Armenia",
           "Europe",
           2010,
           2877314,
           1.55,
           18.52
          ],
          [
           "Latvia",
           "Europe",
           2010,
           2118855,
           1.553,
           7.81
          ],
          [
           "North Macedonia",
           "Europe",
           2010,
           2070737,
           1.452,
           10.16
          ],
          [
           "Slovenia",
           "Europe",
           2010,
           2043336,
           1.478,
           3.21
          ],
          [
           "Estonia",
           "Europe",
           2010,
           1332103,
           1.625,
           4.57
          ],
          [
           "Cyprus",
           "Europe",
           2010,
           1112617,
           1.478,
           3.57
          ],
          [
           "Montenegro",
           "Europe",
           2010,
           624279,
           1.698,
           6.44
          ],
          [
           "Luxembourg",
           "Europe",
           2010,
           507890,
           1.64,
           2.99
          ],
          [
           "Malta",
           "Europe",
           2010,
           414257,
           1.373,
           6.81
          ],
          [
           "Iceland",
           "Europe",
           2010,
           320342,
           2.119,
           2.62
          ]
         ],
         "hovertemplate": "<b>%{hovertext}</b><br><br><extra></extra>",
         "hovertext": [
          "Russia",
          "Germany",
          "Turkey",
          "United Kingdom",
          "France",
          "Italy",
          "Spain",
          "Ukraine",
          "Poland",
          "Romania",
          "Netherlands",
          "Belgium",
          "Greece",
          "Portugal",
          "Czech Republic",
          "Hungary",
          "Belarus",
          "Sweden",
          "Azerbaijan",
          "Serbia",
          "Austria",
          "Switzerland",
          "Bulgaria",
          "Denmark",
          "Slovak Republic",
          "Finland",
          "Norway",
          "Ireland",
          "Croatia",
          "Georgia",
          "Moldova",
          "Bosnia and Herzegovina",
          "Lithuania",
          "Albania",
          "Armenia",
          "Latvia",
          "North Macedonia",
          "Slovenia",
          "Estonia",
          "Cyprus",
          "Montenegro",
          "Luxembourg",
          "Malta",
          "Iceland"
         ],
         "ids": [
          "Russia",
          "Germany",
          "Turkey",
          "United Kingdom",
          "France",
          "Italy",
          "Spain",
          "Ukraine",
          "Poland",
          "Romania",
          "Netherlands",
          "Belgium",
          "Greece",
          "Portugal",
          "Czech Republic",
          "Hungary",
          "Belarus",
          "Sweden",
          "Azerbaijan",
          "Serbia",
          "Austria",
          "Switzerland",
          "Bulgaria",
          "Denmark",
          "Slovak Republic",
          "Finland",
          "Norway",
          "Ireland",
          "Croatia",
          "Georgia",
          "Moldova",
          "Bosnia and Herzegovina",
          "Lithuania",
          "Albania",
          "Armenia",
          "Latvia",
          "North Macedonia",
          "Slovenia",
          "Estonia",
          "Cyprus",
          "Montenegro",
          "Luxembourg",
          "Malta",
          "Iceland"
         ],
         "legendgroup": "Europe",
         "marker": {
          "color": "#ffeb33",
          "line": {
           "color": "black",
           "width": 0.8
          },
          "opacity": 0.8,
          "size": {
           "bdata": "AAAA0qMaoUEAAADkSUWTQQAAAEB9PpFBAAAAyI5CjkEAAAB4ufuNQQAAAIDZSYxBAAAAGOJghkEAAACw2tWFQQAAAMDtRoJBAAAAQAOGc0EAAADg9dFvQQAAAOAt3WRBAAAAADvEZEEAAADg2jVkQQAAAEDIGGRBAAAAgFrvYkEAAAAA5PdhQQAAAKAJ6WFBAAAAIGI6YUEAAABAQyZhQQAAACBrCmBBAAAAgKjJXUEAAADA/FJcQQAAAECoMFVBAAAAQKGdVEEAAAAABnhUQQAAAIBdo1JBAAAAgJZfUUEAAADAuIJQQQAAAAAMRk9BAAAAAKUsT0EAAAAAQ0VMQQAAAIA41UdBAAAAgN59RkEAAAAAwfNFQQAAAIBjKkBBAAAAANGYP0EAAAAAyC0/QQAAAACHUzRBAAAAACn6MEEAAAAALg0jQQAAAADI/x5BAAAAAMRIGUEAAAAAWI0TQQ==",
           "dtype": "f8"
          },
          "sizemode": "area",
          "sizeref": 399812.15944444446,
          "symbol": "circle"
         },
         "mode": "markers",
         "name": "Europe",
         "orientation": "v",
         "showlegend": true,
         "type": "scatter",
         "x": {
          "bdata": "AAAAAIDH1kAAAAAAoL3jQAAAAADAidFAAAAAAKDT4UAAAAAA4PnhQAAAAAAgreFAAAAAAMC+30AAAAAAAJC+QAAAAADAQtVAAAAAAEAP0UAAAAAAwILmQAAAAADAD+RAAAAAAIAN3EAAAAAAgJnaQAAAAABAsNtAAAAAAEDh1UAAAAAAgMLPQAAAAACg/eRAAAAAAACsz0AAAAAAgBvKQAAAAAAAKeVAAAAAAEBH60AAAAAAgNnNQAAAAADAe+VAAAAAAMCR2EAAAAAAAHXjQAAAAADAce5AAAAAAGA/5UAAAAAAgEXUQAAAAAAARbtAAAAAAAB+skAAAAAAABLDQAAAAADAk9RAAAAAAABkw0AAAAAAAC+6QAAAAAAA09FAAAAAAIAtxkAAAAAAgAHcQAAAAABANdZAAAAAACCP4EAAAAAAgGnLQAAAAADwZfZAAAAAAACt20AAAAAAIJnjQA==",
          "dtype": "f8"
         },
         "xaxis": "x",
         "y": {
          "bdata": "ZmZmZmYGUUCamZmZmRlUQIXrUbgeZVNAexSuR+EaVEAK16NwPVpUQAAAAAAAgFRAH4XrUbh+VEBmZmZmZrZRQJqZmZmZGVNAmpmZmZlpUkCkcD0K1zNUQBSuR+F6BFRAAAAAAAAQVEAzMzMzMwNUQOxRuB6Fa1NA9ihcj8KlUkCamZmZmZlRQOF6FK5HYVRAMzMzMzNTUUBI4XoUrpdSQIXrUbgeJVRAH4XrUbieVEAUrkfhenRSQMP1KFyP0lNAuB6F61HoUkB7FK5H4QpUQArXo3A9OlRArkfhehQuVEAAAAAAADBTQHE9CtejMFJAAAAAAABwUUDhehSuRxFTQKRwPQrXU1JAKVyPwvVoU0AzMzMzM4NSQM3MzMzMTFJA16NwPQr3UkA9CtejcN1TQI/C9Shc/1JASOF6FK4HVECuR+F6FP5SQDMzMzMzM1RAexSuR+EaVEDXo3A9CpdUQA==",
          "dtype": "f8"
         },
         "yaxis": "y"
        }
       ],
       "frames": [
        {
         "data": [
          {
           "mode": "text",
           "showlegend": false,
           "text": [
            "2010"
           ],
           "textfont": {
            "color": "lightgray",
            "size": 200
           },
           "textposition": "middle center",
           "type": "scatter",
           "x": [
            8000
           ],
           "y": [
            45
           ]
          },
          {
           "customdata": [
            [
             "China",
             "Asia",
             2010,
             1368810604,
             1.65,
             15.76
            ],
            [
             "India",
             "Asia",
             2010,
             1234281163,
             2.563,
             58.23
            ],
            [
             "Indonesia",
             "Asia",
             2010,
             241834226,
             2.434,
             34.12
            ],
            [
             "Pakistan",
             "Asia",
             2010,
             179424643,
             3.43,
             87.51
            ],
            [
             "Bangladesh",
             "Asia",
             2010,
             147575433,
             2.277,
             49.1
            ],
            [
             "Japan",
             "Asia",
             2010,
             128542349,
             1.374,
             3.2
            ],
            [
             "Philippines",
             "Asia",
             2010,
             93966784,
             3.151,
             32.01
            ],
            [
             "Vietnam",
             "Asia",
             2010,
             87967655,
             1.82,
             23.09
            ],
            [
             "Iran",
             "Asia",
             2010,
             73762519,
             1.904,
             19.7
            ],
            [
             "Thailand",
             "Asia",
             2010,
             67195032,
             1.443,
             13.34
            ],
            [
             "Myanmar",
             "Asia",
             2010,
             50600827,
             2.003,
             63.3
            ],
            [
             "South Korea",
             "Asia",
             2010,
             49545638,
             1.266,
             4.13
            ],
            [
             "Iraq",
             "Asia",
             2010,
             29741977,
             4.211,
             34.75
            ],
            [
             "Afghanistan",
             "Asia",
             2010,
             29185511,
             5.659,
             87.95
            ],
            [
             "Uzbekistan",
             "Asia",
             2010,
             28515908,
             2.41,
             36.44
            ],
            [
             "Malaysia",
             "Asia",
             2010,
             28208028,
             2.002,
             7.94
            ],
            [
             "Saudi Arabia",
             "Asia",
             2010,
             27421468,
             2.829,
             12.08
            ],
            [
             "Nepal",
             "Asia",
             2010,
             27013207,
             2.619,
             46.83
            ],
            [
             "North Korea",
             "Asia",
             2010,
             24548840,
             2.003,
             29.5
            ],
            [
             "Taiwan",
             "Asia",
             2010,
             23187556,
             0.895,
             5.38
            ],
            [
             "Yemen",
             "Asia",
             2010,
             23154854,
             4.498,
             55.96
            ],
            [
             "Australia",
             "Asia",
             2010,
             22154687,
             1.886,
             4.77
            ],
            [
             "Syria",
             "Asia",
             2010,
             21362541,
             3.078,
             16.09
            ],
            [
             "Sri Lanka",
             "Asia",
             2010,
             20261738,
             2.343,
             11.61
            ],
            [
             "Kazakhstan",
             "Asia",
             2010,
             16252273,
             2.538,
             20.23
            ],
            [
             "Cambodia",
             "Asia",
             2010,
             14312205,
             2.966,
             44.29
            ],
            [
             "United Arab Emirates",
             "Asia",
             2010,
             8549998,
             1.868,
             8.48
            ],
            [
             "Tajikistan",
             "Asia",
             2010,
             7527397,
             3.78,
             43.22
            ],
            [
             "Israel",
             "Asia",
             2010,
             7346446,
             2.92,
             4.56
            ],
            [
             "Papua New Guinea",
             "Asia",
             2010,
             7310512,
             3.954,
             58.22
            ],
            [
             "Jordan",
             "Asia",
             2010,
             7261541,
             3.458,
             20.32
            ],
            [
             "Hong Kong, China",
             "Asia",
             2010,
             6966324,
             1.075,
             2.74
            ],
            [
             "Lao",
             "Asia",
             2010,
             6249168,
             3.29,
             68.09
            ],
            [
             "Kyrgyz Republic",
             "Asia",
             2010,
             5422298,
             2.974,
             29.58
            ],
            [
             "Singapore",
             "Asia",
             2010,
             5131170,
             1.261,
             2.81
            ],
            [
             "Turkmenistan",
             "Asia",
             2010,
             5087211,
             2.412,
             59.91
            ],
            [
             "Lebanon",
             "Asia",
             2010,
             4953064,
             1.513,
             10.23
            ],
            [
             "New Zealand",
             "Asia",
             2010,
             4370060,
             2.115,
             6.14
            ],
            [
             "Palestine",
             "Asia",
             2010,
             4055632,
             4.216,
             23.32
            ],
            [
             "Oman",
             "Asia",
             2010,
             3041435,
             2.901,
             11.69
            ],
            [
             "Kuwait",
             "Asia",
             2010,
             2991884,
             2.673,
             10.39
            ],
            [
             "Mongolia",
             "Asia",
             2010,
             2719902,
             2.437,
             26.05
            ],
            [
             "Qatar",
             "Asia",
             2010,
             1856329,
             2.085,
             9
            ],
            [
             "Bahrain",
             "Asia",
             2010,
             1240864,
             2.142,
             8.53
            ],
            [
             "Timor-Leste",
             "Asia",
             2010,
             1093517,
             6.237,
             62.3
            ],
            [
             "Fiji",
             "Asia",
             2010,
             859816,
             2.67,
             23.87
            ],
            [
             "Bhutan",
             "Asia",
             2010,
             685502,
             2.375,
             42.51
            ],
            [
             "Solomon Islands",
             "Asia",
             2010,
             527861,
             4.236,
             25.73
            ],
            [
             "Brunei",
             "Asia",
             2010,
             388634,
             2.051,
             9.66
            ],
            [
             "Maldives",
             "Asia",
             2010,
             365730,
             2.339,
             13.85
            ],
            [
             "Vanuatu",
             "Asia",
             2010,
             236216,
             3.499,
             29.44
            ],
            [
             "Samoa",
             "Asia",
             2010,
             185944,
             4.338,
             18.7
            ],
            [
             "Tonga",
             "Asia",
             2010,
             103981,
             3.914,
             17.4
            ],
            [
             "Kiribati",
             "Asia",
             2010,
             102930,
             3.048,
             64.67
            ],
            [
             "Micronesia, Fed. Sts.",
             "Asia",
             2010,
             102916,
             3.46,
             39.85
            ]
           ],
           "hovertemplate": "<b>%{hovertext}</b><br><br><extra></extra>",
           "hovertext": [
            "China",
            "India",
            "Indonesia",
            "Pakistan",
            "Bangladesh",
            "Japan",
            "Philippines",
            "Vietnam",
            "Iran",
            "Thailand",
            "Myanmar",
            "South Korea",
            "Iraq",
            "Afghanistan",
            "Uzbekistan",
            "Malaysia",
            "Saudi Arabia",
            "Nepal",
            "North Korea",
            "Taiwan",
            "Yemen",
            "Australia",
            "Syria",
            "Sri Lanka",
            "Kazakhstan",
            "Cambodia",
            "United Arab Emirates",
            "Tajikistan",
            "Israel",
            "Papua New Guinea",
            "Jordan",
            "Hong Kong, China",
            "Lao",
            "Kyrgyz Republic",
            "Singapore",
            "Turkmenistan",
            "Lebanon",
            "New Zealand",
            "Palestine",
            "Oman",
            "Kuwait",
            "Mongolia",
            "Qatar",
            "Bahrain",
            "Timor-Leste",
            "Fiji",
            "Bhutan",
            "Solomon Islands",
            "Brunei",
            "Maldives",
            "Vanuatu",
            "Samoa",
            "Tonga",
            "Kiribati",
            "Micronesia, Fed. Sts."
           ],
           "ids": [
            "China",
            "India",
            "Indonesia",
            "Pakistan",
            "Bangladesh",
            "Japan",
            "Philippines",
            "Vietnam",
            "Iran",
            "Thailand",
            "Myanmar",
            "South Korea",
            "Iraq",
            "Afghanistan",
            "Uzbekistan",
            "Malaysia",
            "Saudi Arabia",
            "Nepal",
            "North Korea",
            "Taiwan",
            "Yemen",
            "Australia",
            "Syria",
            "Sri Lanka",
            "Kazakhstan",
            "Cambodia",
            "United Arab Emirates",
            "Tajikistan",
            "Israel",
            "Papua New Guinea",
            "Jordan",
            "Hong Kong, China",
            "Lao",
            "Kyrgyz Republic",
            "Singapore",
            "Turkmenistan",
            "Lebanon",
            "New Zealand",
            "Palestine",
            "Oman",
            "Kuwait",
            "Mongolia",
            "Qatar",
            "Bahrain",
            "Timor-Leste",
            "Fiji",
            "Bhutan",
            "Solomon Islands",
            "Brunei",
            "Maldives",
            "Vanuatu",
            "Samoa",
            "Tonga",
            "Kiribati",
            "Micronesia, Fed. Sts."
           ],
           "legendgroup": "Asia",
           "marker": {
            "color": "#ff798e",
            "size": {
             "bdata": "AAAAG5ll1EEAAMCyaGTSQQAAAOQx1KxBAAAABptjpUEAAAASpZehQQAAADSapZ5BAAAAAEdnlkEAAACcHvmUQQAAAFwblpFBAAAAYEIFkEEAAADY2yCIQQAAADANoIdBAAAAkDldfEEAAABwXtV7QQAAAEDkMXtBAAAAwLnmekEAAADAsSZ6QQAAAHAFw3lBAAAAgF5pd0EAAABABh12QQAAAGAKFXZBAAAA8NsgdUEAAADQdl90QQAAAKC2UnNBAAAAIK7/bkEAAACgYUxrQQAAAMDNTmBBAAAAQPm2XEEAAACAQwZcQQAAAAAs41tBAAAAQFmzW0EAAAAADZNaQQAAAAC01ldBAAAAgDavVEEAAACA6JJTQQAAAMD6Z1NBAAAAAPrkUkEAAAAAo6tQQQAAAAAo8U5BAAAAgE00R0EAAAAAhtNGQQAAAABPwERBAAAAAElTPEEAAAAAIO8yQQAAAACNrzBBAAAAAFA9KkEAAAAAfOskQQAAAADqGyBBAAAAAGi4F0EAAAAAiFIWQQAAAADA1QxBAAAAAMCyBkEAAAAA0GL5QAAAAAAgIflAAAAAAEAg+UA=",
             "dtype": "f8"
            },
            "sizemode": "area",
            "sizeref": 399812.15944444446,
            "symbol": "circle"
           },
           "mode": "markers",
           "name": "Asia",
           "orientation": "v",
           "showlegend": true,
           "type": "scatter",
           "x": {
            "bdata": "AAAAAACNwkAAAAAAAGOxQAAAAAAAhcBAAAAAAADQr0AAAAAAAKyjQAAAAADAdOFAAAAAAADPtUAAAAAAAFGxQAAAAADAttFAAAAAAIBYykAAAAAAANCsQAAAAAAApN1AAAAAAACxyUAAAAAAACCaQAAAAAAAkLBAAAAAAACL1EAAAAAAgC7mQAAAAAAADJ9AAAAAAADEmkAAAAAAoDDiQAAAAAAA1rFAAAAAAEBH5EAAAAAAAI+4QAAAAACAm8BAAAAAAECg00AAAAAAALSjQAAAAABgCOtAAAAAAAC0oEAAAAAAQPjcQAAAAAAAPqhAAAAAAABVwkAAAAAAgH3nQAAAAAAAebBAAAAAAADMpUAAAAAAUNbxQAAAAAAAa8NAAAAAAAAjzEAAAAAAQHrfQAAAAAAAZq9AAAAAAAAj5kAAAAAAAGbyQAAAAAAACL5AAAAAAGBK/UAAAAAAYM/jQAAAAACAlsFAAAAAAAC5vEAAAAAAAJ66QAAAAAAAPJ1AAAAAAMCq80AAAAAAgF7HQAAAAAAACqdAAAAAAAAftUAAAAAAAH+zQAAAAAAAYJtAAAAAAADwqUA=",
            "dtype": "f8"
           },
           "xaxis": "x",
           "y": {
            "bdata": "UrgehevxUkB7FK5H4apQQFyPwvUobFFAMzMzMzMTUEDhehSuR2FRQClcj8L1yFRAj8L1KFxPUUDNzMzMzFxSQM3MzMzMzFJAAAAAAABAU0AAAAAAADBQQEjhehSuJ1RAzczMzMxcUkDNzMzMzOxNQPYoXI/CNVFAmpmZmZmZUkAzMzMzM7NSQM3MzMzMTFFA16NwPQq3UUAAAAAAAOBTQM3MzMzM/FBAPQrXo3B9VECF61G4HvVSQFyPwvUorFJACtejcD0aUUAUrkfhesRQQLgehetROFJA4XoUrkdxUUCF61G4HnVUQGZmZmZmJkxASOF6FK5nU0DXo3A9CqdUQMP1KFyP4k9AzczMzMxsUUBcj8L1KMxUQNejcD0KZ1FAexSuR+FKU0Bcj8L1KCxUQFyPwvUofFJAPQrXo3DNUkCPwvUoXE9UQDMzMzMzg1BAMzMzMzODU0AfhetRuI5TQMP1KFyPglFAmpmZmZnZUEC4HoXrUehRQHsUrkfh2k5A9ihcj8LFUkAK16NwPcpTQAAAAAAAAFBArkfhehQeUkDhehSuR8FRQLgehetReE5APQrXo3C9UEA=",
            "dtype": "f8"
           },
           "yaxis": "y"
          },
          {
           "customdata": [
            [
             "United States",
             "Americas",
             2010,
             309011469,
             1.928,
             7.33
            ],
            [
             "Brazil",
             "Americas",
             2010,
             195713637,
             1.838,
             18.71
            ],
            [
             "Mexico",
             "Americas",
             2010,
             114092961,
             2.281,
             17.36
            ],
            [
             "Colombia",
             "Americas",
             2010,
             45222699,
             2.376,
             18.47
            ],
            [
             "Argentina",
             "Americas",
             2010,
             40895751,
             2.215,
             14.44
            ],
            [
             "Canada",
             "Americas",
             2010,
             34147566,
             1.627,
             5.65
            ],
            [
             "Peru",
             "Americas",
             2010,
             29027680,
             2.511,
             20.13
            ],
            [
             "Venezuela",
             "Americas",
             2010,
             28439942,
             2.472,
             17
            ],
            [
             "Chile",
             "Americas",
             2010,
             17062531,
             1.858,
             8.7
            ],
            [
             "Ecuador",
             "Americas",
             2010,
             15011114,
             2.655,
             18.3
            ],
            [
             "Guatemala",
             "Americas",
             2010,
             14630420,
             3.974,
             35.01
            ],
            [
             "Cuba",
             "Americas",
             2010,
             11225833,
             1.467,
             6.15
            ],
            [
             "Bolivia",
             "Americas",
             2010,
             10048597,
             3.357,
             41.1
            ],
            [
             "Haiti",
             "Americas",
             2010,
             9949318,
             3.35,
             208.62
            ],
            [
             "Dominican Republic",
             "Americas",
             2010,
             9695117,
             2.584,
             34.23
            ],
            [
             "Honduras",
             "Americas",
             2010,
             8317467,
             3.154,
             23.6
            ],
            [
             "Paraguay",
             "Americas",
             2010,
             6248017,
             2.968,
             26.04
            ],
            [
             "El Salvador",
             "Americas",
             2010,
             6183877,
             2.263,
             19.25
            ],
            [
             "Nicaragua",
             "Americas",
             2010,
             5824058,
             2.631,
             20.44
            ],
            [
             "Costa Rica",
             "Americas",
             2010,
             4577371,
             1.847,
             10.1
            ],
            [
             "Panama",
             "Americas",
             2010,
             3642691,
             2.549,
             19.86
            ],
            [
             "Uruguay",
             "Americas",
             2010,
             3359273,
             2.08,
             10.7
            ],
            [
             "Jamaica",
             "Americas",
             2010,
             2810464,
             2.334,
             18.31
            ],
            [
             "Trinidad and Tobago",
             "Americas",
             2010,
             1328144,
             1.802,
             23.37
            ],
            [
             "Guyana",
             "Americas",
             2010,
             749430,
             2.682,
             37.43
            ],
            [
             "Suriname",
             "Americas",
             2010,
             529126,
             2.345,
             24.7
            ],
            [
             "Bahamas",
             "Americas",
             2010,
             354936,
             1.901,
             12.87
            ],
            [
             "Belize",
             "Americas",
             2010,
             322465,
             2.801,
             18.91
            ],
            [
             "Barbados",
             "Americas",
             2010,
             282131,
             1.839,
             14.62
            ],
            [
             "St. Lucia",
             "Americas",
             2010,
             174092,
             1.982,
             18.62
            ],
            [
             "St. Vincent and the Grenadines",
             "Americas",
             2010,
             108260,
             2.07,
             20.85
            ],
            [
             "Grenada",
             "Americas",
             2010,
             106227,
             2.24,
             14.24
            ],
            [
             "Antigua and Barbuda",
             "Americas",
             2010,
             88030,
             2.13,
             9.59
            ]
           ],
           "hovertemplate": "<b>%{hovertext}</b><br><br><extra></extra>",
           "hovertext": [
            "United States",
            "Brazil",
            "Mexico",
            "Colombia",
            "Argentina",
            "Canada",
            "Peru",
            "Venezuela",
            "Chile",
            "Ecuador",
            "Guatemala",
            "Cuba",
            "Bolivia",
            "Haiti",
            "Dominican Republic",
            "Honduras",
            "Paraguay",
            "El Salvador",
            "Nicaragua",
            "Costa Rica",
            "Panama",
            "Uruguay",
            "Jamaica",
            "Trinidad and Tobago",
            "Guyana",
            "Suriname",
            "Bahamas",
            "Belize",
            "Barbados",
            "St. Lucia",
            "St. Vincent and the Grenadines",
            "Grenada",
            "Antigua and Barbuda"
           ],
           "ids": [
            "United States",
            "Brazil",
            "Mexico",
            "Colombia",
            "Argentina",
            "Canada",
            "Peru",
            "Venezuela",
            "Chile",
            "Ecuador",
            "Guatemala",
            "Cuba",
            "Bolivia",
            "Haiti",
            "Dominican Republic",
            "Honduras",
            "Paraguay",
            "El Salvador",
            "Nicaragua",
            "Costa Rica",
            "Panama",
            "Uruguay",
            "Jamaica",
            "Trinidad and Tobago",
            "Guyana",
            "Suriname",
            "Bahamas",
            "Belize",
            "Barbados",
            "St. Lucia",
            "St. Vincent and the Grenadines",
            "Grenada",
            "Antigua and Barbuda"
           ],
           "legendgroup": "Americas",
           "marker": {
            "color": "#98ef33",
            "size": {
             "bdata": "AAAADSRrskEAAADKtFSnQQAAAISuM5tBAAAAWFmQhUEAAAA4KICDQQAAAHBnSIBBAAAAANaue0EAAABgWB97QQAAADCoRXBBAAAAQKWhbEEAAACAwudrQQAAACBdaWVBAAAAoIoqY0EAAADAEPpiQQAAAKDxfWJBAAAAwIa6X0EAAABAlNVXQQAAAEDxlldBAAAAgI43VkEAAADAFnZRQQAAAIChyktBAAAAgBShSUEAAAAAMHFFQQAAAAAQRDRBAAAAAOzeJkEAAAAAzCUgQQAAAADgqRVBAAAAAISuE0EAAAAATDgRQQAAAABgQAVBAAAAAEBu+kAAAAAAMO/5QAAAAADgffVA",
             "dtype": "f8"
            },
            "sizemode": "area",
            "sizeref": 399812.15944444446,
            "symbol": "circle"
           },
           "mode": "markers",
           "name": "Americas",
           "orientation": "v",
           "showlegend": true,
           "type": "scatter",
           "x": {
            "bdata": "AAAAAOAo6EAAAAAAAI7MQAAAAAAAkM9AAAAAAIBmxUAAAAAAAHjSQAAAAACA3+NAAAAAAICtw0AAAAAAwH3QQAAAAADA6NJAAAAAAIAswkAAAAAAADq6QAAAAAAAKbpAAAAAAADZtEAAAAAAAJiXQAAAAACAMsZAAAAAAACSrkAAAAAAgAbDQAAAAAAAibhAAAAAAAACr0AAAAAAgDbJQAAAAACAh85AAAAAAMDB0EAAAAAAAFK/QAAAAAAAh95AAAAAAADBtkAAAAAAgJnLQAAAAADAAt1AAAAAAACpvkAAAAAAAMrPQAAAAACAycZAAAAAAICOw0AAAAAAAIPFQAAAAAAALdRA",
            "dtype": "f8"
           },
           "xaxis": "x",
           "y": {
            "bdata": "j8L1KFyvU0C4HoXrUZhSQB+F61G4zlJAuB6F61GIU0AUrkfhevRSQArXo3A9WlRAcT0K16NgU0BSuB6F69FSQEjhehSup1NAmpmZmZmpUkCamZmZmelRQFK4HoXrkVNAUrgeheuxUUCF61G4HkVAQOF6FK5HgVJAhetRuB41UkDXo3A9CqdSQNejcD0KV1JAKVyPwvVoU0DsUbgehdtTQOxRuB6Fi1NA7FG4HoUbU0AAAAAAAPBSQEjhehSuZ1JAPQrXo3D9UEDsUbgehdtRQHsUrkfhWlJA9ihcj8JlUkCPwvUoXC9TQKRwPQrX41JAmpmZmZk5UkAUrkfheoRSQNejcD0KJ1NA",
            "dtype": "f8"
           },
           "yaxis": "y"
          },
          {
           "customdata": [
            [
             "Nigeria",
             "Africa",
             2010,
             158503203,
             6.022,
             135.2
            ],
            [
             "Ethiopia",
             "Africa",
             2010,
             87639962,
             4.902,
             82.94
            ],
            [
             "Egypt",
             "Africa",
             2010,
             82761244,
             2.883,
             28.97
            ],
            [
             "Congo, Dem. Rep.",
             "Africa",
             2010,
             64563853,
             6.251,
             115.29
            ],
            [
             "South Africa",
             "Africa",
             2010,
             51216967,
             2.467,
             52.49
            ],
            [
             "Tanzania",
             "Africa",
             2010,
             44346532,
             5.428,
             72.27
            ],
            [
             "Kenya",
             "Africa",
             2010,
             42030684,
             4.616,
             56.54
            ],
            [
             "Algeria",
             "Africa",
             2010,
             35977451,
             2.817,
             27.41
            ],
            [
             "Sudan",
             "Africa",
             2010,
             34545014,
             4.637,
             75.92
            ],
            [
             "Uganda",
             "Africa",
             2010,
             32428164,
             6.155,
             77.39
            ],
            [
             "Morocco",
             "Africa",
             2010,
             32343384,
             2.583,
             32.05
            ],
            [
             "Ghana",
             "Africa",
             2010,
             24779614,
             4.052,
             69.94
            ],
            [
             "Mozambique",
             "Africa",
             2010,
             23531567,
             5.409,
             104.53
            ],
            [
             "Angola",
             "Africa",
             2010,
             23356247,
             6.218,
             120.49
            ],
            [
             "Madagascar",
             "Africa",
             2010,
             21151640,
             4.654,
             67.33
            ],
            [
             "Cote d'Ivoire",
             "Africa",
             2010,
             20532944,
             4.91,
             107.21
            ],
            [
             "Cameroon",
             "Africa",
             2010,
             20341236,
             5.017,
             107.17
            ],
            [
             "Niger",
             "Africa",
             2010,
             16464025,
             7.584,
             122.62
            ],
            [
             "Burkina Faso",
             "Africa",
             2010,
             15605211,
             5.869,
             114.39
            ],
            [
             "Mali",
             "Africa",
             2010,
             15049352,
             6.841,
             131.49
            ],
            [
             "Malawi",
             "Africa",
             2010,
             14539609,
             5.636,
             88.42
            ],
            [
             "Zambia",
             "Africa",
             2010,
             13605986,
             5.813,
             80.27
            ],
            [
             "Zimbabwe",
             "Africa",
             2010,
             12697728,
             3.721,
             86.34
            ],
            [
             "Senegal",
             "Africa",
             2010,
             12678143,
             5.05,
             66.39
            ],
            [
             "Somalia",
             "Africa",
             2010,
             12043886,
             6.869,
             157.18
            ],
            [
             "Chad",
             "Africa",
             2010,
             11952134,
             6.596,
             149.73
            ],
            [
             "Tunisia",
             "Africa",
             2010,
             10635245,
             2.044,
             18.39
            ],
            [
             "Guinea",
             "Africa",
             2010,
             10192168,
             5.174,
             117.24
            ],
            [
             "Rwanda",
             "Africa",
             2010,
             10039338,
             4.841,
             63.51
            ],
            [
             "South Sudan",
             "Africa",
             2010,
             9508372,
             5.194,
             109.25
            ],
            [
             "Benin",
             "Africa",
             2010,
             9199254,
             5.095,
             111.12
            ],
            [
             "Burundi",
             "Africa",
             2010,
             8675606,
             6.304,
             90.72
            ],
            [
             "Togo",
             "Africa",
             2010,
             6421674,
             4.792,
             89.56
            ],
            [
             "Sierra Leone",
             "Africa",
             2010,
             6415636,
             4.943,
             162.83
            ],
            [
             "Libya",
             "Africa",
             2010,
             6197667,
             2.525,
             16.64
            ],
            [
             "Central African Republic",
             "Africa",
             2010,
             4386765,
             4.626,
             150.02
            ],
            [
             "Congo, Rep.",
             "Africa",
             2010,
             4273738,
             5.072,
             62.46
            ],
            [
             "Liberia",
             "Africa",
             2010,
             3891357,
             5.024,
             96.67
            ],
            [
             "Mauritania",
             "Africa",
             2010,
             3494200,
             4.837,
             97.13
            ],
            [
             "Eritrea",
             "Africa",
             2010,
             3170437,
             4.968,
             55.4
            ],
            [
             "Namibia",
             "Africa",
             2010,
             2118877,
             3.229,
             48.34
            ],
            [
             "Lesotho",
             "Africa",
             2010,
             1995575,
             3.207,
             100.25
            ],
            [
             "Botswana",
             "Africa",
             2010,
             1987106,
             2.761,
             49.84
            ],
            [
             "Gambia",
             "Africa",
             2010,
             1793199,
             5.796,
             77.11
            ],
            [
             "Gabon",
             "Africa",
             2010,
             1624146,
             4.214,
             62.76
            ],
            [
             "Guinea-Bissau",
             "Africa",
             2010,
             1522603,
             5.115,
             113.83
            ],
            [
             "Mauritius",
             "Africa",
             2010,
             1247953,
             1.521,
             15.15
            ],
            [
             "Eswatini",
             "Africa",
             2010,
             1064841,
             3.559,
             88.7
            ],
            [
             "Equatorial Guinea",
             "Africa",
             2010,
             943640,
             5.14,
             111.93
            ],
            [
             "Djibouti",
             "Africa",
             2010,
             840194,
             3.604,
             76.38
            ],
            [
             "Comoros",
             "Africa",
             2010,
             689696,
             4.919,
             87.12
            ],
            [
             "Cape Verde",
             "Africa",
             2010,
             492644,
             2.427,
             24.93
            ],
            [
             "Sao Tome and Principe",
             "Africa",
             2010,
             180372,
             4.287,
             45.37
            ],
            [
             "Seychelles",
             "Africa",
             2010,
             91273,
             2.257,
             14.1
            ]
           ],
           "hovertemplate": "<b>%{hovertext}</b><br><br><extra></extra>",
           "hovertext": [
            "Nigeria",
            "Ethiopia",
            "Egypt",
            "Congo, Dem. Rep.",
            "South Africa",
            "Tanzania",
            "Kenya",
            "Algeria",
            "Sudan",
            "Uganda",
            "Morocco",
            "Ghana",
            "Mozambique",
            "Angola",
            "Madagascar",
            "Cote d'Ivoire",
            "Cameroon",
            "Niger",
            "Burkina Faso",
            "Mali",
            "Malawi",
            "Zambia",
            "Zimbabwe",
            "Senegal",
            "Somalia",
            "Chad",
            "Tunisia",
            "Guinea",
            "Rwanda",
            "South Sudan",
            "Benin",
            "Burundi",
            "Togo",
            "Sierra Leone",
            "Libya",
            "Central African Republic",
            "Congo, Rep.",
            "Liberia",
            "Mauritania",
            "Eritrea",
            "Namibia",
            "Lesotho",
            "Botswana",
            "Gambia",
            "Gabon",
            "Guinea-Bissau",
            "Mauritius",
            "Eswatini",
            "Equatorial Guinea",
            "Djibouti",
            "Comoros",
            "Cape Verde",
            "Sao Tome and Principe",
            "Seychelles"
           ],
           "ids": [
            "Nigeria",
            "Ethiopia",
            "Egypt",
            "Congo, Dem. Rep.",
            "South Africa",
            "Tanzania",
            "Kenya",
            "Algeria",
            "Sudan",
            "Uganda",
            "Morocco",
            "Ghana",
            "Mozambique",
            "Angola",
            "Madagascar",
            "Cote d'Ivoire",
            "Cameroon",
            "Niger",
            "Burkina Faso",
            "Mali",
            "Malawi",
            "Zambia",
            "Zimbabwe",
            "Senegal",
            "Somalia",
            "Chad",
            "Tunisia",
            "Guinea",
            "Rwanda",
            "South Sudan",
            "Benin",
            "Burundi",
            "Togo",
            "Sierra Leone",
            "Libya",
            "Central African Republic",
            "Congo, Rep.",
            "Liberia",
            "Mauritania",
            "Eritrea",
            "Namibia",
            "Lesotho",
            "Botswana",
            "Gambia",
            "Gabon",
            "Guinea-Bissau",
            "Mauritius",
            "Eswatini",
            "Equatorial Guinea",
            "Djibouti",
            "Comoros",
            "Cape Verde",
            "Sao Tome and Principe",
            "Seychelles"
           ],
           "legendgroup": "Africa",
           "marker": {
            "color": "#33dded",
            "size": {
             "bdata": "AAAARiLlokEAAABoHuWUQQAAAHBYu5NBAAAAaFTJjkEAAAA4EmyIQQAAACBlJYVBAAAA4LIKhEEAAABYxyeBQQAAALDreIBBAAAAQAjtfkEAAACAVdh+QQAAAOC1oXdBAAAA8AJxdkEAAABwNUZ2QQAAAID5K3RBAAAAAO2Uc0EAAABAH2ZzQQAAACATZ29BAAAAYLvDbUEAAAAAUbRsQQAAACBru2tBAAAAQIzzaUEAAAAAEDhoQQAAAOB/LmhBAAAAwM34ZkEAAADAAMxmQQAAAKD9SGRBAAAAAKVwY0EAAABABSZjQQAAAIDCImJBAAAAwNKLYUEAAADAIoxgQQAAAIAqf1hBAAAAAEV5WEEAAADAaKRXQQAAAEDzu1BBAAAAgJJNUEEAAACATrBNQQAAAACcqEpBAAAAgEIwSEEAAACAbipAQQAAAAA3cz5BAAAAACJSPkEAAAAAr1w7QQAAAABSyDhBAAAAAKs7N0EAAAAA0QozQQAAAACJPzBBAAAAADDMLEEAAAAABKQpQQAAAABADCVBAAAAAJARHkEAAAAAoAQGQQAAAACQSPZA",
             "dtype": "f8"
            },
            "sizemode": "area",
            "sizeref": 399812.15944444446,
            "symbol": "circle"
           },
           "mode": "markers",
           "name": "Africa",
           "orientation": "v",
           "showlegend": true,
           "type": "scatter",
           "x": {
            "bdata": "AAAAAADds0AAAAAAAMyQQAAAAACAkcNAAAAAAACghEAAAAAAgGLHQAAAAAAAaKFAAAAAAAAIo0AAAAAAgDzJQAAAAAAAiqpAAAAAAADEmEAAAAAAADi5QAAAAAAApKdAAAAAAACIjUAAAAAAANi4QAAAAAAAqJVAAAAAAADipEAAAAAAAHimQAAAAAAAYIlAAAAAAAA8lkAAAAAAAEydQAAAAAAA2JBAAAAAAAAUqkAAAAAAACCeQAAAAAAAsKVAAAAAAAAwg0AAAAAAAOydQAAAAACAZMRAAAAAAAAImkAAAAAAANCVQAAAAAAAWq9AAAAAAABsnEAAAAAAAPCGQAAAAAAAaJNAAAAAAADgkkAAAAAAgM3cQAAAAAAAsI5AAAAAAADLtEAAAAAAADSRQAAAAAAAxKpAAAAAAAConkAAAAAAAPPAQAAAAAAA5qJAAAAAAIDZyUAAAAAAAECYQAAAAAAASs5AAAAAAABclkAAAAAAACHPQAAAAAAAGcBAAAAAAMCY4EAAAAAAAOKkQAAAAAAA9KJAAAAAAAA3t0AAAAAAAACkQAAAAABA49NA",
            "dtype": "f8"
           },
           "xaxis": "x",
           "y": {
            "bdata": "4XoUrkdBTkCPwvUoXG9PQClcj8L1WFFAcT0K16PwTECPwvUoXA9MQNejcD0Kd05AexSuR+GaTkCF61G4HhVTQFyPwvUo7FBAKVyPwvWITUCF61G4HgVSQK5H4XoUzk5AH4XrUbj+SUC4HoXrUfhNQBSuR+F61E5AFK5H4Xq0TEAUrkfhetRMQOxRuB6Fi01A4XoUrkchTUC4HoXrUbhNQPYoXI/CFUtAH4XrUbj+S0D2KFyPwtVIQFyPwvUofFBAmpmZmZl5S0DXo3A9CjdMQM3MzMzMPFNAMzMzMzOzTEDhehSuRxFQQOxRuB6F60xA16NwPQq3TkDhehSuR+FMQB+F61G4nk1AUrgeheuxS0Bcj8L1KFxSQIXrUbgeBUhAw/UoXI/iTUCF61G4HqVOQI/C9ShcD1FAzczMzMxMTUCamZmZmXlNQEjhehSu50dAFK5H4XoUTkCPwvUoXM9PQMP1KFyPYk9AMzMzMzPzS0AfhetRuH5SQMP1KFyPAkdA16NwPQoXT0DhehSuR+FPQB+F61G4nlBAAAAAAACQUkAK16NwPTpRQHsUrkfhSlJA",
            "dtype": "f8"
           },
           "yaxis": "y"
          },
          {
           "customdata": [
            [
             "Russia",
             "Europe",
             2010,
             143479273,
             1.569,
             10.34
            ],
            [
             "Germany",
             "Europe",
             2010,
             80827001,
             1.386,
             4.18
            ],
            [
             "Turkey",
             "Europe",
             2010,
             72326992,
             2.101,
             17.33
            ],
            [
             "United Kingdom",
             "Europe",
             2010,
             63459801,
             1.899,
             5.16
            ],
            [
             "France",
             "Europe",
             2010,
             62879535,
             1.981,
             4.27
            ],
            [
             "Italy",
             "Europe",
             2010,
             59325232,
             1.435,
             3.97
            ],
            [
             "Spain",
             "Europe",
             2010,
             46931011,
             1.457,
             3.85
            ],
            [
             "Ukraine",
             "Europe",
             2010,
             45792086,
             1.435,
             11.72
            ],
            [
             "Poland",
             "Europe",
             2010,
             38329784,
             1.372,
             5.98
            ],
            [
             "Romania",
             "Europe",
             2010,
             20471860,
             1.372,
             11.48
            ],
            [
             "Netherlands",
             "Europe",
             2010,
             16682927,
             1.796,
             4.46
            ],
            [
             "Belgium",
             "Europe",
             2010,
             10938735,
             1.842,
             4.46
            ],
            [
             "Greece",
             "Europe",
             2010,
             10887640,
             1.499,
             3.91
            ],
            [
             "Portugal",
             "Europe",
             2010,
             10596055,
             1.333,
             3.87
            ],
            [
             "Czech Republic",
             "Europe",
             2010,
             10536514,
             1.501,
             3.38
            ],
            [
             "Hungary",
             "Europe",
             2010,
             9927380,
             1.364,
             6
            ],
            [
             "Belarus",
             "Europe",
             2010,
             9420576,
             1.46,
             5.52
            ],
            [
             "Sweden",
             "Europe",
             2010,
             9390157,
             1.987,
             3.06
            ],
            [
             "Azerbaijan",
             "Europe",
             2010,
             9032465,
             1.97,
             37.64
            ],
            [
             "Serbia",
             "Europe",
             2010,
             8991258,
             1.38,
             7.61
            ],
            [
             "Austria",
             "Europe",
             2010,
             8409945,
             1.438,
             4.33
            ],
            [
             "Switzerland",
             "Europe",
             2010,
             7808674,
             1.5,
             4.55
            ],
            [
             "Bulgaria",
             "Europe",
             2010,
             7425011,
             1.485,
             10.74
            ],
            [
             "Denmark",
             "Europe",
             2010,
             5554849,
             1.875,
             4.11
            ],
            [
             "Slovak Republic",
             "Europe",
             2010,
             5404293,
             1.35,
             6.97
            ],
            [
             "Finland",
             "Europe",
             2010,
             5365784,
             1.87,
             3.06
            ],
            [
             "Norway",
             "Europe",
             2010,
             4885878,
             1.95,
             3.23
            ],
            [
             "Ireland",
             "Europe",
             2010,
             4554330,
             2.003,
             4.17
            ],
            [
             "Croatia",
             "Europe",
             2010,
             4328163,
             1.465,
             5.47
            ],
            [
             "Georgia",
             "Europe",
             2010,
             4099096,
             1.82,
             14.16
            ],
            [
             "Moldova",
             "Europe",
             2010,
             4086090,
             1.477,
             17.17
            ],
            [
             "Bosnia and Herzegovina",
             "Europe",
             2010,
             3705478,
             1.242,
             7.18
            ],
            [
             "Lithuania",
             "Europe",
             2010,
             3123825,
             1.468,
             6.04
            ],
            [
             "Albania",
             "Europe",
             2010,
             2948029,
             1.741,
             13.3
            ],
            [
             "Armenia",
             "Europe",
             2010,
             2877314,
             1.55,
             18.52
            ],
            [
             "Latvia",
             "Europe",
             2010,
             2118855,
             1.553,
             7.81
            ],
            [
             "North Macedonia",
             "Europe",
             2010,
             2070737,
             1.452,
             10.16
            ],
            [
             "Slovenia",
             "Europe",
             2010,
             2043336,
             1.478,
             3.21
            ],
            [
             "Estonia",
             "Europe",
             2010,
             1332103,
             1.625,
             4.57
            ],
            [
             "Cyprus",
             "Europe",
             2010,
             1112617,
             1.478,
             3.57
            ],
            [
             "Montenegro",
             "Europe",
             2010,
             624279,
             1.698,
             6.44
            ],
            [
             "Luxembourg",
             "Europe",
             2010,
             507890,
             1.64,
             2.99
            ],
            [
             "Malta",
             "Europe",
             2010,
             414257,
             1.373,
             6.81
            ],
            [
             "Iceland",
             "Europe",
             2010,
             320342,
             2.119,
             2.62
            ]
           ],
           "hovertemplate": "<b>%{hovertext}</b><br><br><extra></extra>",
           "hovertext": [
            "Russia",
            "Germany",
            "Turkey",
            "United Kingdom",
            "France",
            "Italy",
            "Spain",
            "Ukraine",
            "Poland",
            "Romania",
            "Netherlands",
            "Belgium",
            "Greece",
            "Portugal",
            "Czech Republic",
            "Hungary",
            "Belarus",
            "Sweden",
            "Azerbaijan",
            "Serbia",
            "Austria",
            "Switzerland",
            "Bulgaria",
            "Denmark",
            "Slovak Republic",
            "Finland",
            "Norway",
            "Ireland",
            "Croatia",
            "Georgia",
            "Moldova",
            "Bosnia and Herzegovina",
            "Lithuania",
            "Albania",
            "Armenia",
            "Latvia",
            "North Macedonia",
            "Slovenia",
            "Estonia",
            "Cyprus",
            "Montenegro",
            "Luxembourg",
            "Malta",
            "Iceland"
           ],
           "ids": [
            "Russia",
            "Germany",
            "Turkey",
            "United Kingdom",
            "France",
            "Italy",
            "Spain",
            "Ukraine",
            "Poland",
            "Romania",
            "Netherlands",
            "Belgium",
            "Greece",
            "Portugal",
            "Czech Republic",
            "Hungary",
            "Belarus",
            "Sweden",
            "Azerbaijan",
            "Serbia",
            "Austria",
            "Switzerland",
            "Bulgaria",
            "Denmark",
            "Slovak Republic",
            "Finland",
            "Norway",
            "Ireland",
            "Croatia",
            "Georgia",
            "Moldova",
            "Bosnia and Herzegovina",
            "Lithuania",
            "Albania",
            "Armenia",
            "Latvia",
            "North Macedonia",
            "Slovenia",
            "Estonia",
            "Cyprus",
            "Montenegro",
            "Luxembourg",
            "Malta",
            "Iceland"
           ],
           "legendgroup": "Europe",
           "marker": {
            "color": "#ffeb33",
            "size": {
             "bdata": "AAAA0qMaoUEAAADkSUWTQQAAAEB9PpFBAAAAyI5CjkEAAAB4ufuNQQAAAIDZSYxBAAAAGOJghkEAAACw2tWFQQAAAMDtRoJBAAAAQAOGc0EAAADg9dFvQQAAAOAt3WRBAAAAADvEZEEAAADg2jVkQQAAAEDIGGRBAAAAgFrvYkEAAAAA5PdhQQAAAKAJ6WFBAAAAIGI6YUEAAABAQyZhQQAAACBrCmBBAAAAgKjJXUEAAADA/FJcQQAAAECoMFVBAAAAQKGdVEEAAAAABnhUQQAAAIBdo1JBAAAAgJZfUUEAAADAuIJQQQAAAAAMRk9BAAAAAKUsT0EAAAAAQ0VMQQAAAIA41UdBAAAAgN59RkEAAAAAwfNFQQAAAIBjKkBBAAAAANGYP0EAAAAAyC0/QQAAAACHUzRBAAAAACn6MEEAAAAALg0jQQAAAADI/x5BAAAAAMRIGUEAAAAAWI0TQQ==",
             "dtype": "f8"
            },
            "sizemode": "area",
            "sizeref": 399812.15944444446,
            "symbol": "circle"
           },
           "mode": "markers",
           "name": "Europe",
           "orientation": "v",
           "showlegend": true,
           "type": "scatter",
           "x": {
            "bdata": "AAAAAIDH1kAAAAAAoL3jQAAAAADAidFAAAAAAKDT4UAAAAAA4PnhQAAAAAAgreFAAAAAAMC+30AAAAAAAJC+QAAAAADAQtVAAAAAAEAP0UAAAAAAwILmQAAAAADAD+RAAAAAAIAN3EAAAAAAgJnaQAAAAABAsNtAAAAAAEDh1UAAAAAAgMLPQAAAAACg/eRAAAAAAACsz0AAAAAAgBvKQAAAAAAAKeVAAAAAAEBH60AAAAAAgNnNQAAAAADAe+VAAAAAAMCR2EAAAAAAAHXjQAAAAADAce5AAAAAAGA/5UAAAAAAgEXUQAAAAAAARbtAAAAAAAB+skAAAAAAABLDQAAAAADAk9RAAAAAAABkw0AAAAAAAC+6QAAAAAAA09FAAAAAAIAtxkAAAAAAgAHcQAAAAABANdZAAAAAACCP4EAAAAAAgGnLQAAAAADwZfZAAAAAAACt20AAAAAAIJnjQA==",
            "dtype": "f8"
           },
           "xaxis": "x",
           "y": {
            "bdata": "ZmZmZmYGUUCamZmZmRlUQIXrUbgeZVNAexSuR+EaVEAK16NwPVpUQAAAAAAAgFRAH4XrUbh+VEBmZmZmZrZRQJqZmZmZGVNAmpmZmZlpUkCkcD0K1zNUQBSuR+F6BFRAAAAAAAAQVEAzMzMzMwNUQOxRuB6Fa1NA9ihcj8KlUkCamZmZmZlRQOF6FK5HYVRAMzMzMzNTUUBI4XoUrpdSQIXrUbgeJVRAH4XrUbieVEAUrkfhenRSQMP1KFyP0lNAuB6F61HoUkB7FK5H4QpUQArXo3A9OlRArkfhehQuVEAAAAAAADBTQHE9CtejMFJAAAAAAABwUUDhehSuRxFTQKRwPQrXU1JAKVyPwvVoU0AzMzMzM4NSQM3MzMzMTFJA16NwPQr3UkA9CtejcN1TQI/C9Shc/1JASOF6FK4HVECuR+F6FP5SQDMzMzMzM1RAexSuR+EaVEDXo3A9CpdUQA==",
            "dtype": "f8"
           },
           "yaxis": "y"
          }
         ],
         "name": "2010"
        },
        {
         "data": [
          {
           "mode": "text",
           "showlegend": false,
           "text": [
            "2011"
           ],
           "textfont": {
            "color": "lightgray",
            "size": 200
           },
           "textposition": "middle center",
           "type": "scatter",
           "x": [
            8000
           ],
           "y": [
            45
           ]
          },
          {
           "customdata": [
            [
             "China",
             "Asia",
             2011,
             1376497633,
             1.657,
             14.59
            ],
            [
             "India",
             "Asia",
             2011,
             1250287939,
             2.532,
             55.09
            ],
            [
             "Indonesia",
             "Asia",
             2011,
             245115988,
             2.403,
             32.8
            ],
            [
             "Pakistan",
             "Asia",
             2011,
             183340168,
             3.347,
             85.12
            ],
            [
             "Bangladesh",
             "Asia",
             2011,
             149273134,
             2.24,
             46.18
            ],
            [
             "Japan",
             "Asia",
             2011,
             128498966,
             1.389,
             3.4
            ],
            [
             "Philippines",
             "Asia",
             2011,
             95570049,
             3.111,
             31.62
            ],
            [
             "Vietnam",
             "Asia",
             2011,
             88871384,
             1.794,
             22.83
            ],
            [
             "Iran",
             "Asia",
             2011,
             74634959,
             1.912,
             18.83
            ],
            [
             "Thailand",
             "Asia",
             2011,
             67518379,
             1.427,
             12.72
            ],
            [
             "Myanmar",
             "Asia",
             2011,
             50990612,
             1.98,
             60.73
            ],
            [
             "South Korea",
             "Asia",
             2011,
             49786153,
             1.285,
             3.98
            ],
            [
             "Iraq",
             "Asia",
             2011,
             30725305,
             4.147,
             33.66
            ],
            [
             "Afghanistan",
             "Asia",
             2011,
             30117411,
             5.395,
             84.13
            ],
            [
             "Uzbekistan",
             "Asia",
             2011,
             28977006,
             2.377,
             34.15
            ],
            [
             "Malaysia",
             "Asia",
             2011,
             28650962,
             1.986,
             7.95
            ],
            [
             "Saudi Arabia",
             "Asia",
             2011,
             28267591,
             2.763,
             11.3
            ],
            [
             "Nepal",
             "Asia",
             2011,
             27041220,
             2.496,
             44.45
            ],
            [
             "North Korea",
             "Asia",
             2011,
             24673392,
             2,
             27.7
            ],
            [
             "Yemen",
             "Asia",
             2011,
             23807586,
             4.348,
             55.12
            ],
            [
             "Taiwan",
             "Asia",
             2011,
             23268760,
             1.065,
             5.38
            ],
            [
             "Australia",
             "Asia",
             2011,
             22538002,
             1.884,
             4.54
            ],
            [
             "Syria",
             "Asia",
             2011,
             21081814,
             3.04,
             16.33
            ],
            [
             "Sri Lanka",
             "Asia",
             2011,
             20398496,
             2.347,
             11.15
            ],
            [
             "Kazakhstan",
             "Asia",
             2011,
             16490669,
             2.518,
             18.16
            ],
            [
             "Cambodia",
             "Asia",
             2011,
             14541421,
             2.929,
             40.99
            ],
            [
             "United Arab Emirates",
             "Asia",
             2011,
             8946778,
             1.841,
             8.28
            ],
            [
             "Tajikistan",
             "Asia",
             2011,
             7697507,
             3.807,
             41.9
            ],
            [
             "Jordan",
             "Asia",
             2011,
             7662858,
             3.386,
             19.75
            ],
            [
             "Israel",
             "Asia",
             2011,
             7487095,
             2.917,
             4.4
            ],
            [
             "Papua New Guinea",
             "Asia",
             2011,
             7472196,
             3.896,
             56.87
            ],
            [
             "Hong Kong, China",
             "Asia",
             2011,
             7006598,
             1.095,
             2.65
            ],
            [
             "Lao",
             "Asia",
             2011,
             6347564,
             3.2,
             64.83
            ],
            [
             "Kyrgyz Republic",
             "Asia",
             2011,
             5517927,
             3.028,
             27.68
            ],
            [
             "Singapore",
             "Asia",
             2011,
             5263640,
             1.267,
             2.79
            ],
            [
             "Lebanon",
             "Asia",
             2011,
             5202022,
             1.502,
             9.76
            ],
            [
             "Turkmenistan",
             "Asia",
             2011,
             5174076,
             2.381,
             57.93
            ],
            [
             "New Zealand",
             "Asia",
             2011,
             4418674,
             2.096,
             6.09
            ],
            [
             "Palestine",
             "Asia",
             2011,
             4149654,
             4.144,
             22.96
            ],
            [
             "Oman",
             "Asia",
             2011,
             3251102,
             2.899,
             11.55
            ],
            [
             "Kuwait",
             "Asia",
             2011,
             3168054,
             2.652,
             10.01
            ],
            [
             "Mongolia",
             "Asia",
             2011,
             2770357,
             2.447,
             23.87
            ],
            [
             "Qatar",
             "Asia",
             2011,
             2035862,
             2.055,
             8.7
            ],
            [
             "Bahrain",
             "Asia",
             2011,
             1278153,
             2.115,
             8.23
            ],
            [
             "Timor-Leste",
             "Asia",
             2011,
             1113154,
             6.111,
             59.62
            ],
            [
             "Fiji",
             "Asia",
             2011,
             863451,
             2.641,
             23.88
            ],
            [
             "Bhutan",
             "Asia",
             2011,
             693297,
             2.322,
             40.17
            ],
            [
             "Solomon Islands",
             "Asia",
             2011,
             541522,
             4.168,
             24.95
            ],
            [
             "Brunei",
             "Asia",
             2011,
             393687,
             2.031,
             9.8
            ],
            [
             "Maldives",
             "Asia",
             2011,
             380493,
             2.314,
             12.9
            ],
            [
             "Vanuatu",
             "Asia",
             2011,
             242658,
             3.456,
             29.63
            ],
            [
             "Samoa",
             "Asia",
             2011,
             187469,
             4.277,
             18.52
            ],
            [
             "Kiribati",
             "Asia",
             2011,
             104735,
             3.014,
             63.45
            ],
            [
             "Tonga",
             "Asia",
             2011,
             103558,
             3.864,
             17.51
            ],
            [
             "Micronesia, Fed. Sts.",
             "Asia",
             2011,
             103448,
             3.402,
             38.61
            ]
           ],
           "hovertemplate": "<b>%{hovertext}</b><br><br><extra></extra>",
           "hovertext": [
            "China",
            "India",
            "Indonesia",
            "Pakistan",
            "Bangladesh",
            "Japan",
            "Philippines",
            "Vietnam",
            "Iran",
            "Thailand",
            "Myanmar",
            "South Korea",
            "Iraq",
            "Afghanistan",
            "Uzbekistan",
            "Malaysia",
            "Saudi Arabia",
            "Nepal",
            "North Korea",
            "Yemen",
            "Taiwan",
            "Australia",
            "Syria",
            "Sri Lanka",
            "Kazakhstan",
            "Cambodia",
            "United Arab Emirates",
            "Tajikistan",
            "Jordan",
            "Israel",
            "Papua New Guinea",
            "Hong Kong, China",
            "Lao",
            "Kyrgyz Republic",
            "Singapore",
            "Lebanon",
            "Turkmenistan",
            "New Zealand",
            "Palestine",
            "Oman",
            "Kuwait",
            "Mongolia",
            "Qatar",
            "Bahrain",
            "Timor-Leste",
            "Fiji",
            "Bhutan",
            "Solomon Islands",
            "Brunei",
            "Maldives",
            "Vanuatu",
            "Samoa",
            "Kiribati",
            "Tonga",
            "Micronesia, Fed. Sts."
           ],
           "ids": [
            "China",
            "India",
            "Indonesia",
            "Pakistan",
            "Bangladesh",
            "Japan",
            "Philippines",
            "Vietnam",
            "Iran",
            "Thailand",
            "Myanmar",
            "South Korea",
            "Iraq",
            "Afghanistan",
            "Uzbekistan",
            "Malaysia",
            "Saudi Arabia",
            "Nepal",
            "North Korea",
            "Yemen",
            "Taiwan",
            "Australia",
            "Syria",
            "Sri Lanka",
            "Kazakhstan",
            "Cambodia",
            "United Arab Emirates",
            "Tajikistan",
            "Jordan",
            "Israel",
            "Papua New Guinea",
            "Hong Kong, China",
            "Lao",
            "Kyrgyz Republic",
            "Singapore",
            "Lebanon",
            "Turkmenistan",
            "New Zealand",
            "Palestine",
            "Oman",
            "Kuwait",
            "Mongolia",
            "Qatar",
            "Bahrain",
            "Timor-Leste",
            "Fiji",
            "Bhutan",
            "Solomon Islands",
            "Brunei",
            "Maldives",
            "Vanuatu",
            "Samoa",
            "Kiribati",
            "Tonga",
            "Micronesia, Fed. Sts."
           ],
           "legendgroup": "Asia",
           "marker": {
            "color": "#ff798e",
            "size": {
             "bdata": "AABA+OuC1EEAAMBQeKHSQQAAAKhYOK1BAAAAEBnbpUEAAABcdMuhQQAAAFj0op5BAAAABCLJlkEAAABgRzCVQQAAADxby5FBAAAArP4YkEEAAACgcFCIQQAAAEhpvYdBAAAAkEtNfUEAAAAw4rh8QQAAAOB2ontBAAAAIN1Se0EAAABwRPV6QQAAAEDcyXlBAAAAAMeHd0EAAAAgZrR2QQAAAIDZMHZBAAAAIHF+dUEAAABg7Rp0QQAAAAAadHNBAAAAoBV0b0EAAACgTbxrQQAAAECLEGFBAAAAwBhdXUEAAACAQjtdQQAAAMCdj1xBAAAAABGBXEEAAACAYbpaQQAAAADLNlhBAAAAwJkMVUEAAAAARhRUQQAAAIAZ2FNBAAAAAM+8U0EAAACAHNtQQQAAAADLqE9BAAAAAM/NSEEAAAAAmytIQQAAAIDaIkVBAAAAAJYQP0EAAAAAyYAzQQAAAABC/DBBAAAAALZZKkEAAAAAYiglQQAAAACkhiBBAAAAAFwHGEEAAAAANDkXQQAAAAAQnw1BAAAAAGjiBkEAAAAA8JH5QAAAAABgSPlAAAAAAIBB+UA=",
             "dtype": "f8"
            },
            "sizemode": "area",
            "sizeref": 399812.15944444446,
            "symbol": "circle"
           },
           "mode": "markers",
           "name": "Asia",
           "orientation": "v",
           "showlegend": true,
           "type": "scatter",
           "x": {
            "bdata": "AAAAAIA5xEAAAAAAABGyQAAAAACATcFAAAAAAAD+r0AAAAAAALakQAAAAADgd+FAAAAAAAA6tkAAAAAAADayQAAAAABA+NFAAAAAAIBwykAAAAAAADKuQAAAAABAf95AAAAAAAC/ykAAAAAAAGyZQAAAAAAAdrFAAAAAAMBL1UAAAAAAQKvnQAAAAAAACqBAAAAAAADYmkAAAAAAAEiuQAAAAACg1OJAAAAAAKB95EAAAAAAAFu3QAAAAAAA4sFAAAAAAEDH1EAAAAAAAMSkQAAAAADAn+tAAAAAAACMoUAAAAAAANLBQAAAAABA2t1AAAAAAAD8p0AAAAAAwHToQAAAAAAAhbFAAAAAAADSpkAAAAAAIJDyQAAAAAAACctAAAAAAADmxUAAAAAAwPffQAAAAAAANrFAAAAAAMB65EAAAAAAYAzzQAAAAACASsFAAAAAAJBH/kAAAAAAAJ3jQAAAAAAAQsNAAAAAAABgvUAAAAAAAGW8QAAAAAAAIqBAAAAAAHAk9EAAAAAAAGPIQAAAAAAAtKZAAAAAAAAptkAAAAAAAFSbQAAAAAAAH7RAAAAAAACsqkA=",
            "dtype": "f8"
           },
           "xaxis": "x",
           "y": {
            "bdata": "H4XrUbj+UkB7FK5H4bpQQB+F61G4flFAPQrXo3AtUECkcD0K15NRQNejcD0Kt1RAUrgehetRUUBI4XoUrmdSQOxRuB6F21JApHA9CtdTU0B7FK5H4VpQQClcj8L1OFRAPQrXo3CdUkBSuB6F6zFOQEjhehSuR1FAuB6F61G4UkBxPQrXo8BSQEjhehSuV1FAH4XrUbi+UUApXI/C9QhRQHE9Ctej0FNAuB6F61GIVEA9CtejcJ1SQEjhehSu91JACtejcD06UUC4HoXrUehQQHsUrkfhOlJACtejcD16UUAAAAAAAIBTQJqZmZmZeVRAzczMzMxMTEBSuB6F67FUQM3MzMzMHFBAUrgeheuRUUC4HoXrUdhUQGZmZmZmVlNA9ihcj8J1UUBmZmZmZiZUQFK4HoXrkVJAUrgehevBUkCuR+F6FH5UQJqZmZmZqVBAj8L1KFyfU0DNzMzMzJxTQKRwPQrXk1FAUrgehevhUECkcD0K1wNSQJqZmZmZ+U5ArkfhehS+UkDhehSuR/FTQLgehetRCFBAAAAAAAAgUkCuR+F6FI5OQEjhehSux1FAMzMzMzPDUEA=",
            "dtype": "f8"
           },
           "yaxis": "y"
          },
          {
           "customdata": [
            [
             "United States",
             "Americas",
             2011,
             311584051,
             1.897,
             7.2
            ],
            [
             "Brazil",
             "Americas",
             2011,
             197514541,
             1.822,
             17.93
            ],
            [
             "Mexico",
             "Americas",
             2011,
             115695468,
             2.248,
             16.88
            ],
            [
             "Colombia",
             "Americas",
             2011,
             45662747,
             2.346,
             17.88
            ],
            [
             "Argentina",
             "Americas",
             2011,
             41320497,
             2.201,
             13.88
            ],
            [
             "Canada",
             "Americas",
             2011,
             34539156,
             1.61,
             5.58
            ],
            [
             "Peru",
             "Americas",
             2011,
             29264314,
             2.479,
             19.2
            ],
            [
             "Venezuela",
             "Americas",
             2011,
             28887873,
             2.444,
             17.09
            ],
            [
             "Chile",
             "Americas",
             2011,
             17233584,
             1.844,
             8.55
            ],
            [
             "Ecuador",
             "Americas",
             2011,
             15243885,
             2.622,
             17.47
            ],
            [
             "Guatemala",
             "Americas",
             2011,
             14948792,
             3.908,
             33.69
            ],
            [
             "Cuba",
             "Americas",
             2011,
             11236671,
             1.459,
             5.98
            ],
            [
             "Bolivia",
             "Americas",
             2011,
             10212951,
             3.308,
             38.69
            ],
            [
             "Haiti",
             "Americas",
             2011,
             10100320,
             3.28,
             77.96
            ],
            [
             "Dominican Republic",
             "Americas",
             2011,
             9813219,
             2.551,
             33.79
            ],
            [
             "Honduras",
             "Americas",
             2011,
             8480670,
             3.101,
             22.66
            ],
            [
             "Paraguay",
             "Americas",
             2011,
             6333981,
             2.931,
             25.22
            ],
            [
             "El Salvador",
             "Americas",
             2011,
             6210567,
             2.236,
             18.32
            ],
            [
             "Nicaragua",
             "Americas",
             2011,
             5903035,
             2.585,
             19.83
            ],
            [
             "Costa Rica",
             "Americas",
             2011,
             4633086,
             1.827,
             9.93
            ],
            [
             "Panama",
             "Americas",
             2011,
             3706479,
             2.521,
             19.23
            ],
            [
             "Uruguay",
             "Americas",
             2011,
             3368926,
             2.068,
             10.29
            ],
            [
             "Jamaica",
             "Americas",
             2011,
             2825932,
             2.309,
             17.83
            ],
            [
             "Trinidad and Tobago",
             "Americas",
             2011,
             1336180,
             1.801,
             22.72
            ],
            [
             "Guyana",
             "Americas",
             2011,
             752029,
             2.638,
             36.65
            ],
            [
             "Suriname",
             "Americas",
             2011,
             535177,
             2.318,
             23.8
            ],
            [
             "Bahamas",
             "Americas",
             2011,
             359583,
             1.898,
             12.48
            ],
            [
             "Belize",
             "Americas",
             2011,
             330236,
             2.756,
             18.32
            ],
            [
             "Barbados",
             "Americas",
             2011,
             282987,
             1.842,
             14.39
            ],
            [
             "St. Lucia",
             "Americas",
             2011,
             175538,
             1.96,
             18.54
            ],
            [
             "St. Vincent and the Grenadines",
             "Americas",
             2011,
             108315,
             2.046,
             20.26
            ],
            [
             "Grenada",
             "Americas",
             2011,
             106786,
             2.217,
             14.34
            ],
            [
             "Antigua and Barbuda",
             "Americas",
             2011,
             89250,
             2.115,
             9.04
            ]
           ],
           "hovertemplate": "<b>%{hovertext}</b><br><br><extra></extra>",
           "hovertext": [
            "United States",
            "Brazil",
            "Mexico",
            "Colombia",
            "Argentina",
            "Canada",
            "Peru",
            "Venezuela",
            "Chile",
            "Ecuador",
            "Guatemala",
            "Cuba",
            "Bolivia",
            "Haiti",
            "Dominican Republic",
            "Honduras",
            "Paraguay",
            "El Salvador",
            "Nicaragua",
            "Costa Rica",
            "Panama",
            "Uruguay",
            "Jamaica",
            "Trinidad and Tobago",
            "Guyana",
            "Suriname",
            "Bahamas",
            "Belize",
            "Barbados",
            "St. Lucia",
            "St. Vincent and the Grenadines",
            "Grenada",
            "Antigua and Barbuda"
           ],
           "ids": [
            "United States",
            "Brazil",
            "Mexico",
            "Colombia",
            "Argentina",
            "Canada",
            "Peru",
            "Venezuela",
            "Chile",
            "Ecuador",
            "Guatemala",
            "Cuba",
            "Bolivia",
            "Haiti",
            "Dominican Republic",
            "Honduras",
            "Paraguay",
            "El Salvador",
            "Nicaragua",
            "Costa Rica",
            "Panama",
            "Uruguay",
            "Jamaica",
            "Trinidad and Tobago",
            "Guyana",
            "Suriname",
            "Bahamas",
            "Belize",
            "Barbados",
            "St. Lucia",
            "St. Vincent and the Grenadines",
            "Grenada",
            "Antigua and Barbuda"
           ],
           "legendgroup": "Americas",
           "marker": {
            "color": "#98ef33",
            "size": {
             "bdata": "AAAAM2WSskEAAABaqounQQAAALB9lZtBAAAA2BDGhUEAAACIAbSDQQAAAKA0eIBBAAAAoJvoe0EAAAAQtIx7QQAAAABrb3BBAAAAoE0TbUEAAAAAN4NsQQAAAOCnbmVBAAAA4Mp6Y0EAAAAAzENjQQAAAGCct2JBAAAAwPMsYEEAAABAhylYQQAAAMABsVdBAAAAwK6EVkEAAACAf6xRQQAAAIA3R0xBAAAAAO+zSUEAAAAAZo9FQQAAAAB0YzRBAAAAADrzJkEAAAAAElUgQQAAAAB88hVBAAAAAPAnFEEAAAAArEURQQAAAACQbQVBAAAAALBx+kAAAAAAIBL6QAAAAAAgyvVA",
             "dtype": "f8"
            },
            "sizemode": "area",
            "sizeref": 399812.15944444446,
            "symbol": "circle"
           },
           "mode": "markers",
           "name": "Americas",
           "orientation": "v",
           "showlegend": true,
           "type": "scatter",
           "x": {
            "bdata": "AAAAAGBb6EAAAAAAAGvNQAAAAAAAItBAAAAAAADBxkAAAAAAQFrTQAAAAAAgTORAAAAAAADBxEAAAAAAwOnQQAAAAADA3dNAAAAAAABOw0AAAAAAAL26QAAAAAAAELtAAAAAAACVtUAAAAAAAISYQAAAAACAnsZAAAAAAAAgr0AAAAAAgJDDQAAAAAAAXblAAAAAAABDsEAAAAAAgPvJQAAAAAAAs9BAAAAAAECS0UAAAAAAALC/QAAAAAAAQd5AAAAAAADbt0AAAAAAAOLMQAAAAAAA0NxAAAAAAACWvkAAAAAAgObPQAAAAACAiMdAAAAAAIB2w0AAAAAAAJDFQAAAAABAfNNA",
            "dtype": "f8"
           },
           "xaxis": "x",
           "y": {
            "bdata": "AAAAAACwU0DD9Shcj6JSQB+F61G43lJAexSuR+G6U0CamZmZmflSQM3MzMzMbFRAH4XrUbh+U0BmZmZmZtZSQMP1KFyPwlNAAAAAAADAUkD2KFyPwgVSQPYoXI/CtVNAhetRuB7FUUAzMzMzM9NOQHsUrkfhelJAFK5H4XpEUkBmZmZmZrZSQK5H4XoUXlJAmpmZmZlpU0BmZmZmZvZTQPYoXI/ClVNAw/UoXI8SU0DNzMzMzOxSQJqZmZmZmVJAXI/C9SjcUEAfhetRuO5RQClcj8L1WFJAw/UoXI9yUkCkcD0K1zNTQBSuR+F65FJAw/UoXI8yUkCuR+F6FH5SQArXo3A9KlNA",
            "dtype": "f8"
           },
           "yaxis": "y"
          },
          {
           "customdata": [
            [
             "Nigeria",
             "Africa",
             2011,
             162805080,
             6.017,
             132.53
            ],
            [
             "Ethiopia",
             "Africa",
             2011,
             90139928,
             4.769,
             78.49
            ],
            [
             "Egypt",
             "Africa",
             2011,
             84529251,
             2.845,
             27.76
            ],
            [
             "Congo, Dem. Rep.",
             "Africa",
             2011,
             66755151,
             6.146,
             111.35
            ],
            [
             "South Africa",
             "Africa",
             2011,
             52003759,
             2.438,
             46.74
            ],
            [
             "Tanzania",
             "Africa",
             2011,
             45673520,
             5.359,
             68.77
            ],
            [
             "Kenya",
             "Africa",
             2011,
             43178270,
             4.538,
             54.09
            ],
            [
             "Algeria",
             "Africa",
             2011,
             36661438,
             2.829,
             26.68
            ],
            [
             "Sudan",
             "Africa",
             2011,
             35349676,
             4.563,
             73.9
            ],
            [
             "Uganda",
             "Africa",
             2011,
             33476772,
             6.06,
             72.57
            ],
            [
             "Morocco",
             "Africa",
             2011,
             32781860,
             2.652,
             30.65
            ],
            [
             "Ghana",
             "Africa",
             2011,
             25387713,
             3.985,
             66.56
            ],
            [
             "Angola",
             "Africa",
             2011,
             24220660,
             6.099,
             112.5
            ],
            [
             "Mozambique",
             "Africa",
             2011,
             24187500,
             5.338,
             99.52
            ],
            [
             "Madagascar",
             "Africa",
             2011,
             21743970,
             4.59,
             65.04
            ],
            [
             "Cote d'Ivoire",
             "Africa",
             2011,
             21028652,
             4.907,
             103.74
            ],
            [
             "Cameroon",
             "Africa",
             2011,
             20906392,
             4.939,
             102.64
            ],
            [
             "Niger",
             "Africa",
             2011,
             17114770,
             7.581,
             115.12
            ],
            [
             "Burkina Faso",
             "Africa",
             2011,
             16081915,
             5.781,
             107.57
            ],
            [
             "Mali",
             "Africa",
             2011,
             15514593,
             6.85,
             126.73
            ],
            [
             "Malawi",
             "Africa",
             2011,
             14962118,
             5.554,
             82.33
            ],
            [
             "Zambia",
             "Africa",
             2011,
             14023199,
             5.773,
             77.23
            ],
            [
             "Senegal",
             "Africa",
             2011,
             13033814,
             5.019,
             62.53
            ],
            [
             "Zimbabwe",
             "Africa",
             2011,
             12894323,
             3.643,
             78.95
            ],
            [
             "Somalia",
             "Africa",
             2011,
             12376305,
             6.769,
             152.13
            ],
            [
             "Chad",
             "Africa",
             2011,
             12360986,
             6.486,
             145.61
            ],
            [
             "Tunisia",
             "Africa",
             2011,
             10741872,
             2.036,
             18.01
            ],
            [
             "Guinea",
             "Africa",
             2011,
             10420459,
             5.088,
             115.02
            ],
            [
             "Rwanda",
             "Africa",
             2011,
             10293333,
             4.728,
             56.78
            ],
            [
             "South Sudan",
             "Africa",
             2011,
             9830695,
             5.101,
             104.28
            ],
            [
             "Benin",
             "Africa",
             2011,
             9460829,
             5.01,
             108.86
            ],
            [
             "Burundi",
             "Africa",
             2011,
             8958406,
             6.214,
             85.16
            ],
            [
             "Togo",
             "Africa",
             2011,
             6595939,
             4.746,
             86.9
            ],
            [
             "Sierra Leone",
             "Africa",
             2011,
             6563238,
             4.861,
             153.94
            ],
            [
             "Libya",
             "Africa",
             2011,
             6247438,
             2.467,
             17.64
            ],
            [
             "Central African Republic",
             "Africa",
             2011,
             4418639,
             4.538,
             145.86
            ],
            [
             "Congo, Rep.",
             "Africa",
             2011,
             4394842,
             5.046,
             60.65
            ],
            [
             "Liberia",
             "Africa",
             2011,
             4017446,
             4.945,
             92.55
            ],
            [
             "Mauritania",
             "Africa",
             2011,
             3598646,
             4.783,
             94.36
            ],
            [
             "Eritrea",
             "Africa",
             2011,
             3213969,
             4.875,
             53.42
            ],
            [
             "Namibia",
             "Africa",
             2011,
             2156698,
             3.167,
             47.56
            ],
            [
             "Botswana",
             "Africa",
             2011,
             2015406,
             2.712,
             48.84
            ],
            [
             "Lesotho",
             "Africa",
             2011,
             2003793,
             3.148,
             97.76
            ],
            [
             "Gambia",
             "Africa",
             2011,
             1848142,
             5.789,
             74.31
            ],
            [
             "Gabon",
             "Africa",
             2011,
             1684629,
             4.178,
             60.39
            ],
            [
             "Guinea-Bissau",
             "Africa",
             2011,
             1562996,
             5.052,
             108.27
            ],
            [
             "Mauritius",
             "Africa",
             2011,
             1251074,
             1.51,
             14.93
            ],
            [
             "Eswatini",
             "Africa",
             2011,
             1072029,
             3.483,
             78.55
            ],
            [
             "Equatorial Guinea",
             "Africa",
             2011,
             986861,
             5.044,
             108.08
            ],
            [
             "Djibouti",
             "Africa",
             2011,
             853671,
             3.53,
             74.08
            ],
            [
             "Comoros",
             "Africa",
             2011,
             706578,
             4.85,
             84.85
            ],
            [
             "Cape Verde",
             "Africa",
             2011,
             498858,
             2.375,
             24.31
            ],
            [
             "Sao Tome and Principe",
             "Africa",
             2011,
             184521,
             4.217,
             42.77
            ],
            [
             "Seychelles",
             "Africa",
             2011,
             91882,
             2.233,
             14.22
            ]
           ],
           "hovertemplate": "<b>%{hovertext}</b><br><br><extra></extra>",
           "hovertext": [
            "Nigeria",
            "Ethiopia",
            "Egypt",
            "Congo, Dem. Rep.",
            "South Africa",
            "Tanzania",
            "Kenya",
            "Algeria",
            "Sudan",
            "Uganda",
            "Morocco",
            "Ghana",
            "Angola",
            "Mozambique",
            "Madagascar",
            "Cote d'Ivoire",
            "Cameroon",
            "Niger",
            "Burkina Faso",
            "Mali",
            "Malawi",
            "Zambia",
            "Senegal",
            "Zimbabwe",
            "Somalia",
            "Chad",
            "Tunisia",
            "Guinea",
            "Rwanda",
            "South Sudan",
            "Benin",
            "Burundi",
            "Togo",
            "Sierra Leone",
            "Libya",
            "Central African Republic",
            "Congo, Rep.",
            "Liberia",
            "Mauritania",
            "Eritrea",
            "Namibia",
            "Botswana",
            "Lesotho",
            "Gambia",
            "Gabon",
            "Guinea-Bissau",
            "Mauritius",
            "Eswatini",
            "Equatorial Guinea",
            "Djibouti",
            "Comoros",
            "Cape Verde",
            "Sao Tome and Principe",
            "Seychelles"
           ],
           "ids": [
            "Nigeria",
            "Ethiopia",
            "Egypt",
            "Congo, Dem. Rep.",
            "South Africa",
            "Tanzania",
            "Kenya",
            "Algeria",
            "Sudan",
            "Uganda",
            "Morocco",
            "Ghana",
            "Angola",
            "Mozambique",
            "Madagascar",
            "Cote d'Ivoire",
            "Cameroon",
            "Niger",
            "Burkina Faso",
            "Mali",
            "Malawi",
            "Zambia",
            "Senegal",
            "Zimbabwe",
            "Somalia",
            "Chad",
            "Tunisia",
            "Guinea",
            "Rwanda",
            "South Sudan",
            "Benin",
            "Burundi",
            "Togo",
            "Sierra Leone",
            "Libya",
            "Central African Republic",
            "Congo, Rep.",
            "Liberia",
            "Mauritania",
            "Eritrea",
            "Namibia",
            "Botswana",
            "Lesotho",
            "Gambia",
            "Gabon",
            "Guinea-Bissau",
            "Mauritius",
            "Eswatini",
            "Equatorial Guinea",
            "Djibouti",
            "Comoros",
            "Cape Verde",
            "Sao Tome and Principe",
            "Seychelles"
           ],
           "legendgroup": "Africa",
           "marker": {
            "color": "#33dded",
            "size": {
             "bdata": "AAAAsGpoo0EAAABgtH2VQQAAAIxBJ5RBAAAAeNLUj0EAAAB4HcyIQQAAAIBhx4VBAAAA8MiWhEEAAADwRXuBQQAAAGAl24BBAAAAQArtf0EAAABAYkN/QQAAABAsNnhBAAAAQD8Zd0EAAADAJhF3QQAAACCWvHRBAAAAwPINdEEAAACAGfBzQQAAACBpUnBBAAAAYH+sbkEAAAAgfJdtQQAAAMC4iWxBAAAA4EO/akEAAADAKtxoQQAAAGAOmGhBAAAAIB6bZ0EAAABAo5NnQQAAAAAOfWRBAAAAYB3gY0EAAACgCqJjQQAAAOAkwGJBAAAAoIsLYkEAAADAOBZhQQAAAMBYKVlBAAAAgGkJWUEAAACAA9VXQQAAAMAT21BBAAAAgNbDUEEAAAAAk6ZOQQAAAACbdEtBAAAAgEiFSEEAAAAATXRAQQAAAACuwD5BAAAAAFGTPkEAAAAATjM8QQAAAACVtDlBAAAAAHTZN0EAAAAAAhczQQAAAACdWzBBAAAAANodLkEAAAAATg0qQQAAAAAkkCVBAAAAAKhyHkEAAAAASIYGQQAAAACgbvZA",
             "dtype": "f8"
            },
            "sizemode": "area",
            "sizeref": 399812.15944444446,
            "symbol": "circle"
           },
           "mode": "markers",
           "name": "Africa",
           "orientation": "v",
           "showlegend": true,
           "type": "scatter",
           "x": {
            "bdata": "AAAAAABetEAAAAAAACiSQAAAAACAf8NAAAAAAABQhUAAAAAAgMnHQAAAAAAAMqJAAAAAAACoo0AAAAAAAHvJQAAAAAAAdqxAAAAAAABAmkAAAAAAADC6QAAAAAAAUqpAAAAAAADKuEAAAAAAAMCOQAAAAAAAYJVAAAAAAAB+o0AAAAAAAMSmQAAAAAAA+IhAAAAAAAAEl0AAAAAAAFidQAAAAAAAKJFAAAAAAAC2qkAAAAAAAGalQAAAAAAA8KBAAAAAAAAwg0AAAAAAAPScQAAAAACAzcNAAAAAAADkmkAAAAAAAPCWQAAAAAAA6qxAAAAAAAB0nEAAAAAAABiHQAAAAAAAGJRAAAAAAACck0AAAAAAAKzFQAAAAAAAwI9AAAAAAADqtEAAAAAAAAiSQAAAAAAAOKtAAAAAAABuoEAAAAAAAIDBQAAAAACAB8tAAAAAAAAepEAAAAAAAISWQAAAAACARc9AAAAAAACMl0AAAAAAgCzQQAAAAACAWcBAAAAAAMDn4EAAAAAAAHClQAAAAAAAQqNAAAAAAADWt0AAAAAAAGikQAAAAABAB9ZA",
            "dtype": "f8"
           },
           "xaxis": "x",
           "y": {
            "bdata": "cT0K16OQTkA9CtejcP1PQGZmZmZmZlFAexSuR+E6TUDXo3A9CvdMQAAAAAAA4E5AMzMzMzMTT0DhehSuRyFTQAAAAAAAAFFAXI/C9SgcTkDhehSuRxFSQGZmZmZmJk9AcT0K16NQTkCamZmZmTlKQDMzMzMz805APQrXo3D9TEDNzMzMzCxNQKRwPQrXw01Aw/UoXI9iTUD2KFyPwvVNQEjhehSuB0xAAAAAAADATEDD9Shcj5JQQNejcD0KN0pAMzMzMzOzS0D2KFyPwnVMQDMzMzMzQ1NAzczMzMzsTEA9CtejcE1QQB+F61G4vkxACtejcD3qTkAK16NwPUpNQOF6FK5HAU5AzczMzMwMTEBmZmZmZiZMQOxRuB6Fa0hAuB6F61E4TkAAAAAAAOBOQGZmZmZmJlFAXI/C9SicTUCPwvUoXG9OQOxRuB6Fy05AH4XrUbg+SECamZmZmflPQJqZmZmZuU9ASOF6FK5HTEDD9Shcj5JSQMP1KFyPAkhASOF6FK4nT0AzMzMzMxNQQOF6FK5HkVBAw/UoXI+iUkDD9Shcj1JRQDMzMzMzU1JA",
            "dtype": "f8"
           },
           "yaxis": "y"
          },
          {
           "customdata": [
            [
             "Russia",
             "Europe",
             2011,
             143703027,
             1.58,
             10.08
            ],
            [
             "Germany",
             "Europe",
             2011,
             80855629,
             1.397,
             4.09
            ],
            [
             "Turkey",
             "Europe",
             2011,
             73443254,
             2.08,
             16.19
            ],
            [
             "United Kingdom",
             "Europe",
             2011,
             64021922,
             1.9,
             4.96
            ],
            [
             "France",
             "Europe",
             2011,
             63222229,
             1.981,
             4.24
            ],
            [
             "Italy",
             "Europe",
             2011,
             59589070,
             1.454,
             3.88
            ],
            [
             "Spain",
             "Europe",
             2011,
             47084242,
             1.474,
             3.71
            ],
            [
             "Ukraine",
             "Europe",
             2011,
             45619850,
             1.45,
             11.16
            ],
            [
             "Poland",
             "Europe",
             2011,
             38286824,
             1.388,
             5.68
            ],
            [
             "Romania",
             "Europe",
             2011,
             20336718,
             1.387,
             11.26
            ],
            [
             "Netherlands",
             "Europe",
             2011,
             16738191,
             1.759,
             4.35
            ],
            [
             "Belgium",
             "Europe",
             2011,
             11013860,
             1.847,
             4.37
            ],
            [
             "Greece",
             "Europe",
             2011,
             10829074,
             1.511,
             3.97
            ],
            [
             "Portugal",
             "Europe",
             2011,
             10569388,
             1.325,
             3.79
            ],
            [
             "Czech Republic",
             "Europe",
             2011,
             10566512,
             1.525,
             3.25
            ],
            [
             "Hungary",
             "Europe",
             2011,
             9895689,
             1.38,
             5.86
            ],
            [
             "Sweden",
             "Europe",
             2011,
             9466705,
             1.9,
             3.01
            ],
            [
             "Belarus",
             "Europe",
             2011,
             9415316,
             1.473,
             5.11
            ],
            [
             "Azerbaijan",
             "Europe",
             2011,
             9146277,
             1.956,
             35.08
            ],
            [
             "Serbia",
             "Europe",
             2011,
             8963761,
             1.373,
             7.39
            ],
            [
             "Austria",
             "Europe",
             2011,
             8453501,
             1.443,
             4.2
            ],
            [
             "Switzerland",
             "Europe",
             2011,
             7906988,
             1.511,
             4.49
            ],
            [
             "Bulgaria",
             "Europe",
             2011,
             7378652,
             1.506,
             10.3
            ],
            [
             "Denmark",
             "Europe",
             2011,
             5582980,
             1.756,
             4.07
            ],
            [
             "Slovak Republic",
             "Europe",
             2011,
             5408932,
             1.367,
             6.77
            ],
            [
             "Finland",
             "Europe",
             2011,
             5390036,
             1.83,
             2.9
            ],
            [
             "Norway",
             "Europe",
             2011,
             4948335,
             1.88,
             3.1
            ],
            [
             "Ireland",
             "Europe",
             2011,
             4591115,
             2.002,
             4.07
            ],
            [
             "Croatia",
             "Europe",
             2011,
             4313098,
             1.478,
             5.3
            ],
            [
             "Georgia",
             "Europe",
             2011,
             4081012,
             1.822,
             13.02
            ],
            [
             "Moldova",
             "Europe",
             2011,
             4079167,
             1.469,
             16.97
            ],
            [
             "Bosnia and Herzegovina",
             "Europe",
             2011,
             3661173,
             1.255,
             6.87
            ],
            [
             "Lithuania",
             "Europe",
             2011,
             3083402,
             1.487,
             5.51
            ],
            [
             "Albania",
             "Europe",
             2011,
             2928601,
             1.748,
             12.3
            ],
            [
             "Armenia",
             "Europe",
             2011,
             2876536,
             1.5,
             17.58
            ],
            [
             "Latvia",
             "Europe",
             2011,
             2093606,
             1.573,
             7.25
            ],
            [
             "North Macedonia",
             "Europe",
             2011,
             2072484,
             1.443,
             9.98
            ],
            [
             "Slovenia",
             "Europe",
             2011,
             2051278,
             1.491,
             3.05
            ],
            [
             "Estonia",
             "Europe",
             2011,
             1327701,
             1.617,
             4.22
            ],
            [
             "Cyprus",
             "Europe",
             2011,
             1124837,
             1.47,
             3.37
            ],
            [
             "Montenegro",
             "Europe",
             2011,
             625271,
             1.687,
             5.73
            ],
            [
             "Luxembourg",
             "Europe",
             2011,
             519312,
             1.65,
             2.9
            ],
            [
             "Malta",
             "Europe",
             2011,
             417720,
             1.367,
             6.83
            ],
            [
             "Iceland",
             "Europe",
             2011,
             323471,
             2.109,
             2.52
            ]
           ],
           "hovertemplate": "<b>%{hovertext}</b><br><br><extra></extra>",
           "hovertext": [
            "Russia",
            "Germany",
            "Turkey",
            "United Kingdom",
            "France",
            "Italy",
            "Spain",
            "Ukraine",
            "Poland",
            "Romania",
            "Netherlands",
            "Belgium",
            "Greece",
            "Portugal",
            "Czech Republic",
            "Hungary",
            "Sweden",
            "Belarus",
            "Azerbaijan",
            "Serbia",
            "Austria",
            "Switzerland",
            "Bulgaria",
            "Denmark",
            "Slovak Republic",
            "Finland",
            "Norway",
            "Ireland",
            "Croatia",
            "Georgia",
            "Moldova",
            "Bosnia and Herzegovina",
            "Lithuania",
            "Albania",
            "Armenia",
            "Latvia",
            "North Macedonia",
            "Slovenia",
            "Estonia",
            "Cyprus",
            "Montenegro",
            "Luxembourg",
            "Malta",
            "Iceland"
           ],
           "ids": [
            "Russia",
            "Germany",
            "Turkey",
            "United Kingdom",
            "France",
            "Italy",
            "Spain",
            "Ukraine",
            "Poland",
            "Romania",
            "Netherlands",
            "Belgium",
            "Greece",
            "Portugal",
            "Czech Republic",
            "Hungary",
            "Sweden",
            "Belarus",
            "Azerbaijan",
            "Serbia",
            "Austria",
            "Switzerland",
            "Bulgaria",
            "Denmark",
            "Slovak Republic",
            "Finland",
            "Norway",
            "Ireland",
            "Croatia",
            "Georgia",
            "Moldova",
            "Bosnia and Herzegovina",
            "Lithuania",
            "Albania",
            "Armenia",
            "Latvia",
            "North Macedonia",
            "Slovenia",
            "Estonia",
            "Cyprus",
            "Montenegro",
            "Luxembourg",
            "Malta",
            "Iceland"
           ],
           "legendgroup": "Europe",
           "marker": {
            "color": "#ffeb33",
            "size": {
             "bdata": "AAAA5nchoUEAAAA0CUeTQQAAANiegpFBAAAAEC2HjkEAAACojiWOQQAAAHAOaoxBAAAAkJZzhkEAAABQ1MCFQQAAAECvQYJBAAAA4ARlc0EAAADg8exvQQAAAIDcAWVBAAAAQKKnZEEAAACA1ShkQQAAAABuJ2RBAAAAIOHfYkEAAAAgag5iQQAAAIBS9WFBAAAAoPRxYUEAAAAg1hhhQQAAAKCvH2BBAAAAAKspXkEAAAAAtyVcQQAAAAAhTFVBAAAAACmiVEEAAAAAtY9UQQAAAMBb4FJBAAAAwIKDUUEAAACAAnRQQQAAAAC6Ik9BAAAAgB8fT0EAAACAuu5LQQAAAABFhkdBAAAAgOxXRkEAAAAAPPJFQQAAAAAm8j9BAAAAAKSfP0EAAAAAzkw/QQAAAABVQjRBAAAAAOUpMUEAAAAA7hQjQQAAAABAsh9BAAAAAOB+GUEAAAAAPL4TQQ==",
             "dtype": "f8"
            },
            "sizemode": "area",
            "sizeref": 399812.15944444446,
            "symbol": "circle"
           },
           "mode": "markers",
           "name": "Europe",
           "orientation": "v",
           "showlegend": true,
           "type": "scatter",
           "x": {
            "bdata": "AAAAAIC910AAAAAAoNjkQAAAAAAAMdNAAAAAAID64UAAAAAAIEjiQAAAAABgv+FAAAAAAABR30AAAAAAAC3AQAAAAADAUNZAAAAAAAB90UAAAAAA4MDmQAAAAACAKORAAAAAAECH2UAAAAAAACfaQAAAAABAH9xAAAAAAEBO1kAAAAAAIGTlQAAAAADAw9BAAAAAAADFzkAAAAAAgNnKQAAAAACgtOVAAAAAAABv60AAAAAAAJ7OQAAAAABgruVAAAAAAMA62UAAAAAAgN3jQAAAAAAgWO5AAAAAAEDx5UAAAAAAwEXUQAAAAAAAer1AAAAAAACVs0AAAAAAAHzDQAAAAACAUdZAAAAAAADww0AAAAAAAGy7QAAAAABAT9NAAAAAAICtxkAAAAAAQCHcQAAAAADA99dAAAAAAAA14EAAAAAAAETMQAAAAABQdvZAAAAAAEDt20AAAAAA4OfjQA==",
            "dtype": "f8"
           },
           "xaxis": "x",
           "y": {
            "bdata": "AAAAAABwUUBSuB6F6yFUQKRwPQrXc1NAAAAAAAAwVEBI4XoUrmdUQBSuR+F6hFRASOF6FK6HVECPwvUoXN9RQOxRuB6FK1NAPQrXo3CdUkDNzMzMzDxUQOxRuB6FC1RAMzMzMzMTVEC4HoXrURhUQClcj8L1eFNA7FG4HoW7UkBI4XoUrmdUQHsUrkfhmlFAUrgehethUUAAAAAAAKBSQMP1KFyPMlRAMzMzMzOzVEDXo3A9CodSQKRwPQrX81NAmpmZmZn5UkAAAAAAACBUQBSuR+F6NFRAAAAAAAAwVEBSuB6F60FTQClcj8L1OFJAXI/C9Si8UUAK16NwPRpTQB+F61G4blJAH4XrUbhuU0BmZmZmZpZSQIXrUbgedVJAcT0K16MQU0BmZmZmZvZTQD0K16NwDVNA4XoUrkchVEApXI/C9QhTQB+F61G4PlRAH4XrUbguVECF61G4HqVUQA==",
            "dtype": "f8"
           },
           "yaxis": "y"
          }
         ],
         "name": "2011"
        },
        {
         "data": [
          {
           "mode": "text",
           "showlegend": false,
           "text": [
            "2012"
           ],
           "textfont": {
            "color": "lightgray",
            "size": 200
           },
           "textposition": "middle center",
           "type": "scatter",
           "x": [
            8000
           ],
           "y": [
            45
           ]
          },
          {
           "customdata": [
            [
             "China",
             "Asia",
             2012,
             1384206408,
             1.663,
             13.51
            ],
            [
             "India",
             "Asia",
             2012,
             1265780243,
             2.505,
             52.07
            ],
            [
             "Indonesia",
             "Asia",
             2012,
             248451714,
             2.37,
             31.53
            ],
            [
             "Pakistan",
             "Asia",
             2012,
             187280125,
             3.264,
             82.75
            ],
            [
             "Bangladesh",
             "Asia",
             2012,
             151005733,
             2.208,
             43.43
            ],
            [
             "Japan",
             "Asia",
             2012,
             128423571,
             1.405,
             3
            ],
            [
             "Philippines",
             "Asia",
             2012,
             97212639,
             3.076,
             31.22
            ],
            [
             "Vietnam",
             "Asia",
             2012,
             89801926,
             1.768,
             22.58
            ],
            [
             "Iran",
             "Asia",
             2012,
             75539881,
             1.917,
             18.06
            ],
            [
             "Thailand",
             "Asia",
             2012,
             67835969,
             1.412,
             12.11
            ],
            [
             "Myanmar",
             "Asia",
             2012,
             51413703,
             1.959,
             58.18
            ],
            [
             "South Korea",
             "Asia",
             2012,
             50060639,
             1.303,
             3.85
            ],
            [
             "Iraq",
             "Asia",
             2012,
             31890012,
             4.086,
             32.59
            ],
            [
             "Afghanistan",
             "Asia",
             2012,
             31161378,
             5.141,
             80.47
            ],
            [
             "Uzbekistan",
             "Asia",
             2012,
             29449415,
             2.343,
             31.93
            ],
            [
             "Saudi Arabia",
             "Asia",
             2012,
             29154906,
             2.702,
             10.56
            ],
            [
             "Malaysia",
             "Asia",
             2012,
             29068189,
             1.975,
             7.96
            ],
            [
             "Nepal",
             "Asia",
             2012,
             26989160,
             2.389,
             42.18
            ],
            [
             "North Korea",
             "Asia",
             2012,
             24800638,
             1.995,
             25.7
            ],
            [
             "Yemen",
             "Asia",
             2012,
             24473176,
             4.207,
             54.96
            ],
            [
             "Taiwan",
             "Asia",
             2012,
             23346898,
             1.27,
             5.38
            ],
            [
             "Australia",
             "Asia",
             2012,
             22903951,
             1.887,
             4.32
            ],
            [
             "Sri Lanka",
             "Asia",
             2012,
             20532599,
             2.346,
             10.61
            ],
            [
             "Syria",
             "Asia",
             2012,
             20438861,
             3.003,
             17.83
            ],
            [
             "Kazakhstan",
             "Asia",
             2012,
             16751523,
             2.487,
             16.24
            ],
            [
             "Cambodia",
             "Asia",
             2012,
             14780454,
             2.894,
             38.05
            ],
            [
             "United Arab Emirates",
             "Asia",
             2012,
             9141598,
             1.82,
             8.13
            ],
            [
             "Jordan",
             "Asia",
             2012,
             8089963,
             3.314,
             19.23
            ],
            [
             "Tajikistan",
             "Asia",
             2012,
             7874838,
             3.819,
             40.75
            ],
            [
             "Papua New Guinea",
             "Asia",
             2012,
             7631003,
             3.838,
             55.51
            ],
            [
             "Israel",
             "Asia",
             2012,
             7614946,
             2.91,
             4.25
            ],
            [
             "Hong Kong, China",
             "Asia",
             2012,
             7046847,
             1.115,
             2.56
            ],
            [
             "Lao",
             "Asia",
             2012,
             6444527,
             3.108,
             61.78
            ],
            [
             "Kyrgyz Republic",
             "Asia",
             2012,
             5621583,
             3.062,
             26.07
            ],
            [
             "Lebanon",
             "Asia",
             2012,
             5537620,
             1.498,
             9.33
            ],
            [
             "Singapore",
             "Asia",
             2012,
             5369469,
             1.275,
             2.75
            ],
            [
             "Turkmenistan",
             "Asia",
             2012,
             5267906,
             2.353,
             56.07
            ],
            [
             "New Zealand",
             "Asia",
             2012,
             4468462,
             2.074,
             6.05
            ],
            [
             "Palestine",
             "Asia",
             2012,
             4241572,
             4.076,
             22.63
            ],
            [
             "Oman",
             "Asia",
             2012,
             3498031,
             2.884,
             11.41
            ],
            [
             "Kuwait",
             "Asia",
             2012,
             3348852,
             2.626,
             9.6
            ],
            [
             "Mongolia",
             "Asia",
             2012,
             2824698,
             2.446,
             22.13
            ],
            [
             "Qatar",
             "Asia",
             2012,
             2196078,
             2.036,
             8.4
            ],
            [
             "Bahrain",
             "Asia",
             2012,
             1299942,
             2.094,
             8
            ],
            [
             "Timor-Leste",
             "Asia",
             2012,
             1133002,
             5.983,
             57.16
            ],
            [
             "Fiji",
             "Asia",
             2012,
             865065,
             2.615,
             23.93
            ],
            [
             "Bhutan",
             "Asia",
             2012,
             701582,
             2.275,
             38.11
            ],
            [
             "Solomon Islands",
             "Asia",
             2012,
             556066,
             4.099,
             24.21
            ],
            [
             "Brunei",
             "Asia",
             2012,
             398997,
             2.012,
             9.99
            ],
            [
             "Maldives",
             "Asia",
             2012,
             397231,
             2.287,
             12.05
            ],
            [
             "Vanuatu",
             "Asia",
             2012,
             249505,
             3.419,
             29.68
            ],
            [
             "Samoa",
             "Asia",
             2012,
             189089,
             4.212,
             18.26
            ],
            [
             "Kiribati",
             "Asia",
             2012,
             106359,
             2.982,
             62.15
            ],
            [
             "Micronesia, Fed. Sts.",
             "Asia",
             2012,
             104506,
             3.347,
             37.36
            ],
            [
             "Tonga",
             "Asia",
             2012,
             102736,
             3.815,
             17.49
            ]
           ],
           "hovertemplate": "<b>%{hovertext}</b><br><br><extra></extra>",
           "hovertext": [
            "China",
            "India",
            "Indonesia",
            "Pakistan",
            "Bangladesh",
            "Japan",
            "Philippines",
            "Vietnam",
            "Iran",
            "Thailand",
            "Myanmar",
            "South Korea",
            "Iraq",
            "Afghanistan",
            "Uzbekistan",
            "Saudi Arabia",
            "Malaysia",
            "Nepal",
            "North Korea",
            "Yemen",
            "Taiwan",
            "Australia",
            "Sri Lanka",
            "Syria",
            "Kazakhstan",
            "Cambodia",
            "United Arab Emirates",
            "Jordan",
            "Tajikistan",
            "Papua New Guinea",
            "Israel",
            "Hong Kong, China",
            "Lao",
            "Kyrgyz Republic",
            "Lebanon",
            "Singapore",
            "Turkmenistan",
            "New Zealand",
            "Palestine",
            "Oman",
            "Kuwait",
            "Mongolia",
            "Qatar",
            "Bahrain",
            "Timor-Leste",
            "Fiji",
            "Bhutan",
            "Solomon Islands",
            "Brunei",
            "Maldives",
            "Vanuatu",
            "Samoa",
            "Kiribati",
            "Micronesia, Fed. Sts.",
            "Tonga"
           ],
           "ids": [
            "China",
            "India",
            "Indonesia",
            "Pakistan",
            "Bangladesh",
            "Japan",
            "Philippines",
            "Vietnam",
            "Iran",
            "Thailand",
            "Myanmar",
            "South Korea",
            "Iraq",
            "Afghanistan",
            "Uzbekistan",
            "Saudi Arabia",
            "Malaysia",
            "Nepal",
            "North Korea",
            "Yemen",
            "Taiwan",
            "Australia",
            "Sri Lanka",
            "Syria",
            "Kazakhstan",
            "Cambodia",
            "United Arab Emirates",
            "Jordan",
            "Tajikistan",
            "Papua New Guinea",
            "Israel",
            "Hong Kong, China",
            "Lao",
            "Kyrgyz Republic",
            "Lebanon",
            "Singapore",
            "Turkmenistan",
            "New Zealand",
            "Palestine",
            "Oman",
            "Kuwait",
            "Mongolia",
            "Qatar",
            "Bahrain",
            "Timor-Leste",
            "Fiji",
            "Bhutan",
            "Solomon Islands",
            "Brunei",
            "Maldives",
            "Vanuatu",
            "Samoa",
            "Kiribati",
            "Micronesia, Fed. Sts.",
            "Tonga"
           ],
           "legendgroup": "Asia",
           "marker": {
            "color": "#ff798e",
            "size": {
             "bdata": "AAAAElSg1EEAAMCEkdzSQQAAAAQlnq1BAAAA+lVTpkEAAABKVACiQQAAAExanp5BAAAAfGMtl0EAAAAYE2mVQQAAAKSWApJBAAAABGEskEEAAAA4FoSIQQAAAPjq3odBAAAAwKVpfkEAAAAgwrd9QQAAAHDMFXxBAAAAoOXNe0EAAADQubh7QQAAAIAmvXlBAAAA4Nemd0EAAACA5VZ3QQAAACDtQ3ZBAAAA8MjXdUEAAABw15RzQQAAAND0fXNBAAAAYHTzb0EAAADABDFsQQAAAMCrb2FBAAAAwFrcXkEAAACARQpeQQAAAMAmHF1BAAAAgHgMXUEAAADAr+FaQQAAAMB7lVhBAAAAwNNxVUEAAAAA1R9VQQAAAECfe1RBAAAAgHAYVEEAAACAuwtRQQAAAAApLlBBAAAAgBewSkEAAAAAuoxJQQAAAAD9jEVBAAAAADfBQEEAAAAA5tUzQQAAAADKSTFBAAAAAFJmKkEAAAAAHGklQQAAAABE+CBBAAAAAFRaGEEAAAAAvD4YQQAAAAAIdQ5BAAAAAAgVB0EAAAAAcPf5QAAAAACgg/lAAAAAAAAV+UA=",
             "dtype": "f8"
            },
            "sizemode": "area",
            "sizeref": 399812.15944444446,
            "symbol": "circle"
           },
           "mode": "markers",
           "name": "Asia",
           "orientation": "v",
           "showlegend": true,
           "type": "scatter",
           "x": {
            "bdata": "AAAAAIC1xUAAAAAAANGyQAAAAACAGcJAAAAAAAA1sEAAAAAAAM6lQAAAAAAAwuFAAAAAAABPt0AAAAAAAPiyQAAAAADAbtBAAAAAAAA5zEAAAAAAABKwQAAAAABACN9AAAAAAIBczUAAAAAAALSbQAAAAAAAnbJAAAAAAKAw6EAAAAAAgCPWQAAAAAAA1qBAAAAAAAAMm0AAAAAAACquQAAAAADgJONAAAAAAADs5EAAAAAAAH7DQAAAAAAA3bJAAAAAAIB41UAAAAAAAOylQAAAAACAP+xAAAAAAIBTwUAAAAAAAHCiQAAAAAAAlKhAAAAAAEDt3UAAAAAAQJnoQAAAAAAApLJAAAAAAABmpkAAAAAAgBXKQAAAAABQ6/JAAAAAAIDlx0AAAAAAAEDgQAAAAAAA2bFAAAAAAIDP5EAAAAAAwDbzQAAAAACADMNAAAAAAOBi/UAAAAAAIAHkQAAAAAAA38NAAAAAAAC8vUAAAAAAAHy9QAAAAAAAbKBAAAAAAGAO9EAAAAAAgPLHQAAAAAAAeKZAAAAAAAAPtkAAAAAAACycQAAAAAAA4KlAAAAAAAB3tEA=",
            "dtype": "f8"
           },
           "xaxis": "x",
           "y": {
            "bdata": "7FG4HoULU0AzMzMzM9NQQAAAAAAAkFFAAAAAAABAUECF61G4HsVRQOxRuB6F21RAUrgehetRUUCkcD0K13NSQHsUrkfh6lJA7FG4HoVrU0BI4XoUrodQQFyPwvUoTFRAMzMzMzPTUkDhehSuR2FOQHE9CtejUFFAhetRuB7VUkCamZmZmblSQEjhehSuZ1FASOF6FK7HUUD2KFyPwhVRQFK4HoXr4VNAH4XrUbieVEBmZmZmZgZTQClcj8L1+FBArkfhehReUUCamZmZmQlRQFyPwvUoPFJA16NwPQqXU0BmZmZmZoZRQClcj8L1aExAmpmZmZmJVEBcj8L1KLxUQMP1KFyPQlBAuB6F61GoUUCPwvUoXF9TQBSuR+F65FRAKVyPwvV4UUDD9Shcj0JUQClcj8L1mFJASOF6FK7XUkBcj8L1KIxUQI/C9Shcz1BA16NwPQq3U0B7FK5H4apTQDMzMzMzo1FAhetRuB7lUEA9CtejcB1SQLgehetRGE9AzczMzMy8UkB7FK5H4RpUQI/C9ShcD1BAZmZmZmYWUkDD9Shcj6JOQClcj8L1yFBArkfhehTOUUA=",
            "dtype": "f8"
           },
           "yaxis": "y"
          },
          {
           "customdata": [
            [
             "United States",
             "Americas",
             2012,
             314043885,
             1.897,
             7.08
            ],
            [
             "Brazil",
             "Americas",
             2012,
             199287292,
             1.811,
             17.27
            ],
            [
             "Mexico",
             "Americas",
             2012,
             117274156,
             2.216,
             16.42
            ],
            [
             "Colombia",
             "Americas",
             2012,
             46075721,
             2.316,
             17.32
            ],
            [
             "Argentina",
             "Americas",
             2012,
             41755188,
             2.188,
             13.27
            ],
            [
             "Canada",
             "Americas",
             2012,
             34922031,
             1.664,
             5.52
            ],
            [
             "Peru",
             "Americas",
             2012,
             29506790,
             2.448,
             18.35
            ],
            [
             "Venezuela",
             "Americas",
             2012,
             29360827,
             2.417,
             17.2
            ],
            [
             "Chile",
             "Americas",
             2012,
             17400359,
             1.832,
             8.4
            ],
            [
             "Ecuador",
             "Americas",
             2012,
             15474099,
             2.59,
             16.75
            ],
            [
             "Guatemala",
             "Americas",
             2012,
             15270774,
             3.844,
             32.41
            ],
            [
             "Cuba",
             "Americas",
             2012,
             11257112,
             1.453,
             5.82
            ],
            [
             "Bolivia",
             "Americas",
             2012,
             10377677,
             3.264,
             36.45
            ],
            [
             "Haiti",
             "Americas",
             2012,
             10250922,
             3.212,
             76.21
            ],
            [
             "Dominican Republic",
             "Americas",
             2012,
             9930916,
             2.517,
             33.31
            ],
            [
             "Honduras",
             "Americas",
             2012,
             8640692,
             3.05,
             21.79
            ],
            [
             "Paraguay",
             "Americas",
             2012,
             6421510,
             2.897,
             24.44
            ],
            [
             "El Salvador",
             "Americas",
             2012,
             6237922,
             2.209,
             17.45
            ],
            [
             "Nicaragua",
             "Americas",
             2012,
             5982530,
             2.541,
             19.43
            ],
            [
             "Costa Rica",
             "Americas",
             2012,
             4688003,
             1.81,
             9.7
            ],
            [
             "Panama",
             "Americas",
             2012,
             3770635,
             2.493,
             18.64
            ],
            [
             "Uruguay",
             "Americas",
             2012,
             3378975,
             2.056,
             9.95
            ],
            [
             "Jamaica",
             "Americas",
             2012,
             2842128,
             2.284,
             17.36
            ],
            [
             "Trinidad and Tobago",
             "Americas",
             2012,
             1344814,
             1.799,
             22.07
            ],
            [
             "Guyana",
             "Americas",
             2012,
             755388,
             2.591,
             35.87
            ],
            [
             "Suriname",
             "Americas",
             2012,
             541247,
             2.292,
             22.97
            ],
            [
             "Bahamas",
             "Americas",
             2012,
             363581,
             1.893,
             12.12
            ],
            [
             "Belize",
             "Americas",
             2012,
             338001,
             2.715,
             17.65
            ],
            [
             "Barbados",
             "Americas",
             2012,
             283698,
             1.845,
             14.15
            ],
            [
             "St. Lucia",
             "Americas",
             2012,
             176654,
             1.936,
             18.42
            ],
            [
             "St. Vincent and the Grenadines",
             "Americas",
             2012,
             108435,
             2.021,
             19.66
            ],
            [
             "Grenada",
             "Americas",
             2012,
             107452,
             2.194,
             14.48
            ],
            [
             "Antigua and Barbuda",
             "Americas",
             2012,
             90407,
             2.102,
             8.52
            ]
           ],
           "hovertemplate": "<b>%{hovertext}</b><br><br><extra></extra>",
           "hovertext": [
            "United States",
            "Brazil",
            "Mexico",
            "Colombia",
            "Argentina",
            "Canada",
            "Peru",
            "Venezuela",
            "Chile",
            "Ecuador",
            "Guatemala",
            "Cuba",
            "Bolivia",
            "Haiti",
            "Dominican Republic",
            "Honduras",
            "Paraguay",
            "El Salvador",
            "Nicaragua",
            "Costa Rica",
            "Panama",
            "Uruguay",
            "Jamaica",
            "Trinidad and Tobago",
            "Guyana",
            "Suriname",
            "Bahamas",
            "Belize",
            "Barbados",
            "St. Lucia",
            "St. Vincent and the Grenadines",
            "Grenada",
            "Antigua and Barbuda"
           ],
           "ids": [
            "United States",
            "Brazil",
            "Mexico",
            "Colombia",
            "Argentina",
            "Canada",
            "Peru",
            "Venezuela",
            "Chile",
            "Ecuador",
            "Guatemala",
            "Cuba",
            "Bolivia",
            "Haiti",
            "Dominican Republic",
            "Honduras",
            "Paraguay",
            "El Salvador",
            "Nicaragua",
            "Costa Rica",
            "Panama",
            "Uruguay",
            "Jamaica",
            "Trinidad and Tobago",
            "Guyana",
            "Suriname",
            "Bahamas",
            "Belize",
            "Barbados",
            "St. Lucia",
            "St. Vincent and the Grenadines",
            "Grenada",
            "Antigua and Barbuda"
           ],
           "legendgroup": "Americas",
           "marker": {
            "color": "#98ef33",
            "size": {
             "bdata": "AAAA7e23skEAAAD4w8GnQQAAALDY9ZtBAAAASHr4hUEAAACgEemDQQAAAHjxpoBBAAAAYM4jfEEAAACwKwB8QQAAAHAimHBBAAAAYLaDbUEAAADAbiBtQQAAAACjeGVBAAAAoDnLY0EAAABAVY1jQQAAAIAU8WJBAAAAgBZ7YEEAAACAAX9YQQAAAIC4y1dBAAAAgFDSVkEAAADAIOJRQQAAAICFxExBAAAAgI/HSUEAAAAACK9FQQAAAAAuhTRBAAAAAHgNJ0EAAAAAfoQgQQAAAAD0MBZBAAAAAEShFEEAAAAAyFARQQAAAABwkAVBAAAAADB5+kAAAAAAwDv6QAAAAABwEvZA",
             "dtype": "f8"
            },
            "sizemode": "area",
            "sizeref": 399812.15944444446,
            "symbol": "circle"
           },
           "mode": "markers",
           "name": "Americas",
           "orientation": "v",
           "showlegend": true,
           "type": "scatter",
           "x": {
            "bdata": "AAAAAAC56EAAAAAAgLfNQAAAAADAftBAAAAAAABux0AAAAAAAPDSQAAAAABAbuRAAAAAAADZxUAAAAAAgJPRQAAAAADAuNRAAAAAAAAXxEAAAAAAAPO6QAAAAAAA4rtAAAAAAABUtkAAAAAAANyYQAAAAAAA9cZAAAAAAADQr0AAAAAAgDHDQAAAAAAA9rlAAAAAAAAXsUAAAAAAAOnKQAAAAABABdJAAAAAAMAj0kAAAAAAAFC/QAAAAAAAc95AAAAAAAAAuUAAAAAAAFTNQAAAAADAX91AAAAAAADDvkAAAAAAAOnPQAAAAAAAUMdAAAAAAAC2w0AAAAAAgC/FQAAAAABA6dNA",
            "dtype": "f8"
           },
           "xaxis": "x",
           "y": {
            "bdata": "16NwPQq3U0DXo3A9CrdSQEjhehSu51JA4XoUrkfRU0BxPQrXowBTQM3MzMzMbFRAmpmZmZmZU0AK16NwPcpSQAAAAAAA0FNAKVyPwvXYUkDNzMzMzBxSQLgehetRqFNACtejcD3aUUCkcD0K10NPQClcj8L1aFJArkfhehTuUUCkcD0K18NSQAAAAAAAMFJAmpmZmZlpU0CPwvUoXP9TQBSuR+F6lFNA9ihcj8IVU0CkcD0K19NSQKRwPQrXo1JApHA9CtfTUEAAAAAAAABSQOxRuB6FW1JA4XoUrkeBUkAUrkfhekRTQIXrUbge5VJAMzMzMzMjUkAK16NwPYpSQI/C9ShcL1NA",
            "dtype": "f8"
           },
           "yaxis": "y"
          },
          {
           "customdata": [
            [
             "Nigeria",
             "Africa",
             2012,
             167228803,
             6.002,
             130.47
            ],
            [
             "Ethiopia",
             "Africa",
             2012,
             92726982,
             4.642,
             74.32
            ],
            [
             "Egypt",
             "Africa",
             2012,
             86422240,
             2.807,
             26.61
            ],
            [
             "Congo, Dem. Rep.",
             "Africa",
             2012,
             69020749,
             6.039,
             107.54
            ],
            [
             "South Africa",
             "Africa",
             2012,
             52832659,
             2.412,
             43.32
            ],
            [
             "Tanzania",
             "Africa",
             2012,
             47053033,
             5.287,
             66.03
            ],
            [
             "Kenya",
             "Africa",
             2012,
             44343469,
             4.459,
             52.18
            ],
            [
             "Algeria",
             "Africa",
             2012,
             37383899,
             2.82,
             26.14
            ],
            [
             "Sudan",
             "Africa",
             2012,
             36193781,
             4.491,
             72
            ],
            [
             "Uganda",
             "Africa",
             2012,
             34558700,
             5.964,
             67.3
            ],
            [
             "Morocco",
             "Africa",
             2012,
             33241898,
             2.706,
             29.28
            ],
            [
             "Ghana",
             "Africa",
             2012,
             25996454,
             3.92,
             63.26
            ],
            [
             "Angola",
             "Africa",
             2012,
             25107925,
             5.979,
             104.95
            ],
            [
             "Mozambique",
             "Africa",
             2012,
             24862673,
             5.263,
             94.7
            ],
            [
             "Madagascar",
             "Africa",
             2012,
             22346641,
             4.528,
             63.04
            ],
            [
             "Cote d'Ivoire",
             "Africa",
             2012,
             21547188,
             4.894,
             100.12
            ],
            [
             "Cameroon",
             "Africa",
             2012,
             21485267,
             4.859,
             98.22
            ],
            [
             "Niger",
             "Africa",
             2012,
             17795209,
             7.574,
             108.72
            ],
            [
             "Burkina Faso",
             "Africa",
             2012,
             16571252,
             5.693,
             101.37
            ],
            [
             "Mali",
             "Africa",
             2012,
             15979492,
             6.852,
             122.07
            ],
            [
             "Malawi",
             "Africa",
             2012,
             15396010,
             5.471,
             75.45
            ],
            [
             "Zambia",
             "Africa",
             2012,
             14465148,
             5.731,
             74.29
            ],
            [
             "Senegal",
             "Africa",
             2012,
             13401990,
             4.981,
             59.02
            ],
            [
             "Zimbabwe",
             "Africa",
             2012,
             13115149,
             3.564,
             69.84
            ],
            [
             "Chad",
             "Africa",
             2012,
             12784748,
             6.375,
             141.74
            ],
            [
             "Somalia",
             "Africa",
             2012,
             12715487,
             6.667,
             147.16
            ],
            [
             "Tunisia",
             "Africa",
             2012,
             10846993,
             2.023,
             17.73
            ],
            [
             "Guinea",
             "Africa",
             2012,
             10652032,
             5.001,
             112.81
            ],
            [
             "Rwanda",
             "Africa",
             2012,
             10549668,
             4.616,
             51.66
            ],
            [
             "South Sudan",
             "Africa",
             2012,
             10113648,
             5.01,
             100.76
            ],
            [
             "Benin",
             "Africa",
             2012,
             9729254,
             4.927,
             106.62
            ],
            [
             "Burundi",
             "Africa",
             2012,
             9245992,
             6.123,
             79.98
            ],
            [
             "Togo",
             "Africa",
             2012,
             6773807,
             4.695,
             84.31
            ],
            [
             "Sierra Leone",
             "Africa",
             2012,
             6712586,
             4.782,
             145.1
            ],
            [
             "Libya",
             "Africa",
             2012,
             6285751,
             2.41,
             15.09
            ],
            [
             "Congo, Rep.",
             "Africa",
             2012,
             4510197,
             5.012,
             59.21
            ],
            [
             "Central African Republic",
             "Africa",
             2012,
             4436411,
             4.451,
             141.8
            ],
            [
             "Liberia",
             "Africa",
             2012,
             4135662,
             4.868,
             88.75
            ],
            [
             "Mauritania",
             "Africa",
             2012,
             3706555,
             4.728,
             91.78
            ],
            [
             "Eritrea",
             "Africa",
             2012,
             3250104,
             4.785,
             51.56
            ],
            [
             "Namibia",
             "Africa",
             2012,
             2194777,
             3.107,
             47.96
            ],
            [
             "Botswana",
             "Africa",
             2012,
             2039551,
             2.665,
             46.06
            ],
            [
             "Lesotho",
             "Africa",
             2012,
             2014988,
             3.092,
             96.47
            ],
            [
             "Gambia",
             "Africa",
             2012,
             1905020,
             5.775,
             71.68
            ],
            [
             "Gabon",
             "Africa",
             2012,
             1749677,
             4.136,
             58.05
            ],
            [
             "Guinea-Bissau",
             "Africa",
             2012,
             1604981,
             4.989,
             103.11
            ],
            [
             "Mauritius",
             "Africa",
             2012,
             1253489,
             1.504,
             14.75
            ],
            [
             "Eswatini",
             "Africa",
             2012,
             1079285,
             3.407,
             72.58
            ],
            [
             "Equatorial Guinea",
             "Africa",
             2012,
             1031191,
             4.945,
             104.22
            ],
            [
             "Djibouti",
             "Africa",
             2012,
             868136,
             3.457,
             71.84
            ],
            [
             "Comoros",
             "Africa",
             2012,
             723865,
             4.782,
             82.28
            ],
            [
             "Cape Verde",
             "Africa",
             2012,
             505241,
             2.331,
             23.61
            ],
            [
             "Sao Tome and Principe",
             "Africa",
             2012,
             188394,
             4.145,
             40.43
            ],
            [
             "Seychelles",
             "Africa",
             2012,
             92608,
             2.207,
             14.34
            ]
           ],
           "hovertemplate": "<b>%{hovertext}</b><br><br><extra></extra>",
           "hovertext": [
            "Nigeria",
            "Ethiopia",
            "Egypt",
            "Congo, Dem. Rep.",
            "South Africa",
            "Tanzania",
            "Kenya",
            "Algeria",
            "Sudan",
            "Uganda",
            "Morocco",
            "Ghana",
            "Angola",
            "Mozambique",
            "Madagascar",
            "Cote d'Ivoire",
            "Cameroon",
            "Niger",
            "Burkina Faso",
            "Mali",
            "Malawi",
            "Zambia",
            "Senegal",
            "Zimbabwe",
            "Chad",
            "Somalia",
            "Tunisia",
            "Guinea",
            "Rwanda",
            "South Sudan",
            "Benin",
            "Burundi",
            "Togo",
            "Sierra Leone",
            "Libya",
            "Congo, Rep.",
            "Central African Republic",
            "Liberia",
            "Mauritania",
            "Eritrea",
            "Namibia",
            "Botswana",
            "Lesotho",
            "Gambia",
            "Gabon",
            "Guinea-Bissau",
            "Mauritius",
            "Eswatini",
            "Equatorial Guinea",
            "Djibouti",
            "Comoros",
            "Cape Verde",
            "Sao Tome and Principe",
            "Seychelles"
           ],
           "ids": [
            "Nigeria",
            "Ethiopia",
            "Egypt",
            "Congo, Dem. Rep.",
            "South Africa",
            "Tanzania",
            "Kenya",
            "Algeria",
            "Sudan",
            "Uganda",
            "Morocco",
            "Ghana",
            "Angola",
            "Mozambique",
            "Madagascar",
            "Cote d'Ivoire",
            "Cameroon",
            "Niger",
            "Burkina Faso",
            "Mali",
            "Malawi",
            "Zambia",
            "Senegal",
            "Zimbabwe",
            "Chad",
            "Somalia",
            "Tunisia",
            "Guinea",
            "Rwanda",
            "South Sudan",
            "Benin",
            "Burundi",
            "Togo",
            "Sierra Leone",
            "Libya",
            "Congo, Rep.",
            "Central African Republic",
            "Liberia",
            "Mauritania",
            "Eritrea",
            "Namibia",
            "Botswana",
            "Lesotho",
            "Gambia",
            "Gabon",
            "Guinea-Bissau",
            "Mauritius",
            "Eswatini",
            "Equatorial Guinea",
            "Djibouti",
            "Comoros",
            "Cape Verde",
            "Sao Tome and Principe",
            "Seychelles"
           ],
           "legendgroup": "Africa",
           "marker": {
            "color": "#33dded",
            "size": {
             "bdata": "AAAABmvvo0EAAAAYmxuWQQAAAIDLmpRBAAAANLF0kEEAAACYTDGJQQAAAEjHb4ZBAAAAaAUlhUEAAADYdtOBQQAAAKgvQoFBAAAAYJd6gEEAAACgsrN/QQAAAGDKynhBAAAAUN3xd0EAAAAQ/bV3QQAAABC5T3VBAAAAQIuMdEEAAAAwbX10QQAAAJCI+HBBAAAAgG6bb0EAAACAfHpuQQAAAECVXW1BAAAAgA+Xa0EAAADA8I9pQQAAAKDhA2lBAAAAgI1iaEEAAADgu0BoQQAAACBisGRBAAAAADBRZEEAAACANB9kQQAAAABOSmNBAAAAwJyOYkEAAAAApaJhQQAAAMAL11lBAAAAgEKbWUEAAADAbfpXQQAAAEB9NFFBAAAAwG7sUEEAAAAAd41PQQAAAIBdR0xBAAAAANzLSEEAAACArL5AQQAAAAD/Hj9BAAAAAAy/PkEAAAAAfBE9QQAAAACtsjpBAAAAAHV9OEEAAAAAcSAzQQAAAAD1dzBBAAAAAC54L0EAAAAAUH4qQQAAAAAyFyZBAAAAAGTWHkEAAAAAUP8GQQAAAAAAnPZA",
             "dtype": "f8"
            },
            "sizemode": "area",
            "sizeref": 399812.15944444446,
            "symbol": "circle"
           },
           "mode": "markers",
           "name": "Africa",
           "orientation": "v",
           "showlegend": true,
           "type": "scatter",
           "x": {
            "bdata": "AAAAAACrtEAAAAAAACyTQAAAAAAAf8NAAAAAAAAQhkAAAAAAgO7HQAAAAAAAdqJAAAAAAAAEpEAAAAAAANXJQAAAAAAA1K9AAAAAAABomkAAAAAAAJq6QAAAAAAAGKxAAAAAAAD1uUAAAAAAAAyQQAAAAAAAbJVAAAAAAAAQpUAAAAAAACqnQAAAAAAA4IpAAAAAAADEl0AAAAAAAECcQAAAAAAA/JBAAAAAAADcq0AAAAAAAOClQAAAAAAAbqNAAAAAAAB8nkAAAAAAAECDQAAAAAAAZcRAAAAAAADgm0AAAAAAAFyYQAAAAAAAUJ5AAAAAAAAAnUAAAAAAAGCHQAAAAAAA3JRAAAAAAAAYlkAAAAAAQAjYQAAAAAAAJ7VAAAAAAACckEAAAAAAAOySQAAAAAAA9KtAAAAAAABwkkAAAAAAABHCQAAAAAAA5stAAAAAAAA2pUAAAAAAABCXQAAAAACAsM9AAAAAAACIlkAAAAAAQLHQQAAAAACAAcFAAAAAAACG4UAAAAAAABamQAAAAAAAZqNAAAAAAADLt0AAAAAAAJ6kQAAAAACAFtZA",
            "dtype": "f8"
           },
           "xaxis": "x",
           "y": {
            "bdata": "PQrXo3DdTkA9CtejcD1QQMP1KFyPclFA4XoUrkeBTUDhehSuR8FNQOxRuB6Fa09AFK5H4Xp0T0DhehSuRzFTQHsUrkfhGlFAj8L1KFyvTkC4HoXrUShSQOF6FK5HgU9A4XoUrkehTkCPwvUoXG9KQFK4HoXrEU9AzczMzMxsTUDXo3A9CpdNQB+F61G4/k1AmpmZmZmZTUB7FK5H4RpOQGZmZmZmBk1ACtejcD1qTUD2KFyPwqVQQHE9CtejcEtAw/UoXI/CTEAAAAAAAGBMQArXo3A9WlNAAAAAAAAgTUDNzMzMzHxQQB+F61G4Hk1A9ihcj8IVT0BI4XoUrqdNQNejcD0KV05AcT0K16NwTEDXo3A9CldSQIXrUbgeZU5AcT0K16PQSEDD9ShcjyJPQB+F61G4PlFA7FG4HoXrTUDsUbgehUtPQBSuR+F6lE9A16NwPQp3SEBxPQrXoxBQQDMzMzMzE1BACtejcD2KTECuR+F6FI5SQFyPwvUonEhAzczMzMxMT0D2KFyPwjVQQClcj8L1uFBAXI/C9SisUkBSuB6F61FRQNejcD0KV1JA",
            "dtype": "f8"
           },
           "yaxis": "y"
          },
          {
           "customdata": [
            [
             "Russia",
             "Europe",
             2012,
             143993888,
             1.59,
             9.8
            ],
            [
             "Germany",
             "Europe",
             2012,
             80972629,
             1.408,
             4.02
            ],
            [
             "Turkey",
             "Europe",
             2012,
             74651046,
             2.06,
             15.17
            ],
            [
             "United Kingdom",
             "Europe",
             2012,
             64525300,
             1.896,
             4.78
            ],
            [
             "France",
             "Europe",
             2012,
             63564224,
             1.981,
             4.21
            ],
            [
             "Italy",
             "Europe",
             2012,
             59879469,
             1.471,
             3.78
            ],
            [
             "Spain",
             "Europe",
             2012,
             47063059,
             1.49,
             3.58
            ],
            [
             "Ukraine",
             "Europe",
             2012,
             45453805,
             1.46,
             10.64
            ],
            [
             "Poland",
             "Europe",
             2012,
             38227033,
             1.402,
             5.42
            ],
            [
             "Romania",
             "Europe",
             2012,
             20227467,
             1.402,
             11.07
            ],
            [
             "Netherlands",
             "Europe",
             2012,
             16791850,
             1.759,
             4.25
            ],
            [
             "Belgium",
             "Europe",
             2012,
             11085355,
             1.851,
             4.29
            ],
            [
             "Greece",
             "Europe",
             2012,
             10781119,
             1.521,
             4.08
            ],
            [
             "Czech Republic",
             "Europe",
             2012,
             10581302,
             1.546,
             3.16
            ],
            [
             "Portugal",
             "Europe",
             2012,
             10526308,
             1.319,
             3.73
            ],
            [
             "Hungary",
             "Europe",
             2012,
             9864363,
             1.396,
             5.74
            ],
            [
             "Sweden",
             "Europe",
             2012,
             9542817,
             1.91,
             2.97
            ],
            [
             "Belarus",
             "Europe",
             2012,
             9417045,
             1.484,
             4.78
            ],
            [
             "Azerbaijan",
             "Europe",
             2012,
             9264684,
             1.94,
             32.68
            ],
            [
             "Serbia",
             "Europe",
             2012,
             8940116,
             1.368,
             7.14
            ],
            [
             "Austria",
             "Europe",
             2012,
             8502230,
             1.457,
             4.05
            ],
            [
             "Switzerland",
             "Europe",
             2012,
             8008006,
             1.522,
             4.44
            ],
            [
             "Bulgaria",
             "Europe",
             2012,
             7334007,
             1.524,
             9.79
            ],
            [
             "Denmark",
             "Europe",
             2012,
             5610909,
             1.733,
             4.07
            ],
            [
             "Slovak Republic",
             "Europe",
             2012,
             5414894,
             1.382,
             6.58
            ],
            [
             "Finland",
             "Europe",
             2012,
             5414769,
             1.8,
             2.73
            ],
            [
             "Norway",
             "Europe",
             2012,
             5013716,
             1.85,
             2.98
            ],
            [
             "Ireland",
             "Europe",
             2012,
             4608199,
             1.999,
             3.98
            ],
            [
             "Croatia",
             "Europe",
             2012,
             4295869,
             1.489,
             5.16
            ],
            [
             "Moldova",
             "Europe",
             2012,
             4075804,
             1.462,
             16.75
            ],
            [
             "Georgia",
             "Europe",
             2012,
             4064097,
             1.82,
             12.11
            ],
            [
             "Bosnia and Herzegovina",
             "Europe",
             2012,
             3604972,
             1.268,
             6.62
            ],
            [
             "Lithuania",
             "Europe",
             2012,
             3045561,
             1.504,
             5.18
            ],
            [
             "Albania",
             "Europe",
             2012,
             2914091,
             1.76,
             11.41
            ],
            [
             "Armenia",
             "Europe",
             2012,
             2884239,
             1.739,
             16.7
            ],
            [
             "North Macedonia",
             "Europe",
             2012,
             2074275,
             1.436,
             10.41
            ],
            [
             "Latvia",
             "Europe",
             2012,
             2069018,
             1.591,
             6.64
            ],
            [
             "Slovenia",
             "Europe",
             2012,
             2057826,
             1.5,
             2.89
            ],
            [
             "Estonia",
             "Europe",
             2012,
             1323163,
             1.609,
             3.91
            ],
            [
             "Cyprus",
             "Europe",
             2012,
             1135046,
             1.465,
             3.19
            ],
            [
             "Montenegro",
             "Europe",
             2012,
             625931,
             1.676,
             5.07
            ],
            [
             "Luxembourg",
             "Europe",
             2012,
             530855,
             1.661,
             2.83
            ],
            [
             "Malta",
             "Europe",
             2012,
             421809,
             1.361,
             6.86
            ],
            [
             "Iceland",
             "Europe",
             2012,
             325642,
             2.096,
             2.43
            ]
           ],
           "hovertemplate": "<b>%{hovertext}</b><br><br><extra></extra>",
           "hovertext": [
            "Russia",
            "Germany",
            "Turkey",
            "United Kingdom",
            "France",
            "Italy",
            "Spain",
            "Ukraine",
            "Poland",
            "Romania",
            "Netherlands",
            "Belgium",
            "Greece",
            "Czech Republic",
            "Portugal",
            "Hungary",
            "Sweden",
            "Belarus",
            "Azerbaijan",
            "Serbia",
            "Austria",
            "Switzerland",
            "Bulgaria",
            "Denmark",
            "Slovak Republic",
            "Finland",
            "Norway",
            "Ireland",
            "Croatia",
            "Moldova",
            "Georgia",
            "Bosnia and Herzegovina",
            "Lithuania",
            "Albania",
            "Armenia",
            "North Macedonia",
            "Latvia",
            "Slovenia",
            "Estonia",
            "Cyprus",
            "Montenegro",
            "Luxembourg",
            "Malta",
            "Iceland"
           ],
           "ids": [
            "Russia",
            "Germany",
            "Turkey",
            "United Kingdom",
            "France",
            "Italy",
            "Spain",
            "Ukraine",
            "Poland",
            "Romania",
            "Netherlands",
            "Belgium",
            "Greece",
            "Czech Republic",
            "Portugal",
            "Hungary",
            "Sweden",
            "Belarus",
            "Azerbaijan",
            "Serbia",
            "Austria",
            "Switzerland",
            "Bulgaria",
            "Denmark",
            "Slovak Republic",
            "Finland",
            "Norway",
            "Ireland",
            "Croatia",
            "Moldova",
            "Georgia",
            "Bosnia and Herzegovina",
            "Lithuania",
            "Albania",
            "Armenia",
            "North Macedonia",
            "Latvia",
            "Slovenia",
            "Estonia",
            "Cyprus",
            "Montenegro",
            "Luxembourg",
            "Malta",
            "Iceland"
           ],
           "legendgroup": "Europe",
           "marker": {
            "color": "#ffeb33",
            "size": {
             "bdata": "AAAAQFgqoUEAAABULU6TQQAAAJhWzJFBAAAAoJ/EjkEAAAAATk+OQQAAAGiBjYxBAAAAmABxhkEAAABoj6yFQQAAAMhiOoJBAAAAsFhKc0EAAACgkgNwQQAAAGDFJGVBAAAA4DeQZEEAAADApi5kQQAAAIDME2RBAAAAYJXQYkEAAAAglDNiQQAAAKAq9mFBAAAAgMWrYUEAAACASg1hQQAAAMB6N2BBAAAAgFGMXkEAAADAHfpbQQAAAEBnZ1VBAAAAgPunVEEAAABA3KdUQQAAAAA1IFNBAAAAwDGUUUEAAABAL2NQQQAAAACOGE9BAAAAgLABT0EAAAAA9oBLQQAAAIBcPEdBAAAAgJU7RkEAAACARwFGQQAAAACjpj9BAAAAABqSP0EAAAAAYmY/QQAAAACbMDRBAAAAAMZRMUEAAAAAFhojQQAAAABOMyBBAAAAAMS+GUEAAAAAKOATQQ==",
             "dtype": "f8"
            },
            "sizemode": "area",
            "sizeref": 399812.15944444446,
            "symbol": "circle"
           },
           "mode": "markers",
           "name": "Europe",
           "orientation": "v",
           "showlegend": true,
           "type": "scatter",
           "x": {
            "bdata": "AAAAAACR2EAAAAAAwOjkQAAAAADAyNNAAAAAAMAc4kAAAAAAIEDiQAAAAACAM+FAAAAAAEBh3kAAAAAAAEHAQAAAAACArNZAAAAAAEDu0UAAAAAAoG/mQAAAAACgFORAAAAAAADL10AAAAAAwNvbQAAAAACAM9lAAAAAAEAO1kAAAAAAgCvlQAAAAAAAENFAAAAAAIAIz0AAAAAAAMzKQAAAAAAAweVAAAAAAMBq60AAAAAAAM7OQAAAAAAgpuVAAAAAAICa2UAAAAAAIH3jQAAAAABgw+5AAAAAAKDj5UAAAAAAwN3TQAAAAAAAeLNAAAAAAACUv0AAAAAAgKDDQAAAAABAfNdAAAAAAABBxEAAAAAAAFG9QAAAAAAAjsZAAAAAAABX1EAAAAAAQFLbQAAAAAAAF9lAAAAAAIAB30AAAAAAAHnLQAAAAAAQ2vVAAAAAAIBr3EAAAAAAoA7kQA==",
            "dtype": "f8"
           },
           "xaxis": "x",
           "y": {
            "bdata": "H4XrUbiOUUAfhetRuC5UQB+F61G4flNAexSuR+E6VEBmZmZmZnZUQFyPwvUojFRApHA9CteTVECF61G4HuVRQFK4HoXrMVNApHA9CtejUkDD9Shcj0JUQHE9CtejEFRAZmZmZmYWVEC4HoXrUYhTQLgehetRKFRAzczMzMzMUkAzMzMzM3NUQArXo3A9ClJAw/UoXI9yUUDNzMzMzKxSQOF6FK5HQVRAuB6F61G4VEAfhetRuJ5SQClcj8L1CFRArkfhehQOU0DNzMzMzCxUQK5H4XoUXlRAZmZmZmY2VEAzMzMzM1NTQFK4HoXr4VFAexSuR+E6UkCF61G4HiVTQHE9CtejgFJAhetRuB51U0CPwvUoXK9SQDMzMzMzE1NAexSuR+GKUkBcj8L1KPxTQOxRuB6FG1NAmpmZmZk5VEA9CtejcA1TQClcj8L1SFRA16NwPQo3VEC4HoXrUahUQA==",
            "dtype": "f8"
           },
           "yaxis": "y"
          }
         ],
         "name": "2012"
        },
        {
         "data": [
          {
           "mode": "text",
           "showlegend": false,
           "text": [
            "2013"
           ],
           "textfont": {
            "color": "lightgray",
            "size": 200
           },
           "textposition": "middle center",
           "type": "scatter",
           "x": [
            8000
           ],
           "y": [
            45
           ]
          },
          {
           "customdata": [
            [
             "China",
             "Asia",
             2013,
             1391883335,
             1.668,
             12.5
            ],
            [
             "India",
             "Asia",
             2013,
             1280842119,
             2.479,
             49.11
            ],
            [
             "Indonesia",
             "Asia",
             2013,
             251805314,
             2.338,
             30.31
            ],
            [
             "Pakistan",
             "Asia",
             2013,
             191260799,
             3.185,
             80.49
            ],
            [
             "Bangladesh",
             "Asia",
             2013,
             152761413,
             2.177,
             40.84
            ],
            [
             "Japan",
             "Asia",
             2013,
             128314189,
             1.419,
             2.91
            ],
            [
             "Philippines",
             "Asia",
             2013,
             98871558,
             3.043,
             30.88
            ],
            [
             "Vietnam",
             "Asia",
             2013,
             90752593,
             1.743,
             22.34
            ],
            [
             "Iran",
             "Asia",
             2013,
             76481963,
             1.92,
             17.31
            ],
            [
             "Thailand",
             "Asia",
             2013,
             68144519,
             1.399,
             11.54
            ],
            [
             "Myanmar",
             "Asia",
             2013,
             51852464,
             1.938,
             55.76
            ],
            [
             "South Korea",
             "Asia",
             2013,
             50345720,
             1.321,
             3.73
            ],
            [
             "Iraq",
             "Asia",
             2013,
             33157061,
             4.026,
             31.54
            ],
            [
             "Afghanistan",
             "Asia",
             2013,
             32269592,
             4.9,
             76.95
            ],
            [
             "Saudi Arabia",
             "Asia",
             2013,
             30052058,
             2.644,
             9.86
            ],
            [
             "Uzbekistan",
             "Asia",
             2013,
             29932630,
             2.309,
             29.79
            ],
            [
             "Malaysia",
             "Asia",
             2013,
             29468923,
             1.964,
             7.98
            ],
            [
             "Nepal",
             "Asia",
             2013,
             26916795,
             2.3,
             40.07
            ],
            [
             "Yemen",
             "Asia",
             2013,
             25147112,
             4.075,
             54.96
            ],
            [
             "North Korea",
             "Asia",
             2013,
             24929500,
             1.988,
             24
            ],
            [
             "Taiwan",
             "Asia",
             2013,
             23421582,
             1.065,
             5.33
            ],
            [
             "Australia",
             "Asia",
             2013,
             23254912,
             1.882,
             4.13
            ],
            [
             "Sri Lanka",
             "Asia",
             2013,
             20663053,
             2.339,
             9.99
            ],
            [
             "Syria",
             "Asia",
             2013,
             19578466,
             2.964,
             17.66
            ],
            [
             "Kazakhstan",
             "Asia",
             2013,
             17026118,
             2.455,
             14.52
            ],
            [
             "Cambodia",
             "Asia",
             2013,
             15026330,
             2.861,
             35.61
            ],
            [
             "United Arab Emirates",
             "Asia",
             2013,
             9197908,
             1.801,
             8
            ],
            [
             "Jordan",
             "Asia",
             2013,
             8518992,
             3.244,
             18.7
            ],
            [
             "Tajikistan",
             "Asia",
             2013,
             8059782,
             3.815,
             39.72
            ],
            [
             "Papua New Guinea",
             "Asia",
             2013,
             7788388,
             3.781,
             54.23
            ],
            [
             "Israel",
             "Asia",
             2013,
             7734834,
             2.898,
             4.12
            ],
            [
             "Hong Kong, China",
             "Asia",
             2013,
             7088780,
             1.135,
             2.47
            ],
            [
             "Lao",
             "Asia",
             2013,
             6541302,
             3.02,
             58.88
            ],
            [
             "Lebanon",
             "Asia",
             2013,
             5913016,
             1.495,
             8.96
            ],
            [
             "Kyrgyz Republic",
             "Asia",
             2013,
             5731312,
             3.075,
             24.74
            ],
            [
             "Singapore",
             "Asia",
             2013,
             5453732,
             1.282,
             2.72
            ],
            [
             "Turkmenistan",
             "Asia",
             2013,
             5366376,
             2.326,
             54.24
            ],
            [
             "New Zealand",
             "Asia",
             2013,
             4518519,
             2.052,
             6.02
            ],
            [
             "Palestine",
             "Asia",
             2013,
             4333521,
             4.01,
             22.37
            ],
            [
             "Oman",
             "Asia",
             2013,
             3764805,
             2.853,
             11.29
            ],
            [
             "Kuwait",
             "Asia",
             2013,
             3526382,
             2.6,
             9.2
            ],
            [
             "Mongolia",
             "Asia",
             2013,
             2881783,
             2.436,
             20.71
            ],
            [
             "Qatar",
             "Asia",
             2013,
             2336579,
             2.019,
             8.2
            ],
            [
             "Bahrain",
             "Asia",
             2013,
             1315029,
             2.075,
             7.83
            ],
            [
             "Timor-Leste",
             "Asia",
             2013,
             1153288,
             5.855,
             54.89
            ],
            [
             "Fiji",
             "Asia",
             2013,
             865602,
             2.588,
             24.06
            ],
            [
             "Bhutan",
             "Asia",
             2013,
             710235,
             2.232,
             36.35
            ],
            [
             "Solomon Islands",
             "Asia",
             2013,
             571329,
             4.031,
             23.44
            ],
            [
             "Maldives",
             "Asia",
             2013,
             415592,
             2.256,
             11.28
            ],
            [
             "Brunei",
             "Asia",
             2013,
             404414,
             1.994,
             10.22
            ],
            [
             "Vanuatu",
             "Asia",
             2013,
             256637,
             3.382,
             29.48
            ],
            [
             "Samoa",
             "Asia",
             2013,
             190712,
             4.147,
             17.94
            ],
            [
             "Kiribati",
             "Asia",
             2013,
             107887,
             2.952,
             60.61
            ],
            [
             "Micronesia, Fed. Sts.",
             "Asia",
             2013,
             105922,
             3.294,
             36.11
            ],
            [
             "Tonga",
             "Asia",
             2013,
             101768,
             3.767,
             17.35
            ]
           ],
           "hovertemplate": "<b>%{hovertext}</b><br><br><extra></extra>",
           "hovertext": [
            "China",
            "India",
            "Indonesia",
            "Pakistan",
            "Bangladesh",
            "Japan",
            "Philippines",
            "Vietnam",
            "Iran",
            "Thailand",
            "Myanmar",
            "South Korea",
            "Iraq",
            "Afghanistan",
            "Saudi Arabia",
            "Uzbekistan",
            "Malaysia",
            "Nepal",
            "Yemen",
            "North Korea",
            "Taiwan",
            "Australia",
            "Sri Lanka",
            "Syria",
            "Kazakhstan",
            "Cambodia",
            "United Arab Emirates",
            "Jordan",
            "Tajikistan",
            "Papua New Guinea",
            "Israel",
            "Hong Kong, China",
            "Lao",
            "Lebanon",
            "Kyrgyz Republic",
            "Singapore",
            "Turkmenistan",
            "New Zealand",
            "Palestine",
            "Oman",
            "Kuwait",
            "Mongolia",
            "Qatar",
            "Bahrain",
            "Timor-Leste",
            "Fiji",
            "Bhutan",
            "Solomon Islands",
            "Maldives",
            "Brunei",
            "Vanuatu",
            "Samoa",
            "Kiribati",
            "Micronesia, Fed. Sts.",
            "Tonga"
           ],
           "ids": [
            "China",
            "India",
            "Indonesia",
            "Pakistan",
            "Bangladesh",
            "Japan",
            "Philippines",
            "Vietnam",
            "Iran",
            "Thailand",
            "Myanmar",
            "South Korea",
            "Iraq",
            "Afghanistan",
            "Saudi Arabia",
            "Uzbekistan",
            "Malaysia",
            "Nepal",
            "Yemen",
            "North Korea",
            "Taiwan",
            "Australia",
            "Sri Lanka",
            "Syria",
            "Kazakhstan",
            "Cambodia",
            "United Arab Emirates",
            "Jordan",
            "Tajikistan",
            "Papua New Guinea",
            "Israel",
            "Hong Kong, China",
            "Lao",
            "Lebanon",
            "Kyrgyz Republic",
            "Singapore",
            "Turkmenistan",
            "New Zealand",
            "Palestine",
            "Oman",
            "Kuwait",
            "Mongolia",
            "Qatar",
            "Bahrain",
            "Timor-Leste",
            "Fiji",
            "Bhutan",
            "Solomon Islands",
            "Maldives",
            "Brunei",
            "Vanuatu",
            "Samoa",
            "Kiribati",
            "Micronesia, Fed. Sts.",
            "Tonga"
           ],
           "legendgroup": "Asia",
           "marker": {
            "color": "#ff798e",
            "size": {
             "bdata": "AADAEZ291EEAAMBhBhbTQQAAAAR9BK5BAAAA/tDMpkEAAACK6DWiQQAAADStl55BAAAAGKSSl0EAAABEGaOVQQAAAKwWPJJBAAAAHDY/kEEAAACApbmIQQAAAMC3AYhBAAAAUPyef0EAAACAUcZ+QQAAAKDtqHxBAAAAYMWLfEEAAACwjxp8QQAAALB7q3lBAAAAgG77d0EAAADATcZ3QQAAAOAoVnZBAAAAAHgtdkEAAADQsLRzQQAAACDmq3JBAAAAYMQ8cEEAAABAE6lsQQAAAIAqi2FBAAAAAKo/YEEAAACA4b5eQQAAAADZtV1BAAAAgIyBXUEAAAAAowpbQQAAAID981hBAAAAAG6OVkEAAAAA/NxVQQAAAADpzVRBAAAAAJp4VEEAAADAnTxRQQAAAED0h1BBAAAAgCK5TEEAAAAAd+dKQQAAAIB7/EVBAAAAgKHTQUEAAAAA1RA0QQAAAAAImTFBAAAAAIRqKkEAAAAAtqwlQQAAAACCbyFBAAAAAKBdGUEAAAAA+K4YQQAAAADoUw9BAAAAAMBHB0EAAAAA8Fb6QAAAAAAg3PlAAAAAAIDY+EA=",
             "dtype": "f8"
            },
            "sizemode": "area",
            "sizeref": 399812.15944444446,
            "symbol": "circle"
           },
           "mode": "markers",
           "name": "Asia",
           "orientation": "v",
           "showlegend": true,
           "type": "scatter",
           "x": {
            "bdata": "AAAAAABIx0AAAAAAAMmzQAAAAAAA2sJAAAAAAACRsEAAAAAAANqmQAAAAACgI+JAAAAAAACKuEAAAAAAAMqzQAAAAADAMtBAAAAAAIDZzEAAAAAAAEexQAAAAABAyd9AAAAAAIBizkAAAAAAAECcQAAAAADgGehAAAAAAADMs0AAAAAAAN3WQAAAAAAAlKFAAAAAAADGrkAAAAAAADCbQAAAAABghONAAAAAAEAa5UAAAAAAgP/DQAAAAAAAHLBAAAAAAABv1kAAAAAAACanQAAAAABgfu1AAAAAAADrwEAAAAAAAFijQAAAAAAAAKlAAAAAAECX3kAAAAAAgELpQAAAAAAA17NAAAAAAIAQyUAAAAAAAFqoQAAAAADwgvNAAAAAAADayUAAAAAAgIrgQAAAAAAAz7FAAAAAAGAu5EAAAAAA0HTyQAAAAACA2MRAAAAAAGDW/EAAAAAAoNjkQAAAAACAW8FAAAAAAAAgv0AAAAAAAMC9QAAAAAAAeKBAAAAAAICOyEAAAAAAsF3zQAAAAAAARqZAAAAAAABztUAAAAAAAPScQAAAAAAAiqhAAAAAAAAEtEA=",
            "dtype": "f8"
           },
           "xaxis": "x",
           "y": {
            "bdata": "rkfhehQeU0CamZmZmelQQB+F61G4nlFAhetRuB5VUEDsUbgehetRQClcj8L16FRACtejcD1KUUA9CtejcH1SQJqZmZmZ+VJAMzMzMzODU0BxPQrXo7BQQClcj8L1aFRA7FG4HoXLUkAAAAAAAKBOQOxRuB6F61JAXI/C9ShcUUDhehSuR8FSQLgehetReFFAKVyPwvU4UUBSuB6F69FRQJqZmZmZ+VNASOF6FK6nVEBcj8L1KBxTQArXo3A9KlFA9ihcj8KVUUCkcD0K1yNRQI/C9ShcP1JAzczMzMysU0CPwvUoXI9RQFyPwvUonExA16NwPQqXVECuR+F6FM5UQIXrUbgeZVBAMzMzMzNjU0CuR+F6FL5RQHsUrkfh+lRAj8L1KFxvUUD2KFyPwlVUQFyPwvUo7FJAPQrXo3D9UkDD9Shcj6JUQOF6FK5H8VBAj8L1KFzPU0B7FK5H4bpTQOxRuB6Fq1FACtejcD3qUECkcD0K1zNSQHE9CtejME9AcT0K16MwVEAAAAAAAMBSQNejcD0KF1BA16NwPQonUkA9CtejcL1OQOxRuB6Fy1BApHA9CtfTUUA=",
            "dtype": "f8"
           },
           "yaxis": "y"
          },
          {
           "customdata": [
            [
             "United States",
             "Americas",
             2013,
             316400539,
             1.976,
             6.97
            ],
            [
             "Brazil",
             "Americas",
             2013,
             201035904,
             1.801,
             16.7
            ],
            [
             "Mexico",
             "Americas",
             2013,
             118827158,
             2.185,
             15.93
            ],
            [
             "Colombia",
             "Americas",
             2013,
             46495492,
             2.286,
             16.76
            ],
            [
             "Argentina",
             "Americas",
             2013,
             42196034,
             2.175,
             12.65
            ],
            [
             "Canada",
             "Americas",
             2013,
             35296535,
             1.67,
             5.45
            ],
            [
             "Venezuela",
             "Americas",
             2013,
             29781046,
             2.39,
             17.3
            ],
            [
             "Peru",
             "Americas",
             2013,
             29773986,
             2.417,
             17.58
            ],
            [
             "Chile",
             "Americas",
             2013,
             17571511,
             1.82,
             8.26
            ],
            [
             "Ecuador",
             "Americas",
             2013,
             15707473,
             2.559,
             16.1
            ],
            [
             "Guatemala",
             "Americas",
             2013,
             15595821,
             3.783,
             31.19
            ],
            [
             "Cuba",
             "Americas",
             2013,
             11282722,
             1.449,
             5.67
            ],
            [
             "Bolivia",
             "Americas",
             2013,
             10542375,
             3.221,
             34.37
            ],
            [
             "Haiti",
             "Americas",
             2013,
             10400672,
             3.148,
             74.41
            ],
            [
             "Dominican Republic",
             "Americas",
             2013,
             10048226,
             2.484,
             32.74
            ],
            [
             "Honduras",
             "Americas",
             2013,
             8798524,
             3.001,
             20.97
            ],
            [
             "Paraguay",
             "Americas",
             2013,
             6510273,
             2.864,
             23.68
            ],
            [
             "El Salvador",
             "Americas",
             2013,
             6266076,
             2.184,
             16.66
            ],
            [
             "Nicaragua",
             "Americas",
             2013,
             6062462,
             2.498,
             19.17
            ],
            [
             "Costa Rica",
             "Americas",
             2013,
             4742111,
             1.795,
             9.46
            ],
            [
             "Panama",
             "Americas",
             2013,
             3835447,
             2.466,
             18.07
            ],
            [
             "Uruguay",
             "Americas",
             2013,
             3389436,
             2.046,
             9.6
            ],
            [
             "Jamaica",
             "Americas",
             2013,
             2858710,
             2.26,
             16.85
            ],
            [
             "Trinidad and Tobago",
             "Americas",
             2013,
             1353708,
             1.797,
             21.43
            ],
            [
             "Guyana",
             "Americas",
             2013,
             759281,
             2.546,
             34.97
            ],
            [
             "Suriname",
             "Americas",
             2013,
             547295,
             2.268,
             22.27
            ],
            [
             "Bahamas",
             "Americas",
             2013,
             367162,
             1.888,
             11.78
            ],
            [
             "Belize",
             "Americas",
             2013,
             345707,
             2.676,
             16.91
            ],
            [
             "Barbados",
             "Americas",
             2013,
             284294,
             1.849,
             13.88
            ],
            [
             "St. Lucia",
             "Americas",
             2013,
             177505,
             1.912,
             18.27
            ],
            [
             "St. Vincent and the Grenadines",
             "Americas",
             2013,
             108624,
             1.997,
             19.09
            ],
            [
             "Grenada",
             "Americas",
             2013,
             108172,
             2.17,
             14.66
            ],
            [
             "Antigua and Barbuda",
             "Americas",
             2013,
             91510,
             2.089,
             8.04
            ]
           ],
           "hovertemplate": "<b>%{hovertext}</b><br><br><extra></extra>",
           "hovertext": [
            "United States",
            "Brazil",
            "Mexico",
            "Colombia",
            "Argentina",
            "Canada",
            "Venezuela",
            "Peru",
            "Chile",
            "Ecuador",
            "Guatemala",
            "Cuba",
            "Bolivia",
            "Haiti",
            "Dominican Republic",
            "Honduras",
            "Paraguay",
            "El Salvador",
            "Nicaragua",
            "Costa Rica",
            "Panama",
            "Uruguay",
            "Jamaica",
            "Trinidad and Tobago",
            "Guyana",
            "Suriname",
            "Bahamas",
            "Belize",
            "Barbados",
            "St. Lucia",
            "St. Vincent and the Grenadines",
            "Grenada",
            "Antigua and Barbuda"
           ],
           "ids": [
            "United States",
            "Brazil",
            "Mexico",
            "Colombia",
            "Argentina",
            "Canada",
            "Venezuela",
            "Peru",
            "Chile",
            "Ecuador",
            "Guatemala",
            "Cuba",
            "Bolivia",
            "Haiti",
            "Dominican Republic",
            "Honduras",
            "Paraguay",
            "El Salvador",
            "Nicaragua",
            "Costa Rica",
            "Panama",
            "Uruguay",
            "Jamaica",
            "Trinidad and Tobago",
            "Guyana",
            "Suriname",
            "Bahamas",
            "Belize",
            "Barbados",
            "St. Lucia",
            "St. Vincent and the Grenadines",
            "Grenada",
            "Antigua and Barbuda"
           ],
           "legendgroup": "Americas",
           "marker": {
            "color": "#98ef33",
            "size": {
             "bdata": "AAAAm+PbskEAAAAAIfenQQAAAFiiVJxBAAAAILgrhkEAAAAQ4h6EQQAAALio1IBBAAAAYMNmfEEAAAAgCmV8QQAAAHDrwXBBAAAAIKr1bUEAAACgJb9tQQAAAEAkhWVBAAAA4KQbZEEAAAAAdNZjQQAAAEBcKmNBAAAAgCfIYEEAAABAsNVYQQAAAAA351dBAAAAgF8gV0EAAADA9xZSQQAAAIAbQ01BAAAAAP7bSUEAAAAAa89FQQAAAADspzRBAAAAAOIrJ0EAAAAAvrMgQQAAAADoaBZBAAAAAKwZFUEAAAAAGFoRQQAAAAAIqwVBAAAAAACF+kAAAAAAwGj6QAAAAABgV/ZA",
             "dtype": "f8"
            },
            "sizemode": "area",
            "sizeref": 399812.15944444446,
            "symbol": "circle"
           },
           "mode": "markers",
           "name": "Americas",
           "orientation": "v",
           "showlegend": true,
           "type": "scatter",
           "x": {
            "bdata": "AAAAACAB6UAAAAAAAFjOQAAAAAAAgNBAAAAAAIBHyEAAAAAAgC3TQAAAAABAr+RAAAAAAICP0UAAAAAAAOvGQAAAAACAWdVAAAAAAADFxEAAAAAAAF27QAAAAAAA07xAAAAAAAB5t0AAAAAAAIiZQAAAAACAy8dAAAAAAAAPsEAAAAAAgIbEQAAAAAAAbLpAAAAAAACysUAAAAAAADXLQAAAAABA8NJAAAAAAADs0kAAAAAAAEq/QAAAAABA295AAAAAAAAeukAAAAAAgNrNQAAAAADA99xAAAAAAABVvkAAAAAAgNjPQAAAAACAvMZAAAAAAIAJxEAAAAAAgInFQAAAAABAptNA",
            "dtype": "f8"
           },
           "xaxis": "x",
           "y": {
            "bdata": "CtejcD26U0CkcD0K18NSQB+F61G47lJAZmZmZmbmU0BmZmZmZgZTQJqZmZmZeVRA7FG4HoXLUkDXo3A9CrdTQPYoXI/C1VNACtejcD36UkDD9ShcjzJSQPYoXI/CpVNAexSuR+HqUUCuR+F6FI5PQJqZmZmZSVJAhetRuB4FUkAK16NwPbpSQK5H4XoULlJAuB6F61FoU0BmZmZmZgZUQArXo3A9mlNA16NwPQonU0CPwvUoXK9SQIXrUbgelVJAhetRuB71UECkcD0K1wNSQK5H4XoUXlJA16NwPQqHUkBI4XoUrkdTQHE9Ctej4FJAw/UoXI8CUkD2KFyPwoVSQBSuR+F6NFNA",
            "dtype": "f8"
           },
           "yaxis": "y"
          },
          {
           "customdata": [
            [
             "Nigeria",
             "Africa",
             2013,
             171765819,
             5.976,
             128.56
            ],
            [
             "Ethiopia",
             "Africa",
             2013,
             95385793,
             4.519,
             70.47
            ],
            [
             "Egypt",
             "Africa",
             2013,
             88404652,
             2.77,
             25.51
            ],
            [
             "Congo, Dem. Rep.",
             "Africa",
             2013,
             71358804,
             5.933,
             104.15
            ],
            [
             "South Africa",
             "Africa",
             2013,
             53687125,
             2.387,
             41.19
            ],
            [
             "Tanzania",
             "Africa",
             2013,
             48483132,
             5.214,
             63.68
            ],
            [
             "Kenya",
             "Africa",
             2013,
             45519986,
             4.382,
             50.05
            ],
            [
             "Algeria",
             "Africa",
             2013,
             38140135,
             2.795,
             25.72
            ],
            [
             "Sudan",
             "Africa",
             2013,
             37072555,
             4.42,
             70.11
            ],
            [
             "Uganda",
             "Africa",
             2013,
             35694519,
             5.867,
             62.69
            ],
            [
             "Morocco",
             "Africa",
             2013,
             33715705,
             2.735,
             27.96
            ],
            [
             "Ghana",
             "Africa",
             2013,
             26607641,
             3.857,
             60.19
            ],
            [
             "Angola",
             "Africa",
             2013,
             26015786,
             5.863,
             98.4
            ],
            [
             "Mozambique",
             "Africa",
             2013,
             25560752,
             5.188,
             89.89
            ],
            [
             "Madagascar",
             "Africa",
             2013,
             22961259,
             4.468,
             61.22
            ],
            [
             "Cote d'Ivoire",
             "Africa",
             2013,
             22087506,
             4.866,
             96.69
            ],
            [
             "Cameroon",
             "Africa",
             2013,
             22077300,
             4.78,
             93.84
            ],
            [
             "Niger",
             "Africa",
             2013,
             18504287,
             7.561,
             103.19
            ],
            [
             "Burkina Faso",
             "Africa",
             2013,
             17072791,
             5.605,
             95.8
            ],
            [
             "Mali",
             "Africa",
             2013,
             16449854,
             6.847,
             117.6
            ],
            [
             "Malawi",
             "Africa",
             2013,
             15839287,
             5.389,
             68.64
            ],
            [
             "Zambia",
             "Africa",
             2013,
             14926551,
             5.687,
             70.66
            ],
            [
             "Senegal",
             "Africa",
             2013,
             13782429,
             4.934,
             55.81
            ],
            [
             "Zimbabwe",
             "Africa",
             2013,
             13350378,
             3.486,
             62.28
            ],
            [
             "Chad",
             "Africa",
             2013,
             13220433,
             6.263,
             137.88
            ],
            [
             "Somalia",
             "Africa",
             2013,
             13063711,
             6.563,
             142.29
            ],
            [
             "Tunisia",
             "Africa",
             2013,
             10952949,
             2.008,
             17.5
            ],
            [
             "Guinea",
             "Africa",
             2013,
             10892821,
             4.915,
             110.91
            ],
            [
             "Rwanda",
             "Africa",
             2013,
             10811538,
             4.508,
             47.47
            ],
            [
             "South Sudan",
             "Africa",
             2013,
             10355030,
             4.92,
             99.07
            ],
            [
             "Benin",
             "Africa",
             2013,
             10004594,
             4.845,
             104.36
            ],
            [
             "Burundi",
             "Africa",
             2013,
             9540302,
             6.033,
             75.15
            ],
            [
             "Togo",
             "Africa",
             2013,
             6954721,
             4.639,
             81.8
            ],
            [
             "Sierra Leone",
             "Africa",
             2013,
             6863975,
             4.705,
             136.74
            ],
            [
             "Libya",
             "Africa",
             2013,
             6320350,
             2.356,
             14.45
            ],
            [
             "Congo, Rep.",
             "Africa",
             2013,
             4622757,
             4.969,
             57.94
            ],
            [
             "Central African Republic",
             "Africa",
             2013,
             4447945,
             4.365,
             138.04
            ],
            [
             "Liberia",
             "Africa",
             2013,
             4248337,
             4.792,
             85.15
            ],
            [
             "Mauritania",
             "Africa",
             2013,
             3817497,
             4.67,
             89.02
            ],
            [
             "Eritrea",
             "Africa",
             2013,
             3281453,
             4.696,
             49.82
            ],
            [
             "Namibia",
             "Africa",
             2013,
             2233506,
             3.051,
             46.59
            ],
            [
             "Botswana",
             "Africa",
             2013,
             2062551,
             2.619,
             43.15
            ],
            [
             "Lesotho",
             "Africa",
             2013,
             2028528,
             3.038,
             94.74
            ],
            [
             "Gambia",
             "Africa",
             2013,
             1963708,
             5.751,
             69.31
            ],
            [
             "Gabon",
             "Africa",
             2013,
             1817070,
             4.087,
             55.73
            ],
            [
             "Guinea-Bissau",
             "Africa",
             2013,
             1648259,
             4.927,
             98.71
            ],
            [
             "Mauritius",
             "Africa",
             2013,
             1255458,
             1.501,
             14.6
            ],
            [
             "Eswatini",
             "Africa",
             2013,
             1086843,
             3.334,
             69.36
            ],
            [
             "Equatorial Guinea",
             "Africa",
             2013,
             1076412,
             4.845,
             100.65
            ],
            [
             "Djibouti",
             "Africa",
             2013,
             883296,
             3.387,
             69.64
            ],
            [
             "Comoros",
             "Africa",
             2013,
             741511,
             4.714,
             79.48
            ],
            [
             "Cape Verde",
             "Africa",
             2013,
             511740,
             2.292,
             22.89
            ],
            [
             "Sao Tome and Principe",
             "Africa",
             2013,
             192076,
             4.075,
             38.42
            ],
            [
             "Seychelles",
             "Africa",
             2013,
             93397,
             2.18,
             14.48
            ]
           ],
           "hovertemplate": "<b>%{hovertext}</b><br><br><extra></extra>",
           "hovertext": [
            "Nigeria",
            "Ethiopia",
            "Egypt",
            "Congo, Dem. Rep.",
            "South Africa",
            "Tanzania",
            "Kenya",
            "Algeria",
            "Sudan",
            "Uganda",
            "Morocco",
            "Ghana",
            "Angola",
            "Mozambique",
            "Madagascar",
            "Cote d'Ivoire",
            "Cameroon",
            "Niger",
            "Burkina Faso",
            "Mali",
            "Malawi",
            "Zambia",
            "Senegal",
            "Zimbabwe",
            "Chad",
            "Somalia",
            "Tunisia",
            "Guinea",
            "Rwanda",
            "South Sudan",
            "Benin",
            "Burundi",
            "Togo",
            "Sierra Leone",
            "Libya",
            "Congo, Rep.",
            "Central African Republic",
            "Liberia",
            "Mauritania",
            "Eritrea",
            "Namibia",
            "Botswana",
            "Lesotho",
            "Gambia",
            "Gabon",
            "Guinea-Bissau",
            "Mauritius",
            "Eswatini",
            "Equatorial Guinea",
            "Djibouti",
            "Comoros",
            "Cape Verde",
            "Sao Tome and Principe",
            "Seychelles"
           ],
           "ids": [
            "Nigeria",
            "Ethiopia",
            "Egypt",
            "Congo, Dem. Rep.",
            "South Africa",
            "Tanzania",
            "Kenya",
            "Algeria",
            "Sudan",
            "Uganda",
            "Morocco",
            "Ghana",
            "Angola",
            "Mozambique",
            "Madagascar",
            "Cote d'Ivoire",
            "Cameroon",
            "Niger",
            "Burkina Faso",
            "Mali",
            "Malawi",
            "Zambia",
            "Senegal",
            "Zimbabwe",
            "Chad",
            "Somalia",
            "Tunisia",
            "Guinea",
            "Rwanda",
            "South Sudan",
            "Benin",
            "Burundi",
            "Togo",
            "Sierra Leone",
            "Libya",
            "Congo, Rep.",
            "Central African Republic",
            "Liberia",
            "Mauritania",
            "Eritrea",
            "Namibia",
            "Botswana",
            "Lesotho",
            "Gambia",
            "Gabon",
            "Guinea-Bissau",
            "Mauritius",
            "Eswatini",
            "Equatorial Guinea",
            "Djibouti",
            "Comoros",
            "Cape Verde",
            "Sao Tome and Principe",
            "Seychelles"
           ],
           "legendgroup": "Africa",
           "marker": {
            "color": "#33dded",
            "size": {
             "bdata": "AAAAduB5pEEAAAAE472WQQAAALDKE5VBAAAAUGUDkUEAAACompmJQQAAAOBZHodBAAAAkKO0hUEAAAA4xy+CQQAAAFh1rYFBAAAAuD0FgUEAAADIrxOAQQAAAJABYHlBAAAAoILPeEEAAAAAa2B4QQAAALDG5XVBAAAAIHUQdUEAAABA9w11QQAAAPClpXFBAAAAcClIcEEAAADAJ2BvQQAAAOAGNm5BAAAA4Fp4bEEAAACgs0lqQQAAAEC9dmlBAAAAIEo3aUEAAADgw+poQQAAAKAe5GRBAAAAoMLGZEEAAABAEp9kQQAAAMAqwGNBAAAAQA4VY0EAAADAWTJiQQAAAEC4h1pBAAAAwBkvWkEAAACANxxYQQAAAEBpolFBAAAAQLL3UEEAAABAxDRQQQAAAIAMIE1BAAAAgBYJSUEAAAAAUQpBQQAAAADXeD9BAAAAAPDzPkEAAAAAvPY9QQAAAADuuTtBAAAAAIMmOUEAAAAAIigzQQAAAAB7lTBBAAAAALxsMEEAAAAAwPQqQQAAAAAOoSZBAAAAAPA7H0EAAAAAYHIHQQAAAABQzfZA",
             "dtype": "f8"
            },
            "sizemode": "area",
            "sizeref": 399812.15944444446,
            "symbol": "circle"
           },
           "mode": "markers",
           "name": "Africa",
           "orientation": "v",
           "showlegend": true,
           "type": "scatter",
           "x": {
            "bdata": "AAAAAAB3tUAAAAAAAJyUQAAAAACAecNAAAAAAAAoh0AAAAAAACPIQAAAAAAAIqNAAAAAAACkpEAAAAAAgAXKQAAAAAAAOLBAAAAAAAB8mkAAAAAAAGq7QAAAAAAAdK1AAAAAAABLukAAAAAAALiQQAAAAAAAUJVAAAAAAABgpkAAAAAAAMKnQAAAAAAAMItAAAAAAABomEAAAAAAABScQAAAAAAAYJFAAAAAAABerEAAAAAAAOClQAAAAAAAeKNAAAAAAAAon0AAAAAAAFiDQAAAAACAx8RAAAAAAABUnEAAAAAAAOSYQAAAAAAAvqBAAAAAAAA8nkAAAAAAAMiHQAAAAAAAjJVAAAAAAAAUmkAAAAAAgKbUQAAAAAAAWbVAAAAAAAAwhUAAAAAAAAiUQAAAAAAAzKxAAAAAAAAYkkAAAAAAAMDCQAAAAACAt85AAAAAAAB0pUAAAAAAAHSXQAAAAABAHtBAAAAAAAColkAAAAAAQDfRQAAAAAAA+cFAAAAAAOAX4EAAAAAAAMqmQAAAAAAAyqNAAAAAAACtt0AAAAAAADKlQAAAAAAA/dZA",
            "dtype": "f8"
           },
           "xaxis": "x",
           "y": {
            "bdata": "rkfhehQuT0CkcD0K13NQQHsUrkfhilFAhetRuB7lTUCPwvUoXI9OQHE9Ctej8E9APQrXo3C9T0C4HoXrUThTQD0K16NwLVFA4XoUrkdBT0B7FK5H4TpSQEjhehSux09AFK5H4Xr0TkApXI/C9ehKQHE9CtejME9ASOF6FK7HTUBxPQrXo/BNQD0K16NwPU5A16NwPQrXTUApXI/C9ShOQK5H4XoUzk1AH4XrUbj+TUAK16NwPbpQQKRwPQrXY0xArkfhehQOTUC4HoXrUbhMQPYoXI/CZVNAcT0K16NQTUDNzMzMzKxQQMP1KFyPAk1AKVyPwvVIT0C4HoXrUfhNQHE9CtejsE5ArkfhehTuTECF61G4HmVSQEjhehSup05A4XoUrkdBSEDhehSuR2FPQMP1KFyPUlFAUrgehesxTkD2KFyPwvVPQDMzMzMzI1BAUrgeheuxSEAAAAAAACBQQFK4HoXrUVBAj8L1KFzPTEBSuB6F66FSQNejcD0KV0lAuB6F61G4T0CF61G4HlVQQHE9Ctej0FBAzczMzMy8UkA9CtejcG1RQD0K16NwXVJA",
            "dtype": "f8"
           },
           "yaxis": "y"
          },
          {
           "customdata": [
            [
             "Russia",
             "Europe",
             2013,
             144325456,
             1.595,
             9.47
            ],
            [
             "Germany",
             "Europe",
             2013,
             81174373,
             1.419,
             3.96
            ],
            [
             "Turkey",
             "Europe",
             2013,
             75925454,
             2.041,
             14.25
            ],
            [
             "United Kingdom",
             "Europe",
             2013,
             64984015,
             1.892,
             4.64
            ],
            [
             "France",
             "Europe",
             2013,
             63893521,
             1.98,
             4.17
            ],
            [
             "Italy",
             "Europe",
             2013,
             60166828,
             1.487,
             3.68
            ],
            [
             "Spain",
             "Europe",
             2013,
             46930554,
             1.505,
             3.47
            ],
            [
             "Ukraine",
             "Europe",
             2013,
             45286988,
             1.47,
             10.19
            ],
            [
             "Poland",
             "Europe",
             2013,
             38158043,
             1.417,
             5.21
            ],
            [
             "Romania",
             "Europe",
             2013,
             20132780,
             1.417,
             10.64
            ],
            [
             "Netherlands",
             "Europe",
             2013,
             16843512,
             1.774,
             4.16
            ],
            [
             "Belgium",
             "Europe",
             2013,
             11154008,
             1.854,
             4.19
            ],
            [
             "Greece",
             "Europe",
             2013,
             10740501,
             1.529,
             4.23
            ],
            [
             "Czech Republic",
             "Europe",
             2013,
             10586529,
             1.566,
             3.11
            ],
            [
             "Portugal",
             "Europe",
             2013,
             10473025,
             1.315,
             3.69
            ],
            [
             "Hungary",
             "Europe",
             2013,
             9833923,
             1.411,
             5.6
            ],
            [
             "Sweden",
             "Europe",
             2013,
             9618016,
             1.928,
             2.94
            ],
            [
             "Belarus",
             "Europe",
             2013,
             9423502,
             1.494,
             4.5
            ],
            [
             "Azerbaijan",
             "Europe",
             2013,
             9385467,
             1.924,
             30.45
            ],
            [
             "Serbia",
             "Europe",
             2013,
             8918892,
             1.365,
             6.87
            ],
            [
             "Austria",
             "Europe",
             2013,
             8556191,
             1.471,
             3.91
            ],
            [
             "Switzerland",
             "Europe",
             2013,
             8108876,
             1.533,
             4.4
            ],
            [
             "Bulgaria",
             "Europe",
             2013,
             7290092,
             1.541,
             9.23
            ],
            [
             "Denmark",
             "Europe",
             2013,
             5638152,
             1.88,
             4.11
            ],
            [
             "Finland",
             "Europe",
             2013,
             5438984,
             1.853,
             2.56
            ],
            [
             "Slovak Republic",
             "Europe",
             2013,
             5421721,
             1.396,
             6.39
            ],
            [
             "Norway",
             "Europe",
             2013,
             5079460,
             1.931,
             2.88
            ],
            [
             "Ireland",
             "Europe",
             2013,
             4615426,
             1.997,
             3.92
            ],
            [
             "Croatia",
             "Europe",
             2013,
             4276593,
             1.501,
             5.05
            ],
            [
             "Moldova",
             "Europe",
             2013,
             4074585,
             1.456,
             16.59
            ],
            [
             "Georgia",
             "Europe",
             2013,
             4048701,
             1.817,
             11.41
            ],
            [
             "Bosnia and Herzegovina",
             "Europe",
             2013,
             3542598,
             1.283,
             6.42
            ],
            [
             "Lithuania",
             "Europe",
             2013,
             3008938,
             1.519,
             5.05
            ],
            [
             "Albania",
             "Europe",
             2013,
             2903788,
             1.771,
             10.65
            ],
            [
             "Armenia",
             "Europe",
             2013,
             2897593,
             1.74,
             15.87
            ],
            [
             "North Macedonia",
             "Europe",
             2013,
             2076065,
             1.431,
             11.2
            ],
            [
             "Slovenia",
             "Europe",
             2013,
             2063120,
             1.509,
             2.75
            ],
            [
             "Latvia",
             "Europe",
             2013,
             2044950,
             1.607,
             6.04
            ],
            [
             "Estonia",
             "Europe",
             2013,
             1319068,
             1.604,
             3.64
            ],
            [
             "Cyprus",
             "Europe",
             2013,
             1143866,
             1.461,
             3.03
            ],
            [
             "Montenegro",
             "Europe",
             2013,
             626342,
             1.666,
             4.47
            ],
            [
             "Luxembourg",
             "Europe",
             2013,
             542554,
             1.671,
             2.77
            ],
            [
             "Malta",
             "Europe",
             2013,
             426144,
             1.356,
             6.9
            ],
            [
             "Iceland",
             "Europe",
             2013,
             327194,
             2.083,
             2.34
            ]
           ],
           "hovertemplate": "<b>%{hovertext}</b><br><br><extra></extra>",
           "hovertext": [
            "Russia",
            "Germany",
            "Turkey",
            "United Kingdom",
            "France",
            "Italy",
            "Spain",
            "Ukraine",
            "Poland",
            "Romania",
            "Netherlands",
            "Belgium",
            "Greece",
            "Czech Republic",
            "Portugal",
            "Hungary",
            "Sweden",
            "Belarus",
            "Azerbaijan",
            "Serbia",
            "Austria",
            "Switzerland",
            "Bulgaria",
            "Denmark",
            "Finland",
            "Slovak Republic",
            "Norway",
            "Ireland",
            "Croatia",
            "Moldova",
            "Georgia",
            "Bosnia and Herzegovina",
            "Lithuania",
            "Albania",
            "Armenia",
            "North Macedonia",
            "Slovenia",
            "Latvia",
            "Estonia",
            "Cyprus",
            "Montenegro",
            "Luxembourg",
            "Malta",
            "Iceland"
           ],
           "ids": [
            "Russia",
            "Germany",
            "Turkey",
            "United Kingdom",
            "France",
            "Italy",
            "Spain",
            "Ukraine",
            "Poland",
            "Romania",
            "Netherlands",
            "Belgium",
            "Greece",
            "Czech Republic",
            "Portugal",
            "Hungary",
            "Sweden",
            "Belarus",
            "Azerbaijan",
            "Serbia",
            "Austria",
            "Switzerland",
            "Bulgaria",
            "Denmark",
            "Finland",
            "Slovak Republic",
            "Norway",
            "Ireland",
            "Croatia",
            "Moldova",
            "Georgia",
            "Bosnia and Herzegovina",
            "Lithuania",
            "Albania",
            "Armenia",
            "North Macedonia",
            "Slovenia",
            "Latvia",
            "Estonia",
            "Cyprus",
            "Montenegro",
            "Luxembourg",
            "Malta",
            "Iceland"
           ],
           "legendgroup": "Europe",
           "marker": {
            "color": "#ffeb33",
            "size": {
             "bdata": "AAAAoHY0oUEAAACUfVqTQQAAADgfGpJBAAAAeJ78jkEAAACIgHeOQQAAAGCVsIxBAAAA0NNghkEAAABgMpiFQQAAANj2MYJBAAAAwDozc0EAAACALxBwQQAAAABLRmVBAAAAoGJ8ZEEAAAAgNDFkQQAAACDI+WNBAAAAYLjBYkEAAAAATFhiQQAAAMBR+WFBAAAAYL/mYUEAAACA7QJhQQAAAODTUWBBAAAAANPuXkEAAAAAO89bQQAAAAACglVBAAAAAIK/VEEAAABApq5UQQAAAABpYFNBAAAAgECbUUEAAABAXFBQQQAAAIAsFk9BAAAAgJ7jTkEAAAAAIwdLQQAAAADV9EZBAAAAAHYnRkEAAACAXBtGQQAAAAChrT9BAAAAABB7P0EAAAAAFjQ/QQAAAACcIDRBAAAAADp0MUEAAAAATB0jQQAAAAC0jiBBAAAAAIACGkEAAAAAaPgTQQ==",
             "dtype": "f8"
            },
            "sizemode": "area",
            "sizeref": 399812.15944444446,
            "symbol": "circle"
           },
           "mode": "markers",
           "name": "Europe",
           "orientation": "v",
           "showlegend": true,
           "type": "scatter",
           "x": {
            "bdata": "AAAAAMDz2EAAAAAAQPTkQAAAAACAGtVAAAAAACBc4kAAAAAA4ELiQAAAAACAteBAAAAAAMD13UAAAAAAgEnAQAAAAADAANdAAAAAAECh0kAAAAAAQFfmQAAAAADABuRAAAAAAIAw10AAAAAAALfbQAAAAADADdlAAAAAAECU1kAAAAAAQEDlQAAAAABAO9FAAAAAAEA20EAAAAAAgLTLQAAAAACgoeVAAAAAAACb60AAAAAAgCHPQAAAAACAwuVAAAAAAIBA40AAAAAAQPXZQAAAAAAAtu5AAAAAAMAQ5kAAAAAAwNLTQAAAAAAAPLVAAAAAAIBfwEAAAAAAAHHEQAAAAAAAjthAAAAAAIB+xEAAAAAAACW+QAAAAAAAMsdAAAAAAMD52kAAAAAAAA/VQAAAAADAqtlAAAAAAIBG3UAAAAAAgGvMQAAAAAAAIvZAAAAAAMBL3UAAAAAAgLDkQA==",
            "dtype": "f8"
           },
           "xaxis": "x",
           "y": {
            "bdata": "PQrXo3CtUUApXI/C9ShUQOF6FK5HgVNACtejcD06VEC4HoXrUYhUQD0K16NwnVRASOF6FK6nVEAzMzMzM/NRQPYoXI/CRVNAuB6F61G4UkDD9Shcj1JUQB+F61G4HlRA4XoUrkcxVEC4HoXrUZhTQHsUrkfhOlRAexSuR+HqUkB7FK5H4XpUQGZmZmZmJlJApHA9CteDUUBxPQrXo8BSQD0K16NwTVRAUrgehevBVEBxPQrXo7BSQClcj8L1GFRAXI/C9Sg8VECkcD0K1yNTQAAAAAAAYFRASOF6FK5HVEAUrkfhenRTQIXrUbgeBVJAZmZmZmZGUkDD9ShcjyJTQFK4HoXrgVJACtejcD16U0CamZmZmclSQAAAAAAAMFNAzczMzMwMVEB7FK5H4YpSQOF6FK5HQVNAuB6F61FIVECamZmZmQlTQIXrUbgeVVRA16NwPQpHVECamZmZmalUQA==",
            "dtype": "f8"
           },
           "yaxis": "y"
          }
         ],
         "name": "2013"
        },
        {
         "data": [
          {
           "mode": "text",
           "showlegend": false,
           "text": [
            "2014"
           ],
           "textfont": {
            "color": "lightgray",
            "size": 200
           },
           "textposition": "middle center",
           "type": "scatter",
           "x": [
            8000
           ],
           "y": [
            45
           ]
          },
          {
           "customdata": [
            [
             "China",
             "Asia",
             2014,
             1399453966,
             1.674,
             11.58
            ],
            [
             "India",
             "Asia",
             2014,
             1295600768,
             2.454,
             46.28
            ],
            [
             "Indonesia",
             "Asia",
             2014,
             255128076,
             2.307,
             29.12
            ],
            [
             "Pakistan",
             "Asia",
             2014,
             195305012,
             3.11,
             78.22
            ],
            [
             "Bangladesh",
             "Asia",
             2014,
             154517385,
             2.148,
             38.4
            ],
            [
             "Japan",
             "Asia",
             2014,
             128168630,
             1.434,
             2.82
            ],
            [
             "Philippines",
             "Asia",
             2014,
             100513137,
             3.01,
             30.52
            ],
            [
             "Vietnam",
             "Asia",
             2014,
             91713850,
             1.722,
             22.09
            ],
            [
             "Iran",
             "Asia",
             2014,
             77465769,
             1.918,
             16.64
            ],
            [
             "Thailand",
             "Asia",
             2014,
             68438748,
             1.388,
             10.99
            ],
            [
             "Myanmar",
             "Asia",
             2014,
             52280816,
             1.919,
             53.57
            ],
            [
             "South Korea",
             "Asia",
             2014,
             50607904,
             1.339,
             3.61
            ],
            [
             "Iraq",
             "Asia",
             2014,
             34411949,
             3.967,
             30.5
            ],
            [
             "Afghanistan",
             "Asia",
             2014,
             33370804,
             4.676,
             73.55
            ],
            [
             "Saudi Arabia",
             "Asia",
             2014,
             30916603,
             2.591,
             9.19
            ],
            [
             "Uzbekistan",
             "Asia",
             2014,
             30426394,
             2.277,
             27.78
            ],
            [
             "Malaysia",
             "Asia",
             2014,
             29866606,
             1.953,
             8
            ],
            [
             "Nepal",
             "Asia",
             2014,
             26905982,
             2.23,
             38.12
            ],
            [
             "Yemen",
             "Asia",
             2014,
             25823488,
             3.95,
             54.96
            ],
            [
             "North Korea",
             "Asia",
             2014,
             25057793,
             1.979,
             22.4
            ],
            [
             "Australia",
             "Asia",
             2014,
             23596426,
             1.878,
             3.98
            ],
            [
             "Sri Lanka",
             "Asia",
             2014,
             20788512,
             2.327,
             9.35
            ],
            [
             "Syria",
             "Asia",
             2014,
             18710711,
             2.922,
             17.59
            ],
            [
             "Kazakhstan",
             "Asia",
             2014,
             17302619,
             2.427,
             13.06
            ],
            [
             "Cambodia",
             "Asia",
             2014,
             15274506,
             2.828,
             33.71
            ],
            [
             "United Arab Emirates",
             "Asia",
             2014,
             9214182,
             1.784,
             7.91
            ],
            [
             "Jordan",
             "Asia",
             2014,
             8918822,
             3.178,
             18.19
            ],
            [
             "Tajikistan",
             "Asia",
             2014,
             8252828,
             3.792,
             38.74
            ],
            [
             "Papua New Guinea",
             "Asia",
             2014,
             7946733,
             3.726,
             52.97
            ],
            [
             "Israel",
             "Asia",
             2014,
             7854216,
             2.882,
             4.01
            ],
            [
             "Hong Kong, China",
             "Asia",
             2014,
             7134668,
             1.154,
             2.39
            ],
            [
             "Lao",
             "Asia",
             2014,
             6639763,
             2.94,
             56.12
            ],
            [
             "Lebanon",
             "Asia",
             2014,
             6261046,
             1.493,
             8.6
            ],
            [
             "Kyrgyz Republic",
             "Asia",
             2014,
             5844521,
             3.067,
             23.55
            ],
            [
             "Singapore",
             "Asia",
             2014,
             5525628,
             1.289,
             2.71
            ],
            [
             "Turkmenistan",
             "Asia",
             2014,
             5466324,
             2.3,
             52.45
            ],
            [
             "New Zealand",
             "Asia",
             2014,
             4567522,
             2.033,
             6
            ],
            [
             "Palestine",
             "Asia",
             2014,
             4428634,
             3.945,
             22.06
            ],
            [
             "Oman",
             "Asia",
             2014,
             4027255,
             2.807,
             11.24
            ],
            [
             "Kuwait",
             "Asia",
             2014,
             3690939,
             2.576,
             8.86
            ],
            [
             "Mongolia",
             "Asia",
             2014,
             2940111,
             2.421,
             19.54
            ],
            [
             "Qatar",
             "Asia",
             2014,
             2459202,
             2.002,
             8.14
            ],
            [
             "Bahrain",
             "Asia",
             2014,
             1336073,
             2.054,
             7.7
            ],
            [
             "Timor-Leste",
             "Asia",
             2014,
             1174333,
             5.728,
             52.77
            ],
            [
             "Fiji",
             "Asia",
             2014,
             866447,
             2.562,
             24.28
            ],
            [
             "Bhutan",
             "Asia",
             2014,
             719053,
             2.191,
             34.74
            ],
            [
             "Solomon Islands",
             "Asia",
             2014,
             587079,
             3.967,
             22.74
            ],
            [
             "Maldives",
             "Asia",
             2014,
             435018,
             2.22,
             10.59
            ],
            [
             "Brunei",
             "Asia",
             2014,
             409778,
             1.976,
             10.48
            ],
            [
             "Vanuatu",
             "Asia",
             2014,
             263888,
             3.346,
             29.12
            ],
            [
             "Samoa",
             "Asia",
             2014,
             192220,
             4.085,
             17.56
            ],
            [
             "Kiribati",
             "Asia",
             2014,
             109387,
             2.922,
             58.96
            ],
            [
             "Micronesia, Fed. Sts.",
             "Asia",
             2014,
             107444,
             3.243,
             35.03
            ],
            [
             "Tonga",
             "Asia",
             2014,
             101023,
             3.72,
             17.08
            ]
           ],
           "hovertemplate": "<b>%{hovertext}</b><br><br><extra></extra>",
           "hovertext": [
            "China",
            "India",
            "Indonesia",
            "Pakistan",
            "Bangladesh",
            "Japan",
            "Philippines",
            "Vietnam",
            "Iran",
            "Thailand",
            "Myanmar",
            "South Korea",
            "Iraq",
            "Afghanistan",
            "Saudi Arabia",
            "Uzbekistan",
            "Malaysia",
            "Nepal",
            "Yemen",
            "North Korea",
            "Australia",
            "Sri Lanka",
            "Syria",
            "Kazakhstan",
            "Cambodia",
            "United Arab Emirates",
            "Jordan",
            "Tajikistan",
            "Papua New Guinea",
            "Israel",
            "Hong Kong, China",
            "Lao",
            "Lebanon",
            "Kyrgyz Republic",
            "Singapore",
            "Turkmenistan",
            "New Zealand",
            "Palestine",
            "Oman",
            "Kuwait",
            "Mongolia",
            "Qatar",
            "Bahrain",
            "Timor-Leste",
            "Fiji",
            "Bhutan",
            "Solomon Islands",
            "Maldives",
            "Brunei",
            "Vanuatu",
            "Samoa",
            "Kiribati",
            "Micronesia, Fed. Sts.",
            "Tonga"
           ],
           "ids": [
            "China",
            "India",
            "Indonesia",
            "Pakistan",
            "Bangladesh",
            "Japan",
            "Philippines",
            "Vietnam",
            "Iran",
            "Thailand",
            "Myanmar",
            "South Korea",
            "Iraq",
            "Afghanistan",
            "Saudi Arabia",
            "Uzbekistan",
            "Malaysia",
            "Nepal",
            "Yemen",
            "North Korea",
            "Australia",
            "Sri Lanka",
            "Syria",
            "Kazakhstan",
            "Cambodia",
            "United Arab Emirates",
            "Jordan",
            "Tajikistan",
            "Papua New Guinea",
            "Israel",
            "Hong Kong, China",
            "Lao",
            "Lebanon",
            "Kyrgyz Republic",
            "Singapore",
            "Turkmenistan",
            "New Zealand",
            "Palestine",
            "Oman",
            "Kuwait",
            "Mongolia",
            "Qatar",
            "Bahrain",
            "Timor-Leste",
            "Fiji",
            "Bhutan",
            "Solomon Islands",
            "Maldives",
            "Brunei",
            "Vanuatu",
            "Samoa",
            "Kiribati",
            "Micronesia, Fed. Sts.",
            "Tonga"
           ],
           "legendgroup": "Asia",
           "marker": {
            "color": "#ff798e",
            "size": {
             "bdata": "AACAQ37a1EEAAAAgU07TQQAAABjkaa5BAAAAaDxIp0EAAAASf2uiQQAAANjKjp5BAAAAxNX2l0EAAADoxN2VQQAAAKQieJJBAAAAcCtRkEEAAACA7+2IQQAAAAC5IYhBAAAAaK1ogEEAAABAK9N/QQAAALD/e31BAAAAoFEEfUEAAADgpnt8QQAAAODXqHlBAAAAAJCgeEEAAAAQoOV3QQAAAKDYgHZBAAAAAFLTc0EAAABwC9hxQQAAALBFgHBBAAAAQEEibUEAAADAHJNhQQAAAMDkAmFBAAAAAGd7X0EAAABAe1BeQQAAAAAi9l1BAAAAAHM3W0EAAADAJFRZQQAAAIBN4ldBAAAAQIpLVkEAAAAAHxRVQQAAAAA12lRBAAAAgHhsUUEAAACA1uRQQQAAAIC7uU5BAAAAgN0oTEEAAACAZ25GQQAAAAAhw0JBAAAAAAljNEEAAAAAPesxQQAAAAAecSpBAAAAAJrxJUEAAAAAjuohQQAAAAAojRpBAAAAAMgCGUEAAAAAQBsQQQAAAADgdgdBAAAAALC0+kAAAAAAQDv6QAAAAADwqfhA",
             "dtype": "f8"
            },
            "sizemode": "area",
            "sizeref": 399812.15944444446,
            "symbol": "circle"
           },
           "mode": "markers",
           "name": "Asia",
           "orientation": "v",
           "showlegend": true,
           "type": "scatter",
           "x": {
            "bdata": "AAAAAIDayEAAAAAAAAK1QAAAAACAicNAAAAAAAD8sEAAAAAAAPanQAAAAAAgO+JAAAAAAACfuUAAAAAAAMC0QAAAAADAutBAAAAAAAACzUAAAAAAAIGyQAAAAABAUuBAAAAAAIB7zUAAAAAAABCcQAAAAACASOhAAAAAAADdtEAAAAAAwOnXQAAAAAAAoqJAAAAAAADorUAAAAAAAFSbQAAAAAAAU+VAAAAAAIDLxEAAAAAAAKCrQAAAAADACNdAAAAAAABoqEAAAAAAoLzuQAAAAAAAqcBAAAAAAAAopEAAAAAAANCrQAAAAADALd9AAAAAAKDG6UAAAAAAAAm1QAAAAACAHshAAAAAAADSqEAAAAAA0AL0QAAAAAAA/stAAAAAAADm4EAAAAAAAF2xQAAAAACAYuNAAAAAAMC48UAAAAAAAAvGQAAAAABgffxAAAAAAABp5UAAAAAAAEO5QAAAAAAAa8BAAAAAAAASv0AAAAAAAGKgQAAAAAAALslAAAAAABCq8kAAAAAAACqmQAAAAAAAlLVAAAAAAABcnEAAAAAAAKynQAAAAAAAlLRA",
            "dtype": "f8"
           },
           "xaxis": "x",
           "y": {
            "bdata": "H4XrUbgeU0AUrkfhegRRQAAAAAAAsFFArkfhehReUEDhehSuRwFSQPYoXI/C9VRAhetRuB5VUUDXo3A9CodSQM3MzMzMDFNAKVyPwvWIU0C4HoXrUdhQQFK4HoXrgVRAUrgeheuxUkB7FK5H4ZpOQDMzMzMzA1NAKVyPwvVoUUC4HoXrUahSQArXo3A9ilFAPQrXo3A9UUBcj8L1KNxRQMP1KFyPolRAj8L1KFwfU0CuR+F6FD5QQJqZmZmZyVFAzczMzMw8UUCkcD0K10NSQEjhehSut1NAAAAAAACQUUDsUbgehctMQArXo3A9elRAw/UoXI/SVEApXI/C9YhQQOxRuB6Fa1NApHA9CtfTUUDNzMzMzAxVQArXo3A9alFAZmZmZmZWVEAfhetRuN5SQD0K16NwDVNA9ihcj8K1VEDhehSuRxFRQMP1KFyP4lNACtejcD3KU0AK16NwPapRQAAAAAAA8FBAKVyPwvVIUkD2KFyPwjVPQFK4HoXrQVRA9ihcj8LFUkDXo3A9ChdQQArXo3A9KlJA16NwPQrXTkAK16NwPcpQQEjhehSu11FA",
            "dtype": "f8"
           },
           "yaxis": "y"
          },
          {
           "customdata": [
            [
             "United States",
             "Americas",
             2014,
             318673422,
             1.97,
             6.88
            ],
            [
             "Brazil",
             "Americas",
             2014,
             202763744,
             1.791,
             16.19
            ],
            [
             "Mexico",
             "Americas",
             2014,
             120355137,
             2.155,
             15.39
            ],
            [
             "Colombia",
             "Americas",
             2014,
             46967706,
             2.257,
             16.22
            ],
            [
             "Argentina",
             "Americas",
             2014,
             42637508,
             2.162,
             12.05
            ],
            [
             "Canada",
             "Americas",
             2014,
             35664338,
             1.676,
             5.37
            ],
            [
             "Peru",
             "Americas",
             2014,
             30090372,
             2.388,
             16.84
            ],
            [
             "Venezuela",
             "Americas",
             2014,
             30042973,
             2.364,
             17.34
            ],
            [
             "Chile",
             "Americas",
             2014,
             17758969,
             1.81,
             8.1
            ],
            [
             "Ecuador",
             "Americas",
             2014,
             15951832,
             2.528,
             15.56
            ],
            [
             "Guatemala",
             "Americas",
             2014,
             15923238,
             3.723,
             30.08
            ],
            [
             "Cuba",
             "Americas",
             2014,
             11306909,
             1.447,
             5.52
            ],
            [
             "Bolivia",
             "Americas",
             2014,
             10706517,
             3.18,
             32.43
            ],
            [
             "Haiti",
             "Americas",
             2014,
             10549007,
             3.086,
             72.55
            ],
            [
             "Dominican Republic",
             "Americas",
             2014,
             10165182,
             2.452,
             32.1
            ],
            [
             "Honduras",
             "Americas",
             2014,
             8955579,
             2.953,
             20.22
            ],
            [
             "Paraguay",
             "Americas",
             2014,
             6599524,
             2.832,
             22.95
            ],
            [
             "El Salvador",
             "Americas",
             2014,
             6295124,
             2.159,
             15.96
            ],
            [
             "Nicaragua",
             "Americas",
             2014,
             6142734,
             2.457,
             18.98
            ],
            [
             "Costa Rica",
             "Americas",
             2014,
             4795390,
             1.78,
             9.24
            ],
            [
             "Panama",
             "Americas",
             2014,
             3901311,
             2.441,
             17.51
            ],
            [
             "Uruguay",
             "Americas",
             2014,
             3400439,
             2.036,
             9.24
            ],
            [
             "Jamaica",
             "Americas",
             2014,
             2875137,
             2.237,
             16.37
            ],
            [
             "Trinidad and Tobago",
             "Americas",
             2014,
             1362337,
             1.795,
             20.81
            ],
            [
             "Guyana",
             "Americas",
             2014,
             763371,
             2.504,
             34.07
            ],
            [
             "Suriname",
             "Americas",
             2014,
             553278,
             2.243,
             21.58
            ],
            [
             "Bahamas",
             "Americas",
             2014,
             370625,
             1.883,
             11.47
            ],
            [
             "Belize",
             "Americas",
             2014,
             353366,
             2.639,
             16.12
            ],
            [
             "Barbados",
             "Americas",
             2014,
             284825,
             1.852,
             13.59
            ],
            [
             "St. Lucia",
             "Americas",
             2014,
             178307,
             1.89,
             18.06
            ],
            [
             "Grenada",
             "Americas",
             2014,
             108900,
             2.147,
             14.86
            ],
            [
             "St. Vincent and the Grenadines",
             "Americas",
             2014,
             108868,
             1.973,
             18.52
            ],
            [
             "Antigua and Barbuda",
             "Americas",
             2014,
             92562,
             2.076,
             7.64
            ]
           ],
           "hovertemplate": "<b>%{hovertext}</b><br><br><extra></extra>",
           "hovertext": [
            "United States",
            "Brazil",
            "Mexico",
            "Colombia",
            "Argentina",
            "Canada",
            "Peru",
            "Venezuela",
            "Chile",
            "Ecuador",
            "Guatemala",
            "Cuba",
            "Bolivia",
            "Haiti",
            "Dominican Republic",
            "Honduras",
            "Paraguay",
            "El Salvador",
            "Nicaragua",
            "Costa Rica",
            "Panama",
            "Uruguay",
            "Jamaica",
            "Trinidad and Tobago",
            "Guyana",
            "Suriname",
            "Bahamas",
            "Belize",
            "Barbados",
            "St. Lucia",
            "Grenada",
            "St. Vincent and the Grenadines",
            "Antigua and Barbuda"
           ],
           "ids": [
            "United States",
            "Brazil",
            "Mexico",
            "Colombia",
            "Argentina",
            "Canada",
            "Peru",
            "Venezuela",
            "Chile",
            "Ecuador",
            "Guatemala",
            "Cuba",
            "Bolivia",
            "Haiti",
            "Dominican Republic",
            "Honduras",
            "Paraguay",
            "El Salvador",
            "Nicaragua",
            "Costa Rica",
            "Panama",
            "Uruguay",
            "Jamaica",
            "Trinidad and Tobago",
            "Guyana",
            "Suriname",
            "Bahamas",
            "Belize",
            "Barbados",
            "St. Lucia",
            "Grenada",
            "St. Vincent and the Grenadines",
            "Antigua and Barbuda"
           ],
           "legendgroup": "Americas",
           "marker": {
            "color": "#98ef33",
            "size": {
             "bdata": "AAAADpL+skEAAADA2yuoQQAAAATlsZxBAAAA0FxlhkEAAAAgxlSEQQAAAJCOAYFBAAAAQEiyfEEAAADQtaZ8QQAAAJCv73BBAAAAAPtsbkEAAADABF9uQQAAAKDzkGVBAAAAoMprZEEAAADg4R5kQQAAAMB3Y2NBAAAAYNcUYUEAAAAA2SxZQQAAAACVA1hBAAAAgMNuV0EAAACA/0pSQQAAAIC/w01BAAAAgHvxSUEAAACAgO9FQQAAAAChyTRBAAAAANZLJ0EAAAAAfOIgQQAAAAAEnxZBAAAAAFiRFUEAAAAAZGIRQQAAAAAYxAVBAAAAAECW+kAAAAAAQJT6QAAAAAAgmfZA",
             "dtype": "f8"
            },
            "sizemode": "area",
            "sizeref": 399812.15944444446,
            "symbol": "circle"
           },
           "mode": "markers",
           "name": "Americas",
           "orientation": "v",
           "showlegend": true,
           "type": "scatter",
           "x": {
            "bdata": "AAAAACBu6UAAAAAAgDzOQAAAAACAv9BAAAAAAAAsyUAAAAAAwH3SQAAAAABAEOVAAAAAAIA3x0AAAAAAwLrQQAAAAACAf9VAAAAAAAA6xUAAAAAAAOy7QAAAAAAAzL1AAAAAAABguEAAAAAAAOSZQAAAAACAUclAAAAAAABCsEAAAAAAgDvFQAAAAAAAwLpAAAAAAABNskAAAAAAgNnLQAAAAAAAkNNAAAAAAMB400AAAAAAAFO/QAAAAAAAXd5AAAAAAAD6ukAAAAAAgJvNQAAAAADAp9xAAAAAAADFvkAAAAAAAMvPQAAAAACAo8ZAAAAAAAD3xkAAAAAAgDzEQAAAAABAVdRA",
            "dtype": "f8"
           },
           "xaxis": "x",
           "y": {
            "bdata": "CtejcD26U0AUrkfhetRSQPYoXI/C9VJAzczMzMz8U0BI4XoUrhdTQOF6FK5HcVRA7FG4HoXbU0CPwvUoXL9SQBSuR+F65FNAFK5H4XoUU0BxPQrXozBSQFK4HoXroVNAXI/C9Sj8UUDsUbgehctPQM3MzMzMPFJA16NwPQoHUkAUrkfhetRSQK5H4XoUDlJA7FG4HoVbU0ApXI/C9QhUQNejcD0Kp1NAH4XrUbg+U0DD9Shcj6JSQNejcD0Kl1JAPQrXo3ANUUCuR+F6FP5RQHE9CtejYFJA9ihcj8KFUkAUrkfhekRTQDMzMzMz41JAzczMzMx8UkCF61G4HgVSQOF6FK5HMVNA",
            "dtype": "f8"
           },
           "yaxis": "y"
          },
          {
           "customdata": [
            [
             "Nigeria",
             "Africa",
             2014,
             176404931,
             5.939,
             126.91
            ],
            [
             "Ethiopia",
             "Africa",
             2014,
             98094264,
             4.399,
             66.81
            ],
            [
             "Egypt",
             "Africa",
             2014,
             90424668,
             2.734,
             24.55
            ],
            [
             "Congo, Dem. Rep.",
             "Africa",
             2014,
             73767445,
             5.827,
             100.67
            ],
            [
             "South Africa",
             "Africa",
             2014,
             54544184,
             2.362,
             39.54
            ],
            [
             "Tanzania",
             "Africa",
             2014,
             49960563,
             5.143,
             61.42
            ],
            [
             "Kenya",
             "Africa",
             2014,
             46700063,
             4.307,
             48.19
            ],
            [
             "Algeria",
             "Africa",
             2014,
             38923688,
             2.756,
             25.34
            ],
            [
             "Sudan",
             "Africa",
             2014,
             37977657,
             4.351,
             68.21
            ],
            [
             "Uganda",
             "Africa",
             2014,
             36911530,
             5.77,
             58.48
            ],
            [
             "Morocco",
             "Africa",
             2014,
             34192358,
             2.737,
             26.71
            ],
            [
             "Ghana",
             "Africa",
             2014,
             27224480,
             3.795,
             57.36
            ],
            [
             "Angola",
             "Africa",
             2014,
             26941773,
             5.753,
             92.94
            ],
            [
             "Mozambique",
             "Africa",
             2014,
             26286192,
             5.113,
             86.15
            ],
            [
             "Madagascar",
             "Africa",
             2014,
             23589897,
             4.409,
             59.61
            ],
            [
             "Cameroon",
             "Africa",
             2014,
             22681853,
             4.703,
             89.81
            ],
            [
             "Cote d'Ivoire",
             "Africa",
             2014,
             22647672,
             4.822,
             93.3
            ],
            [
             "Niger",
             "Africa",
             2014,
             19240182,
             7.54,
             98.47
            ],
            [
             "Burkina Faso",
             "Africa",
             2014,
             17586029,
             5.517,
             90.97
            ],
            [
             "Mali",
             "Africa",
             2014,
             16934213,
             6.833,
             113.24
            ],
            [
             "Malawi",
             "Africa",
             2014,
             16289550,
             5.308,
             62.97
            ],
            [
             "Zambia",
             "Africa",
             2014,
             15399793,
             5.641,
             66.89
            ],
            [
             "Senegal",
             "Africa",
             2014,
             14174740,
             4.878,
             52.85
            ],
            [
             "Chad",
             "Africa",
             2014,
             13663562,
             6.151,
             134.11
            ],
            [
             "Zimbabwe",
             "Africa",
             2014,
             13586710,
             3.414,
             57.55
            ],
            [
             "Somalia",
             "Africa",
             2014,
             13423571,
             6.459,
             137.87
            ],
            [
             "Guinea",
             "Africa",
             2014,
             11150970,
             4.831,
             108.98
            ],
            [
             "Rwanda",
             "Africa",
             2014,
             11083629,
             4.404,
             44.09
            ],
            [
             "Tunisia",
             "Africa",
             2014,
             11063195,
             1.99,
             17.32
            ],
            [
             "South Sudan",
             "Africa",
             2014,
             10554882,
             4.832,
             98.6
            ],
            [
             "Benin",
             "Africa",
             2014,
             10286839,
             4.766,
             102.07
            ],
            [
             "Burundi",
             "Africa",
             2014,
             9844301,
             5.943,
             70.79
            ],
            [
             "Togo",
             "Africa",
             2014,
             7137997,
             4.576,
             79.27
            ],
            [
             "Sierra Leone",
             "Africa",
             2014,
             7017153,
             4.629,
             128.9
            ],
            [
             "Libya",
             "Africa",
             2014,
             6362039,
             2.304,
             13.85
            ],
            [
             "Congo, Rep.",
             "Africa",
             2014,
             4736965,
             4.918,
             56.44
            ],
            [
             "Central African Republic",
             "Africa",
             2014,
             4464171,
             4.281,
             133.57
            ],
            [
             "Liberia",
             "Africa",
             2014,
             4359508,
             4.718,
             81.93
            ],
            [
             "Mauritania",
             "Africa",
             2014,
             3930894,
             4.61,
             86.24
            ],
            [
             "Eritrea",
             "Africa",
             2014,
             3311444,
             4.607,
             48.09
            ],
            [
             "Namibia",
             "Africa",
             2014,
             2273426,
             2.997,
             45.28
            ],
            [
             "Botswana",
             "Africa",
             2014,
             2088619,
             2.576,
             42.25
            ],
            [
             "Lesotho",
             "Africa",
             2014,
             2043448,
             2.986,
             93.05
            ],
            [
             "Gambia",
             "Africa",
             2014,
             2024037,
             5.718,
             66.96
            ],
            [
             "Gabon",
             "Africa",
             2014,
             1883801,
             4.031,
             53.45
            ],
            [
             "Guinea-Bissau",
             "Africa",
             2014,
             1692433,
             4.866,
             94.81
            ],
            [
             "Mauritius",
             "Africa",
             2014,
             1257351,
             1.499,
             14.45
            ],
            [
             "Equatorial Guinea",
             "Africa",
             2014,
             1122273,
             4.745,
             97.55
            ],
            [
             "Eswatini",
             "Africa",
             2014,
             1095022,
             3.265,
             67.21
            ],
            [
             "Djibouti",
             "Africa",
             2014,
             898707,
             3.32,
             67.43
            ],
            [
             "Comoros",
             "Africa",
             2014,
             759390,
             4.648,
             77.08
            ],
            [
             "Cape Verde",
             "Africa",
             2014,
             518276,
             2.255,
             22.17
            ],
            [
             "Sao Tome and Principe",
             "Africa",
             2014,
             195727,
             4.007,
             36.7
            ],
            [
             "Seychelles",
             "Africa",
             2014,
             94214,
             2.155,
             14.63
            ]
           ],
           "hovertemplate": "<b>%{hovertext}</b><br><br><extra></extra>",
           "hovertext": [
            "Nigeria",
            "Ethiopia",
            "Egypt",
            "Congo, Dem. Rep.",
            "South Africa",
            "Tanzania",
            "Kenya",
            "Algeria",
            "Sudan",
            "Uganda",
            "Morocco",
            "Ghana",
            "Angola",
            "Mozambique",
            "Madagascar",
            "Cameroon",
            "Cote d'Ivoire",
            "Niger",
            "Burkina Faso",
            "Mali",
            "Malawi",
            "Zambia",
            "Senegal",
            "Chad",
            "Zimbabwe",
            "Somalia",
            "Guinea",
            "Rwanda",
            "Tunisia",
            "South Sudan",
            "Benin",
            "Burundi",
            "Togo",
            "Sierra Leone",
            "Libya",
            "Congo, Rep.",
            "Central African Republic",
            "Liberia",
            "Mauritania",
            "Eritrea",
            "Namibia",
            "Botswana",
            "Lesotho",
            "Gambia",
            "Gabon",
            "Guinea-Bissau",
            "Mauritius",
            "Equatorial Guinea",
            "Eswatini",
            "Djibouti",
            "Comoros",
            "Cape Verde",
            "Sao Tome and Principe",
            "Seychelles"
           ],
           "ids": [
            "Nigeria",
            "Ethiopia",
            "Egypt",
            "Congo, Dem. Rep.",
            "South Africa",
            "Tanzania",
            "Kenya",
            "Algeria",
            "Sudan",
            "Uganda",
            "Morocco",
            "Ghana",
            "Angola",
            "Mozambique",
            "Madagascar",
            "Cameroon",
            "Cote d'Ivoire",
            "Niger",
            "Burkina Faso",
            "Mali",
            "Malawi",
            "Zambia",
            "Senegal",
            "Chad",
            "Zimbabwe",
            "Somalia",
            "Guinea",
            "Rwanda",
            "Tunisia",
            "South Sudan",
            "Benin",
            "Burundi",
            "Togo",
            "Sierra Leone",
            "Libya",
            "Congo, Rep.",
            "Central African Republic",
            "Liberia",
            "Mauritania",
            "Eritrea",
            "Namibia",
            "Botswana",
            "Lesotho",
            "Gambia",
            "Gabon",
            "Guinea-Bissau",
            "Mauritius",
            "Equatorial Guinea",
            "Eswatini",
            "Djibouti",
            "Comoros",
            "Cape Verde",
            "Sao Tome and Principe",
            "Seychelles"
           ],
           "legendgroup": "Africa",
           "marker": {
            "color": "#33dded",
            "size": {
             "bdata": "AAAAhnMHpUEAAADgMmOXQQAAAHAVj5VBAAAAVGiWkUEAAADAOQKKQQAAAJiz0odBAAAA+LBEhkEAAABAbY+CQQAAAMjxG4JBAAAAUM2ZgUEAAAAw302AQQAAAACa9nlBAAAA0JSxeUEAAAAAhxF5QQAAAJBAf3ZBAAAA0I+hdUEAAACAN5l1QQAAAGBPWXJBAAAA0HbFcEEAAABQVCZwQQAAAMDhEW9BAAAAIG5fbUEAAACAQglrQQAAAECpD2pBAAAAwCLqaUEAAABgepppQQAAAEDPRGVBAAAAoO0jZUEAAABg8xllQQAAAEDAIWRBAAAA4N6eY0EAAACgycZiQQAAAECzOltBAAAAQLDEWkEAAADA7URYQQAAAEDxEVJBAAAAwIoHUUEAAAAAVaFQQQAAAACH/U1BAAAAAKpDSUEAAAAASVhBQQAAAACr3j9BAAAAADguP0EAAAAAZeI+QQAAAACZvjxBAAAAABHTOUEAAAAAhy8zQQAAAADhHzFBAAAAAG61MEEAAAAAJm0rQQAAAAC8LCdBAAAAABCiH0EAAAAAeOQHQQAAAABgAPdA",
             "dtype": "f8"
            },
            "sizemode": "area",
            "sizeref": 399812.15944444446,
            "symbol": "circle"
           },
           "mode": "markers",
           "name": "Africa",
           "orientation": "v",
           "showlegend": true,
           "type": "scatter",
           "x": {
            "bdata": "AAAAAAA4tkAAAAAAABiWQAAAAAAAmMNAAAAAAACIiEAAAAAAADLIQAAAAAAA0qNAAAAAAAAypUAAAAAAgHbKQAAAAAAAQrBAAAAAAADomkAAAAAAAMG7QAAAAAAAnq1AAAAAAACdukAAAAAAAHiRQAAAAAAAcJVAAAAAAAB8qEAAAAAAAL6nQAAAAAAAIIxAAAAAAAC4mEAAAAAAADCdQAAAAAAA3JFAAAAAAADKrEAAAAAAAK6mQAAAAAAAHKBAAAAAAACUo0AAAAAAAGiDQAAAAAAAtJxAAAAAAAAgmkAAAAAAAC/FQAAAAAAA/KBAAAAAAABEn0AAAAAAAACIQAAAAAAAQJZAAAAAAACsmkAAAAAAgC7PQAAAAAAAP7ZAAAAAAAAohUAAAAAAAKiTQAAAAAAAhq1AAAAAAAC8kkAAAAAAAJfDQAAAAACAl89AAAAAAAD2pUAAAAAAAIiWQAAAAADAN9BAAAAAAABIlkAAAAAAANTRQAAAAADA/95AAAAAAIAuwkAAAAAAAMCnQAAAAAAAvKNAAAAAAACGt0AAAAAAACqmQAAAAABAp9dA",
            "dtype": "f8"
           },
           "xaxis": "x",
           "y": {
            "bdata": "CtejcD1KT0CF61G4HqVQQM3MzMzMnFFApHA9CtdDTkA9CtejcD1PQNejcD0KN1BAZmZmZmYGUEDNzMzMzDxTQGZmZmZmRlFA7FG4HoXLT0DsUbgehUtSQOF6FK5HAVBAAAAAAABgT0BxPQrXo5BLQFK4HoXrUU9AXI/C9Sg8TkC4HoXrURhOQFyPwvUofE5AuB6F61EYTkDD9Shcj2JOQHE9CtejcE5AcT0K16OQTkAfhetRuM5QQHsUrkfhWk1Aw/UoXI9CTUBSuB6F6/FMQOxRuB6FK01Aj8L1KFzPUEBSuB6F63FTQEjhehSuJ01ApHA9CteDT0Bcj8L1KDxOQArXo3A9Ck9AKVyPwvWITEC4HoXrUQhSQMP1KFyP4k5AmpmZmZlZSEA9CtejcL1NQLgehetRaFFApHA9CteDTkDXo3A9CjdQQDMzMzMzc1BAj8L1KFzvSECPwvUoXC9QQOxRuB6Fi1BAzczMzMwMTUBcj8L1KJxSQFK4HoXrEVBASOF6FK6HSkCF61G4HnVQQK5H4XoU7lBAPQrXo3DNUkBxPQrXo4BRQAAAAAAAYFJA",
            "dtype": "f8"
           },
           "yaxis": "y"
          },
          {
           "customdata": [
            [
             "Russia",
             "Europe",
             2014,
             144664837,
             1.6,
             9.05
            ],
            [
             "Germany",
             "Europe",
             2014,
             81450370,
             1.429,
             3.9
            ],
            [
             "Turkey",
             "Europe",
             2014,
             77229262,
             2.022,
             13.4
            ],
            [
             "United Kingdom",
             "Europe",
             2014,
             65423048,
             1.889,
             4.53
            ],
            [
             "France",
             "Europe",
             2014,
             64193550,
             1.979,
             4.13
            ],
            [
             "Italy",
             "Europe",
             2014,
             60409622,
             1.502,
             3.56
            ],
            [
             "Spain",
             "Europe",
             2014,
             46777927,
             1.52,
             3.37
            ],
            [
             "Ukraine",
             "Europe",
             2014,
             45111530,
             1.48,
             9.82
            ],
            [
             "Poland",
             "Europe",
             2014,
             38091095,
             1.431,
             5.03
            ],
            [
             "Romania",
             "Europe",
             2014,
             20035928,
             1.432,
             9.97
            ],
            [
             "Netherlands",
             "Europe",
             2014,
             16892517,
             1.778,
             4.09
            ],
            [
             "Belgium",
             "Europe",
             2014,
             11221225,
             1.857,
             4.09
            ],
            [
             "Greece",
             "Europe",
             2014,
             10701460,
             1.538,
             4.42
            ],
            [
             "Czech Republic",
             "Europe",
             2014,
             10591104,
             1.584,
             3.11
            ],
            [
             "Portugal",
             "Europe",
             2014,
             10418224,
             1.313,
             3.66
            ],
            [
             "Hungary",
             "Europe",
             2014,
             9804991,
             1.426,
             5.4
            ],
            [
             "Sweden",
             "Europe",
             2014,
             9692137,
             1.929,
             2.91
            ],
            [
             "Azerbaijan",
             "Europe",
             2014,
             9505616,
             1.908,
             28.32
            ],
            [
             "Belarus",
             "Europe",
             2014,
             9431742,
             1.504,
             4.25
            ],
            [
             "Serbia",
             "Europe",
             2014,
             8898284,
             1.364,
             6.58
            ],
            [
             "Austria",
             "Europe",
             2014,
             8615205,
             1.484,
             3.8
            ],
            [
             "Switzerland",
             "Europe",
             2014,
             8206003,
             1.543,
             4.36
            ],
            [
             "Bulgaria",
             "Europe",
             2014,
             7245648,
             1.558,
             8.68
            ],
            [
             "Denmark",
             "Europe",
             2014,
             5664199,
             1.882,
             4.16
            ],
            [
             "Finland",
             "Europe",
             2014,
             5461410,
             1.854,
             2.38
            ],
            [
             "Slovak Republic",
             "Europe",
             2014,
             5428798,
             1.411,
             6.22
            ],
            [
             "Norway",
             "Europe",
             2014,
             5142269,
             1.93,
             2.8
            ],
            [
             "Ireland",
             "Europe",
             2014,
             4626852,
             1.995,
             3.87
            ],
            [
             "Croatia",
             "Europe",
             2014,
             4255518,
             1.511,
             4.96
            ],
            [
             "Moldova",
             "Europe",
             2014,
             4073407,
             1.452,
             16.44
            ],
            [
             "Georgia",
             "Europe",
             2014,
             4035310,
             1.815,
             10.9
            ],
            [
             "Bosnia and Herzegovina",
             "Europe",
             2014,
             3482106,
             1.299,
             6.27
            ],
            [
             "Lithuania",
             "Europe",
             2014,
             2971498,
             1.534,
             5
            ],
            [
             "Armenia",
             "Europe",
             2014,
             2912403,
             1.74,
             15.11
            ],
            [
             "Albania",
             "Europe",
             2014,
             2896307,
             1.779,
             10.05
            ],
            [
             "North Macedonia",
             "Europe",
             2014,
             2077780,
             1.427,
             11.96
            ],
            [
             "Slovenia",
             "Europe",
             2014,
             2067488,
             1.518,
             2.61
            ],
            [
             "Latvia",
             "Europe",
             2014,
             2021220,
             1.622,
             5.47
            ],
            [
             "Estonia",
             "Europe",
             2014,
             1316273,
             1.607,
             3.4
            ],
            [
             "Cyprus",
             "Europe",
             2014,
             1152297,
             1.458,
             2.87
            ],
            [
             "Montenegro",
             "Europe",
             2014,
             626650,
             1.658,
             3.93
            ],
            [
             "Luxembourg",
             "Europe",
             2014,
             554512,
             1.681,
             2.71
            ],
            [
             "Malta",
             "Europe",
             2014,
             430190,
             1.354,
             6.95
            ],
            [
             "Iceland",
             "Europe",
             2014,
             328592,
             2.07,
             2.26
            ]
           ],
           "hovertemplate": "<b>%{hovertext}</b><br><br><extra></extra>",
           "hovertext": [
            "Russia",
            "Germany",
            "Turkey",
            "United Kingdom",
            "France",
            "Italy",
            "Spain",
            "Ukraine",
            "Poland",
            "Romania",
            "Netherlands",
            "Belgium",
            "Greece",
            "Czech Republic",
            "Portugal",
            "Hungary",
            "Sweden",
            "Azerbaijan",
            "Belarus",
            "Serbia",
            "Austria",
            "Switzerland",
            "Bulgaria",
            "Denmark",
            "Finland",
            "Slovak Republic",
            "Norway",
            "Ireland",
            "Croatia",
            "Moldova",
            "Georgia",
            "Bosnia and Herzegovina",
            "Lithuania",
            "Armenia",
            "Albania",
            "North Macedonia",
            "Slovenia",
            "Latvia",
            "Estonia",
            "Cyprus",
            "Montenegro",
            "Luxembourg",
            "Malta",
            "Iceland"
           ],
           "ids": [
            "Russia",
            "Germany",
            "Turkey",
            "United Kingdom",
            "France",
            "Italy",
            "Spain",
            "Ukraine",
            "Poland",
            "Romania",
            "Netherlands",
            "Belgium",
            "Greece",
            "Czech Republic",
            "Portugal",
            "Hungary",
            "Sweden",
            "Azerbaijan",
            "Belarus",
            "Serbia",
            "Austria",
            "Switzerland",
            "Bulgaria",
            "Denmark",
            "Finland",
            "Slovak Republic",
            "Norway",
            "Ireland",
            "Croatia",
            "Moldova",
            "Georgia",
            "Bosnia and Herzegovina",
            "Lithuania",
            "Armenia",
            "Albania",
            "North Macedonia",
            "Slovenia",
            "Latvia",
            "Estonia",
            "Cyprus",
            "Montenegro",
            "Luxembourg",
            "Malta",
            "Iceland"
           ],
           "legendgroup": "Europe",
           "marker": {
            "color": "#ffeb33",
            "size": {
             "bdata": "AAAACtI+oUEAAAAIVmuTQQAAADizaZJBAAAAQDYyj0EAAABwIJyOQQAAALA4zoxBAAAAODJOhkEAAABQx4KFQQAAALjKKYJBAAAAgJUbc0EAAABQJhxwQQAAACAdZ2VBAAAAgFJpZEEAAAAAcDNkQQAAAAAG32NBAAAA4JezYkEAAAAgfXxiQQAAAABqIWJBAAAAwFf9YUEAAACA3fhgQQAAAKCkbmBBAAAAwKxNX0EAAAAA1KNbQQAAAMBxm1VBAAAAgGjVVEEAAACAj7VUQQAAAEC/nVNBAAAAAGmmUUEAAACAxztQQQAAAIDfE09BAAAAAHfJTkEAAAAA/ZBKQQAAAAC1q0ZBAAAAgEk4RkEAAACA2RhGQQAAAABUtD9BAAAAACCMP0EAAAAAZNc+QQAAAACxFTRBAAAAACmVMUEAAAAAtB8jQQAAAAAg7CBBAAAAALhBGkEAAAAAQA4UQQ==",
             "dtype": "f8"
            },
            "sizemode": "area",
            "sizeref": 399812.15944444446,
            "symbol": "circle"
           },
           "mode": "markers",
           "name": "Europe",
           "orientation": "v",
           "showlegend": true,
           "type": "scatter",
           "x": {
            "bdata": "AAAAAECx2EAAAAAAYFLlQAAAAADA0dVAAAAAAGDC4kAAAAAAAFniQAAAAABAk+BAAAAAAMB23kAAAAAAgBnAQAAAAADAyNdAAAAAAIBW00AAAAAAwJPmQAAAAAAgMORAAAAAAICE10AAAAAAAHDcQAAAAAAAatlAAAAAAMCY10AAAAAAwJblQAAAAACAddBAAAAAAECD0UAAAAAAAGXLQAAAAADgmuVAAAAAAEDw60AAAAAAAOLPQAAAAAAgAOZAAAAAAEAN40AAAAAAQKXaQAAAAABg9+5AAAAAACDV50AAAAAAAOPTQAAAAAAAT7ZAAAAAAIAfwUAAAAAAAAnFQAAAAACApNlAAAAAAAASv0AAAAAAgObEQAAAAACABMhAAAAAAIC+20AAAAAAAKfVQAAAAABAetpAAAAAAAA23UAAAAAAgObMQAAAAADQi/ZAAAAAAMAq30AAAAAA4OLkQA==",
            "dtype": "f8"
           },
           "xaxis": "x",
           "y": {
            "bdata": "cT0K16OwUUAK16NwPTpUQBSuR+F6hFNAhetRuB5FVEA9CtejcJ1UQD0K16NwrVRAj8L1KFyvVEAUrkfhevRRQKRwPQrXY1NAKVyPwvW4UkAzMzMzM2NUQOxRuB6FO1RAzczMzMw8VEDD9Shcj7JTQD0K16NwTVRAzczMzMz8UkDXo3A9CodUQMP1KFyPklFA9ihcj8JFUkCkcD0K18NSQClcj8L1WFRA9ihcj8LVVECuR+F6FJ5SQM3MzMzMLFRAcT0K16NQVEDhehSuRzFTQArXo3A9elRAKVyPwvVYVEAzMzMzM3NTQEjhehSu91FASOF6FK5HUkCF61G4HiVTQIXrUbgepVJApHA9CtfTUkB7FK5H4XpTQM3MzMzMPFNAmpmZmZk5VEAUrkfheqRSQArXo3A9SlNAMzMzMzNTVEDhehSuRxFTQLgehetRWFRAcT0K16NQVEAK16NwPapUQA==",
            "dtype": "f8"
           },
           "yaxis": "y"
          }
         ],
         "name": "2014"
        },
        {
         "data": [
          {
           "mode": "text",
           "showlegend": false,
           "text": [
            "2015"
           ],
           "textfont": {
            "color": "lightgray",
            "size": 200
           },
           "textposition": "middle center",
           "type": "scatter",
           "x": [
            8000
           ],
           "y": [
            45
           ]
          },
          {
           "customdata": [
            [
             "China",
             "Asia",
             2015,
             1406847868,
             1.679,
             10.73
            ],
            [
             "India",
             "Asia",
             2015,
             1310152392,
             2.428,
             43.59
            ],
            [
             "Indonesia",
             "Asia",
             2015,
             258383257,
             2.279,
             27.98
            ],
            [
             "Pakistan",
             "Asia",
             2015,
             199426953,
             3.041,
             76.02
            ],
            [
             "Bangladesh",
             "Asia",
             2015,
             156256287,
             2.118,
             36.1
            ],
            [
             "Japan",
             "Asia",
             2015,
             127985139,
             1.447,
             3.02
            ],
            [
             "Philippines",
             "Asia",
             2015,
             102113206,
             2.977,
             30.15
            ],
            [
             "Vietnam",
             "Asia",
             2015,
             92677082,
             1.703,
             21.84
            ],
            [
             "Iran",
             "Asia",
             2015,
             78492208,
             1.913,
             16.03
            ],
            [
             "Thailand",
             "Asia",
             2015,
             68714519,
             1.378,
             10.47
            ],
            [
             "Myanmar",
             "Asia",
             2015,
             52680724,
             1.9,
             51.58
            ],
            [
             "South Korea",
             "Asia",
             2015,
             50823087,
             1.355,
             3.5
            ],
            [
             "Iraq",
             "Asia",
             2015,
             35572269,
             3.91,
             29.49
            ],
            [
             "Afghanistan",
             "Asia",
             2015,
             34413603,
             4.47,
             70.38
            ],
            [
             "Saudi Arabia",
             "Asia",
             2015,
             31717676,
             2.54,
             8.54
            ],
            [
             "Uzbekistan",
             "Asia",
             2015,
             30929556,
             2.248,
             25.89
            ],
            [
             "Malaysia",
             "Asia",
             2015,
             30270965,
             1.941,
             8
            ],
            [
             "Nepal",
             "Asia",
             2015,
             27015033,
             2.177,
             36.39
            ],
            [
             "Yemen",
             "Asia",
             2015,
             26497881,
             3.832,
             54.96
            ],
            [
             "North Korea",
             "Asia",
             2015,
             25183832,
             1.969,
             21.1
            ],
            [
             "Australia",
             "Asia",
             2015,
             23932499,
             1.876,
             3.87
            ],
            [
             "Sri Lanka",
             "Asia",
             2015,
             20908024,
             2.309,
             8.75
            ],
            [
             "Syria",
             "Asia",
             2015,
             17997411,
             2.876,
             17.25
            ],
            [
             "Kazakhstan",
             "Asia",
             2015,
             17572010,
             2.403,
             11.92
            ],
            [
             "Cambodia",
             "Asia",
             2015,
             15521435,
             2.795,
             32.03
            ],
            [
             "Jordan",
             "Asia",
             2015,
             9266573,
             3.116,
             17.69
            ],
            [
             "United Arab Emirates",
             "Asia",
             2015,
             9262896,
             1.767,
             7.83
            ],
            [
             "Tajikistan",
             "Asia",
             2015,
             8454019,
             3.754,
             37.85
            ],
            [
             "Papua New Guinea",
             "Asia",
             2015,
             8107772,
             3.673,
             51.74
            ],
            [
             "Israel",
             "Asia",
             2015,
             7978496,
             2.861,
             3.92
            ],
            [
             "Hong Kong, China",
             "Asia",
             2015,
             7185992,
             1.172,
             2.3
            ],
            [
             "Lao",
             "Asia",
             2015,
             6741160,
             2.868,
             53.57
            ],
            [
             "Lebanon",
             "Asia",
             2015,
             6532681,
             1.489,
             8.3
            ],
            [
             "Kyrgyz Republic",
             "Asia",
             2015,
             5959126,
             3.04,
             22.34
            ],
            [
             "Singapore",
             "Asia",
             2015,
             5592143,
             1.295,
             2.72
            ],
            [
             "Turkmenistan",
             "Asia",
             2015,
             5565283,
             2.274,
             50.66
            ],
            [
             "New Zealand",
             "Asia",
             2015,
             4614527,
             2.016,
             5.97
            ],
            [
             "Palestine",
             "Asia",
             2015,
             4529160,
             3.881,
             21.7
            ],
            [
             "Oman",
             "Asia",
             2015,
             4267341,
             2.745,
             11.24
            ],
            [
             "Kuwait",
             "Asia",
             2015,
             3835588,
             2.554,
             8.56
            ],
            [
             "Mongolia",
             "Asia",
             2015,
             2998433,
             2.401,
             18.57
            ],
            [
             "Qatar",
             "Asia",
             2015,
             2565708,
             1.982,
             7.83
            ],
            [
             "Bahrain",
             "Asia",
             2015,
             1371853,
             2.033,
             7.57
            ],
            [
             "Timor-Leste",
             "Asia",
             2015,
             1196294,
             5.603,
             51.01
            ],
            [
             "Fiji",
             "Asia",
             2015,
             868632,
             2.536,
             24.59
            ],
            [
             "Bhutan",
             "Asia",
             2015,
             727885,
             2.153,
             33.29
            ],
            [
             "Solomon Islands",
             "Asia",
             2015,
             603133,
             3.905,
             22.02
            ],
            [
             "Maldives",
             "Asia",
             2015,
             454914,
             2.181,
             9.98
            ],
            [
             "Brunei",
             "Asia",
             2015,
             414914,
             1.958,
             10.77
            ],
            [
             "Vanuatu",
             "Asia",
             2015,
             271128,
             3.309,
             28.57
            ],
            [
             "Samoa",
             "Asia",
             2015,
             193510,
             4.027,
             17.17
            ],
            [
             "Kiribati",
             "Asia",
             2015,
             110927,
             2.892,
             57.49
            ],
            [
             "Micronesia, Fed. Sts.",
             "Asia",
             2015,
             108886,
             3.194,
             33.92
            ],
            [
             "Tonga",
             "Asia",
             2015,
             100780,
             3.675,
             16.78
            ]
           ],
           "hovertemplate": "<b>%{hovertext}</b><br><br><extra></extra>",
           "hovertext": [
            "China",
            "India",
            "Indonesia",
            "Pakistan",
            "Bangladesh",
            "Japan",
            "Philippines",
            "Vietnam",
            "Iran",
            "Thailand",
            "Myanmar",
            "South Korea",
            "Iraq",
            "Afghanistan",
            "Saudi Arabia",
            "Uzbekistan",
            "Malaysia",
            "Nepal",
            "Yemen",
            "North Korea",
            "Australia",
            "Sri Lanka",
            "Syria",
            "Kazakhstan",
            "Cambodia",
            "Jordan",
            "United Arab Emirates",
            "Tajikistan",
            "Papua New Guinea",
            "Israel",
            "Hong Kong, China",
            "Lao",
            "Lebanon",
            "Kyrgyz Republic",
            "Singapore",
            "Turkmenistan",
            "New Zealand",
            "Palestine",
            "Oman",
            "Kuwait",
            "Mongolia",
            "Qatar",
            "Bahrain",
            "Timor-Leste",
            "Fiji",
            "Bhutan",
            "Solomon Islands",
            "Maldives",
            "Brunei",
            "Vanuatu",
            "Samoa",
            "Kiribati",
            "Micronesia, Fed. Sts.",
            "Tonga"
           ],
           "ids": [
            "China",
            "India",
            "Indonesia",
            "Pakistan",
            "Bangladesh",
            "Japan",
            "Philippines",
            "Vietnam",
            "Iran",
            "Thailand",
            "Myanmar",
            "South Korea",
            "Iraq",
            "Afghanistan",
            "Saudi Arabia",
            "Uzbekistan",
            "Malaysia",
            "Nepal",
            "Yemen",
            "North Korea",
            "Australia",
            "Sri Lanka",
            "Syria",
            "Kazakhstan",
            "Cambodia",
            "Jordan",
            "United Arab Emirates",
            "Tajikistan",
            "Papua New Guinea",
            "Israel",
            "Hong Kong, China",
            "Lao",
            "Lebanon",
            "Kyrgyz Republic",
            "Singapore",
            "Turkmenistan",
            "New Zealand",
            "Palestine",
            "Oman",
            "Kuwait",
            "Mongolia",
            "Qatar",
            "Bahrain",
            "Timor-Leste",
            "Fiji",
            "Bhutan",
            "Solomon Islands",
            "Maldives",
            "Brunei",
            "Vanuatu",
            "Samoa",
            "Kiribati",
            "Micronesia, Fed. Sts.",
            "Tonga"
           ],
           "legendgroup": "Asia",
           "marker": {
            "color": "#ff798e",
            "size": {
             "bdata": "AAAA37L21EEAAACy1YXTQQAAADI7za5BAAAAEgfGp0EAAAA+kKCiQQAAAMyXg55BAAAA2H5YmEEAAABojxiWQQAAAMDItpJBAAAAXABikEEAAACgwB6JQQAAAHj9O4hBAAAAaFH2gEEAAAAY4WiAQQAAAMCSP35BAAAAQCl/fUEAAABQX958QQAAAJB3w3lBAAAAkDVFeUEAAACAZQR4QQAAADDl0nZBAAAAgH/wc0EAAAAw5ilxQQAAAKAKwnBBAAAAYNOabUEAAACgsaxhQQAAAADmqmFBAAAAYPAfYEEAAAAAv+1eQQAAAACAb15BAAAAAJJpW0EAAAAAKrdZQQAAAECS61hBAAAAgHW7VkEAAADAE1VVQQAAAMDYOlVBAAAAwF+aUUEAAAAAAkdRQQAAAEBTR1BBAAAAAGJDTUEAAACAUOBGQQAAAAAmk0NBAAAAAM3uNEEAAAAABkEyQQAAAAAwgipBAAAAAJo2JkEAAAAA+mciQQAAAAAIxBtBAAAAAAhTGUEAAAAAYIwQQQAAAAAwnwdBAAAAAPAU+0AAAAAAYJX6QAAAAADAmvhA",
             "dtype": "f8"
            },
            "sizemode": "area",
            "sizeref": 399812.15944444446,
            "symbol": "circle"
           },
           "mode": "markers",
           "name": "Asia",
           "orientation": "v",
           "showlegend": true,
           "type": "scatter",
           "x": {
            "bdata": "AAAAAIBvykAAAAAAAG+2QAAAAACAO8RAAAAAAABrsUAAAAAAAECpQAAAAABAeeJAAAAAAADAukAAAAAAAOi1QAAAAADAStBAAAAAAADMzUAAAAAAAKazQAAAAABAsOBAAAAAAAA6zUAAAAAAAJybQAAAAABgpOhAAAAAAAAHtkAAAAAAgMvYQAAAAAAALqNAAAAAAABKqEAAAAAAAOCaQAAAAADAguVAAAAAAACjxUAAAAAAANKnQAAAAAAA+dZAAAAAAAC0qUAAAAAAAGzAQAAAAADQD/BAAAAAAADcpEAAAAAAANitQAAAAAAAWt9AAAAAAAAr6kAAAAAAADm2QAAAAACAN8dAAAAAAABEqUAAAAAA4Fj0QAAAAAAASM1AAAAAAEAt4UAAAAAAAI6xQAAAAABgKeNAAAAAAJAn8UAAAAAAACHGQAAAAABATvxAAAAAAOBy5UAAAAAAAOm9QAAAAAAAJMFAAAAAAABewEAAAAAAAFygQAAAAAAAxshAAAAAACBU8kAAAAAAAGalQAAAAAAAv7VAAAAAAADgnkAAAAAAAIKoQAAAAAAAZbVA",
            "dtype": "f8"
           },
           "xaxis": "x",
           "y": {
            "bdata": "AAAAAAAgU0BI4XoUrhdRQB+F61G4vlFAj8L1KFx/UEBxPQrXoyBSQEjhehSuB1VACtejcD1KUUBxPQrXo5BSQAAAAAAAIFNAH4XrUbiOU0D2KFyPwvVQQDMzMzMzk1RAMzMzMzMTU0AUrkfhepROQM3MzMzMDFNAuB6F61F4UUD2KFyPwqVSQPYoXI/CZVFA9ihcj8IlUUBmZmZmZuZRQB+F61G4nlRAKVyPwvU4U0AzMzMzM9NQQJqZmZmZ6VFA4XoUrkdRUUCF61G4HsVTQClcj8L1SFJAXI/C9SiMUUDXo3A9CvdMQEjhehSup1RA16NwPQrXVEC4HoXrUahQQFK4HoXrcVNASOF6FK73UUDsUbgehRtVQMP1KFyPclFAw/UoXI9iVECPwvUoXA9TQArXo3A9GlNAXI/C9Si8VEBmZmZmZiZRQEjhehSu91NAUrgehevRU0DsUbgehatRQGZmZmZm9lBAPQrXo3BdUkBmZmZmZmZPQM3MzMzMTFRA9ihcj8LFUkBcj8L1KBxQQK5H4XoULlJAFK5H4Xr0TkDD9Shcj8JQQHE9Ctej4FFA",
            "dtype": "f8"
           },
           "yaxis": "y"
          },
          {
           "customdata": [
            [
             "United States",
             "Americas",
             2015,
             320878312,
             1.968,
             6.8
            ],
            [
             "Brazil",
             "Americas",
             2015,
             204471759,
             1.78,
             15.71
            ],
            [
             "Mexico",
             "Americas",
             2015,
             121858251,
             2.126,
             14.8
            ],
            [
             "Colombia",
             "Americas",
             2015,
             47520667,
             2.229,
             15.7
            ],
            [
             "Argentina",
             "Americas",
             2015,
             43075416,
             2.149,
             11.48
            ],
            [
             "Canada",
             "Americas",
             2015,
             36026668,
             1.683,
             5.28
            ],
            [
             "Peru",
             "Americas",
             2015,
             30470739,
             2.359,
             16.13
            ],
            [
             "Venezuela",
             "Americas",
             2015,
             30081827,
             2.338,
             19.43
            ],
            [
             "Chile",
             "Americas",
             2015,
             17969356,
             1.801,
             7.89
            ],
            [
             "Guatemala",
             "Americas",
             2015,
             16252425,
             3.663,
             29.02
            ],
            [
             "Ecuador",
             "Americas",
             2015,
             16212022,
             2.499,
             15.11
            ],
            [
             "Cuba",
             "Americas",
             2015,
             11324777,
             1.447,
             5.38
            ],
            [
             "Bolivia",
             "Americas",
             2015,
             10869732,
             3.138,
             30.76
            ],
            [
             "Haiti",
             "Americas",
             2015,
             10695540,
             3.028,
             70.62
            ],
            [
             "Dominican Republic",
             "Americas",
             2015,
             10281675,
             2.421,
             31.32
            ],
            [
             "Honduras",
             "Americas",
             2015,
             9112904,
             2.907,
             19.51
            ],
            [
             "Paraguay",
             "Americas",
             2015,
             6688746,
             2.799,
             22.24
            ],
            [
             "El Salvador",
             "Americas",
             2015,
             6325121,
             2.135,
             15.31
            ],
            [
             "Nicaragua",
             "Americas",
             2015,
             6223234,
             2.419,
             18.84
            ],
            [
             "Costa Rica",
             "Americas",
             2015,
             4847805,
             1.765,
             9.05
            ],
            [
             "Panama",
             "Americas",
             2015,
             3968490,
             2.416,
             16.92
            ],
            [
             "Uruguay",
             "Americas",
             2015,
             3412013,
             2.026,
             8.85
            ],
            [
             "Jamaica",
             "Americas",
             2015,
             2891024,
             2.214,
             15.88
            ],
            [
             "Trinidad and Tobago",
             "Americas",
             2015,
             1370332,
             1.793,
             20.18
            ],
            [
             "Guyana",
             "Americas",
             2015,
             767433,
             2.467,
             33.11
            ],
            [
             "Suriname",
             "Americas",
             2015,
             559136,
             2.219,
             20.86
            ],
            [
             "Bahamas",
             "Americas",
             2015,
             374200,
             1.878,
             11.16
            ],
            [
             "Belize",
             "Americas",
             2015,
             360926,
             2.603,
             15.32
            ],
            [
             "Barbados",
             "Americas",
             2015,
             285327,
             1.855,
             13.27
            ],
            [
             "St. Lucia",
             "Americas",
             2015,
             179131,
             1.868,
             17.78
            ],
            [
             "Grenada",
             "Americas",
             2015,
             109603,
             2.125,
             15.05
            ],
            [
             "St. Vincent and the Grenadines",
             "Americas",
             2015,
             109135,
             1.951,
             17.97
            ],
            [
             "Antigua and Barbuda",
             "Americas",
             2015,
             93571,
             2.063,
             7.29
            ]
           ],
           "hovertemplate": "<b>%{hovertext}</b><br><br><extra></extra>",
           "hovertext": [
            "United States",
            "Brazil",
            "Mexico",
            "Colombia",
            "Argentina",
            "Canada",
            "Peru",
            "Venezuela",
            "Chile",
            "Guatemala",
            "Ecuador",
            "Cuba",
            "Bolivia",
            "Haiti",
            "Dominican Republic",
            "Honduras",
            "Paraguay",
            "El Salvador",
            "Nicaragua",
            "Costa Rica",
            "Panama",
            "Uruguay",
            "Jamaica",
            "Trinidad and Tobago",
            "Guyana",
            "Suriname",
            "Bahamas",
            "Belize",
            "Barbados",
            "St. Lucia",
            "Grenada",
            "St. Vincent and the Grenadines",
            "Antigua and Barbuda"
           ],
           "ids": [
            "United States",
            "Brazil",
            "Mexico",
            "Colombia",
            "Argentina",
            "Canada",
            "Peru",
            "Venezuela",
            "Chile",
            "Guatemala",
            "Ecuador",
            "Cuba",
            "Bolivia",
            "Haiti",
            "Dominican Republic",
            "Honduras",
            "Paraguay",
            "El Salvador",
            "Nicaragua",
            "Costa Rica",
            "Panama",
            "Uruguay",
            "Jamaica",
            "Trinidad and Tobago",
            "Guyana",
            "Suriname",
            "Bahamas",
            "Belize",
            "Barbados",
            "St. Lucia",
            "Grenada",
            "St. Vincent and the Grenadines",
            "Antigua and Barbuda"
           ],
           "legendgroup": "Americas",
           "marker": {
            "color": "#98ef33",
            "size": {
             "bdata": "AAAA6DYgs0EAAACe+1+oQQAAACyjDZ1BAAAA2NyohkEAAADAOoqEQQAAAGDJLYFBAAAAMCUPfUEAAAAwMrB8QQAAAMAMI3FBAAAAIMH/bkEAAADABuxuQQAAACCtmWVBAAAAgHy7ZEEAAACAbmZkQQAAAGBZnGNBAAAAAKlhYUEAAACA+oNZQQAAAEDgIFhBAAAAgGC9V0EAAABAL35SQQAAAAD1Rk5BAAAAgBYISkEAAAAAiA5GQQAAAADc6DRBAAAAAJJrJ0EAAAAAQBAhQQAAAADg1hZBAAAAAHgHFkEAAAAAPGoRQQAAAADY3QVBAAAAADDC+kAAAAAA8KT6QAAAAAAw2PZA",
             "dtype": "f8"
            },
            "sizemode": "area",
            "sizeref": 399812.15944444446,
            "symbol": "circle"
           },
           "mode": "markers",
           "name": "Americas",
           "orientation": "v",
           "showlegend": true,
           "type": "scatter",
           "x": {
            "bdata": "AAAAAID46UAAAAAAgOvMQAAAAADAFdFAAAAAAICdyUAAAAAAAMvSQAAAAABADOVAAAAAAICsx0AAAAAAgG7OQAAAAABAvNVAAAAAAAB9vEAAAAAAAOjEQAAAAAAA0b5AAAAAAAAsuUAAAAAAANiZQAAAAACAyspAAAAAAACXsEAAAAAAAJjFQAAAAAAAQ7tAAAAAAADuskAAAAAAgIzMQAAAAACAVdRAAAAAAEB600AAAAAAAG+/QAAAAAAAud5AAAAAAACvu0AAAAAAAEzMQAAAAACArdxAAAAAAAApv0AAAAAAAAPQQAAAAAAAmMZAAAAAAABKyEAAAAAAAHTEQAAAAACA7NRA",
            "dtype": "f8"
           },
           "xaxis": "x",
           "y": {
            "bdata": "hetRuB61U0AfhetRuN5SQHsUrkfh+lJAPQrXo3D9U0BSuB6F6yFTQD0K16NwbVRAH4XrUbj+U0BxPQrXo8BSQLgehetR6FNASOF6FK43UkD2KFyPwiVTQK5H4XoUjlNAj8L1KFwPUkDD9ShcjwJQQHE9CtejMFJA16NwPQoHUkAAAAAAAPBSQPYoXI/CBVJApHA9CteDU0Bcj8L1KPxTQOxRuB6Fu1NAAAAAAABAU0CkcD0K16NSQHsUrkfhmlJA9ihcj8IlUUDXo3A9CvdRQKRwPQrXU1JAAAAAAACAUkCF61G4HkVTQDMzMzMz41JAXI/C9Sh8UkBxPQrXowBSQEjhehSuN1NA",
            "dtype": "f8"
           },
           "yaxis": "y"
          },
          {
           "customdata": [
            [
             "Nigeria",
             "Africa",
             2015,
             181137454,
             5.892,
             125.4
            ],
            [
             "Ethiopia",
             "Africa",
             2015,
             100835453,
             4.282,
             63.46
            ],
            [
             "Egypt",
             "Africa",
             2015,
             92442549,
             2.7,
             23.63
            ],
            [
             "Congo, Dem. Rep.",
             "Africa",
             2015,
             76244532,
             5.723,
             97.41
            ],
            [
             "South Africa",
             "Africa",
             2015,
             55386369,
             2.338,
             37.7
            ],
            [
             "Tanzania",
             "Africa",
             2015,
             51482638,
             5.074,
             59.12
            ],
            [
             "Kenya",
             "Africa",
             2015,
             47878339,
             4.237,
             46.26
            ],
            [
             "Algeria",
             "Africa",
             2015,
             39728020,
             2.706,
             24.95
            ],
            [
             "Sudan",
             "Africa",
             2015,
             38902948,
             4.284,
             66.3
            ],
            [
             "Uganda",
             "Africa",
             2015,
             38225447,
             5.674,
             54.84
            ],
            [
             "Morocco",
             "Africa",
             2015,
             34663608,
             2.714,
             25.53
            ],
            [
             "Angola",
             "Africa",
             2015,
             27884380,
             5.65,
             88.13
            ],
            [
             "Ghana",
             "Africa",
             2015,
             27849203,
             3.735,
             54.73
            ],
            [
             "Mozambique",
             "Africa",
             2015,
             27042001,
             5.04,
             81.83
            ],
            [
             "Madagascar",
             "Africa",
             2015,
             24234080,
             4.351,
             58.1
            ],
            [
             "Cameroon",
             "Africa",
             2015,
             23298376,
             4.629,
             85.81
            ],
            [
             "Cote d'Ivoire",
             "Africa",
             2015,
             23226148,
             4.763,
             90.04
            ],
            [
             "Niger",
             "Africa",
             2015,
             20001663,
             7.512,
             94.31
            ],
            [
             "Burkina Faso",
             "Africa",
             2015,
             18110616,
             5.43,
             86.78
            ],
            [
             "Mali",
             "Africa",
             2015,
             17438772,
             6.809,
             109.12
            ],
            [
             "Malawi",
             "Africa",
             2015,
             16745305,
             5.231,
             59.18
            ],
            [
             "Zambia",
             "Africa",
             2015,
             15879370,
             5.594,
             64.56
            ],
            [
             "Senegal",
             "Africa",
             2015,
             14578450,
             4.813,
             50.14
            ],
            [
             "Chad",
             "Africa",
             2015,
             14110971,
             6.041,
             130.47
            ],
            [
             "Zimbabwe",
             "Africa",
             2015,
             13814642,
             3.347,
             54.33
            ],
            [
             "Somalia",
             "Africa",
             2015,
             13797204,
             6.355,
             133.38
            ],
            [
             "Guinea",
             "Africa",
             2015,
             11432096,
             4.748,
             107.19
            ],
            [
             "Rwanda",
             "Africa",
             2015,
             11369066,
             4.307,
             41.26
            ],
            [
             "Tunisia",
             "Africa",
             2015,
             11179951,
             1.97,
             17.18
            ],
            [
             "South Sudan",
             "Africa",
             2015,
             10715657,
             4.746,
             98.58
            ],
            [
             "Benin",
             "Africa",
             2015,
             10575962,
             4.687,
             99.86
            ],
            [
             "Burundi",
             "Africa",
             2015,
             10160034,
             5.854,
             67.03
            ],
            [
             "Togo",
             "Africa",
             2015,
             7323162,
             4.509,
             76.84
            ],
            [
             "Sierra Leone",
             "Africa",
             2015,
             7171909,
             4.553,
             121.78
            ],
            [
             "Libya",
             "Africa",
             2015,
             6418315,
             2.255,
             13.33
            ],
            [
             "Congo, Rep.",
             "Africa",
             2015,
             4856093,
             4.86,
             54.86
            ],
            [
             "Central African Republic",
             "Africa",
             2015,
             4493171,
             4.197,
             129.06
            ],
            [
             "Liberia",
             "Africa",
             2015,
             4472229,
             4.644,
             78.91
            ],
            [
             "Mauritania",
             "Africa",
             2015,
             4046304,
             4.549,
             83.53
            ],
            [
             "Eritrea",
             "Africa",
             2015,
             3342818,
             4.519,
             46.55
            ],
            [
             "Namibia",
             "Africa",
             2015,
             2314901,
             2.945,
             44.94
            ],
            [
             "Botswana",
             "Africa",
             2015,
             2120716,
             2.536,
             40.73
            ],
            [
             "Gambia",
             "Africa",
             2015,
             2085860,
             5.674,
             64.7
            ],
            [
             "Lesotho",
             "Africa",
             2015,
             2059011,
             2.936,
             92.48
            ],
            [
             "Gabon",
             "Africa",
             2015,
             1947690,
             3.97,
             51
            ],
            [
             "Guinea-Bissau",
             "Africa",
             2015,
             1737207,
             4.804,
             91.2
            ],
            [
             "Mauritius",
             "Africa",
             2015,
             1259457,
             1.498,
             14.34
            ],
            [
             "Equatorial Guinea",
             "Africa",
             2015,
             1168575,
             4.646,
             94.23
            ],
            [
             "Eswatini",
             "Africa",
             2015,
             1104038,
             3.2,
             62.87
            ],
            [
             "Djibouti",
             "Africa",
             2015,
             913998,
             3.256,
             65.28
            ],
            [
             "Comoros",
             "Africa",
             2015,
             777435,
             4.584,
             74.89
            ],
            [
             "Cape Verde",
             "Africa",
             2015,
             524740,
             2.22,
             21.49
            ],
            [
             "Sao Tome and Principe",
             "Africa",
             2015,
             199439,
             3.942,
             35.07
            ],
            [
             "Seychelles",
             "Africa",
             2015,
             94981,
             2.132,
             14.74
            ]
           ],
           "hovertemplate": "<b>%{hovertext}</b><br><br><extra></extra>",
           "hovertext": [
            "Nigeria",
            "Ethiopia",
            "Egypt",
            "Congo, Dem. Rep.",
            "South Africa",
            "Tanzania",
            "Kenya",
            "Algeria",
            "Sudan",
            "Uganda",
            "Morocco",
            "Angola",
            "Ghana",
            "Mozambique",
            "Madagascar",
            "Cameroon",
            "Cote d'Ivoire",
            "Niger",
            "Burkina Faso",
            "Mali",
            "Malawi",
            "Zambia",
            "Senegal",
            "Chad",
            "Zimbabwe",
            "Somalia",
            "Guinea",
            "Rwanda",
            "Tunisia",
            "South Sudan",
            "Benin",
            "Burundi",
            "Togo",
            "Sierra Leone",
            "Libya",
            "Congo, Rep.",
            "Central African Republic",
            "Liberia",
            "Mauritania",
            "Eritrea",
            "Namibia",
            "Botswana",
            "Gambia",
            "Lesotho",
            "Gabon",
            "Guinea-Bissau",
            "Mauritius",
            "Equatorial Guinea",
            "Eswatini",
            "Djibouti",
            "Comoros",
            "Cape Verde",
            "Sao Tome and Principe",
            "Seychelles"
           ],
           "ids": [
            "Nigeria",
            "Ethiopia",
            "Egypt",
            "Congo, Dem. Rep.",
            "South Africa",
            "Tanzania",
            "Kenya",
            "Algeria",
            "Sudan",
            "Uganda",
            "Morocco",
            "Angola",
            "Ghana",
            "Mozambique",
            "Madagascar",
            "Cameroon",
            "Cote d'Ivoire",
            "Niger",
            "Burkina Faso",
            "Mali",
            "Malawi",
            "Zambia",
            "Senegal",
            "Chad",
            "Zimbabwe",
            "Somalia",
            "Guinea",
            "Rwanda",
            "Tunisia",
            "South Sudan",
            "Benin",
            "Burundi",
            "Togo",
            "Sierra Leone",
            "Libya",
            "Congo, Rep.",
            "Central African Republic",
            "Liberia",
            "Mauritania",
            "Eritrea",
            "Namibia",
            "Botswana",
            "Gambia",
            "Lesotho",
            "Gabon",
            "Guinea-Bissau",
            "Mauritius",
            "Equatorial Guinea",
            "Eswatini",
            "Djibouti",
            "Comoros",
            "Cape Verde",
            "Sao Tome and Principe",
            "Seychelles"
           ],
           "legendgroup": "Africa",
           "marker": {
            "color": "#33dded",
            "size": {
             "bdata": "AAAAXOCXpUEAAAD0gQqYQQAAANQ+CpZBAAAA0JgtkkEAAAAICGmKQQAAAHCAjIhBAAAAGIbUhkEAAACgnPGCQQAAACDljIJBAAAAODE6gkEAAADAZYeAQQAAAMC1l3pBAAAAMB+PekEAAAAQDcp5QQAAAACGHHdBAAAAgBQ4dkEAAABAciZ2QQAAAPA3E3NBAAAAgIlFcUEAAABAg6FwQQAAACBr8G9BAAAAQJlJbkEAAABAYs5rQQAAAGAf6mpBAAAAQG5ZakEAAACA6lBqQQAAAAAUzmVBAAAAQE2vZUEAAADg9VJlQQAAACBBcGRBAAAAQAssZEEAAABA9GBjQQAAAICG71tBAAAAQNFbW0EAAADA4ntYQQAAAEBHhlJBAAAAwNwjUUEAAABAaQ9RQQAAAADw3k5BAAAAAPGASUEAAACASqlBQQAAAAAGLkBBAAAAAOTTP0EAAAAAA2s/QQAAAAAquD1BAAAAAPeBOkEAAAAAwTczQQAAAAC/1DFBAAAAAKbYMEEAAAAAnOQrQQAAAAC2uSdBAAAAAIgDIEEAAAAAeFgIQQAAAABQMPdA",
             "dtype": "f8"
            },
            "sizemode": "area",
            "sizeref": 399812.15944444446,
            "symbol": "circle"
           },
           "mode": "markers",
           "name": "Africa",
           "orientation": "v",
           "showlegend": true,
           "type": "scatter",
           "x": {
            "bdata": "AAAAAAA2tkAAAAAAALiXQAAAAACAAcRAAAAAAABgiUAAAAAAACLIQAAAAAAAaqRAAAAAAADcpUAAAAAAAOfKQAAAAAAAprBAAAAAAABYm0AAAAAAAJ28QAAAAAAA9blAAAAAAACWrUAAAAAAABiSQAAAAAAAhJVAAAAAAAAwqUAAAAAAADKpQAAAAAAAOIxAAAAAAADwmEAAAAAAAAieQAAAAAAA3JFAAAAAAAC8rEAAAAAAAHSnQAAAAAAACKBAAAAAAACao0AAAAAAAHiDQAAAAAAAEJ1AAAAAAAC4m0AAAAAAgDbFQAAAAAAA2J1AAAAAAAAMn0AAAAAAAGCGQAAAAAAA7JZAAAAAAAC4lEAAAAAAgCvMQAAAAAAARrZAAAAAAAD4hUAAAAAAACiTQAAAAAAAFq1AAAAAAABwk0AAAAAAAGnEQAAAAAAAls5AAAAAAAAkl0AAAAAAAGamQAAAAABAS9BAAAAAAAAIl0AAAAAAwG/SQAAAAABAD9tAAAAAAIAawkAAAAAAAOCoQAAAAAAAfKNAAAAAAAB3t0AAAAAAAJSmQAAAAABARthA",
            "dtype": "f8"
           },
           "xaxis": "x",
           "y": {
            "bdata": "rkfhehSuT0CuR+F6FM5QQD0K16NwjVFAw/UoXI+iTkCPwvUoXK9PQGZmZmZmZlBAmpmZmZkpUEBI4XoUrkdTQNejcD0KZ1FAw/UoXI8iUEDNzMzMzFxSQIXrUbgepU9AmpmZmZkZUEB7FK5H4RpMQJqZmZmZeU9AuB6F61GYTkB7FK5H4XpOQOxRuB6Fq05AmpmZmZlZTkBxPQrXo5BOQJqZmZmZ2U5AZmZmZmYGT0AAAAAAAOBQQD0K16NwnU1AUrgehevRTUDhehSuRyFNQJqZmZmZmU1ACtejcD3qUEBcj8L1KHxTQPYoXI/CtU1AhetRuB7FT0AAAAAAAGBOQEjhehSuZ09AAAAAAABATUCF61G4HkVSQD0K16NwHU9A16NwPQp3SUCF61G4HgVPQArXo3A9elFArkfhehTOTkAzMzMzM2NQQEjhehSut1BAFK5H4XpEUECF61G4HkVJQM3MzMzMvFBA9ihcj8JVTUCPwvUoXJ9SQJqZmZmZKVBApHA9CtfjS0DD9Shcj5JQQMP1KFyPAlFApHA9CtfTUkDD9Shcj5JRQI/C9ShcX1JA",
            "dtype": "f8"
           },
           "yaxis": "y"
          },
          {
           "customdata": [
            [
             "Russia",
             "Europe",
             2015,
             144985059,
             1.605,
             8.53
            ],
            [
             "Germany",
             "Europe",
             2015,
             81787411,
             1.439,
             3.86
            ],
            [
             "Turkey",
             "Europe",
             2015,
             78529413,
             2.004,
             12.64
            ],
            [
             "United Kingdom",
             "Europe",
             2015,
             65860149,
             1.887,
             4.45
            ],
            [
             "France",
             "Europe",
             2015,
             64453194,
             1.979,
             4.1
            ],
            [
             "Italy",
             "Europe",
             2015,
             60578489,
             1.517,
             3.43
            ],
            [
             "Spain",
             "Europe",
             2015,
             46671919,
             1.534,
             3.28
            ],
            [
             "Ukraine",
             "Europe",
             2015,
             44921636,
             1.491,
             9.5
            ],
            [
             "Poland",
             "Europe",
             2015,
             38034076,
             1.444,
             4.86
            ],
            [
             "Romania",
             "Europe",
             2015,
             19925182,
             1.445,
             9.21
            ],
            [
             "Netherlands",
             "Europe",
             2015,
             16938492,
             1.783,
             4.03
            ],
            [
             "Belgium",
             "Europe",
             2015,
             11287931,
             1.861,
             3.99
            ],
            [
             "Greece",
             "Europe",
             2015,
             10659737,
             1.547,
             4.58
            ],
            [
             "Czech Republic",
             "Europe",
             2015,
             10601390,
             1.602,
             3.15
            ],
            [
             "Portugal",
             "Europe",
             2015,
             10368346,
             1.314,
             3.66
            ],
            [
             "Hungary",
             "Europe",
             2015,
             9777925,
             1.44,
             5.14
            ],
            [
             "Sweden",
             "Europe",
             2015,
             9764949,
             1.931,
             2.87
            ],
            [
             "Azerbaijan",
             "Europe",
             2015,
             9622741,
             1.893,
             26.32
            ],
            [
             "Belarus",
             "Europe",
             2015,
             9439424,
             1.514,
             4.03
            ],
            [
             "Serbia",
             "Europe",
             2015,
             8876777,
             1.365,
             6.28
            ],
            [
             "Austria",
             "Europe",
             2015,
             8678667,
             1.496,
             3.71
            ],
            [
             "Switzerland",
             "Europe",
             2015,
             8296775,
             1.553,
             4.32
            ],
            [
             "Bulgaria",
             "Europe",
             2015,
             7199739,
             1.574,
             8.18
            ],
            [
             "Denmark",
             "Europe",
             2015,
             5688695,
             1.885,
             4.22
            ],
            [
             "Finland",
             "Europe",
             2015,
             5481128,
             1.855,
             2.2
            ],
            [
             "Slovak Republic",
             "Europe",
             2015,
             5435614,
             1.425,
             6.06
            ],
            [
             "Norway",
             "Europe",
             2015,
             5199827,
             1.929,
             2.72
            ],
            [
             "Ireland",
             "Europe",
             2015,
             4652420,
             1.993,
             3.83
            ],
            [
             "Croatia",
             "Europe",
             2015,
             4232874,
             1.522,
             4.88
            ],
            [
             "Moldova",
             "Europe",
             2015,
             4070705,
             1.451,
             16.29
            ],
            [
             "Georgia",
             "Europe",
             2015,
             4024180,
             1.814,
             10.52
            ],
            [
             "Bosnia and Herzegovina",
             "Europe",
             2015,
             3429362,
             1.315,
             6.14
            ],
            [
             "Lithuania",
             "Europe",
             2015,
             2931872,
             1.548,
             4.9
            ],
            [
             "Armenia",
             "Europe",
             2015,
             2925559,
             1.741,
             14.37
            ],
            [
             "Albania",
             "Europe",
             2015,
             2890524,
             1.781,
             9.6
            ],
            [
             "North Macedonia",
             "Europe",
             2015,
             2079335,
             1.425,
             12.32
            ],
            [
             "Slovenia",
             "Europe",
             2015,
             2071199,
             1.528,
             2.48
            ],
            [
             "Latvia",
             "Europe",
             2015,
             1997675,
             1.637,
             4.97
            ],
            [
             "Estonia",
             "Europe",
             2015,
             1315330,
             1.615,
             3.18
            ],
            [
             "Cyprus",
             "Europe",
             2015,
             1160987,
             1.458,
             2.74
            ],
            [
             "Montenegro",
             "Europe",
             2015,
             626957,
             1.651,
             3.46
            ],
            [
             "Luxembourg",
             "Europe",
             2015,
             566741,
             1.69,
             2.64
            ],
            [
             "Malta",
             "Europe",
             2015,
             433559,
             1.354,
             6.99
            ],
            [
             "Iceland",
             "Europe",
             2015,
             330237,
             2.059,
             2.18
            ]
           ],
           "hovertemplate": "<b>%{hovertext}</b><br><br><extra></extra>",
           "hovertext": [
            "Russia",
            "Germany",
            "Turkey",
            "United Kingdom",
            "France",
            "Italy",
            "Spain",
            "Ukraine",
            "Poland",
            "Romania",
            "Netherlands",
            "Belgium",
            "Greece",
            "Czech Republic",
            "Portugal",
            "Hungary",
            "Sweden",
            "Azerbaijan",
            "Belarus",
            "Serbia",
            "Austria",
            "Switzerland",
            "Bulgaria",
            "Denmark",
            "Finland",
            "Slovak Republic",
            "Norway",
            "Ireland",
            "Croatia",
            "Moldova",
            "Georgia",
            "Bosnia and Herzegovina",
            "Lithuania",
            "Armenia",
            "Albania",
            "North Macedonia",
            "Slovenia",
            "Latvia",
            "Estonia",
            "Cyprus",
            "Montenegro",
            "Luxembourg",
            "Malta",
            "Iceland"
           ],
           "ids": [
            "Russia",
            "Germany",
            "Turkey",
            "United Kingdom",
            "France",
            "Italy",
            "Spain",
            "Ukraine",
            "Poland",
            "Romania",
            "Netherlands",
            "Belgium",
            "Greece",
            "Czech Republic",
            "Portugal",
            "Hungary",
            "Sweden",
            "Azerbaijan",
            "Belarus",
            "Serbia",
            "Austria",
            "Switzerland",
            "Bulgaria",
            "Denmark",
            "Finland",
            "Slovak Republic",
            "Norway",
            "Ireland",
            "Croatia",
            "Moldova",
            "Georgia",
            "Bosnia and Herzegovina",
            "Lithuania",
            "Armenia",
            "Albania",
            "North Macedonia",
            "Slovenia",
            "Latvia",
            "Estonia",
            "Cyprus",
            "Montenegro",
            "Luxembourg",
            "Malta",
            "Iceland"
           ],
           "legendgroup": "Europe",
           "marker": {
            "color": "#ffeb33",
            "size": {
             "bdata": "AAAAxpdIoUEAAABM6H+TQQAAABQOuZJBAAAAqJFnj0EAAABQ0ruOQQAAAMjV4oxBAAAAeEFBhkEAAAAgmWuFQQAAAODUIoJBAAAA4IsAc0EAAADAXydwQQAAAGCvh2VBAAAAIPNUZEEAAADAdThkQQAAAECrxmNBAAAAoGCmYkEAAACgCqBiQQAAAKCaWmJBAAAAABgBYkEAAAAgXe5gQQAAAGChjWBBAAAAwFGmX0EAAADA/nZbQQAAAMBds1VBAAAAAKroVEEAAACAN7xUQQAAAMD01VNBAAAAAGG/UUEAAACAqiVQQQAAAICYDk9BAAAAALqzTkEAAAAA+SlKQQAAAABQXkZBAAAAgPtRRkEAAAAAjg1GQQAAAABnuj9BAAAAAJ+aP0EAAAAAa3s+QQAAAAACEjRBAAAAABu3MUEAAAAAGiIjQQAAAACqSyFBAAAAAFx2GkEAAAAA9CcUQQ==",
             "dtype": "f8"
            },
            "sizemode": "area",
            "sizeref": 399812.15944444446,
            "symbol": "circle"
           },
           "mode": "markers",
           "name": "Europe",
           "orientation": "v",
           "showlegend": true,
           "type": "scatter",
           "x": {
            "bdata": "AAAAAEDx10AAAAAAYIHlQAAAAAAAxNZAAAAAAEAM40AAAAAAgHniQAAAAACgvuBAAAAAAECZ30AAAAAAACm9QAAAAADAtthAAAAAAIAu1EAAAAAAAOvmQAAAAACga+RAAAAAAMCR10AAAAAAQOPdQAAAAAAA/NlAAAAAAEB92EAAAAAAQFDmQAAAAABAb9BAAAAAAMDQ0EAAAAAAAAXMQAAAAADAm+VAAAAAAKD960AAAAAAwJnQQAAAAACAW+ZAAAAAAIAV40AAAAAAQLvbQAAAAACAQ+9AAAAAAMCJ7UAAAAAAgIjUQAAAAAAAQLZAAAAAAICWwUAAAAAAAAXGQAAAAACAaNpAAAAAAADsv0AAAAAAgG3FQAAAAACA7MhAAAAAAMBc3EAAAAAAwHrWQAAAAACA9tpAAAAAAED03UAAAAAAAN3NQAAAAADw4fZAAAAAAKDW4EAAAAAA4JflQA==",
            "dtype": "f8"
           },
           "xaxis": "x",
           "y": {
            "bdata": "MzMzMzPTUUCamZmZmSlUQGZmZmZmllNArkfhehQ+VEDhehSuR6FUQPYoXI/CpVRAKVyPwvWoVEAK16NwPUpRQFK4HoXrYVNA9ihcj8LFUkAzMzMzM2NUQFyPwvUoPFRAFK5H4Xo0VEBmZmZmZrZTQDMzMzMzY1RA4XoUrkfhUkAfhetRuI5UQI/C9Shcn1FA4XoUrkdxUkBmZmZmZsZSQB+F61G4XlRArkfhehTeVEDD9Shcj7JSQEjhehSuN1RApHA9CtdjVECamZmZmSlTQOF6FK5HkVRAFK5H4XpkVECF61G4HmVTQBSuR+F69FFAAAAAAABAUkBcj8L1KBxTQArXo3A9qlJAFK5H4XrUUkDhehSuR4FTQMP1KFyPIlNAw/UoXI8yVEAK16NwPbpSQK5H4XoUblNAPQrXo3BdVEC4HoXrURhTQFyPwvUoXFRAH4XrUbhOVEDsUbgehatUQA==",
            "dtype": "f8"
           },
           "yaxis": "y"
          }
         ],
         "name": "2015"
        },
        {
         "data": [
          {
           "mode": "text",
           "showlegend": false,
           "text": [
            "2016"
           ],
           "textfont": {
            "color": "lightgray",
            "size": 200
           },
           "textposition": "middle center",
           "type": "scatter",
           "x": [
            8000
           ],
           "y": [
            45
           ]
          },
          {
           "customdata": [
            [
             "China",
             "Asia",
             2016,
             1414049353,
             1.685,
             9.95
            ],
            [
             "India",
             "Asia",
             2016,
             1324517250,
             2.402,
             41.07
            ],
            [
             "Indonesia",
             "Asia",
             2016,
             261556386,
             2.254,
             26.91
            ],
            [
             "Pakistan",
             "Asia",
             2016,
             203631356,
             2.978,
             73.8
            ],
            [
             "Bangladesh",
             "Asia",
             2016,
             157977151,
             2.088,
             33.94
            ],
            [
             "Japan",
             "Asia",
             2016,
             127763267,
             1.46,
             2.65
            ],
            [
             "Philippines",
             "Asia",
             2016,
             103663812,
             2.943,
             29.66
            ],
            [
             "Vietnam",
             "Asia",
             2016,
             93640435,
             1.687,
             21.52
            ],
            [
             "Iran",
             "Asia",
             2016,
             79563991,
             1.905,
             15.46
            ],
            [
             "Thailand",
             "Asia",
             2016,
             68971313,
             1.371,
             9.98
            ],
            [
             "Myanmar",
             "Asia",
             2016,
             53045199,
             1.881,
             49.7
            ],
            [
             "South Korea",
             "Asia",
             2016,
             50983446,
             1.37,
             3.4
            ],
            [
             "Iraq",
             "Asia",
             2016,
             36610632,
             3.854,
             28.51
            ],
            [
             "Afghanistan",
             "Asia",
             2016,
             35383028,
             4.282,
             67.45
            ],
            [
             "Saudi Arabia",
             "Asia",
             2016,
             32443443,
             2.493,
             7.95
            ],
            [
             "Uzbekistan",
             "Asia",
             2016,
             31441753,
             2.22,
             24.18
            ],
            [
             "Malaysia",
             "Asia",
             2016,
             30684652,
             1.927,
             7.96
            ],
            [
             "Nepal",
             "Asia",
             2016,
             27263430,
             2.137,
             34.83
            ],
            [
             "Yemen",
             "Asia",
             2016,
             27168210,
             3.721,
             54.96
            ],
            [
             "North Korea",
             "Asia",
             2016,
             25307665,
             1.958,
             20
            ],
            [
             "Australia",
             "Asia",
             2016,
             24262710,
             1.874,
             3.79
            ],
            [
             "Sri Lanka",
             "Asia",
             2016,
             21021177,
             2.289,
             8.23
            ],
            [
             "Kazakhstan",
             "Asia",
             2016,
             17830902,
             2.384,
             11.04
            ],
            [
             "Syria",
             "Asia",
             2016,
             17465567,
             2.827,
             17.61
            ],
            [
             "Cambodia",
             "Asia",
             2016,
             15766290,
             2.762,
             30.48
            ],
            [
             "Jordan",
             "Asia",
             2016,
             9554286,
             3.059,
             17.17
            ],
            [
             "United Arab Emirates",
             "Asia",
             2016,
             9360975,
             1.75,
             7.76
            ],
            [
             "Tajikistan",
             "Asia",
             2016,
             8663575,
             3.702,
             36.87
            ],
            [
             "Papua New Guinea",
             "Asia",
             2016,
             8271766,
             3.622,
             50.48
            ],
            [
             "Israel",
             "Asia",
             2016,
             8108984,
             2.838,
             3.85
            ],
            [
             "Hong Kong, China",
             "Asia",
             2016,
             7243541,
             1.189,
             2.22
            ],
            [
             "Lao",
             "Asia",
             2016,
             6845848,
             2.804,
             51.3
            ],
            [
             "Lebanon",
             "Asia",
             2016,
             6714281,
             1.484,
             8
            ],
            [
             "Kyrgyz Republic",
             "Asia",
             2016,
             6074327,
             3,
             21.14
            ],
            [
             "Turkmenistan",
             "Asia",
             2016,
             5662371,
             2.248,
             48.97
            ],
            [
             "Singapore",
             "Asia",
             2016,
             5653625,
             1.3,
             2.75
            ],
            [
             "New Zealand",
             "Asia",
             2016,
             4659265,
             2.003,
             5.9
            ],
            [
             "Palestine",
             "Asia",
             2016,
             4635644,
             3.818,
             21.27
            ],
            [
             "Oman",
             "Asia",
             2016,
             4479217,
             2.672,
             11.29
            ],
            [
             "Kuwait",
             "Asia",
             2016,
             3956862,
             2.535,
             8.3
            ],
            [
             "Mongolia",
             "Asia",
             2016,
             3056358,
             2.378,
             17.72
            ],
            [
             "Qatar",
             "Asia",
             2016,
             2654379,
             1.959,
             7.5
            ],
            [
             "Bahrain",
             "Asia",
             2016,
             1425793,
             2.01,
             7.43
            ],
            [
             "Timor-Leste",
             "Asia",
             2016,
             1219289,
             5.481,
             49.16
            ],
            [
             "Fiji",
             "Asia",
             2016,
             872406,
             2.511,
             24.97
            ],
            [
             "Bhutan",
             "Asia",
             2016,
             736706,
             2.115,
             31.95
            ],
            [
             "Solomon Islands",
             "Asia",
             2016,
             619438,
             3.847,
             21.33
            ],
            [
             "Maldives",
             "Asia",
             2016,
             475505,
             2.138,
             9.46
            ],
            [
             "Brunei",
             "Asia",
             2016,
             419791,
             1.94,
             11.08
            ],
            [
             "Vanuatu",
             "Asia",
             2016,
             278326,
             3.271,
             27.91
            ],
            [
             "Samoa",
             "Asia",
             2016,
             194540,
             3.973,
             16.71
            ],
            [
             "Kiribati",
             "Asia",
             2016,
             112529,
             2.861,
             55.82
            ],
            [
             "Micronesia, Fed. Sts.",
             "Asia",
             2016,
             110215,
             3.146,
             32.96
            ],
            [
             "Tonga",
             "Asia",
             2016,
             101143,
             3.631,
             16.41
            ]
           ],
           "hovertemplate": "<b>%{hovertext}</b><br><br><extra></extra>",
           "hovertext": [
            "China",
            "India",
            "Indonesia",
            "Pakistan",
            "Bangladesh",
            "Japan",
            "Philippines",
            "Vietnam",
            "Iran",
            "Thailand",
            "Myanmar",
            "South Korea",
            "Iraq",
            "Afghanistan",
            "Saudi Arabia",
            "Uzbekistan",
            "Malaysia",
            "Nepal",
            "Yemen",
            "North Korea",
            "Australia",
            "Sri Lanka",
            "Kazakhstan",
            "Syria",
            "Cambodia",
            "Jordan",
            "United Arab Emirates",
            "Tajikistan",
            "Papua New Guinea",
            "Israel",
            "Hong Kong, China",
            "Lao",
            "Lebanon",
            "Kyrgyz Republic",
            "Turkmenistan",
            "Singapore",
            "New Zealand",
            "Palestine",
            "Oman",
            "Kuwait",
            "Mongolia",
            "Qatar",
            "Bahrain",
            "Timor-Leste",
            "Fiji",
            "Bhutan",
            "Solomon Islands",
            "Maldives",
            "Brunei",
            "Vanuatu",
            "Samoa",
            "Kiribati",
            "Micronesia, Fed. Sts.",
            "Tonga"
           ],
           "ids": [
            "China",
            "India",
            "Indonesia",
            "Pakistan",
            "Bangladesh",
            "Japan",
            "Philippines",
            "Vietnam",
            "Iran",
            "Thailand",
            "Myanmar",
            "South Korea",
            "Iraq",
            "Afghanistan",
            "Saudi Arabia",
            "Uzbekistan",
            "Malaysia",
            "Nepal",
            "Yemen",
            "North Korea",
            "Australia",
            "Sri Lanka",
            "Kazakhstan",
            "Syria",
            "Cambodia",
            "Jordan",
            "United Arab Emirates",
            "Tajikistan",
            "Papua New Guinea",
            "Israel",
            "Hong Kong, China",
            "Lao",
            "Lebanon",
            "Kyrgyz Republic",
            "Turkmenistan",
            "Singapore",
            "New Zealand",
            "Palestine",
            "Oman",
            "Kuwait",
            "Mongolia",
            "Qatar",
            "Bahrain",
            "Timor-Leste",
            "Fiji",
            "Bhutan",
            "Solomon Islands",
            "Maldives",
            "Brunei",
            "Vanuatu",
            "Samoa",
            "Kiribati",
            "Micronesia, Fed. Sts.",
            "Tonga"
           ],
           "legendgroup": "Asia",
           "marker": {
            "color": "#ff798e",
            "size": {
             "bdata": "AABAkisS1UEAAIDgobzTQQAAAEQRLq9BAAAA+FVGqEEAAAB+FNWiQQAAAAwNdp5BAAAAECO3mEEAAADMW1OWQQAAAFwz+JJBAAAAxKxxkEEAAAB4PkuJQQAAALCQT4hBAAAAQBJ1gUEAAACgN9+AQQAAADDD8H5BAAAAkDX8fUEAAADAXkN9QQAAAGAcAHpBAAAAIN3oeUEAAAAQoSJ4QQAAAGCDI3dBAAAAkB8MdEEAAABgPwFxQQAAAPANqHBBAAAAQGISbkEAAADALTliQQAAAODJ2mFBAAAA4EKGYEEAAACA5Y1fQQAAAADu7l5BAAAAQMWhW0EAAAAAZh1aQQAAAEDqnFlBAAAAwPUrV0EAAADAqJlVQQAAAEAekVVBAAAAQBDGUUEAAAAA/65RQQAAAEA8FlFBAAAAAD8wTkEAAAAAc1FHQQAAAIBVQERBAAAAAIHBNUEAAAAA2ZoyQQAAAACsnypBAAAAAIR7JkEAAAAAXOciQQAAAADEBR1BAAAAADyfGUEAAAAA2PwQQQAAAABgvwdBAAAAABB5+0AAAAAAcOj6QAAAAABwsfhA",
             "dtype": "f8"
            },
            "sizemode": "area",
            "sizeref": 399812.15944444446,
            "symbol": "circle"
           },
           "mode": "markers",
           "name": "Asia",
           "orientation": "v",
           "showlegend": true,
           "type": "scatter",
           "x": {
            "bdata": "AAAAAIAQzEAAAAAAAAG4QAAAAAAA/sRAAAAAAAABskAAAAAAAMCqQAAAAACAm+JAAAAAAAAqvEAAAAAAAAi3QAAAAAAAOtJAAAAAAACvzkAAAAAAAKm0QAAAAACAGeFAAAAAAEAg0EAAAAAAAHSbQAAAAACAfuhAAAAAAAD4tkAAAAAAgH7ZQAAAAAAAHqNAAAAAAAB2pEAAAAAAANyaQAAAAADAx+VAAAAAAIBbxkAAAAAAwOXWQAAAAAAAJqhAAAAAAAAWq0AAAAAAAEDAQAAAAABQXvBAAAAAAADCpUAAAAAAAHSuQAAAAADA+d9AAAAAAICS6kAAAAAAAGy3QAAAAACA9sZAAAAAAADSqUAAAAAAgJDOQAAAAAAArvRAAAAAAOBu4UAAAAAAAPmxQAAAAAAgKuNAAAAAAJAd8UAAAAAAgPbFQAAAAACA8ftAAAAAAIBa5UAAAAAAAI69QAAAAACAhMFAAAAAAAB4wUAAAAAAAHqgQAAAAACAbclAAAAAACCr8UAAAAAAAK6lQAAAAAAAL7dAAAAAAAAAoEAAAAAAAGKoQAAAAAAAC7ZA",
            "dtype": "f8"
           },
           "xaxis": "x",
           "y": {
            "bdata": "XI/C9SgsU0DXo3A9CidRQB+F61G4zlFACtejcD2aUEApXI/C9ThSQArXo3A9ClVAPQrXo3BdUUApXI/C9ZhSQAAAAAAAQFNAUrgeheuBU0BmZmZmZhZRQOF6FK5HoVRAj8L1KFwvU0Bcj8L1KJxOQPYoXI/CJVNAuB6F61GIUUCuR+F6FK5SQClcj8L1qFFAFK5H4XoEUUAAAAAAAPBRQAAAAAAAoFRAXI/C9ShMU0BSuB6F6/FRQEjhehSu11BAhetRuB5lUUDNzMzMzMxTQB+F61G4TlJA7FG4HoWLUUA9CtejcB1NQNejcD0Kt1RAzczMzMzcVEBI4XoUrsdQQK5H4XoUflNAw/UoXI8iUkCuR+F6FH5RQFyPwvUoLFVAmpmZmZlpVEDXo3A9CidTQFyPwvUoPFNAFK5H4XrEVEDhehSuRzFRQGZmZmZmBlRAexSuR+HaU0AfhetRuK5RQIXrUbge9VBAcT0K16NwUkAK16NwPYpPQPYoXI/CVVRAH4XrUbjOUkBI4XoUridQQMP1KFyPMlJAFK5H4XoUT0B7FK5H4cpQQClcj8L16FFA",
            "dtype": "f8"
           },
           "yaxis": "y"
          },
          {
           "customdata": [
            [
             "United States",
             "Americas",
             2016,
             323015992,
             1.969,
             6.73
            ],
            [
             "Brazil",
             "Americas",
             2016,
             206163056,
             1.767,
             16.35
            ],
            [
             "Mexico",
             "Americas",
             2016,
             123333379,
             2.098,
             14.13
            ],
            [
             "Colombia",
             "Americas",
             2016,
             48175048,
             2.203,
             15.18
            ],
            [
             "Argentina",
             "Americas",
             2016,
             43508459,
             2.137,
             10.94
            ],
            [
             "Canada",
             "Americas",
             2016,
             36382942,
             1.691,
             5.19
            ],
            [
             "Peru",
             "Americas",
             2016,
             30926036,
             2.331,
             15.46
            ],
            [
             "Venezuela",
             "Americas",
             2016,
             29851249,
             2.313,
             24.51
            ],
            [
             "Chile",
             "Americas",
             2016,
             18209072,
             1.794,
             7.66
            ],
            [
             "Guatemala",
             "Americas",
             2016,
             16583079,
             3.605,
             28
            ],
            [
             "Ecuador",
             "Americas",
             2016,
             16491116,
             2.47,
             14.76
            ],
            [
             "Cuba",
             "Americas",
             2016,
             11335108,
             1.448,
             5.24
            ],
            [
             "Bolivia",
             "Americas",
             2016,
             11031822,
             3.097,
             29.27
            ],
            [
             "Haiti",
             "Americas",
             2016,
             10839976,
             2.972,
             68.71
            ],
            [
             "Dominican Republic",
             "Americas",
             2016,
             10397738,
             2.391,
             30.57
            ],
            [
             "Honduras",
             "Americas",
             2016,
             9270794,
             2.863,
             18.82
            ],
            [
             "Paraguay",
             "Americas",
             2016,
             6777878,
             2.767,
             21.59
            ],
            [
             "El Salvador",
             "Americas",
             2016,
             6356137,
             2.111,
             14.71
            ],
            [
             "Nicaragua",
             "Americas",
             2016,
             6303970,
             2.383,
             18.7
            ],
            [
             "Costa Rica",
             "Americas",
             2016,
             4899336,
             1.75,
             8.93
            ],
            [
             "Panama",
             "Americas",
             2016,
             4037073,
             2.392,
             16.34
            ],
            [
             "Uruguay",
             "Americas",
             2016,
             3424139,
             2.017,
             8.43
            ],
            [
             "Jamaica",
             "Americas",
             2016,
             2906242,
             2.192,
             15.38
            ],
            [
             "Trinidad and Tobago",
             "Americas",
             2016,
             1377563,
             1.792,
             19.52
            ],
            [
             "Guyana",
             "Americas",
             2016,
             771363,
             2.436,
             32.12
            ],
            [
             "Suriname",
             "Americas",
             2016,
             564883,
             2.196,
             20.19
            ],
            [
             "Bahamas",
             "Americas",
             2016,
             377923,
             1.874,
             10.86
            ],
            [
             "Belize",
             "Americas",
             2016,
             368399,
             2.567,
             14.53
            ],
            [
             "Barbados",
             "Americas",
             2016,
             285798,
             1.858,
             12.93
            ],
            [
             "St. Lucia",
             "Americas",
             2016,
             180028,
             1.848,
             17.41
            ],
            [
             "Grenada",
             "Americas",
             2016,
             110263,
             2.103,
             15.21
            ],
            [
             "St. Vincent and the Grenadines",
             "Americas",
             2016,
             109467,
             1.93,
             17.42
            ],
            [
             "Antigua and Barbuda",
             "Americas",
             2016,
             94520,
             2.051,
             6.97
            ]
           ],
           "hovertemplate": "<b>%{hovertext}</b><br><br><extra></extra>",
           "hovertext": [
            "United States",
            "Brazil",
            "Mexico",
            "Colombia",
            "Argentina",
            "Canada",
            "Peru",
            "Venezuela",
            "Chile",
            "Guatemala",
            "Ecuador",
            "Cuba",
            "Bolivia",
            "Haiti",
            "Dominican Republic",
            "Honduras",
            "Paraguay",
            "El Salvador",
            "Nicaragua",
            "Costa Rica",
            "Panama",
            "Uruguay",
            "Jamaica",
            "Trinidad and Tobago",
            "Guyana",
            "Suriname",
            "Bahamas",
            "Belize",
            "Barbados",
            "St. Lucia",
            "Grenada",
            "St. Vincent and the Grenadines",
            "Antigua and Barbuda"
           ],
           "ids": [
            "United States",
            "Brazil",
            "Mexico",
            "Colombia",
            "Argentina",
            "Canada",
            "Peru",
            "Venezuela",
            "Chile",
            "Guatemala",
            "Ecuador",
            "Cuba",
            "Bolivia",
            "Haiti",
            "Dominican Republic",
            "Honduras",
            "Paraguay",
            "El Salvador",
            "Nicaragua",
            "Costa Rica",
            "Panama",
            "Uruguay",
            "Jamaica",
            "Trinidad and Tobago",
            "Guyana",
            "Suriname",
            "Bahamas",
            "Belize",
            "Barbados",
            "St. Lucia",
            "Grenada",
            "St. Vincent and the Grenadines",
            "Antigua and Barbuda"
           ],
           "legendgroup": "Americas",
           "marker": {
            "color": "#98ef33",
            "size": {
             "bdata": "AAAAONVAs0EAAADgmJOoQQAAAAysZ51BAAAAQL74hkEAAABYF7+EQQAAAPBGWYFBAAAAQE1+fUEAAAAQ53d8QQAAAACTXXFBAAAA4DShb0EAAACATXRvQQAAAIC4nmVBAAAAwKEKZUEAAAAA9axkQQAAAEAF1WNBAAAAQMGuYUEAAACABdtZQQAAAEAqP1hBAAAAgDgMWEEAAAAAgrBSQQAAAIDozE5BAAAAgMUfSkEAAAAAQSxGQQAAAAAbBTVBAAAAAEaKJ0EAAAAAJj0hQQAAAAAMERdBAAAAADx8FkEAAAAAmHERQQAAAADg+QVBAAAAAHDr+kAAAAAAsLn6QAAAAACAE/dA",
             "dtype": "f8"
            },
            "sizemode": "area",
            "sizeref": 399812.15944444446,
            "symbol": "circle"
           },
           "mode": "markers",
           "name": "Americas",
           "orientation": "v",
           "showlegend": true,
           "type": "scatter",
           "x": {
            "bdata": "AAAAAAAw6kAAAAAAALzLQAAAAADAX9FAAAAAAIDLyUAAAAAAQDXSQAAAAAAgCuVAAAAAAIA/yEAAAAAAgLnNQAAAAADAztVAAAAAAADIvEAAAAAAAE3EQAAAAAAA0b5AAAAAAADcuUAAAAAAANyZQAAAAACAPsxAAAAAAADysEAAAAAAgDrGQAAAAAAAz7tAAAAAAACKs0AAAAAAgHLNQAAAAAAA+9RAAAAAAIC800AAAAAAALO/QAAAAACAktxAAAAAAAB1vEAAAAAAgHPKQAAAAABA6ttAAAAAAABZvkAAAAAAgE7QQAAAAAAAW8dAAAAAAIALyUAAAAAAgMzEQAAAAACA3tVA",
            "dtype": "f8"
           },
           "xaxis": "x",
           "y": {
            "bdata": "uB6F61GoU0Bcj8L1KNxSQEjhehSu91JAcT0K16MAVEDD9ShcjyJTQEjhehSud1RAexSuR+EKVEAUrkfhetRSQI/C9Shc71NAZmZmZmYmUkAfhetRuB5TQMP1KFyPklNAAAAAAAAgUkCF61G4HhVQQHE9CtejMFJApHA9CtdzUkDsUbgehftSQHE9CtejcFJAj8L1KFyfU0CPwvUoXN9TQEjhehSux1NAAAAAAABAU0A9CtejcJ1SQHE9CtejkFJACtejcD06UUAK16NwPfpRQClcj8L1aFJAFK5H4XqEUkDXo3A9CkdTQDMzMzMz41JAj8L1KFx/UkBcj8L1KAxSQK5H4XoUPlNA",
            "dtype": "f8"
           },
           "yaxis": "y"
          },
          {
           "customdata": [
            [
             "Nigeria",
             "Africa",
             2016,
             185960244,
             5.836,
             123.89
            ],
            [
             "Ethiopia",
             "Africa",
             2016,
             103603461,
             4.167,
             60.43
            ],
            [
             "Egypt",
             "Africa",
             2016,
             94447071,
             2.668,
             22.77
            ],
            [
             "Congo, Dem. Rep.",
             "Africa",
             2016,
             78789130,
             5.62,
             94.05
            ],
            [
             "South Africa",
             "Africa",
             2016,
             56207649,
             2.314,
             36.58
            ],
            [
             "Tanzania",
             "Africa",
             2016,
             53049231,
             5.007,
             56.98
            ],
            [
             "Kenya",
             "Africa",
             2016,
             49051531,
             4.17,
             44.45
            ],
            [
             "Algeria",
             "Africa",
             2016,
             40551398,
             2.65,
             24.51
            ],
            [
             "Sudan",
             "Africa",
             2016,
             39847433,
             4.218,
             64.43
            ],
            [
             "Uganda",
             "Africa",
             2016,
             39649173,
             5.578,
             51.21
            ],
            [
             "Morocco",
             "Africa",
             2016,
             35126274,
             2.67,
             24.41
            ],
            [
             "Angola",
             "Africa",
             2016,
             28842482,
             5.553,
             84.01
            ],
            [
             "Ghana",
             "Africa",
             2016,
             28481947,
             3.678,
             52.28
            ],
            [
             "Mozambique",
             "Africa",
             2016,
             27829930,
             4.968,
             78.08
            ],
            [
             "Madagascar",
             "Africa",
             2016,
             24894370,
             4.293,
             56.61
            ],
            [
             "Cameroon",
             "Africa",
             2016,
             23926549,
             4.556,
             82.3
            ],
            [
             "Cote d'Ivoire",
             "Africa",
             2016,
             23822726,
             4.692,
             86.82
            ],
            [
             "Niger",
             "Africa",
             2016,
             20788789,
             7.477,
             90.34
            ],
            [
             "Burkina Faso",
             "Africa",
             2016,
             18646350,
             5.344,
             82.99
            ],
            [
             "Mali",
             "Africa",
             2016,
             17965448,
             6.776,
             105.1
            ],
            [
             "Malawi",
             "Africa",
             2016,
             17205253,
             5.156,
             55.68
            ],
            [
             "Zambia",
             "Africa",
             2016,
             16363449,
             5.545,
             61.96
            ],
            [
             "Senegal",
             "Africa",
             2016,
             14993514,
             4.741,
             47.73
            ],
            [
             "Chad",
             "Africa",
             2016,
             14561658,
             5.933,
             126.56
            ],
            [
             "Somalia",
             "Africa",
             2016,
             14185635,
             6.252,
             129.44
            ],
            [
             "Zimbabwe",
             "Africa",
             2016,
             14030338,
             3.285,
             50.36
            ],
            [
             "Guinea",
             "Africa",
             2016,
             11738434,
             4.667,
             105.3
            ],
            [
             "Rwanda",
             "Africa",
             2016,
             11668829,
             4.215,
             38.82
            ],
            [
             "Tunisia",
             "Africa",
             2016,
             11303942,
             1.949,
             17.1
            ],
            [
             "Benin",
             "Africa",
             2016,
             10872072,
             4.61,
             97.65
            ],
            [
             "South Sudan",
             "Africa",
             2016,
             10832520,
             4.661,
             98.58
            ],
            [
             "Burundi",
             "Africa",
             2016,
             10488002,
             5.766,
             63.81
            ],
            [
             "Togo",
             "Africa",
             2016,
             7509952,
             4.439,
             74.41
            ],
            [
             "Sierra Leone",
             "Africa",
             2016,
             7328846,
             4.478,
             115.47
            ],
            [
             "Libya",
             "Africa",
             2016,
             6492160,
             2.21,
             12.82
            ],
            [
             "Congo, Rep.",
             "Africa",
             2016,
             4980996,
             4.798,
             53.26
            ],
            [
             "Liberia",
             "Africa",
             2016,
             4586788,
             4.571,
             76.05
            ],
            [
             "Central African Republic",
             "Africa",
             2016,
             4537683,
             4.114,
             123.89
            ],
            [
             "Mauritania",
             "Africa",
             2016,
             4163532,
             4.486,
             80.75
            ],
            [
             "Eritrea",
             "Africa",
             2016,
             3376558,
             4.431,
             44.91
            ],
            [
             "Namibia",
             "Africa",
             2016,
             2358044,
             2.896,
             42.85
            ],
            [
             "Botswana",
             "Africa",
             2016,
             2159925,
             2.497,
             39.41
            ],
            [
             "Gambia",
             "Africa",
             2016,
             2149134,
             5.623,
             62.57
            ],
            [
             "Lesotho",
             "Africa",
             2016,
             2075041,
             2.887,
             87.43
            ],
            [
             "Gabon",
             "Africa",
             2016,
             2007882,
             3.904,
             48.1
            ],
            [
             "Guinea-Bissau",
             "Africa",
             2016,
             1782434,
             4.742,
             87.72
            ],
            [
             "Mauritius",
             "Africa",
             2016,
             1261870,
             1.496,
             14.38
            ],
            [
             "Equatorial Guinea",
             "Africa",
             2016,
             1215181,
             4.549,
             90.95
            ],
            [
             "Eswatini",
             "Africa",
             2016,
             1113994,
             3.141,
             61.72
            ],
            [
             "Djibouti",
             "Africa",
             2016,
             929117,
             3.194,
             63.15
            ],
            [
             "Comoros",
             "Africa",
             2016,
             795597,
             4.522,
             72.3
            ],
            [
             "Cape Verde",
             "Africa",
             2016,
             531140,
             2.185,
             20.81
            ],
            [
             "Sao Tome and Principe",
             "Africa",
             2016,
             203221,
             3.88,
             33.7
            ],
            [
             "Seychelles",
             "Africa",
             2016,
             95711,
             2.112,
             14.76
            ]
           ],
           "hovertemplate": "<b>%{hovertext}</b><br><br><extra></extra>",
           "hovertext": [
            "Nigeria",
            "Ethiopia",
            "Egypt",
            "Congo, Dem. Rep.",
            "South Africa",
            "Tanzania",
            "Kenya",
            "Algeria",
            "Sudan",
            "Uganda",
            "Morocco",
            "Angola",
            "Ghana",
            "Mozambique",
            "Madagascar",
            "Cameroon",
            "Cote d'Ivoire",
            "Niger",
            "Burkina Faso",
            "Mali",
            "Malawi",
            "Zambia",
            "Senegal",
            "Chad",
            "Somalia",
            "Zimbabwe",
            "Guinea",
            "Rwanda",
            "Tunisia",
            "Benin",
            "South Sudan",
            "Burundi",
            "Togo",
            "Sierra Leone",
            "Libya",
            "Congo, Rep.",
            "Liberia",
            "Central African Republic",
            "Mauritania",
            "Eritrea",
            "Namibia",
            "Botswana",
            "Gambia",
            "Lesotho",
            "Gabon",
            "Guinea-Bissau",
            "Mauritius",
            "Equatorial Guinea",
            "Eswatini",
            "Djibouti",
            "Comoros",
            "Cape Verde",
            "Sao Tome and Principe",
            "Seychelles"
           ],
           "ids": [
            "Nigeria",
            "Ethiopia",
            "Egypt",
            "Congo, Dem. Rep.",
            "South Africa",
            "Tanzania",
            "Kenya",
            "Algeria",
            "Sudan",
            "Uganda",
            "Morocco",
            "Angola",
            "Ghana",
            "Mozambique",
            "Madagascar",
            "Cameroon",
            "Cote d'Ivoire",
            "Niger",
            "Burkina Faso",
            "Mali",
            "Malawi",
            "Zambia",
            "Senegal",
            "Chad",
            "Somalia",
            "Zimbabwe",
            "Guinea",
            "Rwanda",
            "Tunisia",
            "Benin",
            "South Sudan",
            "Burundi",
            "Togo",
            "Sierra Leone",
            "Libya",
            "Congo, Rep.",
            "Liberia",
            "Central African Republic",
            "Mauritania",
            "Eritrea",
            "Namibia",
            "Botswana",
            "Gambia",
            "Lesotho",
            "Gabon",
            "Guinea-Bissau",
            "Mauritius",
            "Equatorial Guinea",
            "Eswatini",
            "Djibouti",
            "Comoros",
            "Cape Verde",
            "Sao Tome and Principe",
            "Seychelles"
           ],
           "legendgroup": "Africa",
           "marker": {
            "color": "#33dded",
            "size": {
             "bdata": "AAAAaA4rpkEAAAAUdLOYQQAAAHyXhJZBAAAAKOjIkkEAAAAISc2KQQAAAHi8S4lBAAAAWLxjh0EAAAAwH1aDQQAAAEgwAINBAAAAqPzngkEAAAAQ4L+AQQAAACCfgXtBAAAAsJkpe0EAAACgaop6QQAAACC6vXdBAAAAUHHRdkEAAABgGLh2QQAAAFBj03NBAAAA4FTIcUEAAACAGCJxQQAAAFCAaHBBAAAAIPc1b0EAAABADZlsQQAAAEAvxmtBAAAAYJQOa0EAAABAwMJqQQAAAECoY2ZBAAAAoKtBZkEAAADAgI9lQQAAAAChvGRBAAAAAFGpZEEAAABAGAFkQQAAAADwpVxBAAAAgBP1W0EAAAAAAMRYQQAAAABBAFNBAAAAAEl/UUEAAADAVE9RQQAAAADmw09BAAAAANfCSUEAAAAAjv1BQQAAAICaekBBAAAAAIdlQEEAAAAAoak/QQAAAABKoz5BAAAAAKIyO0EAAAAALkEzQQAAAADNijJBAAAAAIr/MEEAAAAAulosQQAAAACaRyhBAAAAAIg1IEEAAAAAqM4IQQAAAADwXfdA",
             "dtype": "f8"
            },
            "sizemode": "area",
            "sizeref": 399812.15944444446,
            "symbol": "circle"
           },
           "mode": "markers",
           "name": "Africa",
           "orientation": "v",
           "showlegend": true,
           "type": "scatter",
           "x": {
            "bdata": "AAAAAABJtUAAAAAAAESZQAAAAACAbsRAAAAAAAAoiUAAAAAAAOvHQAAAAAAALKVAAAAAAACWpkAAAAAAADrLQAAAAAAABbFAAAAAAACcm0AAAAAAAI28QAAAAAAAcrhAAAAAAADsrUAAAAAAAECSQAAAAAAA1JVAAAAAAACqqUAAAAAAAIaqQAAAAAAAgIxAAAAAAAComUAAAAAAANieQAAAAAAA0JFAAAAAAADurEAAAAAAAECoQAAAAAAAIJ1AAAAAAACIg0AAAAAAAHKjQAAAAAAAXJ9AAAAAAACgnEAAAAAAgD7FQAAAAAAAaJ9AAAAAAAA4mkAAAAAAAIiFQAAAAAAAdJdAAAAAAACAlUAAAAAAABLLQAAAAAAAHLVAAAAAAABgkkAAAAAAANiGQAAAAAAA1KxAAAAAAABwk0AAAAAAAEPEQAAAAACAUs9AAAAAAACQlkAAAAAAAPCmQAAAAAAAI9BAAAAAAADcl0AAAAAAwCHTQAAAAABAutdAAAAAAACFwkAAAAAAAPCnQAAAAAAAdqNAAAAAAABGuEAAAAAAABSnQAAAAADAB9lA",
            "dtype": "f8"
           },
           "xaxis": "x",
           "y": {
            "bdata": "rkfhehTuT0CkcD0K1/NQQI/C9Shcn1FAj8L1KFzvTkBcj8L1KBxQQD0K16NwjVBA4XoUrkdRUECamZmZmVlTQPYoXI/CdVFAmpmZmZlJUEA9CtejcG1SQOF6FK5H4U9AZmZmZmY2UEBI4XoUrqdMQFyPwvUonE9ACtejcD0KT0Bcj8L1KNxOQI/C9Shc705A16NwPQqXTkCuR+F6FM5OQDMzMzMzM09A4XoUrkdhT0AzMzMzM/NQQD0K16Nw3U1AAAAAAABATUDD9Shcj0JOQK5H4XoUDk5AMzMzMzMDUUC4HoXrUYhTQBSuR+F6BFBAj8L1KFyvTUCamZmZmZlOQJqZmZmZuU9ACtejcD3qTUApXI/C9RhSQMP1KFyPQk9AMzMzMzPzT0DXo3A9CtdJQB+F61G4jlFAUrgehesRT0Bcj8L1KIxQQIXrUbgeBVFAKVyPwvVYUEBmZmZmZkZKQD0K16Nw7VBAZmZmZmamTUDD9Shcj6JSQHE9CtejQFBAUrgehevxTEDXo3A9CrdQQIXrUbgeFVFAUrgehevhUkAUrkfheqRRQMP1KFyPYlJA",
            "dtype": "f8"
           },
           "yaxis": "y"
          },
          {
           "customdata": [
            [
             "Russia",
             "Europe",
             2016,
             145275374,
             1.61,
             8.02
            ],
            [
             "Germany",
             "Europe",
             2016,
             82193770,
             1.449,
             3.8
            ],
            [
             "Turkey",
             "Europe",
             2016,
             79827868,
             1.986,
             11.92
            ],
            [
             "United Kingdom",
             "Europe",
             2016,
             66297944,
             1.887,
             4.39
            ],
            [
             "France",
             "Europe",
             2016,
             64667590,
             1.979,
             4.09
            ],
            [
             "Italy",
             "Europe",
             2016,
             60663068,
             1.532,
             3.29
            ],
            [
             "Spain",
             "Europe",
             2016,
             46634131,
             1.548,
             3.2
            ],
            [
             "Ukraine",
             "Europe",
             2016,
             44713708,
             1.502,
             9.22
            ],
            [
             "Poland",
             "Europe",
             2016,
             37989218,
             1.457,
             4.71
            ],
            [
             "Romania",
             "Europe",
             2016,
             19796280,
             1.459,
             8.47
            ],
            [
             "Netherlands",
             "Europe",
             2016,
             16981285,
             1.787,
             3.98
            ],
            [
             "Belgium",
             "Europe",
             2016,
             11354407,
             1.865,
             3.88
            ],
            [
             "Czech Republic",
             "Europe",
             2016,
             10618868,
             1.62,
             3.22
            ],
            [
             "Greece",
             "Europe",
             2016,
             10615183,
             1.557,
             4.65
            ],
            [
             "Portugal",
             "Europe",
             2016,
             10325540,
             1.317,
             3.67
            ],
            [
             "Sweden",
             "Europe",
             2016,
             9836003,
             1.934,
             2.83
            ],
            [
             "Hungary",
             "Europe",
             2016,
             9752970,
             1.453,
             4.83
            ],
            [
             "Azerbaijan",
             "Europe",
             2016,
             9736041,
             1.879,
             24.49
            ],
            [
             "Belarus",
             "Europe",
             2016,
             9445638,
             1.525,
             3.82
            ],
            [
             "Serbia",
             "Europe",
             2016,
             8853963,
             1.368,
             6.01
            ],
            [
             "Austria",
             "Europe",
             2016,
             8747306,
             1.508,
             3.65
            ],
            [
             "Switzerland",
             "Europe",
             2016,
             8379915,
             1.563,
             4.27
            ],
            [
             "Bulgaria",
             "Europe",
             2016,
             7151948,
             1.589,
             7.75
            ],
            [
             "Denmark",
             "Europe",
             2016,
             5711346,
             1.888,
             4.26
            ],
            [
             "Finland",
             "Europe",
             2016,
             5497714,
             1.856,
             2.02
            ],
            [
             "Slovak Republic",
             "Europe",
             2016,
             5442001,
             1.438,
             5.9
            ],
            [
             "Norway",
             "Europe",
             2016,
             5250950,
             1.929,
             2.66
            ],
            [
             "Ireland",
             "Europe",
             2016,
             4695790,
             1.992,
             3.79
            ],
            [
             "Croatia",
             "Europe",
             2016,
             4208611,
             1.532,
             4.82
            ],
            [
             "Moldova",
             "Europe",
             2016,
             4066013,
             1.452,
             16.17
            ],
            [
             "Georgia",
             "Europe",
             2016,
             4015457,
             1.814,
             10.24
            ],
            [
             "Bosnia and Herzegovina",
             "Europe",
             2016,
             3386263,
             1.331,
             6.03
            ],
            [
             "Armenia",
             "Europe",
             2016,
             2936147,
             1.742,
             13.66
            ],
            [
             "Lithuania",
             "Europe",
             2016,
             2889555,
             1.561,
             4.72
            ],
            [
             "Albania",
             "Europe",
             2016,
             2886427,
             1.779,
             9.27
            ],
            [
             "North Macedonia",
             "Europe",
             2016,
             2080746,
             1.425,
             12.02
            ],
            [
             "Slovenia",
             "Europe",
             2016,
             2074205,
             1.538,
             2.36
            ],
            [
             "Latvia",
             "Europe",
             2016,
             1974265,
             1.652,
             4.53
            ],
            [
             "Estonia",
             "Europe",
             2016,
             1316507,
             1.629,
             2.97
            ],
            [
             "Cyprus",
             "Europe",
             2016,
             1170189,
             1.46,
             2.61
            ],
            [
             "Montenegro",
             "Europe",
             2016,
             627271,
             1.646,
             3.07
            ],
            [
             "Luxembourg",
             "Europe",
             2016,
             579266,
             1.698,
             2.57
            ],
            [
             "Malta",
             "Europe",
             2016,
             436099,
             1.358,
             7.04
            ],
            [
             "Iceland",
             "Europe",
             2016,
             332209,
             2.049,
             2.1
            ]
           ],
           "hovertemplate": "<b>%{hovertext}</b><br><br><extra></extra>",
           "hovertext": [
            "Russia",
            "Germany",
            "Turkey",
            "United Kingdom",
            "France",
            "Italy",
            "Spain",
            "Ukraine",
            "Poland",
            "Romania",
            "Netherlands",
            "Belgium",
            "Czech Republic",
            "Greece",
            "Portugal",
            "Sweden",
            "Hungary",
            "Azerbaijan",
            "Belarus",
            "Serbia",
            "Austria",
            "Switzerland",
            "Bulgaria",
            "Denmark",
            "Finland",
            "Slovak Republic",
            "Norway",
            "Ireland",
            "Croatia",
            "Moldova",
            "Georgia",
            "Bosnia and Herzegovina",
            "Armenia",
            "Lithuania",
            "Albania",
            "North Macedonia",
            "Slovenia",
            "Latvia",
            "Estonia",
            "Cyprus",
            "Montenegro",
            "Luxembourg",
            "Malta",
            "Iceland"
           ],
           "ids": [
            "Russia",
            "Germany",
            "Turkey",
            "United Kingdom",
            "France",
            "Italy",
            "Spain",
            "Ukraine",
            "Poland",
            "Romania",
            "Netherlands",
            "Belgium",
            "Czech Republic",
            "Greece",
            "Portugal",
            "Sweden",
            "Hungary",
            "Azerbaijan",
            "Belarus",
            "Serbia",
            "Austria",
            "Switzerland",
            "Bulgaria",
            "Denmark",
            "Finland",
            "Slovak Republic",
            "Norway",
            "Ireland",
            "Croatia",
            "Moldova",
            "Georgia",
            "Bosnia and Herzegovina",
            "Armenia",
            "Lithuania",
            "Albania",
            "North Macedonia",
            "Slovenia",
            "Latvia",
            "Estonia",
            "Cyprus",
            "Montenegro",
            "Luxembourg",
            "Malta",
            "Iceland"
           ],
           "legendgroup": "Europe",
           "marker": {
            "color": "#ffeb33",
            "size": {
             "bdata": "AAAA3HNRoUEAAACotZiTQQAAAHBOCJNBAAAAwAKdj0EAAAAw/tWOQQAAAOAo7YxBAAAAmKQ8hkEAAABgN1KFQQAAABBbHYJBAAAAgBPhckEAAABQ0jFwQQAAAOAkqGVBAAAAgP5AZEEAAADgMT9kQQAAAIDEsWNBAAAAYLzCYkEAAABAMZpiQQAAACDtkWJBAAAAwCAEYkEAAABgOeNgQQAAAEAlr2BBAAAAwIL3X0EAAAAAU0hbQQAAAIB8yVVBAAAAgNz4VEEAAABAdMJUQQAAAIDhB1RBAAAAgLvpUUEAAADA+A1QQQAAAIBuBU9BAAAAgLCiTkEAAACAy9VJQQAAAICpZkZBAAAAgKkLRkEAAACAjQVGQQAAAADqvz9BAAAAAF2mP0EAAAAA+R8+QQAAAACbFjRBAAAAAA3bMUEAAAAAjiQjQQAAAACErSFBAAAAAAyeGkEAAAAAxEYUQQ==",
             "dtype": "f8"
            },
            "sizemode": "area",
            "sizeref": 399812.15944444446,
            "symbol": "circle"
           },
           "mode": "markers",
           "name": "Europe",
           "orientation": "v",
           "showlegend": true,
           "type": "scatter",
           "x": {
            "bdata": "AAAAAEDY10AAAAAAoM/lQAAAAAAAHNdAAAAAACBA40AAAAAAQJriQAAAAADg9eBAAAAAAIBJ4EAAAAAAAP69QAAAAACAe9lAAAAAAIBF1UAAAAAAwEvnQAAAAADAnORAAAAAAMCP3kAAAAAAQJ/XQAAAAACAkdpAAAAAAGCg5kAAAAAAQB/ZQAAAAAAAgs9AAAAAAMBe0EAAAAAAgBvNQAAAAADgz+VAAAAAAEAh7EAAAAAAQGDRQAAAAABAt+ZAAAAAAICO40AAAAAAwI/cQAAAAACAW+9AAAAAAMCp7kAAAAAAgGjVQAAAAAAAPrdAAAAAAAAUwkAAAAAAAADHQAAAAAAA379AAAAAAABg20AAAAAAgC7GQAAAAAAAnslAAAAAAAA23UAAAAAAgCfXQAAAAABA5dtAAAAAAIBA30AAAAAAgLzOQAAAAABQ7/ZAAAAAAGBl4UAAAAAAYNzmQA==",
            "dtype": "f8"
           },
           "xaxis": "x",
           "y": {
            "bdata": "w/UoXI/yUUBxPQrXoyBUQClcj8L1qFNA7FG4HoU7VEAAAAAAALBUQK5H4XoUvlRAexSuR+G6VEC4HoXrUWhRQFK4HoXrcVNAmpmZmZnJUkAfhetRuF5UQI/C9ShcT1RA4XoUrkfBU0B7FK5H4TpUQI/C9ShcX1RACtejcD2aVECamZmZmRlTQEjhehSup1FAcT0K16OAUkAAAAAAAOBSQFyPwvUobFRAUrgehevxVEDXo3A9CrdSQKRwPQrXM1RAAAAAAABgVECamZmZmUlTQNejcD0Kl1RAMzMzMzNzVEBxPQrXo5BTQFyPwvUoHFJApHA9CtczUkAzMzMzMyNTQEjhehSu11JA16NwPQq3UkBI4XoUrodTQKRwPQrXE1NA4XoUrkdBVEBSuB6F68FSQFyPwvUofFNAmpmZmZlpVEDsUbgehRtTQPYoXI/CZVRA4XoUrkdBVEAfhetRuK5UQA==",
            "dtype": "f8"
           },
           "yaxis": "y"
          }
         ],
         "name": "2016"
        },
        {
         "data": [
          {
           "mode": "text",
           "showlegend": false,
           "text": [
            "2017"
           ],
           "textfont": {
            "color": "lightgray",
            "size": 200
           },
           "textposition": "middle center",
           "type": "scatter",
           "x": [
            8000
           ],
           "y": [
            45
           ]
          },
          {
           "customdata": [
            [
             "China",
             "Asia",
             2017,
             1421021794,
             1.691,
             9.23
            ],
            [
             "India",
             "Asia",
             2017,
             1338676779,
             2.377,
             38.69
            ],
            [
             "Indonesia",
             "Asia",
             2017,
             264650969,
             2.23,
             25.92
            ],
            [
             "Pakistan",
             "Asia",
             2017,
             207906210,
             2.919,
             71.49
            ],
            [
             "Bangladesh",
             "Asia",
             2017,
             159685421,
             2.06,
             31.94
            ],
            [
             "Japan",
             "Asia",
             2017,
             127502728,
             1.473,
             2.57
            ],
            [
             "Philippines",
             "Asia",
             2017,
             105172921,
             2.909,
             29.05
            ],
            [
             "Vietnam",
             "Asia",
             2017,
             94600643,
             1.673,
             21.13
            ],
            [
             "Iran",
             "Asia",
             2017,
             80673888,
             1.896,
             14.91
            ],
            [
             "Thailand",
             "Asia",
             2017,
             69209817,
             1.366,
             9.52
            ],
            [
             "Myanmar",
             "Asia",
             2017,
             53382521,
             1.863,
             47.87
            ],
            [
             "South Korea",
             "Asia",
             2017,
             51096408,
             1.385,
             3.29
            ],
            [
             "Iraq",
             "Asia",
             2017,
             37552789,
             3.799,
             27.61
            ],
            [
             "Afghanistan",
             "Asia",
             2017,
             36296111,
             4.106,
             64.73
            ],
            [
             "Saudi Arabia",
             "Asia",
             2017,
             33101183,
             2.448,
             7.47
            ],
            [
             "Uzbekistan",
             "Asia",
             2017,
             31959774,
             2.194,
             22.71
            ],
            [
             "Malaysia",
             "Asia",
             2017,
             31104655,
             1.913,
             7.89
            ],
            [
             "Yemen",
             "Asia",
             2017,
             27834811,
             3.617,
             54.96
            ],
            [
             "Nepal",
             "Asia",
             2017,
             27632682,
             2.106,
             33.44
            ],
            [
             "North Korea",
             "Asia",
             2017,
             25429816,
             1.947,
             19
            ],
            [
             "Australia",
             "Asia",
             2017,
             24584619,
             1.873,
             3.74
            ],
            [
             "Sri Lanka",
             "Asia",
             2017,
             21128028,
             2.266,
             7.8
            ],
            [
             "Kazakhstan",
             "Asia",
             2017,
             18080023,
             2.368,
             10.39
            ],
            [
             "Syria",
             "Asia",
             2017,
             17095669,
             2.777,
             17.11
            ],
            [
             "Cambodia",
             "Asia",
             2017,
             16009413,
             2.73,
             29.16
            ],
            [
             "Jordan",
             "Asia",
             2017,
             9785840,
             3.006,
             16.67
            ],
            [
             "United Arab Emirates",
             "Asia",
             2017,
             9487206,
             1.733,
             7.68
            ],
            [
             "Tajikistan",
             "Asia",
             2017,
             8880270,
             3.645,
             35.87
            ],
            [
             "Papua New Guinea",
             "Asia",
             2017,
             8438038,
             3.573,
             49.16
            ],
            [
             "Israel",
             "Asia",
             2017,
             8243849,
             2.813,
             3.79
            ],
            [
             "Hong Kong, China",
             "Asia",
             2017,
             7306315,
             1.206,
             2.15
            ],
            [
             "Lao",
             "Asia",
             2017,
             6953031,
             2.746,
             49.29
            ],
            [
             "Lebanon",
             "Asia",
             2017,
             6819373,
             1.479,
             7.71
            ],
            [
             "Kyrgyz Republic",
             "Asia",
             2017,
             6189727,
             2.953,
             19.99
            ],
            [
             "Turkmenistan",
             "Asia",
             2017,
             5757667,
             2.224,
             47.42
            ],
            [
             "Singapore",
             "Asia",
             2017,
             5708042,
             1.304,
             2.79
            ],
            [
             "Palestine",
             "Asia",
             2017,
             4747233,
             3.756,
             20.78
            ],
            [
             "New Zealand",
             "Asia",
             2017,
             4702029,
             1.992,
             5.81
            ],
            [
             "Oman",
             "Asia",
             2017,
             4665926,
             2.596,
             11.36
            ],
            [
             "Kuwait",
             "Asia",
             2017,
             4056102,
             2.517,
             8.07
            ],
            [
             "Mongolia",
             "Asia",
             2017,
             3113788,
             2.354,
             17.01
            ],
            [
             "Qatar",
             "Asia",
             2017,
             2724727,
             1.935,
             7.16
            ],
            [
             "Bahrain",
             "Asia",
             2017,
             1494077,
             1.987,
             7.27
            ],
            [
             "Timor-Leste",
             "Asia",
             2017,
             1243260,
             5.36,
             47.47
            ],
            [
             "Fiji",
             "Asia",
             2017,
             877460,
             2.485,
             25.35
            ],
            [
             "Bhutan",
             "Asia",
             2017,
             745563,
             2.08,
             30.77
            ],
            [
             "Solomon Islands",
             "Asia",
             2017,
             636030,
             3.791,
             20.63
            ],
            [
             "Maldives",
             "Asia",
             2017,
             496398,
             2.095,
             9.02
            ],
            [
             "Brunei",
             "Asia",
             2017,
             424481,
             1.923,
             11.36
            ],
            [
             "Vanuatu",
             "Asia",
             2017,
             285499,
             3.233,
             27.23
            ],
            [
             "Samoa",
             "Asia",
             2017,
             195358,
             3.921,
             16.25
            ],
            [
             "Kiribati",
             "Asia",
             2017,
             114153,
             2.831,
             54.27
            ],
            [
             "Micronesia, Fed. Sts.",
             "Asia",
             2017,
             111461,
             3.099,
             31.78
            ],
            [
             "Tonga",
             "Asia",
             2017,
             102002,
             3.588,
             16.06
            ]
           ],
           "hovertemplate": "<b>%{hovertext}</b><br><br><extra></extra>",
           "hovertext": [
            "China",
            "India",
            "Indonesia",
            "Pakistan",
            "Bangladesh",
            "Japan",
            "Philippines",
            "Vietnam",
            "Iran",
            "Thailand",
            "Myanmar",
            "South Korea",
            "Iraq",
            "Afghanistan",
            "Saudi Arabia",
            "Uzbekistan",
            "Malaysia",
            "Yemen",
            "Nepal",
            "North Korea",
            "Australia",
            "Sri Lanka",
            "Kazakhstan",
            "Syria",
            "Cambodia",
            "Jordan",
            "United Arab Emirates",
            "Tajikistan",
            "Papua New Guinea",
            "Israel",
            "Hong Kong, China",
            "Lao",
            "Lebanon",
            "Kyrgyz Republic",
            "Turkmenistan",
            "Singapore",
            "Palestine",
            "New Zealand",
            "Oman",
            "Kuwait",
            "Mongolia",
            "Qatar",
            "Bahrain",
            "Timor-Leste",
            "Fiji",
            "Bhutan",
            "Solomon Islands",
            "Maldives",
            "Brunei",
            "Vanuatu",
            "Samoa",
            "Kiribati",
            "Micronesia, Fed. Sts.",
            "Tonga"
           ],
           "ids": [
            "China",
            "India",
            "Indonesia",
            "Pakistan",
            "Bangladesh",
            "Japan",
            "Philippines",
            "Vietnam",
            "Iran",
            "Thailand",
            "Myanmar",
            "South Korea",
            "Iraq",
            "Afghanistan",
            "Saudi Arabia",
            "Uzbekistan",
            "Malaysia",
            "Yemen",
            "Nepal",
            "North Korea",
            "Australia",
            "Sri Lanka",
            "Kazakhstan",
            "Syria",
            "Cambodia",
            "Jordan",
            "United Arab Emirates",
            "Tajikistan",
            "Papua New Guinea",
            "Israel",
            "Hong Kong, China",
            "Lao",
            "Lebanon",
            "Kyrgyz Republic",
            "Turkmenistan",
            "Singapore",
            "Palestine",
            "New Zealand",
            "Oman",
            "Kuwait",
            "Mongolia",
            "Qatar",
            "Bahrain",
            "Timor-Leste",
            "Fiji",
            "Bhutan",
            "Solomon Islands",
            "Maldives",
            "Brunei",
            "Vanuatu",
            "Samoa",
            "Kiribati",
            "Micronesia, Fed. Sts.",
            "Tonga"
           ],
           "legendgroup": "Asia",
           "marker": {
            "color": "#ff798e",
            "size": {
             "bdata": "AACAmMQs1UEAAMCKpfLTQQAAALKBjK9BAAAARMvIqEEAAABaNgmjQQAAACAmZp5BAAAA5D4TmUEAAAAM942WQQAAAIDxO5NBAAAAZDuAkEEAAADIa3SJQQAAAMBaXYhBAAAAqBTogUEAAAB4rU6BQQAAAPBXkX9BAAAA4K16fkEAAADw6Kl9QQAAALCbi3pBAAAAoEJaekEAAACAc0B4QQAAALAacndBAAAAwDUmdEEAAABwET5xQQAAAFC/TXBBAAAAoBiJbkEAAAAAPqpiQQAAAMBsGGJBAAAAwBHwYEEAAADAIhhgQQAAAECicl9BAAAAwBLfW0EAAADAEYZaQQAAAECLA1pBAAAAwKecV0EAAADAuPZVQQAAAIBCxlVBAAAAQPgbUkEAAABA0+9RQQAAAICRzFFBAAAAABPyTkEAAAAAnsFHQQAAAIC7yURBAAAAAD3MNkEAAAAAfPgyQQAAAAAoxypBAAAAALbAJkEAAAAA/GgjQQAAAAA4TB5BAAAAAIToGUEAAAAA7GwRQQAAAADw2AdBAAAAAJDe+0AAAAAAUDb7QAAAAAAg5/hA",
             "dtype": "f8"
            },
            "sizemode": "area",
            "sizeref": 399812.15944444446,
            "symbol": "circle"
           },
           "mode": "markers",
           "name": "Asia",
           "orientation": "v",
           "showlegend": true,
           "type": "scatter",
           "x": {
            "bdata": "AAAAAADLzUAAAAAAAHS5QAAAAACAzMVAAAAAAACjskAAAAAAAGSsQAAAAABg/+JAAAAAAACdvUAAAAAAAFm4QAAAAACAptJAAAAAAADPz0AAAAAAAOq1QAAAAABAjOFAAAAAAADrzkAAAAAAAHibQAAAAACA1OdAAAAAAACYt0AAAAAAAKLaQAAAAAAAyKJAAAAAAABcpEAAAAAAANiaQAAAAAAA6+VAAAAAAADdxkAAAAAAwIPXQAAAAAAAOKhAAAAAAACMrEAAAAAAgDXAQAAAAABAR/BAAAAAAADYpkAAAAAAAFKuQAAAAACAOOBAAAAAAABj60AAAAAAAKS4QAAAAACAv8ZAAAAAAACEqkAAAAAAgAHQQAAAAAAAbfVAAAAAAAAsskAAAAAAwJnhQAAAAAAgOuJAAAAAAJAd8EAAAAAAgLPGQAAAAADgpvtAAAAAAAAn5UAAAAAAAFW6QAAAAACAUcJAAAAAAIAPwkAAAAAAAJygQAAAAACACspAAAAAAMC08UAAAAAAABamQAAAAAAAtrdAAAAAAACkn0AAAAAAAOKoQAAAAAAAcrZA",
            "dtype": "f8"
           },
           "xaxis": "x",
           "y": {
            "bdata": "FK5H4XpEU0CuR+F6FD5RQB+F61G43lFAZmZmZma2UEBI4XoUrkdSQFyPwvUoDFVAH4XrUbhuUUBSuB6F66FSQGZmZmZmVlNA16NwPQqHU0AAAAAAACBRQGZmZmZmplRAH4XrUbguU0BxPQrXo7BPQNejcD0KN1NAZmZmZmaWUUCuR+F6FK5SQKRwPQrXA1FAexSuR+G6UUAAAAAAAABSQClcj8L1mFRArkfhehReU0AfhetRuP5RQMP1KFyPclFAuB6F61F4UUCF61G4HtVTQBSuR+F6VFJAFK5H4XqUUUAAAAAAAEBNQK5H4XoUvlRA9ihcj8IFVUCF61G4HuVQQK5H4XoUflNAPQrXo3AtUkBmZmZmZoZRQMP1KFyPMlVAZmZmZmY2U0ApXI/C9WhUQGZmZmZmRlNASOF6FK7HVEBcj8L1KDxRQD0K16NwDVRAj8L1KFzfU0CkcD0K17NRQBSuR+F6BFFAMzMzMzODUkBSuB6F6yFRQM3MzMzMXFRAZmZmZmbWUkCuR+F6FC5QQLgehetROFJAFK5H4Xo0T0A9CtejcM1QQOF6FK5H8VFA",
            "dtype": "f8"
           },
           "yaxis": "y"
          },
          {
           "customdata": [
            [
             "United States",
             "Americas",
             2017,
             325084758,
             1.971,
             6.64
            ],
            [
             "Brazil",
             "Americas",
             2017,
             207833825,
             1.755,
             14.79
            ],
            [
             "Mexico",
             "Americas",
             2017,
             124777326,
             2.071,
             13.42
            ],
            [
             "Colombia",
             "Americas",
             2017,
             48909844,
             2.178,
             14.68
            ],
            [
             "Argentina",
             "Americas",
             2017,
             43937143,
             2.125,
             10.42
            ],
            [
             "Canada",
             "Americas",
             2017,
             36732091,
             1.699,
             5.08
            ],
            [
             "Peru",
             "Americas",
             2017,
             31444299,
             2.305,
             14.87
            ],
            [
             "Venezuela",
             "Americas",
             2017,
             29402480,
             2.289,
             24.51
            ],
            [
             "Chile",
             "Americas",
             2017,
             18470435,
             1.788,
             7.43
            ],
            [
             "Guatemala",
             "Americas",
             2017,
             16914979,
             3.548,
             27.08
            ],
            [
             "Ecuador",
             "Americas",
             2017,
             16785356,
             2.442,
             14.49
            ],
            [
             "Cuba",
             "Americas",
             2017,
             11339255,
             1.451,
             5.11
            ],
            [
             "Bolivia",
             "Americas",
             2017,
             11192853,
             3.057,
             27.96
            ],
            [
             "Haiti",
             "Americas",
             2017,
             10982367,
             2.919,
             66.74
            ],
            [
             "Dominican Republic",
             "Americas",
             2017,
             10513111,
             2.362,
             29.71
            ],
            [
             "Honduras",
             "Americas",
             2017,
             9429016,
             2.82,
             18.18
            ],
            [
             "Paraguay",
             "Americas",
             2017,
             6867058,
             2.735,
             20.86
            ],
            [
             "El Salvador",
             "Americas",
             2017,
             6388124,
             2.088,
             14.15
            ],
            [
             "Nicaragua",
             "Americas",
             2017,
             6384843,
             2.349,
             18.52
            ],
            [
             "Costa Rica",
             "Americas",
             2017,
             4949955,
             1.736,
             8.85
            ],
            [
             "Panama",
             "Americas",
             2017,
             4106764,
             2.369,
             15.79
            ],
            [
             "Uruguay",
             "Americas",
             2017,
             3436645,
             2.008,
             8
            ],
            [
             "Jamaica",
             "Americas",
             2017,
             2920848,
             2.17,
             14.87
            ],
            [
             "Trinidad and Tobago",
             "Americas",
             2017,
             1384060,
             1.791,
             18.88
            ],
            [
             "Guyana",
             "Americas",
             2017,
             775218,
             2.407,
             31.15
            ],
            [
             "Suriname",
             "Americas",
             2017,
             570501,
             2.173,
             19.49
            ],
            [
             "Bahamas",
             "Americas",
             2017,
             381749,
             1.871,
             10.54
            ],
            [
             "Belize",
             "Americas",
             2017,
             375775,
             2.533,
             13.75
            ],
            [
             "Barbados",
             "Americas",
             2017,
             286229,
             1.86,
             12.55
            ],
            [
             "St. Lucia",
             "Americas",
             2017,
             180955,
             1.83,
             17.04
            ],
            [
             "Grenada",
             "Americas",
             2017,
             110874,
             2.082,
             15.27
            ],
            [
             "St. Vincent and the Grenadines",
             "Americas",
             2017,
             109826,
             1.91,
             16.89
            ],
            [
             "Antigua and Barbuda",
             "Americas",
             2017,
             95425,
             2.04,
             6.69
            ]
           ],
           "hovertemplate": "<b>%{hovertext}</b><br><br><extra></extra>",
           "hovertext": [
            "United States",
            "Brazil",
            "Mexico",
            "Colombia",
            "Argentina",
            "Canada",
            "Peru",
            "Venezuela",
            "Chile",
            "Guatemala",
            "Ecuador",
            "Cuba",
            "Bolivia",
            "Haiti",
            "Dominican Republic",
            "Honduras",
            "Paraguay",
            "El Salvador",
            "Nicaragua",
            "Costa Rica",
            "Panama",
            "Uruguay",
            "Jamaica",
            "Trinidad and Tobago",
            "Guyana",
            "Suriname",
            "Bahamas",
            "Belize",
            "Barbados",
            "St. Lucia",
            "Grenada",
            "St. Vincent and the Grenadines",
            "Antigua and Barbuda"
           ],
           "ids": [
            "United States",
            "Brazil",
            "Mexico",
            "Colombia",
            "Argentina",
            "Canada",
            "Peru",
            "Venezuela",
            "Chile",
            "Guatemala",
            "Ecuador",
            "Cuba",
            "Bolivia",
            "Haiti",
            "Dominican Republic",
            "Honduras",
            "Paraguay",
            "El Salvador",
            "Nicaragua",
            "Costa Rica",
            "Panama",
            "Uruguay",
            "Jamaica",
            "Trinidad and Tobago",
            "Guyana",
            "Suriname",
            "Bahamas",
            "Belize",
            "Barbados",
            "St. Lucia",
            "Grenada",
            "St. Vincent and the Grenadines",
            "Antigua and Barbuda"
           ],
           "legendgroup": "Americas",
           "marker": {
            "color": "#98ef33",
            "size": {
             "bdata": "AAAAVmZgs0EAAADClcaoQQAAALjNv51BAAAAoHBSh0EAAAC4a/OEQQAAANjlg4FBAAAAsNT8fUEAAAAAVwp8QQAAADBinXFBAAAAMKIhcEEAAADA/AFwQQAAAOC+oGVBAAAAoEJZZUEAAADge/JkQQAAAOBaDWRBAAAAAAP8YUEAAACAHDJaQQAAAABnXlhBAAAAwDJbWEEAAADA8OFSQQAAAAAGVU9BAAAAgDI4SkEAAAAAyEhGQQAAAAB8HjVBAAAAAGSoJ0EAAAAACmkhQQAAAADUTBdBAAAAAHzvFkEAAAAAVHgRQQAAAADYFgZBAAAAAKAR+0AAAAAAIND6QAAAAAAQTPdA",
             "dtype": "f8"
            },
            "sizemode": "area",
            "sizeref": 399812.15944444446,
            "symbol": "circle"
           },
           "mode": "markers",
           "name": "Americas",
           "orientation": "v",
           "showlegend": true,
           "type": "scatter",
           "x": {
            "bdata": "AAAAAOCY6kAAAAAAAM7LQAAAAABAh9FAAAAAAADByUAAAAAAQIDSQAAAAACAaeVAAAAAAABzyEAAAAAAAFXMQAAAAABAxtVAAAAAAAD/vEAAAAAAAGvEQAAAAAAA0b5AAAAAAACPukAAAAAAANSZQAAAAACANM1AAAAAAAB1sUAAAAAAAAfHQAAAAAAAT7xAAAAAAAAxtEAAAAAAACPOQAAAAAAAudVAAAAAAIAs1EAAAAAAANq/QAAAAADA5dtAAAAAAADnvEAAAAAAAKLKQAAAAABACNxAAAAAAAAuvkAAAAAAwHHQQAAAAAAAF8hAAAAAAIAqykAAAAAAAOjEQAAAAAAAUtZA",
            "dtype": "f8"
           },
           "xaxis": "x",
           "y": {
            "bdata": "9ihcj8KlU0BxPQrXo+BSQOF6FK5H4VJA16NwPQoHVEAK16NwPSpTQD0K16NwfVRApHA9CtcTVEDD9Shcj9JSQM3MzMzM7FNAuB6F61EoUkAfhetRuC5TQHsUrkfhmlNAAAAAAAAwUkDNzMzMzDxQQPYoXI/CRVJAH4XrUbh+UkBI4XoUrgdTQHE9CtejgFJAMzMzMzOzU0CuR+F6FN5TQMP1KFyP0lNAMzMzMzNDU0AK16NwPapSQI/C9Shcj1JAPQrXo3BNUUDD9ShcjwJSQB+F61G4blJACtejcD2KUkC4HoXrUUhTQMP1KFyP4lJA16NwPQqHUkDD9ShcjxJSQOF6FK5HQVNA",
            "dtype": "f8"
           },
           "yaxis": "y"
          },
          {
           "customdata": [
            [
             "Nigeria",
             "Africa",
             2017,
             190873247,
             5.774,
             122.1
            ],
            [
             "Ethiopia",
             "Africa",
             2017,
             106399926,
             4.056,
             57.7
            ],
            [
             "Egypt",
             "Africa",
             2017,
             96442590,
             2.637,
             21.95
            ],
            [
             "Congo, Dem. Rep.",
             "Africa",
             2017,
             81398765,
             5.519,
             91.09
            ],
            [
             "South Africa",
             "Africa",
             2017,
             57009751,
             2.29,
             35.26
            ],
            [
             "Tanzania",
             "Africa",
             2017,
             54660345,
             4.942,
             54.45
            ],
            [
             "Kenya",
             "Africa",
             2017,
             50221146,
             4.106,
             43.01
            ],
            [
             "Algeria",
             "Africa",
             2017,
             41389174,
             2.591,
             24.02
            ],
            [
             "Uganda",
             "Africa",
             2017,
             41166588,
             5.483,
             48.68
            ],
            [
             "Sudan",
             "Africa",
             2017,
             40813398,
             4.153,
             62.45
            ],
            [
             "Morocco",
             "Africa",
             2017,
             35581257,
             2.617,
             23.38
            ],
            [
             "Angola",
             "Africa",
             2017,
             29816769,
             5.46,
             80.44
            ],
            [
             "Ghana",
             "Africa",
             2017,
             29121464,
             3.622,
             49.97
            ],
            [
             "Mozambique",
             "Africa",
             2017,
             28649007,
             4.897,
             75.53
            ],
            [
             "Madagascar",
             "Africa",
             2017,
             25570511,
             4.236,
             55.16
            ],
            [
             "Cameroon",
             "Africa",
             2017,
             24566070,
             4.485,
             78.99
            ],
            [
             "Cote d'Ivoire",
             "Africa",
             2017,
             24437475,
             4.616,
             83.62
            ],
            [
             "Niger",
             "Africa",
             2017,
             21602388,
             7.437,
             86.71
            ],
            [
             "Burkina Faso",
             "Africa",
             2017,
             19193236,
             5.259,
             79.59
            ],
            [
             "Mali",
             "Africa",
             2017,
             18512429,
             6.735,
             101.31
            ],
            [
             "Malawi",
             "Africa",
             2017,
             17670193,
             5.083,
             52.68
            ],
            [
             "Zambia",
             "Africa",
             2017,
             16853608,
             5.494,
             59.35
            ],
            [
             "Senegal",
             "Africa",
             2017,
             15419354,
             4.667,
             45.56
            ],
            [
             "Chad",
             "Africa",
             2017,
             15016761,
             5.825,
             122.7
            ],
            [
             "Somalia",
             "Africa",
             2017,
             14589165,
             6.15,
             125.47
            ],
            [
             "Zimbabwe",
             "Africa",
             2017,
             14236599,
             3.228,
             49.31
            ],
            [
             "Guinea",
             "Africa",
             2017,
             12067516,
             4.587,
             103.16
            ],
            [
             "Rwanda",
             "Africa",
             2017,
             11980960,
             4.129,
             36.94
            ],
            [
             "Tunisia",
             "Africa",
             2017,
             11433438,
             1.928,
             17.06
            ],
            [
             "Benin",
             "Africa",
             2017,
             11175192,
             4.534,
             95.46
            ],
            [
             "South Sudan",
             "Africa",
             2017,
             10910774,
             4.577,
             98.58
            ],
            [
             "Burundi",
             "Africa",
             2017,
             10827010,
             5.679,
             60.98
            ],
            [
             "Togo",
             "Africa",
             2017,
             7698476,
             4.368,
             72.12
            ],
            [
             "Sierra Leone",
             "Africa",
             2017,
             7488427,
             4.404,
             109.85
            ],
            [
             "Libya",
             "Africa",
             2017,
             6580723,
             2.167,
             12.36
            ],
            [
             "Congo, Rep.",
             "Africa",
             2017,
             5110701,
             4.733,
             51.62
            ],
            [
             "Liberia",
             "Africa",
             2017,
             4702224,
             4.5,
             73.39
            ],
            [
             "Central African Republic",
             "Africa",
             2017,
             4596023,
             4.033,
             119.84
            ],
            [
             "Mauritania",
             "Africa",
             2017,
             4282582,
             4.423,
             78.2
            ],
            [
             "Eritrea",
             "Africa",
             2017,
             3412894,
             4.344,
             43.4
            ],
            [
             "Namibia",
             "Africa",
             2017,
             2402623,
             2.849,
             41.37
            ],
            [
             "Gambia",
             "Africa",
             2017,
             2213900,
             5.565,
             60.39
            ],
            [
             "Botswana",
             "Africa",
             2017,
             2205076,
             2.461,
             37.48
            ],
            [
             "Lesotho",
             "Africa",
             2017,
             2091532,
             2.84,
             84.1
            ],
            [
             "Gabon",
             "Africa",
             2017,
             2064812,
             3.836,
             46.01
            ],
            [
             "Guinea-Bissau",
             "Africa",
             2017,
             1828146,
             4.68,
             84.5
            ],
            [
             "Mauritius",
             "Africa",
             2017,
             1264497,
             1.496,
             14.74
            ],
            [
             "Equatorial Guinea",
             "Africa",
             2017,
             1262008,
             4.453,
             88.18
            ],
            [
             "Eswatini",
             "Africa",
             2017,
             1124808,
             3.084,
             58.14
            ],
            [
             "Djibouti",
             "Africa",
             2017,
             944100,
             3.136,
             61.17
            ],
            [
             "Comoros",
             "Africa",
             2017,
             813890,
             4.462,
             69.9
            ],
            [
             "Cape Verde",
             "Africa",
             2017,
             537499,
             2.152,
             20.14
            ],
            [
             "Sao Tome and Principe",
             "Africa",
             2017,
             207086,
             3.822,
             32.37
            ],
            [
             "Seychelles",
             "Africa",
             2017,
             96418,
             2.093,
             14.64
            ]
           ],
           "hovertemplate": "<b>%{hovertext}</b><br><br><extra></extra>",
           "hovertext": [
            "Nigeria",
            "Ethiopia",
            "Egypt",
            "Congo, Dem. Rep.",
            "South Africa",
            "Tanzania",
            "Kenya",
            "Algeria",
            "Uganda",
            "Sudan",
            "Morocco",
            "Angola",
            "Ghana",
            "Mozambique",
            "Madagascar",
            "Cameroon",
            "Cote d'Ivoire",
            "Niger",
            "Burkina Faso",
            "Mali",
            "Malawi",
            "Zambia",
            "Senegal",
            "Chad",
            "Somalia",
            "Zimbabwe",
            "Guinea",
            "Rwanda",
            "Tunisia",
            "Benin",
            "South Sudan",
            "Burundi",
            "Togo",
            "Sierra Leone",
            "Libya",
            "Congo, Rep.",
            "Liberia",
            "Central African Republic",
            "Mauritania",
            "Eritrea",
            "Namibia",
            "Gambia",
            "Botswana",
            "Lesotho",
            "Gabon",
            "Guinea-Bissau",
            "Mauritius",
            "Equatorial Guinea",
            "Eswatini",
            "Djibouti",
            "Comoros",
            "Cape Verde",
            "Sao Tome and Principe",
            "Seychelles"
           ],
           "ids": [
            "Nigeria",
            "Ethiopia",
            "Egypt",
            "Congo, Dem. Rep.",
            "South Africa",
            "Tanzania",
            "Kenya",
            "Algeria",
            "Uganda",
            "Sudan",
            "Morocco",
            "Angola",
            "Ghana",
            "Mozambique",
            "Madagascar",
            "Cameroon",
            "Cote d'Ivoire",
            "Niger",
            "Burkina Faso",
            "Mali",
            "Malawi",
            "Zambia",
            "Senegal",
            "Chad",
            "Somalia",
            "Zimbabwe",
            "Guinea",
            "Rwanda",
            "Tunisia",
            "Benin",
            "South Sudan",
            "Burundi",
            "Togo",
            "Sierra Leone",
            "Libya",
            "Congo, Rep.",
            "Liberia",
            "Central African Republic",
            "Mauritania",
            "Eritrea",
            "Namibia",
            "Gambia",
            "Botswana",
            "Lesotho",
            "Gabon",
            "Guinea-Bissau",
            "Mauritius",
            "Equatorial Guinea",
            "Eswatini",
            "Djibouti",
            "Comoros",
            "Cape Verde",
            "Sao Tome and Principe",
            "Seychelles"
           ],
           "legendgroup": "Africa",
           "marker": {
            "color": "#33dded",
            "size": {
             "bdata": "AAAAPv3ApkEAAADYIl6ZQQAAAHhj/pZBAAAAtC9ok0EAAAC4Mi+LQQAAAMhnEIpBAAAA0ILyh0EAAACwY7yDQQAAAOA3oYNBAAAAsBp2g0EAAABIaveAQQAAABB8b3xBAAAAgLvFe0EAAADwYlJ7QQAAAPDMYnhBAAAAYJNtd0EAAAAwLk53QQAAAEAFmnRBAAAAQNlNckEAAADQoqdxQQAAABAD2nBBAAAAgKYScEEAAABA+2htQQAAACBnpGxBAAAAoJ3Ta0EAAADgdidrQQAAAIBXBGdBAAAAABTaZkEAAADAu85lQQAAAACjUGVBAAAAwIbPZEEAAABAoKZkQQAAAAALXl1BAAAAwOqQXEEAAADAfBpZQQAAAEDrflNBAAAAAATwUUEAAADATYhRQQAAAIA1VlBBAAAAAM8JSkEAAACAn1RCQQAAAAAG5EBBAAAAAMrSQEEAAAAADOo/QQAAAACsgT9BAAAAADLlO0EAAAAAcUszQQAAAAC4QTNBAAAAAMgpMUEAAAAAyM8sQQAAAACE1ihBAAAAADZnIEEAAAAAcEcJQQAAAAAgivdA",
             "dtype": "f8"
            },
            "sizemode": "area",
            "sizeref": 399812.15944444446,
            "symbol": "circle"
           },
           "mode": "markers",
           "name": "Africa",
           "orientation": "v",
           "showlegend": true,
           "type": "scatter",
           "x": {
            "bdata": "AAAAAADntEAAAAAAAPCaQAAAAACA2MRAAAAAAABAiUAAAAAAgOTHQAAAAAAA8qVAAAAAAAAip0AAAAAAABrLQAAAAAAAoJtAAAAAAABUsUAAAAAAAFW9QAAAAAAAnbdAAAAAAACmr0AAAAAAAGSSQAAAAAAAKJZAAAAAAADiqUAAAAAAANqrQAAAAAAAyIxAAAAAAACAmkAAAAAAAIyfQAAAAAAACJJAAAAAAAAMrUAAAAAAAECpQAAAAAAAaJtAAAAAAACYg0AAAAAAABCkQAAAAAAASqFAAAAAAACUnUAAAAAAAGPFQAAAAAAAKqBAAAAAAADgnEAAAAAAAPiEQAAAAAAA6JdAAAAAAADwlUAAAAAAQOrQQAAAAAAA77NAAAAAAABgkkAAAAAAAJCHQAAAAAAA4KxAAAAAAACAk0AAAAAAgLbDQAAAAAAA5JZAAAAAAICSz0AAAAAAADymQAAAAACAiM9AAAAAAACkmEAAAAAAwNfTQAAAAADAxtVAAAAAAACwwkAAAAAAAJCqQAAAAAAAiqNAAAAAAADzuEAAAAAAAIanQAAAAAAAzNlA",
            "dtype": "f8"
           },
           "xaxis": "x",
           "y": {
            "bdata": "ZmZmZmYWUEApXI/C9RhRQClcj8L1qFFAj8L1KFwvT0CkcD0K15NQQK5H4XoUrlBA16NwPQp3UECPwvUoXG9TQD0K16NwbVBAMzMzMzOTUUCuR+F6FH5SQFyPwvUoDFBAAAAAAABgUEDNzMzMzCxNQOF6FK5HwU9APQrXo3B9T0A9CtejcD1PQI/C9ShcL09A16NwPQrXTkCamZmZmflOQHsUrkfhmk9AmpmZmZmZT0AzMzMzMwNRQKRwPQrXA05Aw/UoXI9CTUDNzMzMzKxOQFyPwvUoXE5APQrXo3AdUUCF61G4HpVTQLgehetRKFBAAAAAAACgTUBmZmZmZsZOQEjhehSuF1BA9ihcj8I1TkA9CtejcD1SQDMzMzMzU09ACtejcD0aUECPwvUoXO9JQFK4HoXroVFA9ihcj8JVT0CPwvUoXJ9QQOF6FK5HcVBAFK5H4XpEUUAUrkfhelRLQClcj8L1GFFAH4XrUbj+TUDhehSuR7FSQOF6FK5HYVBAUrgehevxTUBmZmZmZtZQQLgehetRKFFA4XoUrkfxUkBI4XoUrrdQQEjhehSuZ1JA",
            "dtype": "f8"
           },
           "yaxis": "y"
          },
          {
           "customdata": [
            [
             "Russia",
             "Europe",
             2017,
             145530091,
             1.615,
             7.56
            ],
            [
             "Germany",
             "Europe",
             2017,
             82658409,
             1.458,
             3.74
            ],
            [
             "Turkey",
             "Europe",
             2017,
             81116451,
             1.969,
             11.24
            ],
            [
             "United Kingdom",
             "Europe",
             2017,
             66727463,
             1.887,
             4.33
            ],
            [
             "France",
             "Europe",
             2017,
             64842513,
             1.98,
             4.08
            ],
            [
             "Italy",
             "Europe",
             2017,
             60673694,
             1.546,
             3.16
            ],
            [
             "Spain",
             "Europe",
             2017,
             46647425,
             1.562,
             3.12
            ],
            [
             "Ukraine",
             "Europe",
             2017,
             44487708,
             1.514,
             8.97
            ],
            [
             "Poland",
             "Europe",
             2017,
             37953176,
             1.469,
             4.57
            ],
            [
             "Romania",
             "Europe",
             2017,
             19653966,
             1.471,
             7.82
            ],
            [
             "Netherlands",
             "Europe",
             2017,
             17021343,
             1.791,
             3.93
            ],
            [
             "Belgium",
             "Europe",
             2017,
             11419752,
             1.869,
             3.76
            ],
            [
             "Czech Republic",
             "Europe",
             2017,
             10641032,
             1.637,
             3.3
            ],
            [
             "Greece",
             "Europe",
             2017,
             10569449,
             1.566,
             4.58
            ],
            [
             "Portugal",
             "Europe",
             2017,
             10288527,
             1.322,
             3.7
            ],
            [
             "Sweden",
             "Europe",
             2017,
             9904895,
             1.938,
             2.77
            ],
            [
             "Azerbaijan",
             "Europe",
             2017,
             9845316,
             1.865,
             22.88
            ],
            [
             "Hungary",
             "Europe",
             2017,
             9729822,
             1.465,
             4.54
            ],
            [
             "Belarus",
             "Europe",
             2017,
             9450233,
             1.536,
             3.62
            ],
            [
             "Serbia",
             "Europe",
             2017,
             8829623,
             1.373,
             5.77
            ],
            [
             "Austria",
             "Europe",
             2017,
             8819902,
             1.519,
             3.58
            ],
            [
             "Switzerland",
             "Europe",
             2017,
             8455797,
             1.572,
             4.2
            ],
            [
             "Bulgaria",
             "Europe",
             2017,
             7102452,
             1.604,
             7.38
            ],
            [
             "Denmark",
             "Europe",
             2017,
             5732277,
             1.891,
             4.26
            ],
            [
             "Finland",
             "Europe",
             2017,
             5511372,
             1.858,
             1.85
            ],
            [
             "Slovak Republic",
             "Europe",
             2017,
             5447903,
             1.451,
             5.74
            ],
            [
             "Norway",
             "Europe",
             2017,
             5296324,
             1.93,
             2.6
            ],
            [
             "Ireland",
             "Europe",
             2017,
             4753281,
             1.991,
             3.73
            ],
            [
             "Croatia",
             "Europe",
             2017,
             4182847,
             1.542,
             4.75
            ],
            [
             "Moldova",
             "Europe",
             2017,
             4059687,
             1.455,
             15.99
            ],
            [
             "Georgia",
             "Europe",
             2017,
             4008723,
             1.816,
             10.03
            ],
            [
             "Bosnia and Herzegovina",
             "Europe",
             2017,
             3351534,
             1.348,
             5.93
            ],
            [
             "Armenia",
             "Europe",
             2017,
             2944789,
             1.743,
             13.01
            ],
            [
             "Albania",
             "Europe",
             2017,
             2884169,
             1.775,
             9.02
            ],
            [
             "Lithuania",
             "Europe",
             2017,
             2845419,
             1.574,
             4.42
            ],
            [
             "North Macedonia",
             "Europe",
             2017,
             2081996,
             1.427,
             11.03
            ],
            [
             "Slovenia",
             "Europe",
             2017,
             2076395,
             1.549,
             2.25
            ],
            [
             "Latvia",
             "Europe",
             2017,
             1951097,
             1.666,
             4.17
            ],
            [
             "Estonia",
             "Europe",
             2017,
             1319389,
             1.645,
             2.8
            ],
            [
             "Cyprus",
             "Europe",
             2017,
             1179685,
             1.463,
             2.49
            ],
            [
             "Montenegro",
             "Europe",
             2017,
             627563,
             1.642,
             2.77
            ],
            [
             "Luxembourg",
             "Europe",
             2017,
             591914,
             1.705,
             2.5
            ],
            [
             "Malta",
             "Europe",
             2017,
             437935,
             1.363,
             7.06
            ],
            [
             "Iceland",
             "Europe",
             2017,
             334395,
             2.041,
             2.03
            ]
           ],
           "hovertemplate": "<b>%{hovertext}</b><br><br><extra></extra>",
           "hovertext": [
            "Russia",
            "Germany",
            "Turkey",
            "United Kingdom",
            "France",
            "Italy",
            "Spain",
            "Ukraine",
            "Poland",
            "Romania",
            "Netherlands",
            "Belgium",
            "Czech Republic",
            "Greece",
            "Portugal",
            "Sweden",
            "Azerbaijan",
            "Hungary",
            "Belarus",
            "Serbia",
            "Austria",
            "Switzerland",
            "Bulgaria",
            "Denmark",
            "Finland",
            "Slovak Republic",
            "Norway",
            "Ireland",
            "Croatia",
            "Moldova",
            "Georgia",
            "Bosnia and Herzegovina",
            "Armenia",
            "Albania",
            "Lithuania",
            "North Macedonia",
            "Slovenia",
            "Latvia",
            "Estonia",
            "Cyprus",
            "Montenegro",
            "Luxembourg",
            "Malta",
            "Iceland"
           ],
           "ids": [
            "Russia",
            "Germany",
            "Turkey",
            "United Kingdom",
            "France",
            "Italy",
            "Spain",
            "Ukraine",
            "Poland",
            "Romania",
            "Netherlands",
            "Belgium",
            "Czech Republic",
            "Greece",
            "Portugal",
            "Sweden",
            "Azerbaijan",
            "Hungary",
            "Belarus",
            "Serbia",
            "Austria",
            "Switzerland",
            "Bulgaria",
            "Denmark",
            "Finland",
            "Slovak Republic",
            "Norway",
            "Ireland",
            "Croatia",
            "Moldova",
            "Georgia",
            "Bosnia and Herzegovina",
            "Armenia",
            "Albania",
            "Lithuania",
            "North Macedonia",
            "Slovenia",
            "Latvia",
            "Estonia",
            "Cyprus",
            "Montenegro",
            "Luxembourg",
            "Malta",
            "Iceland"
           ],
           "legendgroup": "Europe",
           "marker": {
            "color": "#ffeb33",
            "size": {
             "bdata": "AAAA1jlZoUEAAACkEbWTQQAAAIz0VpNBAAAAOHHRj0EAAACIWOuOQQAAAPB07oxBAAAACEQ+hkEAAADgoDaFQQAAAMD0GIJBAAAA4FS+ckEAAADwmTtwQQAAAAANyGVBAAAAANFLZEEAAAAg3ShkQQAAAOCxn2NBAAAA4F/kYkEAAACASMdiQQAAAMDjjmJBAAAAIF8GYkEAAADgVtdgQQAAAMCX0mBBAAAAoM4gYEEAAAAA/RdbQQAAAEDt3VVBAAAAADMGVUEAAADAN8hUQQAAAAAxNFRBAAAAQOAhUkEAAACAn+lPQQAAAIAT+U5BAAAAgImVTkEAAAAA95FJQQAAAICKd0ZBAAAAgCQBRkEAAACAdbVFQQAAAADMxD9BAAAAAOuuP0EAAAAAecU9QQAAAADdITRBAAAAACUAMkEAAAAA1iYjQQAAAABUECJBAAAAALy6GkEAAAAA7GgUQQ==",
             "dtype": "f8"
            },
            "sizemode": "area",
            "sizeref": 399812.15944444446,
            "symbol": "circle"
           },
           "mode": "markers",
           "name": "Europe",
           "orientation": "v",
           "showlegend": true,
           "type": "scatter",
           "x": {
            "bdata": "AAAAAMA12EAAAAAAwDLmQAAAAAAAcNhAAAAAAMB240AAAAAAgAXjQAAAAACgReFAAAAAAKC74EAAAAAAAOO+QAAAAACAtNpAAAAAAIDk1kAAAAAAoNLnQAAAAACg4+RAAAAAAMDO30AAAAAAgAbYQAAAAADAYNtAAAAAACDL5kAAAAAAgBzPQAAAAABAO9pAAAAAAEDK0EAAAAAAgNzNQAAAAACgNuZAAAAAAMBR7EAAAAAAgCvSQAAAAADAFOdAAAAAAEAH5EAAAAAAQG3dQAAAAACguO9AAAAAAMBC8EAAAAAAwEzWQAAAAAAAWrhAAAAAAADzwkAAAAAAgPnHQAAAAACAFMFAAAAAAIANx0AAAAAAAOncQAAAAAAAqslAAAAAAMCd3kAAAAAAgHHYQAAAAAAAN91AAAAAAAAj4EAAAAAAQBfQQAAAAADguvZAAAAAAKAP4kAAAAAAAFznQA==",
            "dtype": "f8"
           },
           "xaxis": "x",
           "y": {
            "bdata": "hetRuB4FUkC4HoXrUShUQFyPwvUovFNArkfhehQ+VED2KFyPwrVUQHsUrkfhylRApHA9CtfDVEAzMzMzM6NRQI/C9Shcf1NA7FG4HoXLUkDhehSuR2FUQLgehetRWFRAexSuR+HKU0CPwvUoXD9UQFyPwvUoXFRAAAAAAACgVEBxPQrXo7BRQKRwPQrXM1NAUrgeheuBUkA9CtejcO1SQOF6FK5HcVRAPQrXo3D9VEC4HoXrUbhSQHE9CtejMFRAexSuR+FaVEAK16NwPVpTQPYoXI/ClVRAZmZmZmZ2VEBSuB6F66FTQJqZmZmZOVJAhetRuB41UkCuR+F6FC5TQNejcD0K51JAH4XrUbiOU0DhehSuR8FSQDMzMzMzI1NAZmZmZmZGVEB7FK5H4cpSQPYoXI/ChVNArkfhehRuVECPwvUoXB9TQArXo3A9alRAj8L1KFw/VEAAAAAAALBUQA==",
            "dtype": "f8"
           },
           "yaxis": "y"
          }
         ],
         "name": "2017"
        },
        {
         "data": [
          {
           "mode": "text",
           "showlegend": false,
           "text": [
            "2018"
           ],
           "textfont": {
            "color": "lightgray",
            "size": 200
           },
           "textposition": "middle center",
           "type": "scatter",
           "x": [
            8000
           ],
           "y": [
            45
           ]
          },
          {
           "customdata": [
            [
             "China",
             "Asia",
             2018,
             1427647789,
             1.696,
             8.6
            ],
            [
             "India",
             "Asia",
             2018,
             1352642283,
             2.353,
             36.57
            ],
            [
             "Indonesia",
             "Asia",
             2018,
             267670549,
             2.208,
             24.98
            ],
            [
             "Pakistan",
             "Asia",
             2018,
             212228288,
             2.863,
             69.31
            ],
            [
             "Bangladesh",
             "Asia",
             2018,
             161376713,
             2.032,
             30.16
            ],
            [
             "Japan",
             "Asia",
             2018,
             127202190,
             1.485,
             2.49
            ],
            [
             "Philippines",
             "Asia",
             2018,
             106651394,
             2.877,
             28.37
            ],
            [
             "Vietnam",
             "Asia",
             2018,
             95545959,
             1.66,
             20.68
            ],
            [
             "Iran",
             "Asia",
             2018,
             81800204,
             1.887,
             14.4
            ],
            [
             "Thailand",
             "Asia",
             2018,
             69428454,
             1.363,
             9.1
            ],
            [
             "Myanmar",
             "Asia",
             2018,
             53708318,
             1.847,
             46.19
            ],
            [
             "South Korea",
             "Asia",
             2018,
             51171700,
             1.399,
             3.19
            ],
            [
             "Iraq",
             "Asia",
             2018,
             38433604,
             3.746,
             26.71
            ],
            [
             "Afghanistan",
             "Asia",
             2018,
             37171922,
             3.941,
             62.28
            ],
            [
             "Saudi Arabia",
             "Asia",
             2018,
             33702757,
             2.406,
             7.06
            ],
            [
             "Uzbekistan",
             "Asia",
             2018,
             32476232,
             2.17,
             21.45
            ],
            [
             "Malaysia",
             "Asia",
             2018,
             31528033,
             1.899,
             7.78
            ],
            [
             "Yemen",
             "Asia",
             2018,
             28498683,
             3.519,
             54.96
            ],
            [
             "Nepal",
             "Asia",
             2018,
             28095712,
             2.078,
             32.18
            ],
            [
             "North Korea",
             "Asia",
             2018,
             25549606,
             1.937,
             18.2
            ],
            [
             "Australia",
             "Asia",
             2018,
             24898153,
             1.872,
             3.69
            ],
            [
             "Sri Lanka",
             "Asia",
             2018,
             21228760,
             2.244,
             7.44
            ],
            [
             "Kazakhstan",
             "Asia",
             2018,
             18319616,
             2.352,
             9.91
            ],
            [
             "Syria",
             "Asia",
             2018,
             16945062,
             2.729,
             16.74
            ],
            [
             "Cambodia",
             "Asia",
             2018,
             16249795,
             2.698,
             28
            ],
            [
             "Jordan",
             "Asia",
             2018,
             9965322,
             2.955,
             16.15
            ],
            [
             "United Arab Emirates",
             "Asia",
             2018,
             9630966,
             1.717,
             7.59
            ],
            [
             "Tajikistan",
             "Asia",
             2018,
             9100847,
             3.588,
             34.77
            ],
            [
             "Papua New Guinea",
             "Asia",
             2018,
             8606324,
             3.524,
             47.81
            ],
            [
             "Israel",
             "Asia",
             2018,
             8381507,
             2.788,
             3.73
            ],
            [
             "Hong Kong, China",
             "Asia",
             2018,
             7371728,
             1.222,
             2.08
            ],
            [
             "Lao",
             "Asia",
             2018,
             7061498,
             2.691,
             47.33
            ],
            [
             "Lebanon",
             "Asia",
             2018,
             6859408,
             1.476,
             7.44
            ],
            [
             "Kyrgyz Republic",
             "Asia",
             2018,
             6304025,
             2.906,
             18.94
            ],
            [
             "Turkmenistan",
             "Asia",
             2018,
             5850902,
             2.2,
             45.81
            ],
            [
             "Singapore",
             "Asia",
             2018,
             5757503,
             1.309,
             2.81
            ],
            [
             "Palestine",
             "Asia",
             2018,
             4862978,
             3.695,
             20.27
            ],
            [
             "Oman",
             "Asia",
             2018,
             4829476,
             2.524,
             11.42
            ],
            [
             "New Zealand",
             "Asia",
             2018,
             4743131,
             1.981,
             5.7
            ],
            [
             "Kuwait",
             "Asia",
             2018,
             4137314,
             2.5,
             7.85
            ],
            [
             "Mongolia",
             "Asia",
             2018,
             3170214,
             2.33,
             16.32
            ],
            [
             "Qatar",
             "Asia",
             2018,
             2781682,
             1.912,
             6.83
            ],
            [
             "Bahrain",
             "Asia",
             2018,
             1569440,
             1.965,
             7.09
            ],
            [
             "Timor-Leste",
             "Asia",
             2018,
             1267975,
             5.241,
             45.78
            ],
            [
             "Fiji",
             "Asia",
             2018,
             883490,
             2.46,
             25.62
            ],
            [
             "Bhutan",
             "Asia",
             2018,
             754396,
             2.046,
             29.7
            ],
            [
             "Solomon Islands",
             "Asia",
             2018,
             652856,
             3.736,
             19.97
            ],
            [
             "Maldives",
             "Asia",
             2018,
             515704,
             2.053,
             8.62
            ],
            [
             "Brunei",
             "Asia",
             2018,
             428960,
             1.907,
             11.55
            ],
            [
             "Vanuatu",
             "Asia",
             2018,
             292675,
             3.196,
             26.44
            ],
            [
             "Samoa",
             "Asia",
             2018,
             196128,
             3.871,
             15.77
            ],
            [
             "Kiribati",
             "Asia",
             2018,
             115842,
             2.801,
             52.51
            ],
            [
             "Micronesia, Fed. Sts.",
             "Asia",
             2018,
             112640,
             3.055,
             30.76
            ],
            [
             "Tonga",
             "Asia",
             2018,
             103199,
             3.547,
             15.63
            ]
           ],
           "hovertemplate": "<b>%{hovertext}</b><br><br><extra></extra>",
           "hovertext": [
            "China",
            "India",
            "Indonesia",
            "Pakistan",
            "Bangladesh",
            "Japan",
            "Philippines",
            "Vietnam",
            "Iran",
            "Thailand",
            "Myanmar",
            "South Korea",
            "Iraq",
            "Afghanistan",
            "Saudi Arabia",
            "Uzbekistan",
            "Malaysia",
            "Yemen",
            "Nepal",
            "North Korea",
            "Australia",
            "Sri Lanka",
            "Kazakhstan",
            "Syria",
            "Cambodia",
            "Jordan",
            "United Arab Emirates",
            "Tajikistan",
            "Papua New Guinea",
            "Israel",
            "Hong Kong, China",
            "Lao",
            "Lebanon",
            "Kyrgyz Republic",
            "Turkmenistan",
            "Singapore",
            "Palestine",
            "Oman",
            "New Zealand",
            "Kuwait",
            "Mongolia",
            "Qatar",
            "Bahrain",
            "Timor-Leste",
            "Fiji",
            "Bhutan",
            "Solomon Islands",
            "Maldives",
            "Brunei",
            "Vanuatu",
            "Samoa",
            "Kiribati",
            "Micronesia, Fed. Sts.",
            "Tonga"
           ],
           "ids": [
            "China",
            "India",
            "Indonesia",
            "Pakistan",
            "Bangladesh",
            "Japan",
            "Philippines",
            "Vietnam",
            "Iran",
            "Thailand",
            "Myanmar",
            "South Korea",
            "Iraq",
            "Afghanistan",
            "Saudi Arabia",
            "Uzbekistan",
            "Malaysia",
            "Yemen",
            "Nepal",
            "North Korea",
            "Australia",
            "Sri Lanka",
            "Kazakhstan",
            "Syria",
            "Cambodia",
            "Jordan",
            "United Arab Emirates",
            "Tajikistan",
            "Papua New Guinea",
            "Israel",
            "Hong Kong, China",
            "Lao",
            "Lebanon",
            "Kyrgyz Republic",
            "Turkmenistan",
            "Singapore",
            "Palestine",
            "Oman",
            "New Zealand",
            "Kuwait",
            "Mongolia",
            "Qatar",
            "Bahrain",
            "Timor-Leste",
            "Fiji",
            "Bhutan",
            "Solomon Islands",
            "Maldives",
            "Brunei",
            "Vanuatu",
            "Samoa",
            "Kiribati",
            "Micronesia, Fed. Sts.",
            "Tonga"
           ],
           "legendgroup": "Asia",
           "marker": {
            "color": "#ff798e",
            "size": {
             "bdata": "AABASwtG1UEAAMC66yfUQQAAACqo6K9BAAAAgLFMqUEAAACS0zyjQQAAADjOU55BAAAACHxtmUEAAACcqceWQQAAADCwgJNBAAAAmJONkEEAAADwMJyJQQAAAKCLZohBAAAAIJpTgkEAAACQlrmBQQAAACgbEoBBAAAAgMT4fkEAAAAQRhF+QQAAALCvLXtBAAAAAE7LekEAAABgsl14QQAAAJCmvndBAAAAgM0+dEEAAAAAkHhxQQAAAGD6KHBBAAAAYHj+bkEAAABA4QFjQQAAAMCeXmJBAAAA4MVbYUEAAACATmpgQQAAAMAQ+V9BAAAAAPQeXEEAAACA/u9aQQAAAACkKlpBAAAAQEYMWEEAAACAxVFWQQAAAMCP9lVBAAAAgACNUkEAAAAASWxSQQAAAMD2F1JBAAAAALGQT0EAAAAA0y9IQQAAAAD5OEVBAAAAAKDyN0EAAAAAB1kzQQAAAABE9ipBAAAAALgFJ0EAAAAAcOwjQQAAAADgeR9BAAAAAIAuGkEAAAAADN0RQQAAAAAA8QdBAAAAACBI/EAAAAAAAID7QAAAAADwMflA",
             "dtype": "f8"
            },
            "sizemode": "area",
            "sizeref": 399812.15944444446,
            "symbol": "circle"
           },
           "mode": "markers",
           "name": "Asia",
           "orientation": "v",
           "showlegend": true,
           "type": "scatter",
           "x": {
            "bdata": "AAAAAICdz0AAAAAAAPO6QAAAAAAAq8ZAAAAAAABAs0AAAAAAAE6uQAAAAADAL+NAAAAAAAAHv0AAAAAAANG5QAAAAACAi9FAAAAAAECC0EAAAAAAACK3QAAAAAAg9eFAAAAAAIBmzkAAAAAAABybQAAAAACA7OdAAAAAAABguEAAAAAAAITbQAAAAAAAaqJAAAAAAABIpUAAAAAAANCaQAAAAADgL+ZAAAAAAIBZx0AAAAAAgCjYQAAAAAAAqKZAAAAAAAA8rkAAAAAAgDrAQAAAAACAQ/BAAAAAAADqp0AAAAAAANqtQAAAAACgb+BAAAAAAED960AAAAAAANa5QAAAAACAq8ZAAAAAAADuqkAAAAAAQLrQQAAAAACw/vVAAAAAAAA7skAAAAAA4PvhQAAAAABgwOFAAAAAAGD970AAAAAAgNjHQAAAAABAeftAAAAAAKB+5EAAAAAAAIy6QAAAAACAGsNAAAAAAABCwkAAAAAAALygQAAAAACAlcpAAAAAAKCH8UAAAAAAADymQAAAAAAAybdAAAAAAADMn0AAAAAAAPioQAAAAAAAQLZA",
            "dtype": "f8"
           },
           "xaxis": "x",
           "y": {
            "bdata": "MzMzMzNTU0CuR+F6FE5RQM3MzMzM7FFA4XoUrkfBUEApXI/C9VhSQEjhehSuF1VASOF6FK53UUBmZmZmZqZSQKRwPQrXY1NA16NwPQqXU0AUrkfhejRRQBSuR+F6tFRAmpmZmZk5U0AfhetRuN5PQB+F61G4PlNAw/UoXI+iUUApXI/C9bhSQBSuR+F6BFFAH4XrUbjOUUDsUbgehQtSQDMzMzMzo1RAuB6F61FoU0AfhetRuB5SQPYoXI/CpVFACtejcD2KUUDNzMzMzNxTQB+F61G4XlJAMzMzMzOjUUA9CtejcF1NQLgehetRyFRAUrgehesRVUB7FK5H4fpQQHE9CtejgFNA9ihcj8I1UkCuR+F6FI5RQK5H4XoUPlVAcT0K16NAU0D2KFyPwlVTQFK4HoXrcVRArkfhehTOVEBI4XoUrkdRQIXrUbgeFVRAuB6F61HoU0AUrkfhesRRQArXo3A9ClFAmpmZmZmZUkA9CtejcC1RQHE9CtejcFRAj8L1KFzfUkDXo3A9CjdQQOF6FK5HQVJAFK5H4XpUT0D2KFyPwtVQQEjhehSu91FA",
            "dtype": "f8"
           },
           "yaxis": "y"
          },
          {
           "customdata": [
            [
             "United States",
             "Americas",
             2018,
             327096263,
             1.974,
             6.53
            ],
            [
             "Brazil",
             "Americas",
             2018,
             209469320,
             1.744,
             14.35
            ],
            [
             "Mexico",
             "Americas",
             2018,
             126190782,
             2.046,
             12.73
            ],
            [
             "Colombia",
             "Americas",
             2018,
             49661056,
             2.154,
             14.21
            ],
            [
             "Argentina",
             "Americas",
             2018,
             44361150,
             2.113,
             9.94
            ],
            [
             "Canada",
             "Americas",
             2018,
             37074558,
             1.707,
             4.97
            ],
            [
             "Peru",
             "Americas",
             2018,
             31989265,
             2.279,
             14.31
            ],
            [
             "Venezuela",
             "Americas",
             2018,
             28887117,
             2.265,
             24.51
            ],
            [
             "Chile",
             "Americas",
             2018,
             18729166,
             1.783,
             7.19
            ],
            [
             "Guatemala",
             "Americas",
             2018,
             17247855,
             3.492,
             26.19
            ],
            [
             "Ecuador",
             "Americas",
             2018,
             17084359,
             2.415,
             14.23
            ],
            [
             "Bolivia",
             "Americas",
             2018,
             11353140,
             3.017,
             26.8
            ],
            [
             "Cuba",
             "Americas",
             2018,
             11338146,
             1.455,
             4.98
            ],
            [
             "Haiti",
             "Americas",
             2018,
             11123183,
             2.868,
             64.76
            ],
            [
             "Dominican Republic",
             "Americas",
             2018,
             10627147,
             2.334,
             28.85
            ],
            [
             "Honduras",
             "Americas",
             2018,
             9587523,
             2.778,
             17.6
            ],
            [
             "Paraguay",
             "Americas",
             2018,
             6956069,
             2.704,
             20.15
            ],
            [
             "Nicaragua",
             "Americas",
             2018,
             6465502,
             2.317,
             18.29
            ],
            [
             "El Salvador",
             "Americas",
             2018,
             6420740,
             2.066,
             13.65
            ],
            [
             "Costa Rica",
             "Americas",
             2018,
             4999443,
             1.723,
             8.79
            ],
            [
             "Panama",
             "Americas",
             2018,
             4176868,
             2.347,
             15.27
            ],
            [
             "Uruguay",
             "Americas",
             2018,
             3449290,
             1.999,
             7.58
            ],
            [
             "Jamaica",
             "Americas",
             2018,
             2934853,
             2.15,
             14.42
            ],
            [
             "Trinidad and Tobago",
             "Americas",
             2018,
             1389841,
             1.79,
             18.3
            ],
            [
             "Guyana",
             "Americas",
             2018,
             779007,
             2.381,
             30.14
            ],
            [
             "Suriname",
             "Americas",
             2018,
             575987,
             2.151,
             18.87
            ],
            [
             "Bahamas",
             "Americas",
             2018,
             385635,
             1.867,
             10.23
            ],
            [
             "Belize",
             "Americas",
             2018,
             383071,
             2.499,
             13.01
            ],
            [
             "Barbados",
             "Americas",
             2018,
             286640,
             1.863,
             12.17
            ],
            [
             "St. Lucia",
             "Americas",
             2018,
             181890,
             1.813,
             16.62
            ],
            [
             "Grenada",
             "Americas",
             2018,
             111449,
             2.062,
             15.22
            ],
            [
             "St. Vincent and the Grenadines",
             "Americas",
             2018,
             110210,
             1.892,
             16.38
            ],
            [
             "Antigua and Barbuda",
             "Americas",
             2018,
             96282,
             2.029,
             6.44
            ]
           ],
           "hovertemplate": "<b>%{hovertext}</b><br><br><extra></extra>",
           "hovertext": [
            "United States",
            "Brazil",
            "Mexico",
            "Colombia",
            "Argentina",
            "Canada",
            "Peru",
            "Venezuela",
            "Chile",
            "Guatemala",
            "Ecuador",
            "Bolivia",
            "Cuba",
            "Haiti",
            "Dominican Republic",
            "Honduras",
            "Paraguay",
            "Nicaragua",
            "El Salvador",
            "Costa Rica",
            "Panama",
            "Uruguay",
            "Jamaica",
            "Trinidad and Tobago",
            "Guyana",
            "Suriname",
            "Bahamas",
            "Belize",
            "Barbados",
            "St. Lucia",
            "Grenada",
            "St. Vincent and the Grenadines",
            "Antigua and Barbuda"
           ],
           "ids": [
            "United States",
            "Brazil",
            "Mexico",
            "Colombia",
            "Argentina",
            "Canada",
            "Peru",
            "Venezuela",
            "Chile",
            "Guatemala",
            "Ecuador",
            "Bolivia",
            "Cuba",
            "Haiti",
            "Dominican Republic",
            "Honduras",
            "Paraguay",
            "Nicaragua",
            "El Salvador",
            "Costa Rica",
            "Panama",
            "Uruguay",
            "Jamaica",
            "Trinidad and Tobago",
            "Guyana",
            "Suriname",
            "Bahamas",
            "Belize",
            "Barbados",
            "St. Lucia",
            "Grenada",
            "St. Vincent and the Grenadines",
            "Antigua and Barbuda"
           ],
           "legendgroup": "Americas",
           "marker": {
            "color": "#98ef33",
            "size": {
             "bdata": "AAAAxxd/s0EAAAAQf/ioQQAAAPgSFp5BAAAAACSuh0EAAADwLSeFQQAAAPCzrYFBAAAAEOGBfkEAAADQhIx7QQAAAOCM3HFBAAAA8OZycEEAAABw/EpwQQAAAICGp2VBAAAAQDSgZUEAAADgPTdlQQAAAGAJRWRBAAAAYGhJYkEAAABACYlaQQAAAID3qVhBAAAAAEF+WEEAAADARBJTQQAAAADy3U9BAAAAAOVQSkEAAACAImRGQQAAAAARNTVBAAAAAP7FJ0EAAAAA5pMhQQAAAACMiRdBAAAAAHxhF0EAAAAAwH4RQQAAAAAQNAZBAAAAAJA1+0AAAAAAIOj6QAAAAACggfdA",
             "dtype": "f8"
            },
            "sizemode": "area",
            "sizeref": 399812.15944444446,
            "symbol": "circle"
           },
           "mode": "markers",
           "name": "Americas",
           "orientation": "v",
           "showlegend": true,
           "type": "scatter",
           "x": {
            "bdata": "AAAAACAw60AAAAAAgOXLQAAAAACArdFAAAAAAIAKykAAAAAAgNrRQAAAAABgguVAAAAAAAD9yEAAAAAAAFrIQAAAAACAVtZAAAAAAABVvUAAAAAAAFbEQAAAAAAASrtAAAAAAADRvkAAAAAAAOCZQAAAAACA5s5AAAAAAADQsUAAAAAAgI/HQAAAAAAALrNAAAAAAADhvEAAAAAAgKLOQAAAAACAJNZAAAAAAABt1EAAAAAAACXAQAAAAADA+dtAAAAAAADBvUAAAAAAAOjKQAAAAABAKNxAAAAAAACCvkAAAAAAgE7QQAAAAAAAHMhAAAAAAABJy0AAAAAAAF7FQAAAAAAANtdA",
            "dtype": "f8"
           },
           "xaxis": "x",
           "y": {
            "bdata": "hetRuB6lU0AfhetRuO5SQBSuR+F65FJAMzMzMzMTVECkcD0K1zNTQKRwPQrXg1RApHA9CtcjVEB7FK5H4cpSQPYoXI/C9VNAuB6F61E4UkDNzMzMzDxTQKRwPQrXQ1JAH4XrUbieU0CF61G4HlVQQMP1KFyPUlJAexSuR+GKUkBxPQrXoxBTQOF6FK5HwVNAj8L1KFyPUkCamZmZmelTQK5H4XoU3lNA7FG4HoVLU0BxPQrXo7BSQLgehetRmFJA16NwPQpXUUCamZmZmQlSQOxRuB6Fe1JAw/UoXI+SUkCuR+F6FE5TQFyPwvUo7FJA16NwPQqHUkAK16NwPRpSQJqZmZmZSVNA",
            "dtype": "f8"
           },
           "yaxis": "y"
          },
          {
           "customdata": [
            [
             "Nigeria",
             "Africa",
             2018,
             195874685,
             5.711,
             119.91
            ],
            [
             "Ethiopia",
             "Africa",
             2018,
             109224410,
             3.949,
             55.24
            ],
            [
             "Egypt",
             "Africa",
             2018,
             98423602,
             2.607,
             21.23
            ],
            [
             "Congo, Dem. Rep.",
             "Africa",
             2018,
             84068092,
             5.419,
             88.1
            ],
            [
             "South Africa",
             "Africa",
             2018,
             57792520,
             2.268,
             33.8
            ],
            [
             "Tanzania",
             "Africa",
             2018,
             56313444,
             4.877,
             53.03
            ],
            [
             "Kenya",
             "Africa",
             2018,
             51392570,
             4.044,
             41.12
            ],
            [
             "Uganda",
             "Africa",
             2018,
             42729032,
             5.389,
             46.43
            ],
            [
             "Algeria",
             "Africa",
             2018,
             42228415,
             2.535,
             23.48
            ],
            [
             "Sudan",
             "Africa",
             2018,
             41801532,
             4.089,
             60.47
            ],
            [
             "Morocco",
             "Africa",
             2018,
             36029089,
             2.565,
             22.41
            ],
            [
             "Angola",
             "Africa",
             2018,
             30809787,
             5.367,
             77.16
            ],
            [
             "Ghana",
             "Africa",
             2018,
             29767108,
             3.568,
             47.91
            ],
            [
             "Mozambique",
             "Africa",
             2018,
             29496009,
             4.825,
             73.22
            ],
            [
             "Madagascar",
             "Africa",
             2018,
             26262313,
             4.18,
             53.57
            ],
            [
             "Cameroon",
             "Africa",
             2018,
             25216261,
             4.415,
             76.06
            ],
            [
             "Cote d'Ivoire",
             "Africa",
             2018,
             25069226,
             4.54,
             80.88
            ],
            [
             "Niger",
             "Africa",
             2018,
             22442831,
             7.393,
             83.66
            ],
            [
             "Burkina Faso",
             "Africa",
             2018,
             19751466,
             5.175,
             76.42
            ],
            [
             "Mali",
             "Africa",
             2018,
             19077755,
             6.688,
             97.77
            ],
            [
             "Malawi",
             "Africa",
             2018,
             18143215,
             5.012,
             49.67
            ],
            [
             "Zambia",
             "Africa",
             2018,
             17351714,
             5.441,
             57.84
            ],
            [
             "Senegal",
             "Africa",
             2018,
             15854324,
             4.595,
             43.63
            ],
            [
             "Chad",
             "Africa",
             2018,
             15477727,
             5.718,
             118.98
            ],
            [
             "Somalia",
             "Africa",
             2018,
             15008225,
             6.049,
             121.53
            ],
            [
             "Zimbabwe",
             "Africa",
             2018,
             14438812,
             3.173,
             46.23
            ],
            [
             "Guinea",
             "Africa",
             2018,
             12414292,
             4.508,
             100.78
            ],
            [
             "Rwanda",
             "Africa",
             2018,
             12301969,
             4.046,
             35.27
            ],
            [
             "Tunisia",
             "Africa",
             2018,
             11565203,
             1.907,
             16.99
            ],
            [
             "Benin",
             "Africa",
             2018,
             11485035,
             4.46,
             92.99
            ],
            [
             "Burundi",
             "Africa",
             2018,
             11175379,
             5.592,
             58.46
            ],
            [
             "South Sudan",
             "Africa",
             2018,
             10975924,
             4.496,
             98.58
            ],
            [
             "Togo",
             "Africa",
             2018,
             7889095,
             4.298,
             69.77
            ],
            [
             "Sierra Leone",
             "Africa",
             2018,
             7650149,
             4.332,
             105.07
            ],
            [
             "Libya",
             "Africa",
             2018,
             6678565,
             2.126,
             11.96
            ],
            [
             "Congo, Rep.",
             "Africa",
             2018,
             5244363,
             4.668,
             50.11
            ],
            [
             "Liberia",
             "Africa",
             2018,
             4818976,
             4.43,
             70.94
            ],
            [
             "Central African Republic",
             "Africa",
             2018,
             4666375,
             3.953,
             116.48
            ],
            [
             "Mauritania",
             "Africa",
             2018,
             4403312,
             4.361,
             75.67
            ],
            [
             "Eritrea",
             "Africa",
             2018,
             3452797,
             4.258,
             41.92
            ],
            [
             "Namibia",
             "Africa",
             2018,
             2448300,
             2.805,
             39.62
            ],
            [
             "Gambia",
             "Africa",
             2018,
             2280092,
             5.505,
             58.36
            ],
            [
             "Botswana",
             "Africa",
             2018,
             2254067,
             2.426,
             36.47
            ],
            [
             "Gabon",
             "Africa",
             2018,
             2119275,
             3.77,
             44.76
            ],
            [
             "Lesotho",
             "Africa",
             2018,
             2108327,
             2.796,
             81.11
            ],
            [
             "Guinea-Bissau",
             "Africa",
             2018,
             1874304,
             4.619,
             81.48
            ],
            [
             "Equatorial Guinea",
             "Africa",
             2018,
             1308966,
             4.357,
             85.31
            ],
            [
             "Mauritius",
             "Africa",
             2018,
             1267184,
             1.498,
             15.5
            ],
            [
             "Eswatini",
             "Africa",
             2018,
             1136274,
             3.031,
             54.37
            ],
            [
             "Djibouti",
             "Africa",
             2018,
             958923,
             3.08,
             59.34
            ],
            [
             "Comoros",
             "Africa",
             2018,
             832322,
             4.403,
             67.47
            ],
            [
             "Cape Verde",
             "Africa",
             2018,
             543764,
             2.122,
             19.49
            ],
            [
             "Sao Tome and Principe",
             "Africa",
             2018,
             211032,
             3.764,
             31.21
            ],
            [
             "Seychelles",
             "Africa",
             2018,
             97094,
             2.074,
             14.45
            ]
           ],
           "hovertemplate": "<b>%{hovertext}</b><br><br><extra></extra>",
           "hovertext": [
            "Nigeria",
            "Ethiopia",
            "Egypt",
            "Congo, Dem. Rep.",
            "South Africa",
            "Tanzania",
            "Kenya",
            "Uganda",
            "Algeria",
            "Sudan",
            "Morocco",
            "Angola",
            "Ghana",
            "Mozambique",
            "Madagascar",
            "Cameroon",
            "Cote d'Ivoire",
            "Niger",
            "Burkina Faso",
            "Mali",
            "Malawi",
            "Zambia",
            "Senegal",
            "Chad",
            "Somalia",
            "Zimbabwe",
            "Guinea",
            "Rwanda",
            "Tunisia",
            "Benin",
            "Burundi",
            "South Sudan",
            "Togo",
            "Sierra Leone",
            "Libya",
            "Congo, Rep.",
            "Liberia",
            "Central African Republic",
            "Mauritania",
            "Eritrea",
            "Namibia",
            "Gambia",
            "Botswana",
            "Gabon",
            "Lesotho",
            "Guinea-Bissau",
            "Equatorial Guinea",
            "Mauritius",
            "Eswatini",
            "Djibouti",
            "Comoros",
            "Cape Verde",
            "Sao Tome and Principe",
            "Seychelles"
           ],
           "ids": [
            "Nigeria",
            "Ethiopia",
            "Egypt",
            "Congo, Dem. Rep.",
            "South Africa",
            "Tanzania",
            "Kenya",
            "Uganda",
            "Algeria",
            "Sudan",
            "Morocco",
            "Angola",
            "Ghana",
            "Mozambique",
            "Madagascar",
            "Cameroon",
            "Cote d'Ivoire",
            "Niger",
            "Burkina Faso",
            "Mali",
            "Malawi",
            "Zambia",
            "Senegal",
            "Chad",
            "Somalia",
            "Zimbabwe",
            "Guinea",
            "Rwanda",
            "Tunisia",
            "Benin",
            "Burundi",
            "South Sudan",
            "Togo",
            "Sierra Leone",
            "Libya",
            "Congo, Rep.",
            "Liberia",
            "Central African Republic",
            "Mauritania",
            "Eritrea",
            "Namibia",
            "Gambia",
            "Botswana",
            "Gabon",
            "Lesotho",
            "Guinea-Bissau",
            "Equatorial Guinea",
            "Mauritius",
            "Eswatini",
            "Djibouti",
            "Comoros",
            "Cape Verde",
            "Sao Tome and Principe",
            "Seychelles"
           ],
           "legendgroup": "Africa",
           "marker": {
            "color": "#33dded",
            "size": {
             "bdata": "AAAA+p5Zp0EAAABohwqaQQAAAMhMd5dBAAAA8BsLlEEAAABAwI6LQQAAACAz2opBAAAA0IGBiEEAAABA8l+EQQAAAPjVIoRBAAAA4Lnug0EAAAAIFS6BQQAAALDrYX1BAAAAQFxjfEEAAACQLCF8QQAAAJCyC3lBAAAAUFAMeEEAAACgauh3QQAAAPA0Z3VBAAAAoCLWckEAAACwpzFyQQAAAPB+TXFBAAAAIEKMcEEAAACAXj1uQQAAAOB7hW1BAAAAIDygbEEAAACAM4prQQAAAICqrWdBAAAAINJ2Z0EAAABgEg9mQQAAAGDt52VBAAAAYLpQZUEAAACAVu9kQQAAAMAxGF5BAAAAQNkuXUEAAABACXpZQQAAAMByAVRBAAAAAAhiUkEAAADAAc1RQQAAAAAczFBBAAAAgL5XSkEAAAAA1q1CQQAAAABOZUFBAAAAgHkyQUEAAACANStAQQAAAIDTFUBBAAAAAICZPEEAAAAAJvkzQQAAAADwVTNBAAAAAJJWMUEAAAAAlkMtQQAAAACEZilBAAAAACiYIEEAAAAAwMIJQQAAAABgtPdA",
             "dtype": "f8"
            },
            "sizemode": "area",
            "sizeref": 399812.15944444446,
            "symbol": "circle"
           },
           "mode": "markers",
           "name": "Africa",
           "orientation": "v",
           "showlegend": true,
           "type": "scatter",
           "x": {
            "bdata": "AAAAAADEtEAAAAAAAAicQAAAAAAAg8VAAAAAAADYiUAAAAAAgLfHQAAAAAAAyKZAAAAAAAAKqEAAAAAAADycQAAAAAAAH8tAAAAAAABvsUAAAAAAAOK9QAAAAAAAXbZAAAAAAAB0sEAAAAAAAHCSQAAAAAAAtJZAAAAAAAAwqkAAAAAAACqtQAAAAAAAII1AAAAAAABwm0AAAAAAABCgQAAAAAAALJJAAAAAAAA0rUAAAAAAADiqQAAAAAAASJtAAAAAAACog0AAAAAAAHqkQAAAAAAARKJAAAAAAABMn0AAAAAAAKzFQAAAAAAA0KBAAAAAAACghEAAAAAAALCbQAAAAAAAdJhAAAAAAABElkAAAAAAgPnRQAAAAAAAoLNAAAAAAAAkkkAAAAAAADiIQAAAAAAAGK1AAAAAAAB4lUAAAAAAAFXDQAAAAAAAtJdAAAAAAIAh0EAAAAAAABnPQAAAAAAAYqZAAAAAAADwmEAAAAAAQGDUQAAAAADAlNRAAAAAAACdwkAAAAAAAEKrQAAAAAAApKNAAAAAAAAGukAAAAAAALKnQAAAAACAetpA",
            "dtype": "f8"
           },
           "xaxis": "x",
           "y": {
            "bdata": "pHA9CtczUEDhehSuRzFRQKRwPQrXs1FAXI/C9ShcT0ApXI/C9ahQQFK4HoXr0VBAw/UoXI+SUEBcj8L1KIxQQOxRuB6Fe1NAw/UoXI+iUUDNzMzMzIxSQNejcD0KJ1BAhetRuB51UEC4HoXrUZhNQK5H4XoU7k9A9ihcj8K1T0DXo3A9CndPQGZmZmZmZk9A7FG4HoULT0D2KFyPwjVPQD0K16Nw3U9AFK5H4XrUT0D2KFyPwhVRQArXo3A9Kk5AUrgehetxTUAfhetRuN5OQJqZmZmZmU5AFK5H4Xo0UUBSuB6F66FTQFyPwvUoPFBAMzMzMzPzTkAfhetRuL5NQArXo3A9KlBAcT0K16NwTkAK16NwPUpSQD0K16NwfU9AZmZmZmY2UEC4HoXrUThKQMP1KFyPslFASOF6FK6HT0BI4XoUrrdQQIXrUbgehVBAUrgehethUUBxPQrXozBRQJqZmZmZuUtACtejcD0qTkCamZmZmXlQQClcj8L1uFJAAAAAAACATkCkcD0K1wNRQGZmZmZmNlFAj8L1KFz/UkBmZmZmZsZQQOxRuB6Fa1JA",
            "dtype": "f8"
           },
           "yaxis": "y"
          },
          {
           "customdata": [
            [
             "Russia",
             "Europe",
             2018,
             145734034,
             1.62,
             7.18
            ],
            [
             "Germany",
             "Europe",
             2018,
             83124413,
             1.466,
             3.66
            ],
            [
             "Turkey",
             "Europe",
             2018,
             82340090,
             1.952,
             10.6
            ],
            [
             "United Kingdom",
             "Europe",
             2018,
             67141678,
             1.888,
             4.26
            ],
            [
             "France",
             "Europe",
             2018,
             64990512,
             1.981,
             4.04
            ],
            [
             "Italy",
             "Europe",
             2018,
             60627291,
             1.559,
             3.03
            ],
            [
             "Spain",
             "Europe",
             2018,
             46692863,
             1.574,
             3.03
            ],
            [
             "Ukraine",
             "Europe",
             2018,
             44246158,
             1.525,
             8.73
            ],
            [
             "Poland",
             "Europe",
             2018,
             37921585,
             1.481,
             4.45
            ],
            [
             "Romania",
             "Europe",
             2018,
             19506110,
             1.484,
             7.28
            ],
            [
             "Netherlands",
             "Europe",
             2018,
             17059560,
             1.795,
             3.87
            ],
            [
             "Belgium",
             "Europe",
             2018,
             11482180,
             1.873,
             3.65
            ],
            [
             "Czech Republic",
             "Europe",
             2018,
             10665679,
             1.652,
             3.37
            ],
            [
             "Greece",
             "Europe",
             2018,
             10522244,
             1.576,
             4.45
            ],
            [
             "Portugal",
             "Europe",
             2018,
             10256192,
             1.329,
             3.75
            ],
            [
             "Sweden",
             "Europe",
             2018,
             9971630,
             1.941,
             2.71
            ],
            [
             "Azerbaijan",
             "Europe",
             2018,
             9949537,
             1.852,
             21.52
            ],
            [
             "Hungary",
             "Europe",
             2018,
             9707502,
             1.477,
             4.27
            ],
            [
             "Belarus",
             "Europe",
             2018,
             9452615,
             1.546,
             3.42
            ],
            [
             "Austria",
             "Europe",
             2018,
             8891383,
             1.53,
             3.52
            ],
            [
             "Serbia",
             "Europe",
             2018,
             8802741,
             1.379,
             5.55
            ],
            [
             "Switzerland",
             "Europe",
             2018,
             8525614,
             1.582,
             4.12
            ],
            [
             "Bulgaria",
             "Europe",
             2018,
             7051610,
             1.618,
             7.06
            ],
            [
             "Denmark",
             "Europe",
             2018,
             5752131,
             1.894,
             4.22
            ],
            [
             "Finland",
             "Europe",
             2018,
             5522585,
             1.859,
             1.7
            ],
            [
             "Slovak Republic",
             "Europe",
             2018,
             5453017,
             1.464,
             5.59
            ],
            [
             "Norway",
             "Europe",
             2018,
             5337960,
             1.93,
             2.54
            ],
            [
             "Ireland",
             "Europe",
             2018,
             4818694,
             1.99,
             3.66
            ],
            [
             "Croatia",
             "Europe",
             2018,
             4156407,
             1.552,
             4.67
            ],
            [
             "Moldova",
             "Europe",
             2018,
             4051950,
             1.46,
             15.79
            ],
            [
             "Georgia",
             "Europe",
             2018,
             4002946,
             1.817,
             9.81
            ],
            [
             "Bosnia and Herzegovina",
             "Europe",
             2018,
             3323929,
             1.364,
             5.81
            ],
            [
             "Armenia",
             "Europe",
             2018,
             2951741,
             1.744,
             12.38
            ],
            [
             "Albania",
             "Europe",
             2018,
             2882735,
             1.77,
             8.82
            ],
            [
             "Lithuania",
             "Europe",
             2018,
             2801270,
             1.586,
             4.04
            ],
            [
             "North Macedonia",
             "Europe",
             2018,
             2082957,
             1.43,
             9.9
            ],
            [
             "Slovenia",
             "Europe",
             2018,
             2077836,
             1.559,
             2.14
            ],
            [
             "Latvia",
             "Europe",
             2018,
             1928461,
             1.679,
             3.86
            ],
            [
             "Estonia",
             "Europe",
             2018,
             1322913,
             1.661,
             2.65
            ],
            [
             "Cyprus",
             "Europe",
             2018,
             1189262,
             1.468,
             2.38
            ],
            [
             "Montenegro",
             "Europe",
             2018,
             627803,
             1.64,
             2.55
            ],
            [
             "Luxembourg",
             "Europe",
             2018,
             604244,
             1.712,
             2.42
            ],
            [
             "Malta",
             "Europe",
             2018,
             439255,
             1.371,
             7.02
            ],
            [
             "Iceland",
             "Europe",
             2018,
             336712,
             2.032,
             1.96
            ]
           ],
           "hovertemplate": "<b>%{hovertext}</b><br><br><extra></extra>",
           "hovertext": [
            "Russia",
            "Germany",
            "Turkey",
            "United Kingdom",
            "France",
            "Italy",
            "Spain",
            "Ukraine",
            "Poland",
            "Romania",
            "Netherlands",
            "Belgium",
            "Czech Republic",
            "Greece",
            "Portugal",
            "Sweden",
            "Azerbaijan",
            "Hungary",
            "Belarus",
            "Austria",
            "Serbia",
            "Switzerland",
            "Bulgaria",
            "Denmark",
            "Finland",
            "Slovak Republic",
            "Norway",
            "Ireland",
            "Croatia",
            "Moldova",
            "Georgia",
            "Bosnia and Herzegovina",
            "Armenia",
            "Albania",
            "Lithuania",
            "North Macedonia",
            "Slovenia",
            "Latvia",
            "Estonia",
            "Cyprus",
            "Montenegro",
            "Luxembourg",
            "Malta",
            "Iceland"
           ],
           "ids": [
            "Russia",
            "Germany",
            "Turkey",
            "United Kingdom",
            "France",
            "Italy",
            "Spain",
            "Ukraine",
            "Poland",
            "Romania",
            "Netherlands",
            "Belgium",
            "Czech Republic",
            "Greece",
            "Portugal",
            "Sweden",
            "Azerbaijan",
            "Hungary",
            "Belarus",
            "Austria",
            "Serbia",
            "Switzerland",
            "Bulgaria",
            "Denmark",
            "Finland",
            "Slovak Republic",
            "Norway",
            "Ireland",
            "Croatia",
            "Moldova",
            "Georgia",
            "Bosnia and Herzegovina",
            "Armenia",
            "Albania",
            "Lithuania",
            "North Macedonia",
            "Slovenia",
            "Latvia",
            "Estonia",
            "Cyprus",
            "Montenegro",
            "Luxembourg",
            "Malta",
            "Iceland"
           ],
           "legendgroup": "Europe",
           "marker": {
            "color": "#ffeb33",
            "size": {
             "bdata": "AAAAJHNfoUEAAAD0gtGTQQAAAOijoZNBAAAAuAACkEEAAACAaf2OQQAAANjK6IxBAAAA+M9DhkEAAABwJBmFQQAAAIgZFYJBAAAA4DuackEAAACA7kRwQQAAAICI5mVBAAAA4NlXZEEAAACA0BFkQQAAAADoj2NBAAAAwPUEY0EAAAAgLPpiQQAAAMD9g2JBAAAA4IgHYkEAAADgfvVgQQAAAKA2ymBBAAAAwOVCYEEAAACAVuZaQQAAAMBQ8VVBAAAAQCYRVUEAAABANs1UQQAAAADaXFRBAAAAgMFhUkEAAACA+7VPQQAAAAD36U5BAAAAAEGKTkEAAACADFxJQQAAAIAehUZBAAAAgFf+RUEAAAAAO19FQQAAAACNyD9BAAAAAIy0P0EAAAAADW09QQAAAAChLzRBAAAAAI4lMkEAAAAAtigjQQAAAACocCJBAAAAAFzPGkEAAAAAII0UQQ==",
             "dtype": "f8"
            },
            "sizemode": "area",
            "sizeref": 399812.15944444446,
            "symbol": "circle"
           },
           "mode": "markers",
           "name": "Europe",
           "orientation": "v",
           "showlegend": true,
           "type": "scatter",
           "x": {
            "bdata": "AAAAAMDF2EAAAAAA4HDmQAAAAADAsdhAAAAAAMCb40AAAAAAgFDjQAAAAABgc+FAAAAAAAAe4UAAAAAAAATAQAAAAAAAFNxAAAAAAAD410AAAAAAgFHoQAAAAABAGuVAAAAAAMBQ4EAAAAAAQI3YQAAAAADAA9xAAAAAAEAL50AAAAAAgEXPQAAAAADAlNtAAAAAAIBT0UAAAAAAILHmQAAAAACAUc9AAAAAAGDR7EAAAAAAQN7SQAAAAAAgR+dAAAAAAGB15EAAAAAAgJfeQAAAAAAg9O9AAAAAAJAt8UAAAAAAQBXXQAAAAAAAWrlAAAAAAADUw0AAAAAAAOrIQAAAAAAA7cFAAAAAAAAJyEAAAAAAQFbeQAAAAACAVcpAAAAAAMD530AAAAAAQNHZQAAAAADAQ95AAAAAAECU4EAAAAAAgN/QQAAAAABg4vZAAAAAAGCg4kAAAAAAwLvnQA==",
            "dtype": "f8"
           },
           "xaxis": "x",
           "y": {
            "bdata": "FK5H4XoUUkBSuB6F6zFUQK5H4XoUzlNAw/UoXI9CVEDNzMzMzLxUQIXrUbge1VRAzczMzMzMVEAK16NwPapRQM3MzMzMjFNApHA9CtfTUkAK16NwPWpUQMP1KFyPYlRAhetRuB7VU0AK16NwPUpUQJqZmZmZaVRAKVyPwvWoVEDsUbgehbtRQHE9CtejQFNA4XoUrkeRUkBI4XoUrndUQLgehetR+FJASOF6FK4HVUAAAAAAAMBSQEjhehSuN1RAZmZmZmZmVEAUrkfhemRTQD0K16NwnVRAhetRuB6FVEDsUbgehatTQI/C9ShcP1JAcT0K16NAUkDXo3A9CjdTQHE9Ctej8FJAZmZmZmaWU0AAAAAAANBSQJqZmZmZKVNAcT0K16NQVEDD9Shcj9JSQDMzMzMzk1NAuB6F61F4VED2KFyPwiVTQKRwPQrXc1RAKVyPwvVIVEC4HoXrUbhUQA==",
            "dtype": "f8"
           },
           "yaxis": "y"
          }
         ],
         "name": "2018"
        },
        {
         "data": [
          {
           "mode": "text",
           "showlegend": false,
           "text": [
            "2019"
           ],
           "textfont": {
            "color": "lightgray",
            "size": 200
           },
           "textposition": "middle center",
           "type": "scatter",
           "x": [
            8000
           ],
           "y": [
            45
           ]
          },
          {
           "customdata": [
            [
             "China",
             "Asia",
             2019,
             1433783692,
             1.702,
             8.34
            ],
            [
             "India",
             "Asia",
             2019,
             1366417756,
             2.329,
             35.2
            ],
            [
             "Indonesia",
             "Asia",
             2019,
             270625567,
             2.187,
             24.13
            ],
            [
             "Pakistan",
             "Asia",
             2019,
             216565317,
             2.81,
             67.93
            ],
            [
             "Bangladesh",
             "Asia",
             2019,
             163046173,
             2.006,
             28.9
            ],
            [
             "Japan",
             "Asia",
             2019,
             126860299,
             1.497,
             2.41
            ],
            [
             "Philippines",
             "Asia",
             2019,
             108116622,
             2.845,
             27.79
            ],
            [
             "Vietnam",
             "Asia",
             2019,
             96462108,
             1.649,
             20.37
            ],
            [
             "Iran",
             "Asia",
             2019,
             82913893,
             1.879,
             13.89
            ],
            [
             "Thailand",
             "Asia",
             2019,
             69625581,
             1.363,
             8.77
            ],
            [
             "Myanmar",
             "Asia",
             2019,
             54045422,
             1.831,
             44.88
            ],
            [
             "South Korea",
             "Asia",
             2019,
             51225321,
             1.413,
             3.03
            ],
            [
             "Iraq",
             "Asia",
             2019,
             39309789,
             3.694,
             25.85
            ],
            [
             "Afghanistan",
             "Asia",
             2019,
             38041757,
             3.785,
             60.15
            ],
            [
             "Saudi Arabia",
             "Asia",
             2019,
             34268529,
             2.366,
             6.75
            ],
            [
             "Uzbekistan",
             "Asia",
             2019,
             32981715,
             2.146,
             20.82
            ],
            [
             "Malaysia",
             "Asia",
             2019,
             31949789,
             1.887,
             7.58
            ],
            [
             "Yemen",
             "Asia",
             2019,
             29161922,
             3.427,
             54.85
            ],
            [
             "Nepal",
             "Asia",
             2019,
             28608715,
             2.052,
             30.96
            ],
            [
             "North Korea",
             "Asia",
             2019,
             25666158,
             1.927,
             17.41
            ],
            [
             "Australia",
             "Asia",
             2019,
             25203200,
             1.871,
             3.59
            ],
            [
             "Sri Lanka",
             "Asia",
             2019,
             21323734,
             2.223,
             7.2
            ],
            [
             "Kazakhstan",
             "Asia",
             2019,
             18551428,
             2.337,
             9.28
            ],
            [
             "Syria",
             "Asia",
             2019,
             17070132,
             2.683,
             15.78
            ],
            [
             "Cambodia",
             "Asia",
             2019,
             16486542,
             2.668,
             26.96
            ],
            [
             "Jordan",
             "Asia",
             2019,
             10101697,
             2.906,
             15.71
            ],
            [
             "United Arab Emirates",
             "Asia",
             2019,
             9770526,
             1.702,
             7.37
            ],
            [
             "Tajikistan",
             "Asia",
             2019,
             9321023,
             3.534,
             33.63
            ],
            [
             "Papua New Guinea",
             "Asia",
             2019,
             8776119,
             3.477,
             46.44
            ],
            [
             "Israel",
             "Asia",
             2019,
             8519373,
             2.763,
             3.58
            ],
            [
             "Hong Kong, China",
             "Asia",
             2019,
             7436157,
             1.238,
             2.02
            ],
            [
             "Lao",
             "Asia",
             2019,
             7169456,
             2.64,
             45.55
            ],
            [
             "Lebanon",
             "Asia",
             2019,
             6855709,
             1.474,
             7.39
            ],
            [
             "Kyrgyz Republic",
             "Asia",
             2019,
             6415851,
             2.863,
             18.36
            ],
            [
             "Turkmenistan",
             "Asia",
             2019,
             5942094,
             2.177,
             45.1
            ],
            [
             "Singapore",
             "Asia",
             2019,
             5804343,
             1.313,
             2.7
            ],
            [
             "Palestine",
             "Asia",
             2019,
             4981422,
             3.637,
             19.84
            ],
            [
             "Oman",
             "Asia",
             2019,
             4974992,
             2.456,
             10.87
            ],
            [
             "New Zealand",
             "Asia",
             2019,
             4783062,
             1.971,
             5.61
            ],
            [
             "Kuwait",
             "Asia",
             2019,
             4207077,
             2.484,
             7.63
            ],
            [
             "Mongolia",
             "Asia",
             2019,
             3225166,
             2.307,
             15.67
            ],
            [
             "Qatar",
             "Asia",
             2019,
             2832071,
             1.891,
             6.66
            ],
            [
             "Bahrain",
             "Asia",
             2019,
             1641164,
             1.944,
             6.89
            ],
            [
             "Timor-Leste",
             "Asia",
             2019,
             1293120,
             5.123,
             44.18
            ],
            [
             "Fiji",
             "Asia",
             2019,
             889955,
             2.436,
             25.27
            ],
            [
             "Bhutan",
             "Asia",
             2019,
             763094,
             2.015,
             28.49
            ],
            [
             "Solomon Islands",
             "Asia",
             2019,
             669821,
             3.682,
             19.46
            ],
            [
             "Maldives",
             "Asia",
             2019,
             530957,
             2.014,
             8.24
            ],
            [
             "Brunei",
             "Asia",
             2019,
             433296,
             1.892,
             11.31
            ],
            [
             "Vanuatu",
             "Asia",
             2019,
             299882,
             3.16,
             25.69
            ],
            [
             "Samoa",
             "Asia",
             2019,
             197093,
             3.822,
             15.36
            ],
            [
             "Kiribati",
             "Asia",
             2019,
             117608,
             2.773,
             51.01
            ],
            [
             "Micronesia, Fed. Sts.",
             "Asia",
             2019,
             113811,
             3.012,
             30
            ],
            [
             "Tonga",
             "Asia",
             2019,
             104497,
             3.506,
             15.22
            ]
           ],
           "hovertemplate": "<b>%{hovertext}</b><br><br><extra></extra>",
           "hovertext": [
            "China",
            "India",
            "Indonesia",
            "Pakistan",
            "Bangladesh",
            "Japan",
            "Philippines",
            "Vietnam",
            "Iran",
            "Thailand",
            "Myanmar",
            "South Korea",
            "Iraq",
            "Afghanistan",
            "Saudi Arabia",
            "Uzbekistan",
            "Malaysia",
            "Yemen",
            "Nepal",
            "North Korea",
            "Australia",
            "Sri Lanka",
            "Kazakhstan",
            "Syria",
            "Cambodia",
            "Jordan",
            "United Arab Emirates",
            "Tajikistan",
            "Papua New Guinea",
            "Israel",
            "Hong Kong, China",
            "Lao",
            "Lebanon",
            "Kyrgyz Republic",
            "Turkmenistan",
            "Singapore",
            "Palestine",
            "Oman",
            "New Zealand",
            "Kuwait",
            "Mongolia",
            "Qatar",
            "Bahrain",
            "Timor-Leste",
            "Fiji",
            "Bhutan",
            "Solomon Islands",
            "Maldives",
            "Brunei",
            "Vanuatu",
            "Samoa",
            "Kiribati",
            "Micronesia, Fed. Sts.",
            "Tonga"
           ],
           "ids": [
            "China",
            "India",
            "Indonesia",
            "Pakistan",
            "Bangladesh",
            "Japan",
            "Philippines",
            "Vietnam",
            "Iran",
            "Thailand",
            "Myanmar",
            "South Korea",
            "Iraq",
            "Afghanistan",
            "Saudi Arabia",
            "Uzbekistan",
            "Malaysia",
            "Yemen",
            "Nepal",
            "North Korea",
            "Australia",
            "Sri Lanka",
            "Kazakhstan",
            "Syria",
            "Cambodia",
            "Jordan",
            "United Arab Emirates",
            "Tajikistan",
            "Papua New Guinea",
            "Israel",
            "Hong Kong, China",
            "Lao",
            "Lebanon",
            "Kyrgyz Republic",
            "Turkmenistan",
            "Singapore",
            "Palestine",
            "Oman",
            "New Zealand",
            "Kuwait",
            "Mongolia",
            "Qatar",
            "Bahrain",
            "Timor-Leste",
            "Fiji",
            "Bhutan",
            "Solomon Islands",
            "Maldives",
            "Brunei",
            "Vanuatu",
            "Samoa",
            "Kiribati",
            "Micronesia, Fed. Sts.",
            "Tonga"
           ],
           "legendgroup": "Asia",
           "marker": {
            "color": "#ff798e",
            "size": {
             "bdata": "AAAAY3Nd1UEAAABXeFzUQQAAAB9rIbBBAAAAigzRqUEAAAA6xm+jQQAAACzwPp5BAAAAOOrGmUEAAABwlP+WQQAAAJSpxJNBAAAAtJuZkEEAAABwV8WJQQAAAEgXbYhBAAAA6I6+gkEAAADoxCOCQQAAAIgrV4BBAAAAMC10f0EAAADQPXh+QQAAACCcz3tBAAAAsIxIe0EAAADgJnp4QQAAAAAgCXhBAAAAYP1VdEEAAABAKLFxQQAAAECDR3BBAAAAwBFyb0EAAAAgeERjQQAAAMDDomJBAAAA4EfHYUEAAADgNr1gQQAAAKDZP2BBAAAAQN9dXEEAAAAAbFlbQQAAAEAHJ1pBAAAAwHp5WEEAAACA06pWQQAAAMBNJFZBAAAAgKsAU0EAAAAAZPpSQQAAAID1PlJBAAAAQHkMUEEAAAAAJ5tIQQAAAIBjm0VBAAAAAMwKOUEAAAAAQLszQQAAAADGKCtBAAAAAKxJJ0EAAAAA+nAkQQAAAAAaNCBBAAAAAEByGkEAAAAAqE0SQQAAAAAoDwhBAAAAAIC2/EAAAAAAMMn7QAAAAAAQg/lA",
             "dtype": "f8"
            },
            "sizemode": "area",
            "sizeref": 399812.15944444446,
            "symbol": "circle"
           },
           "mode": "markers",
           "name": "Asia",
           "orientation": "v",
           "showlegend": true,
           "type": "scatter",
           "x": {
            "bdata": "AAAAAIC40EAAAAAAADu8QAAAAACAjsdAAAAAAACFs0AAAAAAACuwQAAAAABgZ+NAAAAAAAAkwEAAAAAAADq7QAAAAACAbM9AAAAAAMDz0EAAAAAAAHu4QAAAAADgO+JAAAAAAICjzkAAAAAAAIybQAAAAABgfudAAAAAAABduUAAAAAAwGPcQAAAAAAATqJAAAAAAAB8pkAAAAAAAMyaQAAAAADgNuZAAAAAAIC3x0AAAAAAgMHYQAAAAAAAqKZAAAAAAADer0AAAAAAAFDAQAAAAAAgB/BAAAAAAACcqEAAAAAAALauQAAAAACAoOBAAAAAAKDP60AAAAAAABy7QAAAAACA0cZAAAAAAABeq0AAAAAAwC/RQAAAAAAA/vVAAAAAAAA/skAAAAAAwHXhQAAAAAAAz+FAAAAAAOBN70AAAAAAAOzIQAAAAAAwq/tAAAAAAMB95EAAAAAAAI67QAAAAAAAg8NAAAAAAAD2wkAAAAAAANCgQAAAAAAA1stAAAAAAICr8UAAAAAAAJCmQAAAAAAAX7hAAAAAAAD8n0AAAAAAAE6pQAAAAAAAELdA",
            "dtype": "f8"
           },
           "xaxis": "x",
           "y": {
            "bdata": "cT0K16NgU0A9CtejcF1RQArXo3A9+lFA7FG4HoXLUEAK16NwPWpSQFK4HoXrIVVAAAAAAACAUUBcj8L1KKxSQHE9CtejcFNAhetRuB6lU0BmZmZmZkZRQAAAAAAAwFRAFK5H4XpEU0CF61G4HgVQQEjhehSuR1NAXI/C9SisUUAzMzMzM8NSQGZmZmZmBlFAUrgehevhUUDXo3A9ChdSQM3MzMzMrFRAMzMzMzNzU0D2KFyPwjVSQI/C9Shc31FAexSuR+GaUUCF61G4HuVTQLgehetRaFJA4XoUrkexUUC4HoXrUXhNQFK4HoXr0VRAzczMzMwcVUAfhetRuA5RQKRwPQrXg1NAH4XrUbg+UkBmZmZmZpZRQClcj8L1SFVAexSuR+FKU0AUrkfhemRTQHsUrkfhelRAFK5H4XrUVEAzMzMzM1NRQM3MzMzMHFRAcT0K16PwU0CkcD0K19NRQOF6FK5HEVFAH4XrUbiuUkDXo3A9CjdRQBSuR+F6hFRAuB6F61HoUkAAAAAAAEBQQJqZmZmZSVJAUrgehetxT0CuR+F6FN5QQB+F61G4/lFA",
            "dtype": "f8"
           },
           "yaxis": "y"
          },
          {
           "customdata": [
            [
             "United States",
             "Americas",
             2019,
             329064917,
             1.976,
             6.58
            ],
            [
             "Brazil",
             "Americas",
             2019,
             211049519,
             1.734,
             13.9
            ],
            [
             "Mexico",
             "Americas",
             2019,
             127575529,
             2.021,
             12.52
            ],
            [
             "Colombia",
             "Americas",
             2019,
             50339443,
             2.131,
             13.84
            ],
            [
             "Argentina",
             "Americas",
             2019,
             44780675,
             2.101,
             9.66
            ],
            [
             "Canada",
             "Americas",
             2019,
             37411038,
             1.714,
             4.94
            ],
            [
             "Peru",
             "Americas",
             2019,
             32510462,
             2.254,
             13.93
            ],
            [
             "Venezuela",
             "Americas",
             2019,
             28515829,
             2.242,
             25.3
            ],
            [
             "Chile",
             "Americas",
             2019,
             18952035,
             1.779,
             7.03
            ],
            [
             "Guatemala",
             "Americas",
             2019,
             17581476,
             3.438,
             25.17
            ],
            [
             "Ecuador",
             "Americas",
             2019,
             17373657,
             2.389,
             13.88
            ],
            [
             "Bolivia",
             "Americas",
             2019,
             11513102,
             2.98,
             26.14
            ],
            [
             "Cuba",
             "Americas",
             2019,
             11333484,
             1.461,
             4.9
            ],
            [
             "Haiti",
             "Americas",
             2019,
             11263079,
             2.821,
             63.14
            ],
            [
             "Dominican Republic",
             "Americas",
             2019,
             10738957,
             2.307,
             28.29
            ],
            [
             "Honduras",
             "Americas",
             2019,
             9746115,
             2.739,
             17.09
            ],
            [
             "Paraguay",
             "Americas",
             2019,
             7044639,
             2.674,
             19.78
            ],
            [
             "Nicaragua",
             "Americas",
             2019,
             6545503,
             2.287,
             17.86
            ],
            [
             "El Salvador",
             "Americas",
             2019,
             6453550,
             2.044,
             13.13
            ],
            [
             "Costa Rica",
             "Americas",
             2019,
             5047561,
             1.712,
             8.47
            ],
            [
             "Panama",
             "Americas",
             2019,
             4246440,
             2.326,
             14.95
            ],
            [
             "Uruguay",
             "Americas",
             2019,
             3461731,
             1.991,
             7.38
            ],
            [
             "Jamaica",
             "Americas",
             2019,
             2948277,
             2.13,
             14.08
            ],
            [
             "Trinidad and Tobago",
             "Americas",
             2019,
             1394969,
             1.79,
             17.89
            ],
            [
             "Guyana",
             "Americas",
             2019,
             782775,
             2.356,
             29.31
            ],
            [
             "Suriname",
             "Americas",
             2019,
             581363,
             2.13,
             18.38
            ],
            [
             "Belize",
             "Americas",
             2019,
             390351,
             2.467,
             12.68
            ],
            [
             "Bahamas",
             "Americas",
             2019,
             389486,
             1.864,
             9.88
            ],
            [
             "Barbados",
             "Americas",
             2019,
             287021,
             1.866,
             11.9
            ],
            [
             "St. Lucia",
             "Americas",
             2019,
             182795,
             1.796,
             16.25
            ],
            [
             "Grenada",
             "Americas",
             2019,
             112002,
             2.043,
             15.23
            ],
            [
             "St. Vincent and the Grenadines",
             "Americas",
             2019,
             110593,
             1.874,
             15.94
            ],
            [
             "Antigua and Barbuda",
             "Americas",
             2019,
             97115,
             2.018,
             6.25
            ]
           ],
           "hovertemplate": "<b>%{hovertext}</b><br><br><extra></extra>",
           "hovertext": [
            "United States",
            "Brazil",
            "Mexico",
            "Colombia",
            "Argentina",
            "Canada",
            "Peru",
            "Venezuela",
            "Chile",
            "Guatemala",
            "Ecuador",
            "Bolivia",
            "Cuba",
            "Haiti",
            "Dominican Republic",
            "Honduras",
            "Paraguay",
            "Nicaragua",
            "El Salvador",
            "Costa Rica",
            "Panama",
            "Uruguay",
            "Jamaica",
            "Trinidad and Tobago",
            "Guyana",
            "Suriname",
            "Belize",
            "Bahamas",
            "Barbados",
            "St. Lucia",
            "Grenada",
            "St. Vincent and the Grenadines",
            "Antigua and Barbuda"
           ],
           "ids": [
            "United States",
            "Brazil",
            "Mexico",
            "Colombia",
            "Argentina",
            "Canada",
            "Peru",
            "Venezuela",
            "Chile",
            "Guatemala",
            "Ecuador",
            "Bolivia",
            "Cuba",
            "Haiti",
            "Dominican Republic",
            "Honduras",
            "Paraguay",
            "Nicaragua",
            "El Salvador",
            "Costa Rica",
            "Panama",
            "Uruguay",
            "Jamaica",
            "Trinidad and Tobago",
            "Guyana",
            "Suriname",
            "Belize",
            "Bahamas",
            "Barbados",
            "St. Lucia",
            "Grenada",
            "St. Vincent and the Grenadines",
            "Antigua and Barbuda"
           ],
           "legendgroup": "Americas",
           "marker": {
            "color": "#98ef33",
            "size": {
             "bdata": "AAAA1SGds0EAAABeuCipQQAAAKSXap5BAAAAmPMAiEEAAAAYZFqFQQAAAPDG1oFBAAAA4B8Bf0EAAABQ3zF7QQAAADD2EnJBAAAAQFrEcEEAAACQnZFwQQAAAMCh9WVBAAAAgO2dZUEAAADgjHtlQQAAAKChe2RBAAAAYNiWYkEAAADAh99aQQAAAMAX+FhBAAAAgEueWEEAAABAQkFTQQAAAADqMlBBAAAAgDFpSkEAAACAWn5GQQAAAAAZSTVBAAAAAG7jJ0EAAAAA5r0hQQAAAAA80xdBAAAAALjFF0EAAAAAtIQRQQAAAABYUAZBAAAAACBY+0AAAAAAEAD7QAAAAACwtfdA",
             "dtype": "f8"
            },
            "sizemode": "area",
            "sizeref": 399812.15944444446,
            "symbol": "circle"
           },
           "mode": "markers",
           "name": "Americas",
           "orientation": "v",
           "showlegend": true,
           "type": "scatter",
           "x": {
            "bdata": "AAAAACCq60AAAAAAgPHLQAAAAACAlNFAAAAAAACfykAAAAAAQB7RQAAAAACgkuVAAAAAAABgyUAAAAAAAP7CQAAAAAAAedZAAAAAAAC2vUAAAAAAgPPDQAAAAAAA8LtAAAAAAAC+v0AAAAAAAJyZQAAAAACAD9BAAAAAAAAZskAAAAAAgHfHQAAAAAAAB7JAAAAAAABVvUAAAAAAAOjOQAAAAADAxNZAAAAAAEBv1EAAAAAAADrAQAAAAACA2ttAAAAAAAD7vkAAAAAAACzLQAAAAAAAir5AAAAAAIAZ3EAAAAAAAEDQQAAAAAAAUshAAAAAAIAEzEAAAAAAgNfFQAAAAADA49dA",
            "dtype": "f8"
           },
           "xaxis": "x",
           "y": {
            "bdata": "ZmZmZmamU0DsUbgehftSQLgehetR6FJAj8L1KFwfVEA9CtejcD1TQOxRuB6Fi1RAw/UoXI8yVEBmZmZmZsZSQK5H4XoU/lNA16NwPQpHUkAK16NwPUpTQPYoXI/CVVJAMzMzMzOjU0B7FK5H4WpQQB+F61G4XlJAZmZmZmaWUkC4HoXrURhTQI/C9Shcz1NAPQrXo3CdUkD2KFyPwvVTQJqZmZmZ6VNAFK5H4XpUU0BI4XoUrrdSQHE9CtejoFJAj8L1KFxfUUDhehSuRxFSQHsUrkfhmlJAZmZmZmaGUkCF61G4HlVTQIXrUbge9VJASOF6FK6HUkBSuB6F6yFSQFK4HoXrUVNA",
            "dtype": "f8"
           },
           "yaxis": "y"
          },
          {
           "customdata": [
            [
             "Nigeria",
             "Africa",
             2019,
             200963603,
             5.647,
             116.57
            ],
            [
             "Ethiopia",
             "Africa",
             2019,
             112078727,
             3.845,
             53
            ],
            [
             "Egypt",
             "Africa",
             2019,
             100388076,
             2.577,
             20.5
            ],
            [
             "Congo, Dem. Rep.",
             "Africa",
             2019,
             86790568,
             5.32,
             86.24
            ],
            [
             "South Africa",
             "Africa",
             2019,
             58558267,
             2.246,
             32.94
            ],
            [
             "Tanzania",
             "Africa",
             2019,
             58005461,
             4.813,
             51.28
            ],
            [
             "Kenya",
             "Africa",
             2019,
             52573967,
             3.984,
             39.83
            ],
            [
             "Uganda",
             "Africa",
             2019,
             44269587,
             5.296,
             44.6
            ],
            [
             "Algeria",
             "Africa",
             2019,
             43053054,
             2.483,
             22.82
            ],
            [
             "Sudan",
             "Africa",
             2019,
             42813237,
             4.027,
             59.12
            ],
            [
             "Morocco",
             "Africa",
             2019,
             36471766,
             2.517,
             21.49
            ],
            [
             "Angola",
             "Africa",
             2019,
             31825299,
             5.274,
             74.52
            ],
            [
             "Ghana",
             "Africa",
             2019,
             30417858,
             3.515,
             46.23
            ],
            [
             "Mozambique",
             "Africa",
             2019,
             30366043,
             4.754,
             70.6
            ],
            [
             "Madagascar",
             "Africa",
             2019,
             26969306,
             4.126,
             51.08
            ],
            [
             "Cameroon",
             "Africa",
             2019,
             25876387,
             4.346,
             73.94
            ],
            [
             "Cote d'Ivoire",
             "Africa",
             2019,
             25716554,
             4.468,
             78.91
            ],
            [
             "Niger",
             "Africa",
             2019,
             23310719,
             7.345,
             80.47
            ],
            [
             "Burkina Faso",
             "Africa",
             2019,
             20321383,
             5.092,
             73.99
            ],
            [
             "Mali",
             "Africa",
             2019,
             19658023,
             6.635,
             94.98
            ],
            [
             "Malawi",
             "Africa",
             2019,
             18628749,
             4.942,
             47.28
            ],
            [
             "Zambia",
             "Africa",
             2019,
             17861034,
             5.387,
             56.12
            ],
            [
             "Senegal",
             "Africa",
             2019,
             16296362,
             4.524,
             41.98
            ],
            [
             "Chad",
             "Africa",
             2019,
             15946882,
             5.611,
             116.7
            ],
            [
             "Somalia",
             "Africa",
             2019,
             15442906,
             5.948,
             118.91
            ],
            [
             "Zimbabwe",
             "Africa",
             2019,
             14645473,
             3.121,
             44.43
            ],
            [
             "Guinea",
             "Africa",
             2019,
             12771246,
             4.43,
             97.26
            ],
            [
             "Rwanda",
             "Africa",
             2019,
             12626938,
             3.966,
             33.61
            ],
            [
             "Benin",
             "Africa",
             2019,
             11801151,
             4.386,
             90.89
            ],
            [
             "Tunisia",
             "Africa",
             2019,
             11694721,
             1.889,
             16.48
            ],
            [
             "Burundi",
             "Africa",
             2019,
             11530577,
             5.507,
             56.7
            ],
            [
             "South Sudan",
             "Africa",
             2019,
             11062114,
             4.416,
             97.64
            ],
            [
             "Togo",
             "Africa",
             2019,
             8082359,
             4.23,
             68
            ],
            [
             "Sierra Leone",
             "Africa",
             2019,
             7813207,
             4.261,
             101.88
            ],
            [
             "Libya",
             "Africa",
             2019,
             6777453,
             2.087,
             11.58
            ],
            [
             "Congo, Rep.",
             "Africa",
             2019,
             5380504,
             4.605,
             48.72
            ],
            [
             "Liberia",
             "Africa",
             2019,
             4937374,
             4.361,
             69.02
            ],
            [
             "Central African Republic",
             "Africa",
             2019,
             4745179,
             3.875,
             113.15
            ],
            [
             "Mauritania",
             "Africa",
             2019,
             4525698,
             4.3,
             73.79
            ],
            [
             "Eritrea",
             "Africa",
             2019,
             3497117,
             4.173,
             39.75
            ],
            [
             "Namibia",
             "Africa",
             2019,
             2494524,
             2.763,
             38.24
            ],
            [
             "Gambia",
             "Africa",
             2019,
             2347696,
             5.443,
             56.77
            ],
            [
             "Botswana",
             "Africa",
             2019,
             2303703,
             2.392,
             35.61
            ],
            [
             "Gabon",
             "Africa",
             2019,
             2172578,
             3.705,
             43.5
            ],
            [
             "Lesotho",
             "Africa",
             2019,
             2125267,
             2.754,
             78.52
            ],
            [
             "Guinea-Bissau",
             "Africa",
             2019,
             1920917,
             4.558,
             79.14
            ],
            [
             "Equatorial Guinea",
             "Africa",
             2019,
             1355982,
             4.264,
             83.1
            ],
            [
             "Mauritius",
             "Africa",
             2019,
             1269670,
             1.502,
             15.14
            ],
            [
             "Eswatini",
             "Africa",
             2019,
             1148133,
             2.98,
             52.52
            ],
            [
             "Djibouti",
             "Africa",
             2019,
             973557,
             3.027,
             55.49
            ],
            [
             "Comoros",
             "Africa",
             2019,
             850891,
             4.345,
             66.16
            ],
            [
             "Cape Verde",
             "Africa",
             2019,
             549936,
             2.093,
             18.75
            ],
            [
             "Sao Tome and Principe",
             "Africa",
             2019,
             215048,
             3.709,
             30.22
            ],
            [
             "Seychelles",
             "Africa",
             2019,
             97741,
             2.057,
             14.22
            ]
           ],
           "hovertemplate": "<b>%{hovertext}</b><br><br><extra></extra>",
           "hovertext": [
            "Nigeria",
            "Ethiopia",
            "Egypt",
            "Congo, Dem. Rep.",
            "South Africa",
            "Tanzania",
            "Kenya",
            "Uganda",
            "Algeria",
            "Sudan",
            "Morocco",
            "Angola",
            "Ghana",
            "Mozambique",
            "Madagascar",
            "Cameroon",
            "Cote d'Ivoire",
            "Niger",
            "Burkina Faso",
            "Mali",
            "Malawi",
            "Zambia",
            "Senegal",
            "Chad",
            "Somalia",
            "Zimbabwe",
            "Guinea",
            "Rwanda",
            "Benin",
            "Tunisia",
            "Burundi",
            "South Sudan",
            "Togo",
            "Sierra Leone",
            "Libya",
            "Congo, Rep.",
            "Liberia",
            "Central African Republic",
            "Mauritania",
            "Eritrea",
            "Namibia",
            "Gambia",
            "Botswana",
            "Gabon",
            "Lesotho",
            "Guinea-Bissau",
            "Equatorial Guinea",
            "Mauritius",
            "Eswatini",
            "Djibouti",
            "Comoros",
            "Cape Verde",
            "Sao Tome and Principe",
            "Seychelles"
           ],
           "ids": [
            "Nigeria",
            "Ethiopia",
            "Egypt",
            "Congo, Dem. Rep.",
            "South Africa",
            "Tanzania",
            "Kenya",
            "Uganda",
            "Algeria",
            "Sudan",
            "Morocco",
            "Angola",
            "Ghana",
            "Mozambique",
            "Madagascar",
            "Cameroon",
            "Cote d'Ivoire",
            "Niger",
            "Burkina Faso",
            "Mali",
            "Malawi",
            "Zambia",
            "Senegal",
            "Chad",
            "Somalia",
            "Zimbabwe",
            "Guinea",
            "Rwanda",
            "Benin",
            "Tunisia",
            "Burundi",
            "South Sudan",
            "Togo",
            "Sierra Leone",
            "Libya",
            "Congo, Rep.",
            "Liberia",
            "Central African Republic",
            "Mauritania",
            "Eritrea",
            "Namibia",
            "Gambia",
            "Botswana",
            "Gabon",
            "Lesotho",
            "Guinea-Bissau",
            "Equatorial Guinea",
            "Mauritius",
            "Eswatini",
            "Djibouti",
            "Comoros",
            "Cape Verde",
            "Sao Tome and Principe",
            "Seychelles"
           ],
           "legendgroup": "Africa",
           "marker": {
            "color": "#33dded",
            "size": {
             "bdata": "AAAAJuz0p0EAAAAcvriaQQAAALAz75dBAAAAoEaxlEEAAADYOeyLQQAAAKi+qItBAAAAeLgRiUEAAACYAByFQQAAAPB/h4RBAAAAqDlqhEEAAACwHmSBQQAAADDZWX5BAAAAIDwCfUEAAACwlfV8QQAAAKBNuHlBAAAAMHqteEEAAACgdIZ4QQAAAPAXO3ZBAAAAcEZhc0EAAABwUr9yQQAAANAIxHFBAAAAoJoIcUEAAABANRVvQQAAAECQam5BAAAAQHt0bUEAAAAgHO9rQQAAAMD1W2hBAAAAQH8VaEEAAADgR4JmQQAAACBQTmZBAAAAICr+ZUEAAABAbBllQQAAAMDt1F5BAAAAwBXOXUEAAABAm9pZQQAAAABmhlRBAAAAgKfVUkEAAADA9hlSQQAAAICgQ1FBAAAAgE6uSkEAAAAAHghDQQAAAABY6UFBAAAAgGuTQUEAAAAAUZNAQQAAAIDpNkBBAAAAAJVPPUEAAAAAzrA0QQAAAACmXzNBAAAAAOWEMUEAAAAA6rUtQQAAAACW9ylBAAAAAGDIIEEAAAAAQEAKQQAAAADQ3PdA",
             "dtype": "f8"
            },
            "sizemode": "area",
            "sizeref": 399812.15944444446,
            "symbol": "circle"
           },
           "mode": "markers",
           "name": "Africa",
           "orientation": "v",
           "showlegend": true,
           "type": "scatter",
           "x": {
            "bdata": "AAAAAAC0tEAAAAAAAKSdQAAAAAAAMMZAAAAAAAAwikAAAAAAgIPHQAAAAAAARKdAAAAAAACyqEAAAAAAADidQAAAAACAR8tAAAAAAACasUAAAAAAAFy+QAAAAAAAqLVAAAAAAABSsUAAAAAAAEiSQAAAAAAAPJdAAAAAAACSqkAAAAAAAI6uQAAAAAAA0I1AAAAAAABAnEAAAAAAAGKgQAAAAAAAeJJAAAAAAADorEAAAAAAAAqrQAAAAAAAPJtAAAAAAAC4g0AAAAAAALCiQAAAAAAA3qJAAAAAAAB8oEAAAAAAAGyhQAAAAAAAxcVAAAAAAAAghEAAAAAAAPycQAAAAAAAFJlAAAAAAADglkAAAAAAgM/MQAAAAAAA6LNAAAAAAADEkUAAAAAAANCIQAAAAAAAWq5AAAAAAAC8lUAAAAAAAPDCQAAAAAAAgJhAAAAAAEBj0EAAAAAAgJbPQAAAAAAA2KZAAAAAAACImUAAAAAAAMXSQAAAAACAUdVAAAAAAACswkAAAAAAABysQAAAAAAAXKNAAAAAAAD/ukAAAAAAAM6nQAAAAAAAI9tA",
            "dtype": "f8"
           },
           "xaxis": "x",
           "y": {
            "bdata": "H4XrUbhOUEApXI/C9UhRQK5H4XoUvlFAZmZmZmaGT0DsUbgehbtQQB+F61G47lBAmpmZmZmpUEBmZmZmZqZQQEjhehSuh1NA4XoUrkexUUB7FK5H4ZpSQAAAAAAAQFBAuB6F61GIUECuR+F6FO5NQD0K16NwDVBAKVyPwvXoT0ApXI/C9ahPQJqZmZmZmU9AAAAAAABAT0CuR+F6FG5PQM3MzMzMDFBAw/UoXI8CUEBI4XoUridRQI/C9ShcT05APQrXo3CdTUCF61G4HgVPQI/C9Shcz05AKVyPwvVIUUBxPQrXo1BQQB+F61G4rlNAAAAAAAAgT0AfhetRuN5NQD0K16NwPVBAKVyPwvWoTkBmZmZmZlZSQAAAAAAAoE9AH4XrUbhOUEAUrkfhenRKQFK4HoXrwVFA9ihcj8K1T0CuR+F6FM5QQHsUrkfhmlBAZmZmZmZ2UUAzMzMzM0NRQOxRuB6FC0xAFK5H4XpUTkBSuB6F65FQQOF6FK5HwVJAKVyPwvXoTkBmZmZmZiZRQBSuR+F6RFFAzczMzMwMU0AzMzMzM9NQQAAAAAAAcFJA",
            "dtype": "f8"
           },
           "yaxis": "y"
          },
          {
           "customdata": [
            [
             "Russia",
             "Europe",
             2019,
             145872260,
             1.625,
             6.81
            ],
            [
             "Germany",
             "Europe",
             2019,
             83517046,
             1.475,
             3.46
            ],
            [
             "Turkey",
             "Europe",
             2019,
             83429607,
             1.937,
             10.14
            ],
            [
             "United Kingdom",
             "Europe",
             2019,
             67530161,
             1.889,
             4.24
            ],
            [
             "France",
             "Europe",
             2019,
             65129731,
             1.981,
             3.94
            ],
            [
             "Italy",
             "Europe",
             2019,
             60550092,
             1.572,
             2.93
            ],
            [
             "Spain",
             "Europe",
             2019,
             46736782,
             1.586,
             2.93
            ],
            [
             "Ukraine",
             "Europe",
             2019,
             43993643,
             1.536,
             8.46
            ],
            [
             "Poland",
             "Europe",
             2019,
             37887771,
             1.493,
             4.27
            ],
            [
             "Romania",
             "Europe",
             2019,
             19364558,
             1.496,
             7.07
            ],
            [
             "Netherlands",
             "Europe",
             2019,
             17097123,
             1.798,
             3.68
            ],
            [
             "Belgium",
             "Europe",
             2019,
             11539326,
             1.876,
             3.51
            ],
            [
             "Czech Republic",
             "Europe",
             2019,
             10689213,
             1.667,
             3.29
            ],
            [
             "Greece",
             "Europe",
             2019,
             10473452,
             1.585,
             4.37
            ],
            [
             "Portugal",
             "Europe",
             2019,
             10226178,
             1.338,
             3.61
            ],
            [
             "Azerbaijan",
             "Europe",
             2019,
             10047719,
             1.841,
             20.7
            ],
            [
             "Sweden",
             "Europe",
             2019,
             10036391,
             1.944,
             2.62
            ],
            [
             "Hungary",
             "Europe",
             2019,
             9684680,
             1.489,
             4.12
            ],
            [
             "Belarus",
             "Europe",
             2019,
             9452409,
             1.556,
             3.35
            ],
            [
             "Austria",
             "Europe",
             2019,
             8955108,
             1.54,
             3.37
            ],
            [
             "Serbia",
             "Europe",
             2019,
             8772228,
             1.388,
             5.34
            ],
            [
             "Switzerland",
             "Europe",
             2019,
             8591361,
             1.59,
             4.01
            ],
            [
             "Bulgaria",
             "Europe",
             2019,
             7000117,
             1.632,
             6.76
            ],
            [
             "Denmark",
             "Europe",
             2019,
             5771877,
             1.896,
             4.1
            ],
            [
             "Finland",
             "Europe",
             2019,
             5532159,
             1.861,
             1.63
            ],
            [
             "Slovak Republic",
             "Europe",
             2019,
             5457012,
             1.476,
             5.42
            ],
            [
             "Norway",
             "Europe",
             2019,
             5378859,
             1.931,
             2.45
            ],
            [
             "Ireland",
             "Europe",
             2019,
             4882498,
             1.989,
             3.42
            ],
            [
             "Croatia",
             "Europe",
             2019,
             4130299,
             1.561,
             4.57
            ],
            [
             "Moldova",
             "Europe",
             2019,
             4043258,
             1.467,
             15.34
            ],
            [
             "Georgia",
             "Europe",
             2019,
             3996762,
             1.819,
             9.37
            ],
            [
             "Bosnia and Herzegovina",
             "Europe",
             2019,
             3300998,
             1.38,
             5.66
            ],
            [
             "Armenia",
             "Europe",
             2019,
             2957728,
             1.745,
             12.05
            ],
            [
             "Albania",
             "Europe",
             2019,
             2880913,
             1.766,
             8.68
            ],
            [
             "Lithuania",
             "Europe",
             2019,
             2759631,
             1.597,
             3.95
            ],
            [
             "North Macedonia",
             "Europe",
             2019,
             2083458,
             1.435,
             9.86
            ],
            [
             "Slovenia",
             "Europe",
             2019,
             2078654,
             1.568,
             2.1
            ],
            [
             "Latvia",
             "Europe",
             2019,
             1906740,
             1.692,
             3.74
            ],
            [
             "Estonia",
             "Europe",
             2019,
             1325649,
             1.676,
             2.5
            ],
            [
             "Cyprus",
             "Europe",
             2019,
             1198574,
             1.474,
             2.3
            ],
            [
             "Montenegro",
             "Europe",
             2019,
             627988,
             1.639,
             2.45
            ],
            [
             "Luxembourg",
             "Europe",
             2019,
             615730,
             1.718,
             2.36
            ],
            [
             "Malta",
             "Europe",
             2019,
             440377,
             1.38,
             6.81
            ],
            [
             "Iceland",
             "Europe",
             2019,
             339037,
             2.024,
             1.92
            ]
           ],
           "hovertemplate": "<b>%{hovertext}</b><br><br><extra></extra>",
           "hovertext": [
            "Russia",
            "Germany",
            "Turkey",
            "United Kingdom",
            "France",
            "Italy",
            "Spain",
            "Ukraine",
            "Poland",
            "Romania",
            "Netherlands",
            "Belgium",
            "Czech Republic",
            "Greece",
            "Portugal",
            "Azerbaijan",
            "Sweden",
            "Hungary",
            "Belarus",
            "Austria",
            "Serbia",
            "Switzerland",
            "Bulgaria",
            "Denmark",
            "Finland",
            "Slovak Republic",
            "Norway",
            "Ireland",
            "Croatia",
            "Moldova",
            "Georgia",
            "Bosnia and Herzegovina",
            "Armenia",
            "Albania",
            "Lithuania",
            "North Macedonia",
            "Slovenia",
            "Latvia",
            "Estonia",
            "Cyprus",
            "Montenegro",
            "Luxembourg",
            "Malta",
            "Iceland"
           ],
           "ids": [
            "Russia",
            "Germany",
            "Turkey",
            "United Kingdom",
            "France",
            "Italy",
            "Spain",
            "Ukraine",
            "Poland",
            "Romania",
            "Netherlands",
            "Belgium",
            "Czech Republic",
            "Greece",
            "Portugal",
            "Azerbaijan",
            "Sweden",
            "Hungary",
            "Belarus",
            "Austria",
            "Serbia",
            "Switzerland",
            "Bulgaria",
            "Denmark",
            "Finland",
            "Slovak Republic",
            "Norway",
            "Ireland",
            "Croatia",
            "Moldova",
            "Georgia",
            "Bosnia and Herzegovina",
            "Armenia",
            "Albania",
            "Lithuania",
            "North Macedonia",
            "Slovenia",
            "Latvia",
            "Estonia",
            "Cyprus",
            "Montenegro",
            "Luxembourg",
            "Malta",
            "Iceland"
           ],
           "legendgroup": "Europe",
           "marker": {
            "color": "#ffeb33",
            "size": {
             "bdata": "AAAACKtjoUEAAADYeemTQQAAAJwj5JNBAAAAxLYZkEEAAAAYaA6PQQAAAGBe34xBAAAAcCxJhkEAAABYUfqEQQAAANj4EIJBAAAA4Kx3ckEAAAAwGk5wQQAAAMBvAmZBAAAAoFdjZEEAAACA/fljQQAAAEBAgWNBAAAA4BwqY0EAAADglCRjQQAAAADZeGJBAAAAIG8HYkEAAACAnBRhQQAAAIBQu2BBAAAAIABjYEEAAABADbRaQQAAAECZBFZBAAAAwH8aVUEAAAAAHdFUQQAAAMDKhFRBAAAAgBCgUkEAAACA/YJPQQAAAAD92E5BAAAAAC1+TkEAAAAAQy9JQQAAAADQkEZBAAAAgMj6RUEAAACA5w1FQQAAAACCyj9BAAAAAL63P0EAAAAANBg9QQAAAABROjRBAAAAAO5JMkEAAAAAKCojQQAAAABkyiJBAAAAAOTgGkEAAAAAdLEUQQ==",
             "dtype": "f8"
            },
            "sizemode": "area",
            "sizeref": 399812.15944444446,
            "symbol": "circle"
           },
           "mode": "markers",
           "name": "Europe",
           "orientation": "v",
           "showlegend": true,
           "type": "scatter",
           "x": {
            "bdata": "AAAAAIAN2UAAAAAAoIvmQAAAAADAc9hAAAAAAAC540AAAAAAoIbjQAAAAAAAfeFAAAAAAGBp4UAAAAAAAJDAQAAAAAAANt1AAAAAAMDt2EAAAAAAAK3oQAAAAACgP+VAAAAAAOCr4EAAAAAAwBnZQAAAAADAltxAAAAAAAC8z0AAAAAAYA3nQAAAAADA6NxAAAAAAICf0UAAAAAAIOPmQAAAAADARdBAAAAAAIDU7EAAAAAAgK3TQAAAAABAkudAAAAAAOCx5EAAAAAAwFffQAAAAABAMPBAAAAAANCt8UAAAAAAQPPXQAAAAAAAQrpAAAAAAIDXxEAAAAAAAKDJQAAAAAAAAMNAAAAAAADLyEAAAAAAQJ7fQAAAAAAAJctAAAAAAIBx4EAAAAAAQKHaQAAAAAAANt9AAAAAAADe4EAAAAAAwF3RQAAAAABQB/dAAAAAAGA140AAAAAAoF7nQA==",
            "dtype": "f8"
           },
           "xaxis": "x",
           "y": {
            "bdata": "4XoUrkchUkB7FK5H4TpUQB+F61G43lNASOF6FK5HVEAUrkfhesRUQI/C9Shc31RAhetRuB7VVEDhehSuR7FRQLgehetRmFNAXI/C9SjcUkDD9Shcj3JUQM3MzMzMbFRAH4XrUbjeU0AUrkfhelRUQPYoXI/CdVRAFK5H4XrEUUBSuB6F67FUQFyPwvUoTFNArkfhehSeUkAfhetRuH5UQFK4HoXrAVNA4XoUrkcRVUDXo3A9CsdSQB+F61G4PlRA4XoUrkdxVEAfhetRuG5TQPYoXI/CpVRAUrgeheuRVECF61G4HrVTQIXrUbgeRVJA7FG4HoVLUkAAAAAAAEBTQJqZmZmZ+VJArkfhehSeU0Bcj8L1KNxSQHE9CtejMFNACtejcD1aVEAK16NwPdpSQB+F61G4nlNAUrgeheuBVEA9CtejcC1TQD0K16NwfVRAMzMzMzNTVEBxPQrXo8BUQA==",
            "dtype": "f8"
           },
           "yaxis": "y"
          }
         ],
         "name": "2019"
        },
        {
         "data": [
          {
           "mode": "text",
           "showlegend": false,
           "text": [
            "2020"
           ],
           "textfont": {
            "color": "lightgray",
            "size": 200
           },
           "textposition": "middle center",
           "type": "scatter",
           "x": [
            8000
           ],
           "y": [
            45
           ]
          },
          {
           "customdata": [
            [
             "China",
             "Asia",
             2020,
             1439323774,
             1.707,
             8.09
            ],
            [
             "India",
             "Asia",
             2020,
             1380004385,
             2.307,
             33.93
            ],
            [
             "Indonesia",
             "Asia",
             2020,
             273523621,
             2.166,
             23.32
            ],
            [
             "Pakistan",
             "Asia",
             2020,
             220892331,
             2.76,
             66.63
            ],
            [
             "Bangladesh",
             "Asia",
             2020,
             164689383,
             1.981,
             27.7
            ],
            [
             "Japan",
             "Asia",
             2020,
             126476458,
             1.508,
             2.34
            ],
            [
             "Philippines",
             "Asia",
             2020,
             109581085,
             2.814,
             27.2
            ],
            [
             "Vietnam",
             "Asia",
             2020,
             97338583,
             1.638,
             20.04
            ],
            [
             "Iran",
             "Asia",
             2020,
             83992953,
             1.872,
             13.38
            ],
            [
             "Thailand",
             "Asia",
             2020,
             69799978,
             1.366,
             8.49
            ],
            [
             "Myanmar",
             "Asia",
             2020,
             54409794,
             1.816,
             43.64
            ],
            [
             "South Korea",
             "Asia",
             2020,
             51269183,
             1.426,
             2.91
            ],
            [
             "Iraq",
             "Asia",
             2020,
             40222503,
             3.643,
             25.11
            ],
            [
             "Afghanistan",
             "Asia",
             2020,
             38928341,
             3.639,
             58.08
            ],
            [
             "Saudi Arabia",
             "Asia",
             2020,
             34813867,
             2.329,
             6.49
            ],
            [
             "Uzbekistan",
             "Asia",
             2020,
             33469199,
             2.123,
             20.34
            ],
            [
             "Malaysia",
             "Asia",
             2020,
             32365998,
             1.875,
             7.38
            ],
            [
             "Yemen",
             "Asia",
             2020,
             29825968,
             3.34,
             54.58
            ],
            [
             "Nepal",
             "Asia",
             2020,
             29136808,
             2.026,
             29.79
            ],
            [
             "North Korea",
             "Asia",
             2020,
             25778815,
             1.919,
             16.69
            ],
            [
             "Australia",
             "Asia",
             2020,
             25499881,
             1.87,
             3.5
            ],
            [
             "Sri Lanka",
             "Asia",
             2020,
             21413250,
             2.203,
             6.97
            ],
            [
             "Kazakhstan",
             "Asia",
             2020,
             18776707,
             2.322,
             8.86
            ],
            [
             "Syria",
             "Asia",
             2020,
             17500657,
             2.64,
             14.78
            ],
            [
             "Cambodia",
             "Asia",
             2020,
             16718971,
             2.639,
             25.94
            ],
            [
             "Jordan",
             "Asia",
             2020,
             10203140,
             2.859,
             15.29
            ],
            [
             "United Arab Emirates",
             "Asia",
             2020,
             9890400,
             1.688,
             7.16
            ],
            [
             "Tajikistan",
             "Asia",
             2020,
             9537642,
             3.484,
             32.46
            ],
            [
             "Papua New Guinea",
             "Asia",
             2020,
             8947027,
             3.43,
             45.16
            ],
            [
             "Israel",
             "Asia",
             2020,
             8655541,
             2.74,
             3.45
            ],
            [
             "Hong Kong, China",
             "Asia",
             2020,
             7496988,
             1.253,
             1.97
            ],
            [
             "Lao",
             "Asia",
             2020,
             7275556,
             2.592,
             43.9
            ],
            [
             "Lebanon",
             "Asia",
             2020,
             6825442,
             1.474,
             7.32
            ],
            [
             "Kyrgyz Republic",
             "Asia",
             2020,
             6524191,
             2.824,
             17.82
            ],
            [
             "Turkmenistan",
             "Asia",
             2020,
             6031187,
             2.155,
             44.36
            ],
            [
             "Singapore",
             "Asia",
             2020,
             5850343,
             1.317,
             2.61
            ],
            [
             "Oman",
             "Asia",
             2020,
             5106622,
             2.397,
             10.43
            ],
            [
             "Palestine",
             "Asia",
             2020,
             5101416,
             3.58,
             19.42
            ],
            [
             "New Zealand",
             "Asia",
             2020,
             4822233,
             1.961,
             5.54
            ],
            [
             "Kuwait",
             "Asia",
             2020,
             4270563,
             2.468,
             7.42
            ],
            [
             "Mongolia",
             "Asia",
             2020,
             3278292,
             2.287,
             15.06
            ],
            [
             "Qatar",
             "Asia",
             2020,
             2881060,
             1.871,
             6.49
            ],
            [
             "Bahrain",
             "Asia",
             2020,
             1701583,
             1.924,
             6.69
            ],
            [
             "Timor-Leste",
             "Asia",
             2020,
             1318442,
             5.008,
             42.69
            ],
            [
             "Fiji",
             "Asia",
             2020,
             896444,
             2.412,
             24.8
            ],
            [
             "Bhutan",
             "Asia",
             2020,
             771612,
             1.985,
             27.36
            ],
            [
             "Solomon Islands",
             "Asia",
             2020,
             686878,
             3.63,
             19.02
            ],
            [
             "Maldives",
             "Asia",
             2020,
             540542,
             1.977,
             7.87
            ],
            [
             "Brunei",
             "Asia",
             2020,
             437483,
             1.878,
             11.05
            ],
            [
             "Vanuatu",
             "Asia",
             2020,
             307150,
             3.125,
             24.91
            ],
            [
             "Samoa",
             "Asia",
             2020,
             198410,
             3.773,
             14.94
            ],
            [
             "Kiribati",
             "Asia",
             2020,
             119446,
             2.745,
             49.51
            ],
            [
             "Micronesia, Fed. Sts.",
             "Asia",
             2020,
             115021,
             2.971,
             29.3
            ],
            [
             "Tonga",
             "Asia",
             2020,
             105697,
             3.467,
             14.81
            ]
           ],
           "hovertemplate": "<b>%{hovertext}</b><br><br><extra></extra>",
           "hovertext": [
            "China",
            "India",
            "Indonesia",
            "Pakistan",
            "Bangladesh",
            "Japan",
            "Philippines",
            "Vietnam",
            "Iran",
            "Thailand",
            "Myanmar",
            "South Korea",
            "Iraq",
            "Afghanistan",
            "Saudi Arabia",
            "Uzbekistan",
            "Malaysia",
            "Yemen",
            "Nepal",
            "North Korea",
            "Australia",
            "Sri Lanka",
            "Kazakhstan",
            "Syria",
            "Cambodia",
            "Jordan",
            "United Arab Emirates",
            "Tajikistan",
            "Papua New Guinea",
            "Israel",
            "Hong Kong, China",
            "Lao",
            "Lebanon",
            "Kyrgyz Republic",
            "Turkmenistan",
            "Singapore",
            "Oman",
            "Palestine",
            "New Zealand",
            "Kuwait",
            "Mongolia",
            "Qatar",
            "Bahrain",
            "Timor-Leste",
            "Fiji",
            "Bhutan",
            "Solomon Islands",
            "Maldives",
            "Brunei",
            "Vanuatu",
            "Samoa",
            "Kiribati",
            "Micronesia, Fed. Sts.",
            "Tonga"
           ],
           "ids": [
            "China",
            "India",
            "Indonesia",
            "Pakistan",
            "Bangladesh",
            "Japan",
            "Philippines",
            "Vietnam",
            "Iran",
            "Thailand",
            "Myanmar",
            "South Korea",
            "Iraq",
            "Afghanistan",
            "Saudi Arabia",
            "Uzbekistan",
            "Malaysia",
            "Yemen",
            "Nepal",
            "North Korea",
            "Australia",
            "Sri Lanka",
            "Kazakhstan",
            "Syria",
            "Cambodia",
            "Jordan",
            "United Arab Emirates",
            "Tajikistan",
            "Papua New Guinea",
            "Israel",
            "Hong Kong, China",
            "Lao",
            "Lebanon",
            "Kyrgyz Republic",
            "Turkmenistan",
            "Singapore",
            "Oman",
            "Palestine",
            "New Zealand",
            "Kuwait",
            "Mongolia",
            "Qatar",
            "Bahrain",
            "Timor-Leste",
            "Fiji",
            "Bhutan",
            "Solomon Islands",
            "Maldives",
            "Brunei",
            "Vanuatu",
            "Samoa",
            "Kiribati",
            "Micronesia, Fed. Sts.",
            "Tonga"
           ],
           "legendgroup": "Asia",
           "marker": {
            "color": "#ff798e",
            "size": {
             "bdata": "AACAn5Vy1UEAAECITJDUQQAAAKWjTbBBAAAAVhlVqkEAAADO66GjQQAAAKiCJ55BAAAAdEwgmkEAAABcEzWXQQAAAOSFBpRBAAAAqECkkEEAAAAQ0vGJQQAAAPhxcohBAAAAOPktg0EAAACo/o+CQQAAAFi9mYBBAAAA8DDrf0EAAADg2t1+QQAAAAC7cXxBAAAAgHrJe0EAAADwp5V4QQAAAJCOUXhBAAAAINhrdEEAAAAwKOhxQQAAABCfsHBBAAAAYI/jb0EAAACAAHZjQQAAAABM3WJBAAAAQA0xYkEAAABgqhBhQQAAAKBWgmBBAAAAAEeZXEEAAAAACcFbQQAAAIB4CVpBAAAAwEfjWEEAAADA1AFXQQAAAMA5UVZBAAAAgO96U0EAAAAA2nVTQQAAAEA2ZVJBAAAAwHhKUEEAAAAA6gJJQQAAAAAS+0VBAAAAAM/2OUEAAAAAKh40QQAAAAB4WytBAAAAADiMJ0EAAAAAPPYkQQAAAAD8fiBBAAAAAKyzGkEAAAAAOL8SQQAAAABQOAhBAAAAAGAp/UAAAAAA0BT8QAAAAAAQzvlA",
             "dtype": "f8"
            },
            "sizemode": "area",
            "sizeref": 399812.15944444446,
            "symbol": "circle"
           },
           "mode": "markers",
           "name": "Asia",
           "orientation": "v",
           "showlegend": true,
           "type": "scatter",
           "x": {
            "bdata": "AAAAAMCj0UAAAAAAANK9QAAAAAAAfchAAAAAAACcs0AAAAAAADGxQAAAAADAj+NAAAAAAIDewEAAAAAAALm8QAAAAAAAHM9AAAAAAIBv0UAAAAAAANe5QAAAAAAgkOJAAAAAAABCz0AAAAAAACCcQAAAAABAiedAAAAAAACDukAAAAAAwEPdQAAAAAAAMqJAAAAAAACWp0AAAAAAAMiaQAAAAACgXOZAAAAAAABHyEAAAAAAgGTZQAAAAAAAwqZAAAAAAADDsEAAAAAAAHrAQAAAAABA4+9AAAAAAAA4qUAAAAAAANquQAAAAABgz+BAAAAAACDx60AAAAAAAHe8QAAAAAAAMcdAAAAAAAC8q0AAAAAAgAvSQAAAAACgFvZAAAAAAGCQ4UAAAAAAAEuyQAAAAACg7uFAAAAAAABk70AAAAAAgMXJQAAAAAAgXPxAAAAAAKCC5EAAAAAAAF27QAAAAACA/MNAAAAAAAABxEAAAAAAAOygQAAAAAAACM1AAAAAANBS8kAAAAAAALymQAAAAAAAOLlAAAAAAAAYoEAAAAAAAHipQAAAAAAA8bdA",
            "dtype": "f8"
           },
           "xaxis": "x",
           "y": {
            "bdata": "zczMzMxsU0Bcj8L1KGxRQGZmZmZmBlJAhetRuB7VUEBcj8L1KHxSQArXo3A9KlVAuB6F61GIUUBSuB6F67FSQD0K16NwfVNAUrgeheuxU0CF61G4HlVRQArXo3A9ylRArkfhehROU0AK16NwPRpQQOF6FK5HUVNApHA9CtezUUDNzMzMzMxSQArXo3A9ClFAhetRuB71UUDD9ShcjyJSQGZmZmZmtlRArkfhehR+U0AUrkfhekRSQOxRuB6FG1JAmpmZmZmpUUCuR+F6FO5TQOF6FK5HcVJArkfhehS+UUAzMzMzM5NNQOxRuB6F21RAZmZmZmYmVUBSuB6F6yFRQClcj8L1iFNASOF6FK5HUkCuR+F6FJ5RQMP1KFyPUlVAUrgehetxU0D2KFyPwlVTQBSuR+F6hFRA7FG4HoXbVECPwvUoXF9RQPYoXI/CJVRAKVyPwvX4U0BSuB6F6+FRQClcj8L1GFFAw/UoXI/CUkCPwvUoXD9RQEjhehSul1RAcT0K16PwUkC4HoXrUUhQQFK4HoXrUVJArkfhehSOT0D2KFyPwuVQQPYoXI/CBVJA",
            "dtype": "f8"
           },
           "yaxis": "y"
          },
          {
           "customdata": [
            [
             "United States",
             "Americas",
             2020,
             331002647,
             1.978,
             6.62
            ],
            [
             "Brazil",
             "Americas",
             2020,
             212559409,
             1.726,
             13.47
            ],
            [
             "Mexico",
             "Americas",
             2020,
             128932753,
             1.997,
             12.33
            ],
            [
             "Colombia",
             "Americas",
             2020,
             50882884,
             2.11,
             13.48
            ],
            [
             "Argentina",
             "Americas",
             2020,
             45195777,
             2.089,
             9.4
            ],
            [
             "Canada",
             "Americas",
             2020,
             37742157,
             1.721,
             4.89
            ],
            [
             "Peru",
             "Americas",
             2020,
             32971846,
             2.229,
             13.51
            ],
            [
             "Venezuela",
             "Americas",
             2020,
             28435943,
             2.22,
             25.54
            ],
            [
             "Chile",
             "Americas",
             2020,
             19116209,
             1.776,
             6.86
            ],
            [
             "Guatemala",
             "Americas",
             2020,
             17915567,
             3.385,
             24.26
            ],
            [
             "Ecuador",
             "Americas",
             2020,
             17643060,
             2.364,
             13.5
            ],
            [
             "Bolivia",
             "Americas",
             2020,
             11673029,
             2.943,
             25.44
            ],
            [
             "Haiti",
             "Americas",
             2020,
             11402533,
             2.776,
             61.56
            ],
            [
             "Cuba",
             "Americas",
             2020,
             11326616,
             1.468,
             4.82
            ],
            [
             "Dominican Republic",
             "Americas",
             2020,
             10847904,
             2.28,
             27.67
            ],
            [
             "Honduras",
             "Americas",
             2020,
             9904608,
             2.701,
             16.64
            ],
            [
             "Paraguay",
             "Americas",
             2020,
             7132530,
             2.646,
             19.44
            ],
            [
             "Nicaragua",
             "Americas",
             2020,
             6624554,
             2.258,
             17.34
            ],
            [
             "El Salvador",
             "Americas",
             2020,
             6486201,
             2.024,
             12.63
            ],
            [
             "Costa Rica",
             "Americas",
             2020,
             5094114,
             1.703,
             8.19
            ],
            [
             "Panama",
             "Americas",
             2020,
             4314768,
             2.305,
             14.62
            ],
            [
             "Uruguay",
             "Americas",
             2020,
             3473727,
             1.983,
             7.2
            ],
            [
             "Jamaica",
             "Americas",
             2020,
             2961161,
             2.111,
             13.79
            ],
            [
             "Trinidad and Tobago",
             "Americas",
             2020,
             1399491,
             1.79,
             17.51
            ],
            [
             "Guyana",
             "Americas",
             2020,
             786559,
             2.332,
             28.68
            ],
            [
             "Suriname",
             "Americas",
             2020,
             586634,
             2.11,
             17.91
            ],
            [
             "Belize",
             "Americas",
             2020,
             397621,
             2.437,
             12.37
            ],
            [
             "Bahamas",
             "Americas",
             2020,
             393248,
             1.861,
             9.62
            ],
            [
             "Barbados",
             "Americas",
             2020,
             287371,
             1.868,
             11.66
            ],
            [
             "St. Lucia",
             "Americas",
             2020,
             183629,
             1.781,
             15.89
            ],
            [
             "Grenada",
             "Americas",
             2020,
             112519,
             2.025,
             15.16
            ],
            [
             "St. Vincent and the Grenadines",
             "Americas",
             2020,
             110947,
             1.858,
             15.54
            ],
            [
             "Antigua and Barbuda",
             "Americas",
             2020,
             97928,
             2.008,
             6.09
            ]
           ],
           "hovertemplate": "<b>%{hovertext}</b><br><br><extra></extra>",
           "hovertext": [
            "United States",
            "Brazil",
            "Mexico",
            "Colombia",
            "Argentina",
            "Canada",
            "Peru",
            "Venezuela",
            "Chile",
            "Guatemala",
            "Ecuador",
            "Bolivia",
            "Haiti",
            "Cuba",
            "Dominican Republic",
            "Honduras",
            "Paraguay",
            "Nicaragua",
            "El Salvador",
            "Costa Rica",
            "Panama",
            "Uruguay",
            "Jamaica",
            "Trinidad and Tobago",
            "Guyana",
            "Suriname",
            "Belize",
            "Bahamas",
            "Barbados",
            "St. Lucia",
            "Grenada",
            "St. Vincent and the Grenadines",
            "Antigua and Barbuda"
           ],
           "ids": [
            "United States",
            "Brazil",
            "Mexico",
            "Colombia",
            "Argentina",
            "Canada",
            "Peru",
            "Venezuela",
            "Chile",
            "Guatemala",
            "Ecuador",
            "Bolivia",
            "Haiti",
            "Cuba",
            "Dominican Republic",
            "Honduras",
            "Paraguay",
            "Nicaragua",
            "El Salvador",
            "Costa Rica",
            "Panama",
            "Uruguay",
            "Jamaica",
            "Trinidad and Tobago",
            "Guyana",
            "Suriname",
            "Belize",
            "Bahamas",
            "Barbados",
            "St. Lucia",
            "Grenada",
            "St. Vincent and the Grenadines",
            "Antigua and Barbuda"
           ],
           "legendgroup": "Americas",
           "marker": {
            "color": "#98ef33",
            "size": {
             "bdata": "AAAAF7O6s0EAAABizFapQQAAAERuvZ5BAAAAIEpDiEEAAAAIEI2FQQAAAGgy/4FBAAAAYMRxf0EAAABwXh57QQAAABALO3JBAAAA8OoVcUEAAABAY9NwQQAAAKC4Q2ZBAAAAoKS/ZUEAAAAAk5plQQAAAADUsGRBAAAAADzkYkEAAACAXDVbQQAAAIBKRVlBAAAAQC6+WEEAAACAuG5TQQAAAACkdVBBAAAAgJ+ASkEAAACAhJdGQQAAAADDWjVBAAAAAP4AKEEAAAAAFOchQQAAAADURBhBAAAAAIAAGEEAAAAALIoRQQAAAABoagZBAAAAAHB4+0AAAAAAMBb7QAAAAACA6PdA",
             "dtype": "f8"
            },
            "sizemode": "area",
            "sizeref": 399812.15944444446,
            "symbol": "circle"
           },
           "mode": "markers",
           "name": "Americas",
           "orientation": "v",
           "showlegend": true,
           "type": "scatter",
           "x": {
            "bdata": "AAAAAEAX7EAAAAAAgFLMQAAAAACApdFAAAAAAABSy0AAAAAAwLbQQAAAAACgvuVAAAAAAIAHykAAAAAAAK/BQAAAAADAu9ZAAAAAAAAnvkAAAAAAAMXDQAAAAAAAlLxAAAAAAACcmUAAAAAAAFnAQAAAAADAu9BAAAAAAABsskAAAAAAABPIQAAAAAAAsrFAAAAAAAC7vUAAAAAAAFbPQAAAAACAr9dAAAAAAMDU1EAAAAAAAE7AQAAAAADAJNxAAAAAAAADwEAAAAAAgIXLQAAAAAAAYr5AAAAAAECi20AAAAAAQE7QQAAAAAAA8shAAAAAAACmzEAAAAAAgFPGQAAAAADAa9hA",
            "dtype": "f8"
           },
           "xaxis": "x",
           "y": {
            "bdata": "uB6F61GoU0ApXI/C9QhTQD0K16Nw7VJAexSuR+EqVEBmZmZmZkZTQBSuR+F6lFRAcT0K16NAVEBmZmZmZsZSQEjhehSuB1RAhetRuB5VUkBI4XoUrldTQGZmZmZmZlJAAAAAAACAUEApXI/C9ahTQJqZmZmZaVJA4XoUrkehUkAAAAAAACBTQK5H4XoU3lNA7FG4HoWrUkDhehSuRwFUQIXrUbge9VNArkfhehReU0AfhetRuL5SQLgehetRqFJAZmZmZmZmUUApXI/C9RhSQDMzMzMzo1JAH4XrUbiOUkDNzMzMzFxTQK5H4XoU/lJAmpmZmZmJUkCamZmZmSlSQArXo3A9WlNA",
            "dtype": "f8"
           },
           "yaxis": "y"
          },
          {
           "customdata": [
            [
             "Nigeria",
             "Africa",
             2020,
             206139587,
             5.583,
             113.6
            ],
            [
             "Ethiopia",
             "Africa",
             2020,
             114963583,
             3.746,
             50.79
            ],
            [
             "Egypt",
             "Africa",
             2020,
             102334403,
             2.549,
             19.82
            ],
            [
             "Congo, Dem. Rep.",
             "Africa",
             2020,
             89561404,
             5.223,
             84.53
            ],
            [
             "Tanzania",
             "Africa",
             2020,
             59734213,
             4.749,
             49.5
            ],
            [
             "South Africa",
             "Africa",
             2020,
             59308690,
             2.225,
             32.09
            ],
            [
             "Kenya",
             "Africa",
             2020,
             53771300,
             3.925,
             38.55
            ],
            [
             "Uganda",
             "Africa",
             2020,
             45741000,
             5.204,
             43.02
            ],
            [
             "Algeria",
             "Africa",
             2020,
             43851043,
             2.437,
             22.18
            ],
            [
             "Sudan",
             "Africa",
             2020,
             43849269,
             3.966,
             57.77
            ],
            [
             "Morocco",
             "Africa",
             2020,
             36910558,
             2.476,
             20.61
            ],
            [
             "Angola",
             "Africa",
             2020,
             32866268,
             5.181,
             72.29
            ],
            [
             "Mozambique",
             "Africa",
             2020,
             31255435,
             4.684,
             68.1
            ],
            [
             "Ghana",
             "Africa",
             2020,
             31072945,
             3.465,
             44.79
            ],
            [
             "Madagascar",
             "Africa",
             2020,
             27691019,
             4.072,
             48.71
            ],
            [
             "Cameroon",
             "Africa",
             2020,
             26545864,
             4.279,
             72.03
            ],
            [
             "Cote d'Ivoire",
             "Africa",
             2020,
             26378275,
             4.401,
             77.06
            ],
            [
             "Niger",
             "Africa",
             2020,
             24206636,
             7.294,
             77.7
            ],
            [
             "Burkina Faso",
             "Africa",
             2020,
             20903278,
             5.009,
             71.52
            ],
            [
             "Mali",
             "Africa",
             2020,
             20250834,
             6.576,
             92.36
            ],
            [
             "Malawi",
             "Africa",
             2020,
             19129955,
             4.873,
             45.07
            ],
            [
             "Zambia",
             "Africa",
             2020,
             18383956,
             5.331,
             54.5
            ],
            [
             "Senegal",
             "Africa",
             2020,
             16743930,
             4.457,
             40.34
            ],
            [
             "Chad",
             "Africa",
             2020,
             16425859,
             5.506,
             114.49
            ],
            [
             "Somalia",
             "Africa",
             2020,
             15893219,
             5.847,
             116.52
            ],
            [
             "Zimbabwe",
             "Africa",
             2020,
             14862927,
             3.071,
             43.06
            ],
            [
             "Guinea",
             "Africa",
             2020,
             13132792,
             4.354,
             94.26
            ],
            [
             "Rwanda",
             "Africa",
             2020,
             12952209,
             3.89,
             32.03
            ],
            [
             "Benin",
             "Africa",
             2020,
             12123198,
             4.314,
             88.76
            ],
            [
             "Burundi",
             "Africa",
             2020,
             11890781,
             5.423,
             55.11
            ],
            [
             "Tunisia",
             "Africa",
             2020,
             11818618,
             1.872,
             15.94
            ],
            [
             "South Sudan",
             "Africa",
             2020,
             11193729,
             4.337,
             96.28
            ],
            [
             "Togo",
             "Africa",
             2020,
             8278737,
             4.166,
             66.2
            ],
            [
             "Sierra Leone",
             "Africa",
             2020,
             7976985,
             4.191,
             99.03
            ],
            [
             "Libya",
             "Africa",
             2020,
             6871287,
             2.05,
             11.23
            ],
            [
             "Congo, Rep.",
             "Africa",
             2020,
             5518092,
             4.543,
             47.48
            ],
            [
             "Liberia",
             "Africa",
             2020,
             5057677,
             4.294,
             67.14
            ],
            [
             "Central African Republic",
             "Africa",
             2020,
             4829764,
             3.799,
             110.05
            ],
            [
             "Mauritania",
             "Africa",
             2020,
             4649660,
             4.241,
             72.14
            ],
            [
             "Eritrea",
             "Africa",
             2020,
             3546427,
             4.09,
             37.75
            ],
            [
             "Namibia",
             "Africa",
             2020,
             2540916,
             2.723,
             36.81
            ],
            [
             "Gambia",
             "Africa",
             2020,
             2416664,
             5.38,
             55.1
            ],
            [
             "Botswana",
             "Africa",
             2020,
             2351625,
             2.36,
             34.8
            ],
            [
             "Gabon",
             "Africa",
             2020,
             2225728,
             3.643,
             42.36
            ],
            [
             "Lesotho",
             "Africa",
             2020,
             2142252,
             2.714,
             75.69
            ],
            [
             "Guinea-Bissau",
             "Africa",
             2020,
             1967998,
             4.498,
             77.08
            ],
            [
             "Equatorial Guinea",
             "Africa",
             2020,
             1402985,
             4.172,
             81.03
            ],
            [
             "Mauritius",
             "Africa",
             2020,
             1271767,
             1.508,
             14.75
            ],
            [
             "Eswatini",
             "Africa",
             2020,
             1160164,
             2.931,
             50.85
            ],
            [
             "Djibouti",
             "Africa",
             2020,
             988002,
             2.977,
             52.9
            ],
            [
             "Comoros",
             "Africa",
             2020,
             869595,
             4.288,
             64.85
            ],
            [
             "Cape Verde",
             "Africa",
             2020,
             555988,
             2.066,
             18.09
            ],
            [
             "Sao Tome and Principe",
             "Africa",
             2020,
             219161,
             3.655,
             29.29
            ],
            [
             "Seychelles",
             "Africa",
             2020,
             98340,
             2.039,
             13.96
            ]
           ],
           "hovertemplate": "<b>%{hovertext}</b><br><br><extra></extra>",
           "hovertext": [
            "Nigeria",
            "Ethiopia",
            "Egypt",
            "Congo, Dem. Rep.",
            "Tanzania",
            "South Africa",
            "Kenya",
            "Uganda",
            "Algeria",
            "Sudan",
            "Morocco",
            "Angola",
            "Mozambique",
            "Ghana",
            "Madagascar",
            "Cameroon",
            "Cote d'Ivoire",
            "Niger",
            "Burkina Faso",
            "Mali",
            "Malawi",
            "Zambia",
            "Senegal",
            "Chad",
            "Somalia",
            "Zimbabwe",
            "Guinea",
            "Rwanda",
            "Benin",
            "Burundi",
            "Tunisia",
            "South Sudan",
            "Togo",
            "Sierra Leone",
            "Libya",
            "Congo, Rep.",
            "Liberia",
            "Central African Republic",
            "Mauritania",
            "Eritrea",
            "Namibia",
            "Gambia",
            "Botswana",
            "Gabon",
            "Lesotho",
            "Guinea-Bissau",
            "Equatorial Guinea",
            "Mauritius",
            "Eswatini",
            "Djibouti",
            "Comoros",
            "Cape Verde",
            "Sao Tome and Principe",
            "Seychelles"
           ],
           "ids": [
            "Nigeria",
            "Ethiopia",
            "Egypt",
            "Congo, Dem. Rep.",
            "Tanzania",
            "South Africa",
            "Kenya",
            "Uganda",
            "Algeria",
            "Sudan",
            "Morocco",
            "Angola",
            "Mozambique",
            "Ghana",
            "Madagascar",
            "Cameroon",
            "Cote d'Ivoire",
            "Niger",
            "Burkina Faso",
            "Mali",
            "Malawi",
            "Zambia",
            "Senegal",
            "Chad",
            "Somalia",
            "Zimbabwe",
            "Guinea",
            "Rwanda",
            "Benin",
            "Burundi",
            "Tunisia",
            "South Sudan",
            "Togo",
            "Sierra Leone",
            "Libya",
            "Congo, Rep.",
            "Liberia",
            "Central African Republic",
            "Mauritania",
            "Eritrea",
            "Namibia",
            "Gambia",
            "Botswana",
            "Gabon",
            "Lesotho",
            "Guinea-Bissau",
            "Equatorial Guinea",
            "Mauritius",
            "Eswatini",
            "Djibouti",
            "Comoros",
            "Cape Verde",
            "Sao Tome and Principe",
            "Seychelles"
           ],
           "legendgroup": "Africa",
           "marker": {
            "color": "#33dded",
            "size": {
             "bdata": "AAAAhuGSqEEAAAD80WibQQAAAAz/ZZhBAAAA8GRalUEAAAAoxnuMQQAAAJDUR4xBAAAAIOGjiUEAAABAns+FQQAAABjp6IRBAAAAqLHohEEAAADwrpmBQQAAAMD9V39BAAAAsLjOfUEAAAAQK6J9QQAAALCAaHpBAAAAgOxQeUEAAAAwAih5QQAAAMDSFXdBAAAA4Fbvc0EAAAAgDVBzQQAAADBmPnJBAAAAQEWIcUEAAABAv+9vQQAAAGBwVG9BAAAAYFxQbkEAAADgSVlsQQAAAAB/DGlBAAAAIFK0aEEAAADAhx9nQQAAAKALrmZBAAAAQM+KZkEAAAAgsFllQQAAAEC0lF9BAAAAQAZuXkEAAADAPTZaQQAAAADDDFVBAAAAQCNLU0EAAAAAkWxSQQAAAACvvFFBAAAAgJ0OS0EAAAAAumJDQQAAAAAMcEJBAAAAgATxQUEAAAAAIPtAQQAAAAAWWEBBAAAAAH4HPkEAAAAAaWg1QQAAAADXZzNBAAAAAOSzMUEAAAAAxCYuQQAAAAC2iSpBAAAAAKj3IEEAAAAAyMAKQQAAAABAAvhA",
             "dtype": "f8"
            },
            "sizemode": "area",
            "sizeref": 399812.15944444446,
            "symbol": "circle"
           },
           "mode": "markers",
           "name": "Africa",
           "orientation": "v",
           "showlegend": true,
           "type": "scatter",
           "x": {
            "bdata": "AAAAAACxtEAAAAAAAEifQAAAAAAA9sZAAAAAAABoikAAAAAAAOKnQAAAAAAAacdAAAAAAAB+qUAAAAAAAPydQAAAAAAAbMtAAAAAAAC7sUAAAAAAACm/QAAAAAAARLVAAAAAAADgkkAAAAAAAO6xQAAAAAAA0JdAAAAAAAAAq0AAAAAAAPSvQAAAAAAAcI5AAAAAAAAUnUAAAAAAALSgQAAAAAAA3JJAAAAAAACGrEAAAAAAABCsQAAAAAAABJxAAAAAAADIg0AAAAAAANiiQAAAAAAAgqNAAAAAAABqoUAAAAAAABSiQAAAAAAAoINAAAAAAIASxkAAAAAAAGyeQAAAAAAAxJlAAAAAAABsl0AAAAAAAITMQAAAAAAA9rNAAAAAAACYkUAAAAAAAIiJQAAAAAAAcq9AAAAAAAAslkAAAAAAAODCQAAAAAAAUJlAAAAAAIDJ0EAAAAAAQB/QQAAAAAAAqKZAAAAAAAA0mkAAAAAAQD/RQAAAAADAINZAAAAAAICRwkAAAAAAAPysQAAAAAAAqKNAAAAAAAAAvEAAAAAAAByoQAAAAAAAzttA",
            "dtype": "f8"
           },
           "xaxis": "x",
           "y": {
            "bdata": "uB6F61FoUEBxPQrXo2BRQLgehetRyFFAzczMzMysT0DXo3A9CgdRQFyPwvUozFBAXI/C9Si8UECuR+F6FL5QQKRwPQrXk1NAcT0K16PAUUApXI/C9ahSQNejcD0KV1BAUrgehesxTkAK16NwPZpQQMP1KFyPIlBA7FG4HoULUEDXo3A9CtdPQClcj8L1yE9AFK5H4Xp0T0DD9Shcj6JPQLgehetRKFBAZmZmZmYWUEApXI/C9ThRQPYoXI/CdU5AhetRuB7FTUCF61G4HiVPQD0K16Nw/U5AzczMzMxcUUCF61G4HmVQQArXo3A9Sk9A7FG4HoW7U0AAAAAAAABOQFK4HoXrUVBAPQrXo3DdTkDhehSuR2FSQD0K16NwvU9AMzMzMzNjUEBmZmZmZqZKQAAAAAAA0FFA4XoUrkfhT0AUrkfheuRQQFK4HoXrsVBAMzMzMzODUUBSuB6F61FRQK5H4XoUTkxAH4XrUbh+TkApXI/C9ahQQArXo3A9ylJArkfhehQuT0AfhetRuD5RQMP1KFyPUlFAKVyPwvUYU0CPwvUoXN9QQIXrUbgedVJA",
            "dtype": "f8"
           },
           "yaxis": "y"
          },
          {
           "customdata": [
            [
             "Russia",
             "Europe",
             2020,
             145934460,
             1.63,
             6.52
            ],
            [
             "Turkey",
             "Europe",
             2020,
             84339067,
             1.922,
             9.73
            ],
            [
             "Germany",
             "Europe",
             2020,
             83783945,
             1.483,
             3.24
            ],
            [
             "United Kingdom",
             "Europe",
             2020,
             67886004,
             1.89,
             4.21
            ],
            [
             "France",
             "Europe",
             2020,
             65273512,
             1.982,
             3.83
            ],
            [
             "Italy",
             "Europe",
             2020,
             60461828,
             1.585,
             2.83
            ],
            [
             "Spain",
             "Europe",
             2020,
             46754783,
             1.598,
             2.84
            ],
            [
             "Ukraine",
             "Europe",
             2020,
             43733759,
             1.546,
             8.18
            ],
            [
             "Poland",
             "Europe",
             2020,
             37846605,
             1.505,
             4.13
            ],
            [
             "Romania",
             "Europe",
             2020,
             19237682,
             1.507,
             6.87
            ],
            [
             "Netherlands",
             "Europe",
             2020,
             17134873,
             1.802,
             3.53
            ],
            [
             "Belgium",
             "Europe",
             2020,
             11589616,
             1.88,
             3.38
            ],
            [
             "Czech Republic",
             "Europe",
             2020,
             10708982,
             1.681,
             3.21
            ],
            [
             "Greece",
             "Europe",
             2020,
             10423056,
             1.593,
             4.31
            ],
            [
             "Portugal",
             "Europe",
             2020,
             10196707,
             1.348,
             3.46
            ],
            [
             "Azerbaijan",
             "Europe",
             2020,
             10139175,
             1.83,
             20.13
            ],
            [
             "Sweden",
             "Europe",
             2020,
             10099270,
             1.947,
             2.53
            ],
            [
             "Hungary",
             "Europe",
             2020,
             9660350,
             1.5,
             3.99
            ],
            [
             "Belarus",
             "Europe",
             2020,
             9449321,
             1.566,
             3.26
            ],
            [
             "Austria",
             "Europe",
             2020,
             9006400,
             1.55,
             3.21
            ],
            [
             "Serbia",
             "Europe",
             2020,
             8737370,
             1.398,
             5.16
            ],
            [
             "Switzerland",
             "Europe",
             2020,
             8654618,
             1.599,
             3.91
            ],
            [
             "Bulgaria",
             "Europe",
             2020,
             6948445,
             1.645,
             6.53
            ],
            [
             "Denmark",
             "Europe",
             2020,
             5792203,
             1.899,
             3.97
            ],
            [
             "Finland",
             "Europe",
             2020,
             5540718,
             1.862,
             1.58
            ],
            [
             "Slovak Republic",
             "Europe",
             2020,
             5459643,
             1.488,
             5.27
            ],
            [
             "Norway",
             "Europe",
             2020,
             5421242,
             1.931,
             2.36
            ],
            [
             "Ireland",
             "Europe",
             2020,
             4937796,
             1.989,
             3.19
            ],
            [
             "Croatia",
             "Europe",
             2020,
             4105268,
             1.57,
             4.45
            ],
            [
             "Moldova",
             "Europe",
             2020,
             4033963,
             1.474,
             14.88
            ],
            [
             "Georgia",
             "Europe",
             2020,
             3989175,
             1.82,
             9.02
            ],
            [
             "Bosnia and Herzegovina",
             "Europe",
             2020,
             3280815,
             1.395,
             5.5
            ],
            [
             "Armenia",
             "Europe",
             2020,
             2963234,
             1.746,
             11.74
            ],
            [
             "Albania",
             "Europe",
             2020,
             2877800,
             1.763,
             8.52
            ],
            [
             "Lithuania",
             "Europe",
             2020,
             2722291,
             1.609,
             3.86
            ],
            [
             "North Macedonia",
             "Europe",
             2020,
             2083380,
             1.442,
             9.69
            ],
            [
             "Slovenia",
             "Europe",
             2020,
             2078932,
             1.578,
             2.07
            ],
            [
             "Latvia",
             "Europe",
             2020,
             1886202,
             1.703,
             3.64
            ],
            [
             "Estonia",
             "Europe",
             2020,
             1326539,
             1.689,
             2.4
            ],
            [
             "Cyprus",
             "Europe",
             2020,
             1207361,
             1.482,
             2.22
            ],
            [
             "Montenegro",
             "Europe",
             2020,
             628062,
             1.639,
             2.38
            ],
            [
             "Luxembourg",
             "Europe",
             2020,
             625976,
             1.724,
             2.31
            ],
            [
             "Malta",
             "Europe",
             2020,
             441539,
             1.39,
             6.61
            ],
            [
             "Iceland",
             "Europe",
             2020,
             341250,
             2.015,
             1.89
            ]
           ],
           "hovertemplate": "<b>%{hovertext}</b><br><br><extra></extra>",
           "hovertext": [
            "Russia",
            "Turkey",
            "Germany",
            "United Kingdom",
            "France",
            "Italy",
            "Spain",
            "Ukraine",
            "Poland",
            "Romania",
            "Netherlands",
            "Belgium",
            "Czech Republic",
            "Greece",
            "Portugal",
            "Azerbaijan",
            "Sweden",
            "Hungary",
            "Belarus",
            "Austria",
            "Serbia",
            "Switzerland",
            "Bulgaria",
            "Denmark",
            "Finland",
            "Slovak Republic",
            "Norway",
            "Ireland",
            "Croatia",
            "Moldova",
            "Georgia",
            "Bosnia and Herzegovina",
            "Armenia",
            "Albania",
            "Lithuania",
            "North Macedonia",
            "Slovenia",
            "Latvia",
            "Estonia",
            "Cyprus",
            "Montenegro",
            "Luxembourg",
            "Malta",
            "Iceland"
           ],
           "ids": [
            "Russia",
            "Turkey",
            "Germany",
            "United Kingdom",
            "France",
            "Italy",
            "Spain",
            "Ukraine",
            "Poland",
            "Romania",
            "Netherlands",
            "Belgium",
            "Czech Republic",
            "Greece",
            "Portugal",
            "Azerbaijan",
            "Sweden",
            "Hungary",
            "Belarus",
            "Austria",
            "Serbia",
            "Switzerland",
            "Bulgaria",
            "Denmark",
            "Finland",
            "Slovak Republic",
            "Norway",
            "Ireland",
            "Croatia",
            "Moldova",
            "Georgia",
            "Bosnia and Herzegovina",
            "Armenia",
            "Albania",
            "Lithuania",
            "North Macedonia",
            "Slovenia",
            "Latvia",
            "Estonia",
            "Cyprus",
            "Montenegro",
            "Luxembourg",
            "Malta",
            "Iceland"
           ],
           "legendgroup": "Europe",
           "marker": {
            "color": "#ffeb33",
            "size": {
             "bdata": "AAAA+JBloUEAAADspRuUQQAAACTE+ZNBAAAA0G4vkEEAAABA9R+PQQAAACCY1IxBAAAA+F5LhkEAAAD4l9qEQQAAAGjyC4JBAAAAILNYckEAAACQUVdwQQAAAAD+GmZBAAAAwP5sZEEAAAAAYuFjQQAAAGDccmNBAAAA4MRWY0EAAADASENjQQAAAMD3bGJBAAAAIO0FYkEAAAAAqC1hQQAAAEBLqmBBAAAAQOOBYEEAAABAl4FaQQAAAMByGFZBAAAAgNsiVUEAAADArtNUQQAAAIAurlRBAAAAABHWUkEAAAAAGlJPQQAAAIDVxk5BAAAAgFtvTkEAAACA1wdJQQAAAACRm0ZBAAAAALT0RUEAAACA+cREQQAAAAA0yj9BAAAAANS4P0EAAAAA+sc8QQAAAADLPTRBAAAAAEFsMkEAAAAAvCojQQAAAABwGiNBAAAAAAzzGkEAAAAACNQUQQ==",
             "dtype": "f8"
            },
            "sizemode": "area",
            "sizeref": 399812.15944444446,
            "symbol": "circle"
           },
           "mode": "markers",
           "name": "Europe",
           "orientation": "v",
           "showlegend": true,
           "type": "scatter",
           "x": {
            "bdata": "AAAAAICK2UAAAAAAgODYQAAAAAAA0+ZAAAAAAIDk40AAAAAAYLjjQAAAAACAnuFAAAAAAGCn4UAAAAAAACHBQAAAAACAId5AAAAAAIDN2UAAAAAA4AHpQAAAAADgaeVAAAAAAIAV4UAAAAAAwLjZQAAAAABAF91AAAAAAIAC0EAAAAAAoCrnQAAAAACA7N1AAAAAAADE0UAAAAAAIB7nQAAAAABA/dBAAAAAAKDZ7EAAAAAAwGzUQAAAAADA4edAAAAAACD15EAAAAAAQBLgQAAAAAAQfPBAAAAAALAU8kAAAAAAgLzYQAAAAAAARrtAAAAAAIAPxkAAAAAAgFHKQAAAAAAA6cNAAAAAAIDUyUAAAAAAIF7gQAAAAAAADsxAAAAAAIDp4EAAAAAAwG3bQAAAAADADOBAAAAAAGAo4UAAAAAAAMnRQAAAAADAOPdAAAAAAOCz40AAAAAAIEnnQA==",
            "dtype": "f8"
           },
           "xaxis": "x",
           "y": {
            "bdata": "7FG4HoUrUkAfhetRuO5TQBSuR+F6RFRAH4XrUbhOVEDNzMzMzMxUQClcj8L16FRAPQrXo3DdVEC4HoXrUbhRQDMzMzMzo1NAFK5H4XrkUkDsUbgehXtUQNejcD0Kd1RAuB6F61HoU0CPwvUoXF9UQOF6FK5HgVRA7FG4HoXLUUDsUbgehbtUQPYoXI/CVVNAuB6F61GoUkDXo3A9CodUQHsUrkfhClNACtejcD0aVUCPwvUoXM9SQNejcD0KR1RAXI/C9Sh8VEBI4XoUrndTQI/C9Shcr1RAPQrXo3CdVEAfhetRuL5TQFyPwvUoTFJAhetRuB5VUkApXI/C9UhTQMP1KFyPAlNAhetRuB6lU0DXo3A9CudSQLgehetROFNApHA9CtdjVEDD9Shcj+JSQLgehetRqFNAXI/C9SiMVED2KFyPwjVTQNejcD0Kh1RAzczMzMxcVEAK16NwPcpUQA==",
            "dtype": "f8"
           },
           "yaxis": "y"
          }
         ],
         "name": "2020"
        }
       ],
       "layout": {
        "annotations": [
         {
          "align": "right",
          "showarrow": false,
          "text": "Per person (GDP/capita, PPP$ inflation-adjusted)",
          "x": 1,
          "xref": "x domain",
          "y": 0,
          "yref": "y domain"
         },
         {
          "showarrow": false,
          "text": "Years",
          "textangle": -90,
          "valign": "top",
          "x": 0,
          "xref": "x domain",
          "y": 1,
          "yref": "y domain"
         }
        ],
        "font": {
         "color": "dimgray"
        },
        "legend": {
         "itemsizing": "constant",
         "title": {
          "text": "Region"
         },
         "tracegroupgap": 0
        },
        "plot_bgcolor": "white",
        "sliders": [
         {
          "active": 0,
          "currentvalue": {
           "prefix": "Year="
          },
          "len": 0.9,
          "pad": {
           "b": 10,
           "t": 60
          },
          "steps": [
           {
            "args": [
             [
              "2010"
             ],
             {
              "frame": {
               "duration": 0,
               "redraw": false
              },
              "fromcurrent": true,
              "mode": "immediate",
              "transition": {
               "duration": 0,
               "easing": "linear"
              }
             }
            ],
            "label": "2010",
            "method": "animate"
           },
           {
            "args": [
             [
              "2011"
             ],
             {
              "frame": {
               "duration": 0,
               "redraw": false
              },
              "fromcurrent": true,
              "mode": "immediate",
              "transition": {
               "duration": 0,
               "easing": "linear"
              }
             }
            ],
            "label": "2011",
            "method": "animate"
           },
           {
            "args": [
             [
              "2012"
             ],
             {
              "frame": {
               "duration": 0,
               "redraw": false
              },
              "fromcurrent": true,
              "mode": "immediate",
              "transition": {
               "duration": 0,
               "easing": "linear"
              }
             }
            ],
            "label": "2012",
            "method": "animate"
           },
           {
            "args": [
             [
              "2013"
             ],
             {
              "frame": {
               "duration": 0,
               "redraw": false
              },
              "fromcurrent": true,
              "mode": "immediate",
              "transition": {
               "duration": 0,
               "easing": "linear"
              }
             }
            ],
            "label": "2013",
            "method": "animate"
           },
           {
            "args": [
             [
              "2014"
             ],
             {
              "frame": {
               "duration": 0,
               "redraw": false
              },
              "fromcurrent": true,
              "mode": "immediate",
              "transition": {
               "duration": 0,
               "easing": "linear"
              }
             }
            ],
            "label": "2014",
            "method": "animate"
           },
           {
            "args": [
             [
              "2015"
             ],
             {
              "frame": {
               "duration": 0,
               "redraw": false
              },
              "fromcurrent": true,
              "mode": "immediate",
              "transition": {
               "duration": 0,
               "easing": "linear"
              }
             }
            ],
            "label": "2015",
            "method": "animate"
           },
           {
            "args": [
             [
              "2016"
             ],
             {
              "frame": {
               "duration": 0,
               "redraw": false
              },
              "fromcurrent": true,
              "mode": "immediate",
              "transition": {
               "duration": 0,
               "easing": "linear"
              }
             }
            ],
            "label": "2016",
            "method": "animate"
           },
           {
            "args": [
             [
              "2017"
             ],
             {
              "frame": {
               "duration": 0,
               "redraw": false
              },
              "fromcurrent": true,
              "mode": "immediate",
              "transition": {
               "duration": 0,
               "easing": "linear"
              }
             }
            ],
            "label": "2017",
            "method": "animate"
           },
           {
            "args": [
             [
              "2018"
             ],
             {
              "frame": {
               "duration": 0,
               "redraw": false
              },
              "fromcurrent": true,
              "mode": "immediate",
              "transition": {
               "duration": 0,
               "easing": "linear"
              }
             }
            ],
            "label": "2018",
            "method": "animate"
           },
           {
            "args": [
             [
              "2019"
             ],
             {
              "frame": {
               "duration": 0,
               "redraw": false
              },
              "fromcurrent": true,
              "mode": "immediate",
              "transition": {
               "duration": 0,
               "easing": "linear"
              }
             }
            ],
            "label": "2019",
            "method": "animate"
           },
           {
            "args": [
             [
              "2020"
             ],
             {
              "frame": {
               "duration": 0,
               "redraw": false
              },
              "fromcurrent": true,
              "mode": "immediate",
              "transition": {
               "duration": 0,
               "easing": "linear"
              }
             }
            ],
            "label": "2020",
            "method": "animate"
           }
          ],
          "x": 0.1,
          "xanchor": "left",
          "y": 0,
          "yanchor": "top"
         }
        ],
        "template": {
         "data": {
          "bar": [
           {
            "error_x": {
             "color": "#2a3f5f"
            },
            "error_y": {
             "color": "#2a3f5f"
            },
            "marker": {
             "line": {
              "color": "#E5ECF6",
              "width": 0.5
             },
             "pattern": {
              "fillmode": "overlay",
              "size": 10,
              "solidity": 0.2
             }
            },
            "type": "bar"
           }
          ],
          "barpolar": [
           {
            "marker": {
             "line": {
              "color": "#E5ECF6",
              "width": 0.5
             },
             "pattern": {
              "fillmode": "overlay",
              "size": 10,
              "solidity": 0.2
             }
            },
            "type": "barpolar"
           }
          ],
          "carpet": [
           {
            "aaxis": {
             "endlinecolor": "#2a3f5f",
             "gridcolor": "white",
             "linecolor": "white",
             "minorgridcolor": "white",
             "startlinecolor": "#2a3f5f"
            },
            "baxis": {
             "endlinecolor": "#2a3f5f",
             "gridcolor": "white",
             "linecolor": "white",
             "minorgridcolor": "white",
             "startlinecolor": "#2a3f5f"
            },
            "type": "carpet"
           }
          ],
          "choropleth": [
           {
            "colorbar": {
             "outlinewidth": 0,
             "ticks": ""
            },
            "type": "choropleth"
           }
          ],
          "contour": [
           {
            "colorbar": {
             "outlinewidth": 0,
             "ticks": ""
            },
            "colorscale": [
             [
              0,
              "#0d0887"
             ],
             [
              0.1111111111111111,
              "#46039f"
             ],
             [
              0.2222222222222222,
              "#7201a8"
             ],
             [
              0.3333333333333333,
              "#9c179e"
             ],
             [
              0.4444444444444444,
              "#bd3786"
             ],
             [
              0.5555555555555556,
              "#d8576b"
             ],
             [
              0.6666666666666666,
              "#ed7953"
             ],
             [
              0.7777777777777778,
              "#fb9f3a"
             ],
             [
              0.8888888888888888,
              "#fdca26"
             ],
             [
              1,
              "#f0f921"
             ]
            ],
            "type": "contour"
           }
          ],
          "contourcarpet": [
           {
            "colorbar": {
             "outlinewidth": 0,
             "ticks": ""
            },
            "type": "contourcarpet"
           }
          ],
          "heatmap": [
           {
            "colorbar": {
             "outlinewidth": 0,
             "ticks": ""
            },
            "colorscale": [
             [
              0,
              "#0d0887"
             ],
             [
              0.1111111111111111,
              "#46039f"
             ],
             [
              0.2222222222222222,
              "#7201a8"
             ],
             [
              0.3333333333333333,
              "#9c179e"
             ],
             [
              0.4444444444444444,
              "#bd3786"
             ],
             [
              0.5555555555555556,
              "#d8576b"
             ],
             [
              0.6666666666666666,
              "#ed7953"
             ],
             [
              0.7777777777777778,
              "#fb9f3a"
             ],
             [
              0.8888888888888888,
              "#fdca26"
             ],
             [
              1,
              "#f0f921"
             ]
            ],
            "type": "heatmap"
           }
          ],
          "histogram": [
           {
            "marker": {
             "pattern": {
              "fillmode": "overlay",
              "size": 10,
              "solidity": 0.2
             }
            },
            "type": "histogram"
           }
          ],
          "histogram2d": [
           {
            "colorbar": {
             "outlinewidth": 0,
             "ticks": ""
            },
            "colorscale": [
             [
              0,
              "#0d0887"
             ],
             [
              0.1111111111111111,
              "#46039f"
             ],
             [
              0.2222222222222222,
              "#7201a8"
             ],
             [
              0.3333333333333333,
              "#9c179e"
             ],
             [
              0.4444444444444444,
              "#bd3786"
             ],
             [
              0.5555555555555556,
              "#d8576b"
             ],
             [
              0.6666666666666666,
              "#ed7953"
             ],
             [
              0.7777777777777778,
              "#fb9f3a"
             ],
             [
              0.8888888888888888,
              "#fdca26"
             ],
             [
              1,
              "#f0f921"
             ]
            ],
            "type": "histogram2d"
           }
          ],
          "histogram2dcontour": [
           {
            "colorbar": {
             "outlinewidth": 0,
             "ticks": ""
            },
            "colorscale": [
             [
              0,
              "#0d0887"
             ],
             [
              0.1111111111111111,
              "#46039f"
             ],
             [
              0.2222222222222222,
              "#7201a8"
             ],
             [
              0.3333333333333333,
              "#9c179e"
             ],
             [
              0.4444444444444444,
              "#bd3786"
             ],
             [
              0.5555555555555556,
              "#d8576b"
             ],
             [
              0.6666666666666666,
              "#ed7953"
             ],
             [
              0.7777777777777778,
              "#fb9f3a"
             ],
             [
              0.8888888888888888,
              "#fdca26"
             ],
             [
              1,
              "#f0f921"
             ]
            ],
            "type": "histogram2dcontour"
           }
          ],
          "mesh3d": [
           {
            "colorbar": {
             "outlinewidth": 0,
             "ticks": ""
            },
            "type": "mesh3d"
           }
          ],
          "parcoords": [
           {
            "line": {
             "colorbar": {
              "outlinewidth": 0,
              "ticks": ""
             }
            },
            "type": "parcoords"
           }
          ],
          "pie": [
           {
            "automargin": true,
            "type": "pie"
           }
          ],
          "scatter": [
           {
            "fillpattern": {
             "fillmode": "overlay",
             "size": 10,
             "solidity": 0.2
            },
            "type": "scatter"
           }
          ],
          "scatter3d": [
           {
            "line": {
             "colorbar": {
              "outlinewidth": 0,
              "ticks": ""
             }
            },
            "marker": {
             "colorbar": {
              "outlinewidth": 0,
              "ticks": ""
             }
            },
            "type": "scatter3d"
           }
          ],
          "scattercarpet": [
           {
            "marker": {
             "colorbar": {
              "outlinewidth": 0,
              "ticks": ""
             }
            },
            "type": "scattercarpet"
           }
          ],
          "scattergeo": [
           {
            "marker": {
             "colorbar": {
              "outlinewidth": 0,
              "ticks": ""
             }
            },
            "type": "scattergeo"
           }
          ],
          "scattergl": [
           {
            "marker": {
             "colorbar": {
              "outlinewidth": 0,
              "ticks": ""
             }
            },
            "type": "scattergl"
           }
          ],
          "scattermap": [
           {
            "marker": {
             "colorbar": {
              "outlinewidth": 0,
              "ticks": ""
             }
            },
            "type": "scattermap"
           }
          ],
          "scattermapbox": [
           {
            "marker": {
             "colorbar": {
              "outlinewidth": 0,
              "ticks": ""
             }
            },
            "type": "scattermapbox"
           }
          ],
          "scatterpolar": [
           {
            "marker": {
             "colorbar": {
              "outlinewidth": 0,
              "ticks": ""
             }
            },
            "type": "scatterpolar"
           }
          ],
          "scatterpolargl": [
           {
            "marker": {
             "colorbar": {
              "outlinewidth": 0,
              "ticks": ""
             }
            },
            "type": "scatterpolargl"
           }
          ],
          "scatterternary": [
           {
            "marker": {
             "colorbar": {
              "outlinewidth": 0,
              "ticks": ""
             }
            },
            "type": "scatterternary"
           }
          ],
          "surface": [
           {
            "colorbar": {
             "outlinewidth": 0,
             "ticks": ""
            },
            "colorscale": [
             [
              0,
              "#0d0887"
             ],
             [
              0.1111111111111111,
              "#46039f"
             ],
             [
              0.2222222222222222,
              "#7201a8"
             ],
             [
              0.3333333333333333,
              "#9c179e"
             ],
             [
              0.4444444444444444,
              "#bd3786"
             ],
             [
              0.5555555555555556,
              "#d8576b"
             ],
             [
              0.6666666666666666,
              "#ed7953"
             ],
             [
              0.7777777777777778,
              "#fb9f3a"
             ],
             [
              0.8888888888888888,
              "#fdca26"
             ],
             [
              1,
              "#f0f921"
             ]
            ],
            "type": "surface"
           }
          ],
          "table": [
           {
            "cells": {
             "fill": {
              "color": "#EBF0F8"
             },
             "line": {
              "color": "white"
             }
            },
            "header": {
             "fill": {
              "color": "#C8D4E3"
             },
             "line": {
              "color": "white"
             }
            },
            "type": "table"
           }
          ]
         },
         "layout": {
          "annotationdefaults": {
           "arrowcolor": "#2a3f5f",
           "arrowhead": 0,
           "arrowwidth": 1
          },
          "autotypenumbers": "strict",
          "coloraxis": {
           "colorbar": {
            "outlinewidth": 0,
            "ticks": ""
           }
          },
          "colorscale": {
           "diverging": [
            [
             0,
             "#8e0152"
            ],
            [
             0.1,
             "#c51b7d"
            ],
            [
             0.2,
             "#de77ae"
            ],
            [
             0.3,
             "#f1b6da"
            ],
            [
             0.4,
             "#fde0ef"
            ],
            [
             0.5,
             "#f7f7f7"
            ],
            [
             0.6,
             "#e6f5d0"
            ],
            [
             0.7,
             "#b8e186"
            ],
            [
             0.8,
             "#7fbc41"
            ],
            [
             0.9,
             "#4d9221"
            ],
            [
             1,
             "#276419"
            ]
           ],
           "sequential": [
            [
             0,
             "#0d0887"
            ],
            [
             0.1111111111111111,
             "#46039f"
            ],
            [
             0.2222222222222222,
             "#7201a8"
            ],
            [
             0.3333333333333333,
             "#9c179e"
            ],
            [
             0.4444444444444444,
             "#bd3786"
            ],
            [
             0.5555555555555556,
             "#d8576b"
            ],
            [
             0.6666666666666666,
             "#ed7953"
            ],
            [
             0.7777777777777778,
             "#fb9f3a"
            ],
            [
             0.8888888888888888,
             "#fdca26"
            ],
            [
             1,
             "#f0f921"
            ]
           ],
           "sequentialminus": [
            [
             0,
             "#0d0887"
            ],
            [
             0.1111111111111111,
             "#46039f"
            ],
            [
             0.2222222222222222,
             "#7201a8"
            ],
            [
             0.3333333333333333,
             "#9c179e"
            ],
            [
             0.4444444444444444,
             "#bd3786"
            ],
            [
             0.5555555555555556,
             "#d8576b"
            ],
            [
             0.6666666666666666,
             "#ed7953"
            ],
            [
             0.7777777777777778,
             "#fb9f3a"
            ],
            [
             0.8888888888888888,
             "#fdca26"
            ],
            [
             1,
             "#f0f921"
            ]
           ]
          },
          "colorway": [
           "#636efa",
           "#EF553B",
           "#00cc96",
           "#ab63fa",
           "#FFA15A",
           "#19d3f3",
           "#FF6692",
           "#B6E880",
           "#FF97FF",
           "#FECB52"
          ],
          "font": {
           "color": "#2a3f5f"
          },
          "geo": {
           "bgcolor": "white",
           "lakecolor": "white",
           "landcolor": "#E5ECF6",
           "showlakes": true,
           "showland": true,
           "subunitcolor": "white"
          },
          "hoverlabel": {
           "align": "left"
          },
          "hovermode": "closest",
          "mapbox": {
           "style": "light"
          },
          "paper_bgcolor": "white",
          "plot_bgcolor": "#E5ECF6",
          "polar": {
           "angularaxis": {
            "gridcolor": "white",
            "linecolor": "white",
            "ticks": ""
           },
           "bgcolor": "#E5ECF6",
           "radialaxis": {
            "gridcolor": "white",
            "linecolor": "white",
            "ticks": ""
           }
          },
          "scene": {
           "xaxis": {
            "backgroundcolor": "#E5ECF6",
            "gridcolor": "white",
            "gridwidth": 2,
            "linecolor": "white",
            "showbackground": true,
            "ticks": "",
            "zerolinecolor": "white"
           },
           "yaxis": {
            "backgroundcolor": "#E5ECF6",
            "gridcolor": "white",
            "gridwidth": 2,
            "linecolor": "white",
            "showbackground": true,
            "ticks": "",
            "zerolinecolor": "white"
           },
           "zaxis": {
            "backgroundcolor": "#E5ECF6",
            "gridcolor": "white",
            "gridwidth": 2,
            "linecolor": "white",
            "showbackground": true,
            "ticks": "",
            "zerolinecolor": "white"
           }
          },
          "shapedefaults": {
           "line": {
            "color": "#2a3f5f"
           }
          },
          "ternary": {
           "aaxis": {
            "gridcolor": "white",
            "linecolor": "white",
            "ticks": ""
           },
           "baxis": {
            "gridcolor": "white",
            "linecolor": "white",
            "ticks": ""
           },
           "bgcolor": "#E5ECF6",
           "caxis": {
            "gridcolor": "white",
            "linecolor": "white",
            "ticks": ""
           }
          },
          "title": {
           "x": 0.05
          },
          "xaxis": {
           "automargin": true,
           "gridcolor": "white",
           "linecolor": "white",
           "ticks": "",
           "title": {
            "standoff": 15
           },
           "zerolinecolor": "white",
           "zerolinewidth": 2
          },
          "yaxis": {
           "automargin": true,
           "gridcolor": "white",
           "linecolor": "white",
           "ticks": "",
           "title": {
            "standoff": 15
           },
           "zerolinecolor": "white",
           "zerolinewidth": 2
          }
         }
        },
        "title": {
         "text": "Gapminder<br><sup>Data by gapminder.org, CC-BY license</sup>"
        },
        "updatemenus": [
         {
          "buttons": [
           {
            "args": [
             null,
             {
              "frame": {
               "duration": 500,
               "redraw": false
              },
              "fromcurrent": true,
              "mode": "immediate",
              "transition": {
               "duration": 500,
               "easing": "linear"
              }
             }
            ],
            "label": "&#9654;",
            "method": "animate"
           },
           {
            "args": [
             [
              null
             ],
             {
              "frame": {
               "duration": 0,
               "redraw": false
              },
              "fromcurrent": true,
              "mode": "immediate",
              "transition": {
               "duration": 0,
               "easing": "linear"
              }
             }
            ],
            "label": "&#9724;",
            "method": "animate"
           }
          ],
          "direction": "left",
          "pad": {
           "r": 10,
           "t": 70
          },
          "showactive": false,
          "type": "buttons",
          "x": 0.1,
          "xanchor": "right",
          "y": 0,
          "yanchor": "top"
         }
        ],
        "xaxis": {
         "anchor": "y",
         "domain": [
          0,
          1
         ],
         "gridcolor": "lightgray",
         "linecolor": "dimgray",
         "linewidth": 1,
         "range": [
          2.477121254719662,
          5.255272505103306
         ],
         "showline": true,
         "showspikes": true,
         "spikecolor": "dimgray",
         "spikethickness": 1,
         "title": {
          "text": "Income"
         },
         "type": "log"
        },
        "yaxis": {
         "anchor": "x",
         "domain": [
          0,
          1
         ],
         "gridcolor": "lightgray",
         "linecolor": "dimgray",
         "linewidth": 1,
         "range": [
          0,
          90
         ],
         "showline": true,
         "showspikes": true,
         "spikecolor": "dimgray",
         "spikethickness": 1,
         "title": {
          "text": "Life expectancy"
         }
        }
       }
      }
     },
     "metadata": {},
     "output_type": "display_data"
    }
   ],
   "source": [
    "def gapminder_fig(xaxis='Income', yaxis='Life expectancy'):\n",
    "    fig = px.scatter(\n",
    "        df.query('Year>=2010'),\n",
    "        x=xaxis,\n",
    "        y=yaxis,\n",
    "        color='Region',\n",
    "        size='Population',\n",
    "        hover_name='Country',\n",
    "        color_discrete_map=color_map,\n",
    "        size_max=60,\n",
    "        log_x=df_info.loc[xaxis, 'LogScale'],\n",
    "        log_y=df_info.loc[yaxis, 'LogScale'],\n",
    "        hover_data={c: False for c in df.columns},\n",
    "        title='Gapminder<br><sup>Data by gapminder.org, CC-BY license</sup>',\n",
    "        animation_frame='Year',\n",
    "        animation_group='Country',\n",
    "        range_x=[df_info.loc[xaxis, 'Min'], df_info.loc[xaxis, 'Max']],\n",
    "        range_y=[df_info.loc[yaxis, 'Min'], df_info.loc[yaxis, 'Max']]\n",
    "    )\n",
    "    \n",
    "    # Adjust markers\n",
    "    fig.update_traces(marker=marker_dict)\n",
    "    # Adjust figure layout\n",
    "    fig.update_layout(layout_dict)\n",
    "    # Adjust axes/grid\n",
    "    fig.update_xaxes(axes_dict)\n",
    "    fig.update_yaxes(axes_dict)\n",
    "\n",
    "    # Show the year in the background\n",
    "    frame_year = fig.frames[0].name\n",
    "    # add to fig.data, to ensure background string appears before clicking play \n",
    "    fig.add_trace(go.Scatter(background_year(frame_year, xaxis, yaxis)))\n",
    "    # order trace to ensure it goes underneath\n",
    "    fig.data = (fig.data[-1], ) + fig.data[:-1]\n",
    "    # add background year to each trace\n",
    "    for frame in fig.frames:\n",
    "        frame.data =  (background_year(frame.name, xaxis, yaxis), ) + frame.data\n",
    "    fig.update(frames=fig.frames)\n",
    "\n",
    "    # Add annotations to the axes\n",
    "    fig.add_annotation(\n",
    "        x=1, y=0, xref='x domain', yref='y domain', #xref and yref domain anchors to visual space (does not move with zooming)\n",
    "        text=df_info.loc[xaxis, 'Meaning'],\n",
    "        showarrow=False, align='right'\n",
    "    )\n",
    "    fig.add_annotation(\n",
    "        x=0, y=1, xref='x domain', yref='y domain',\n",
    "        text=df_info.loc[yaxis, 'Meaning'],\n",
    "        showarrow=False, valign='top', textangle=-90\n",
    "    )\n",
    "    \n",
    "    return fig\n",
    "    \n",
    "fig = gapminder_fig(yaxis='Life expectancy')\n",
    "fig.show()"
   ]
  },
  {
   "cell_type": "markdown",
   "id": "383772c4-d1df-4a35-a643-4a1f6e2917f9",
   "metadata": {},
   "source": [
    "# Use Dash \n",
    "Let user choose dynamically x and y variable from drop-down menu"
   ]
  },
  {
   "cell_type": "code",
   "execution_count": null,
   "id": "c84526ac-a3c2-4c91-a5b0-0927fce13806",
   "metadata": {},
   "outputs": [],
   "source": []
  }
 ],
 "metadata": {
  "kernelspec": {
   "display_name": "Python 3",
   "language": "python",
   "name": "python3"
  },
  "language_info": {
   "codemirror_mode": {
    "name": "ipython",
    "version": 3
   },
   "file_extension": ".py",
   "mimetype": "text/x-python",
   "name": "python",
   "nbconvert_exporter": "python",
   "pygments_lexer": "ipython3",
   "version": "3.11.9"
  }
 },
 "nbformat": 4,
 "nbformat_minor": 5
}

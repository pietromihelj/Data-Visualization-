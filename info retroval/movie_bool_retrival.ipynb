{
 "cells": [
  {
   "cell_type": "code",
   "execution_count": 1,
   "id": "367cb418",
   "metadata": {},
   "outputs": [],
   "source": [
    "from functools import total_ordering, reduce\n",
    "import csv"
   ]
  },
  {
   "cell_type": "code",
   "execution_count": null,
   "id": "11086a87",
   "metadata": {},
   "outputs": [],
   "source": [
    "class posting():\n",
    "    #element of posting list\n",
    "    #ordered by id\n",
    "    pass"
   ]
  },
  {
   "cell_type": "code",
   "execution_count": null,
   "id": "ccd086bd",
   "metadata": {},
   "outputs": [],
   "source": [
    "class posting_list():\n",
    "    #rappresent the posting list\n",
    "    #different way of creation from list or from element\n",
    "    #merge, intersect, union list\n",
    "    #retrive from the list\n",
    "    pass"
   ]
  },
  {
   "cell_type": "code",
   "execution_count": null,
   "id": "ab9254cf",
   "metadata": {},
   "outputs": [],
   "source": [
    "class Term():\n",
    "    pass"
   ]
  },
  {
   "cell_type": "code",
   "execution_count": null,
   "id": "40dd0b37",
   "metadata": {},
   "outputs": [],
   "source": [
    "def normalize():\n",
    "    pass\n",
    "\n",
    "def tokenize():\n",
    "    pass\n",
    "\n",
    "class InvertedIndex():\n",
    "    pass"
   ]
  },
  {
   "cell_type": "code",
   "execution_count": null,
   "id": "d7495a99",
   "metadata": {},
   "outputs": [],
   "source": [
    "class IRsystem():\n",
    "    def ans_query():\n",
    "        pass\n",
    "    pass\n",
    "\n",
    "def query():\n",
    "    pass"
   ]
  }
 ],
 "metadata": {
  "kernelspec": {
   "display_name": "Python 3",
   "language": "python",
   "name": "python3"
  },
  "language_info": {
   "codemirror_mode": {
    "name": "ipython",
    "version": 3
   },
   "file_extension": ".py",
   "mimetype": "text/x-python",
   "name": "python",
   "nbconvert_exporter": "python",
   "pygments_lexer": "ipython3",
   "version": "3.11.9"
  }
 },
 "nbformat": 4,
 "nbformat_minor": 5
}
